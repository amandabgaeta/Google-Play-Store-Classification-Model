{
 "cells": [
  {
   "cell_type": "markdown",
   "metadata": {},
   "source": [
    "# Final Project Submission\n",
    "\n",
    "Please fill out:\n",
    "* Student name: Amanda Gaeta\n",
    "* Student pace: part time\n",
    "* Scheduled project review date/time: April 7th, 2020 at 4pm CST\n",
    "* Instructor name: Lindsey Berlin"
   ]
  },
  {
   "cell_type": "markdown",
   "metadata": {},
   "source": [
    "# Introduction\n",
    "\n",
    "With Android OS holding 87% of market share in 2019, a VC firm is looking to understand what characteristics are predictive of a positively rated app (4.5+ rating on a 1-5 scale). They want to be able to utilize this information to target possible companies to apply for investment. It can also be applied to weed out those that are not a fit. Given that there are strong signals, these learnings could also be operationally applied to targeting companies to invest in, application questions, and company screenings for more efficient filtering and assessment.\n",
    "\n",
    "The modeling iterations below have been created using 2019 Google Play Store data with records consisting of apps, their rating, number of installs, reviews, content rating, and more. Throughout the model construction, a focus was placed on scoring high on recall and balanced with the goal of an accuracy score better than a random guess. \n",
    "\n",
    "Recall was particularly chosen due to the risk of the model producing False Negatives, which would mean the VC firm would miss the opportunity to bring an app into the world. With recall emphasizing the importance of True Positives, we can focus on identifying apps that would most likely be positively rated. \n",
    "\n",
    "Conversely, a precision score was _not_ the focus because it focuses on lessening False Positives, which to the VC firm is investing in something that has less chance being successful, or in this case, an app less likelye to be positively rated. Within the business context, a VC firm is always going to be facing this risk; thus for this purpose recall was confirmed as the priority metric."
   ]
  },
  {
   "cell_type": "markdown",
   "metadata": {},
   "source": [
    "# Notebook Summary\n",
    "\n",
    "#### Models\n",
    "Note: Models used for analysis italicized\n",
    "\n",
    "**Phase 1: Data Version 1 and Baseline Testing**\n",
    "- [Model 1 - Logistic Regression with class balance](#Model_1)\n",
    "- [Model 2 - Decision Tree with class balance](#Model_2)\n",
    "- [Model 3 - Random Forest](#Model_3)\n",
    "- [Model 4 - KNN](#Model_4)\n",
    "    \n",
    "**Phase 2: Data Version 2 + 3 and Model Tuning**\n",
    "- [Model 5 - Decision Tree with Data Version 2 (Less OHE, More Numeric/Ordinal)](#Model_5)\n",
    "- [Model 6 - Model 5 at Half Depth](#Model_6)\n",
    "- [Model 7 - GridSearch Decision Tree](#Model_7)\n",
    "- [Model 8 - GridSearch Random Forest](#Model_8)\n",
    "- [Model 9 - Decision Tree with Data Version 3 (Additional Ordinal)](#Model_9)\n",
    "- [Model 10 - Model 9 at Half Depth](#Model_10)\n",
    "- [_Model 11 - GridSearch2 Decision Tree_](#Model_11)\n",
    "- [_Model 12 - GridSearch2 Random Forest_](#Model_12)\n",
    "    \n",
    "**Phase 3: Feature Importance and Analysis (Baseline, eli5, rfpimp, Drop One Features)**\n",
    "- [Model 11 Feature Importance](#Model_11_FI)\n",
    "- [Model 12 Feature Importance](#Model_12_FI)\n",
    "\n",
    "**Data Analysis**\n",
    "- [Installs](#Installs)\n",
    "- [Reviews](#Revs)\n",
    "- [Size](#Size)\n",
    "- [Data Analysis learnings](#DAL)\n",
    "\n",
    "**Conclusion**\n",
    "- [Recommendations](#REC)\n",
    "- [Future Work](#FW)\n",
    "\n",
    "\n",
    "\n",
    "**Results**\n",
    "\n",
    "The final two models, Model 11 and Model 12, produced either:\n",
    "\n",
    "1. An accuracy score 1-2% above a random guess and a 50% recall score  (Decision Tree)\n",
    "OR\n",
    "2. A 56-58% recall score (and similar cross validation scores for recall, and an accuracy score 2% below a random guess (Random Forest)\n",
    "\n",
    "Although the model is not in a final versioning to be utilized in day-to-day decisions, the consistency from this version can be generally applied to say that marketing, promotion, and adoption of the app is foundationally important.\n",
    "\n",
    "Along with the technical aptitude for efficient app development, the VC would want CEOs with strong marketing background, a network with these skills, and/or teams that have this expertise."
   ]
  },
  {
   "cell_type": "markdown",
   "metadata": {},
   "source": [
    "### Intro Work"
   ]
  },
  {
   "cell_type": "code",
   "execution_count": 1,
   "metadata": {},
   "outputs": [
    {
     "name": "stderr",
     "output_type": "stream",
     "text": [
      "/opt/anaconda3/envs/learn-env/lib/python3.6/site-packages/sklearn/utils/deprecation.py:144: FutureWarning: The sklearn.feature_selection.base module is  deprecated in version 0.22 and will be removed in version 0.24. The corresponding classes / functions should instead be imported from sklearn.feature_selection. Anything that cannot be imported from sklearn.feature_selection is now part of the private API.\n",
      "  warnings.warn(message, FutureWarning)\n",
      "/opt/anaconda3/envs/learn-env/lib/python3.6/site-packages/sklearn/utils/deprecation.py:144: FutureWarning: The sklearn.ensemble.forest module is  deprecated in version 0.22 and will be removed in version 0.24. The corresponding classes / functions should instead be imported from sklearn.ensemble. Anything that cannot be imported from sklearn.ensemble is now part of the private API.\n",
      "  warnings.warn(message, FutureWarning)\n"
     ]
    }
   ],
   "source": [
    "# Imports Data Discovery and Plotting\n",
    "import pandas as pd\n",
    "import matplotlib.pyplot as plt\n",
    "import numpy as np\n",
    "import seaborn as sns\n",
    "\n",
    "# Imports Modeling\n",
    "from sklearn.preprocessing import StandardScaler\n",
    "from sklearn.linear_model import LogisticRegression\n",
    "from sklearn.tree import DecisionTreeClassifier\n",
    "from sklearn.neighbors import KNeighborsClassifier\n",
    "from sklearn.ensemble import RandomForestClassifier\n",
    "from sklearn.model_selection import train_test_split, cross_val_score, GridSearchCV\n",
    "from sklearn.metrics import accuracy_score, recall_score, f1_score, roc_auc_score, plot_confusion_matrix, r2_score\n",
    "\n",
    "# Imports Feature Importance Assists\n",
    "import operator\n",
    "from sklearn.base import clone \n",
    "import eli5\n",
    "from eli5.sklearn import PermutationImportance\n",
    "from rfpimp import permutation_importances"
   ]
  },
  {
   "cell_type": "markdown",
   "metadata": {},
   "source": [
    "#### Functions"
   ]
  },
  {
   "cell_type": "code",
   "execution_count": 2,
   "metadata": {},
   "outputs": [],
   "source": [
    "def eval_model(estimator, X_train, X_test, y_train, y_test):\n",
    "    '''\n",
    "    Evaluation function to show accuracy, recall, mean 3-fold cross-validation \n",
    "    for both the train and test set, then shows confusion matrix for the test set\n",
    "    '''\n",
    "    # grab predictions\n",
    "    train_preds = estimator.predict(X_train)\n",
    "    test_preds = estimator.predict(X_test)\n",
    "    \n",
    "    # print scores\n",
    "    print(\"Train Scores\")\n",
    "    print(\"------------\")\n",
    "    print(f\"Accuracy: {accuracy_score(y_train, train_preds)}\")\n",
    "    print(f\"Recall: {recall_score(y_train, train_preds)}\")\n",
    "    print(f\"F1 Score: {f1_score(y_train, train_preds)}\")\n",
    "    print(\"----\" * 5)\n",
    "    print(\"Test Scores\")\n",
    "    print(\"-----------\")\n",
    "    print(f\"Accuracy: {accuracy_score(y_test, test_preds)}\")\n",
    "    print(f\"Recall: {recall_score(y_test, test_preds)}\")\n",
    "    print(f\"Recall Mean Cross Val 3-Fold: {np.mean(cross_val_score(estimator,  X_train, y_train, cv=3, scoring='recall'))}\")\n",
    "    print(f\"F1 Score: {f1_score(y_test, test_preds)}\")\n",
    "\n",
    "    # plot test confusion matrix\n",
    "    plot_confusion_matrix(estimator, X_test, y_test, values_format='')\n",
    "    plt.show()"
   ]
  },
  {
   "cell_type": "code",
   "execution_count": 3,
   "metadata": {},
   "outputs": [],
   "source": [
    "# source: https://towardsdatascience.com/explaining-feature-importance-by-example-of-a-random-forest-d9166011959e\n",
    "from sklearn.base import clone \n",
    "\n",
    "def drop_col_feat_imp(model, X_train, y_train, random_state = 42):\n",
    "    \n",
    "    # clone the model to have the exact same specification as the one initially trained\n",
    "    model_clone = clone(model)\n",
    "    # set random_state for comparability\n",
    "    model_clone.random_state = random_state\n",
    "    # training and scoring the benchmark model\n",
    "    model_clone.fit(X_train, y_train)\n",
    "    benchmark_score = model_clone.score(X_train, y_train)\n",
    "    # list for storing feature importances\n",
    "    importances = []\n",
    "    \n",
    "    # iterating over all columns and storing feature importance (difference between benchmark and new model)\n",
    "    for col in X_train.columns:\n",
    "        model_clone = clone(model)\n",
    "        model_clone.random_state = random_state\n",
    "        model_clone.fit(X_train.drop(col, axis = 1), y_train)\n",
    "        drop_col_score = model_clone.score(X_train.drop(col, axis = 1), y_train)\n",
    "        importances.append(benchmark_score - drop_col_score)\n",
    "    \n",
    "    importances_df = pd.DataFrame(X_train.columns, importances)\n",
    "    return importances_df"
   ]
  },
  {
   "cell_type": "code",
   "execution_count": 4,
   "metadata": {},
   "outputs": [],
   "source": [
    "# source: https://towardsdatascience.com/explaining-feature-importance-by-example-of-a-random-forest-d9166011959e\n",
    "def r2(rf, X_train, y_train):\n",
    "    return r2_score(y_train, rf.predict(X_train))"
   ]
  },
  {
   "cell_type": "markdown",
   "metadata": {},
   "source": [
    "#### Data Import"
   ]
  },
  {
   "cell_type": "code",
   "execution_count": 5,
   "metadata": {},
   "outputs": [
    {
     "data": {
      "text/html": [
       "<div>\n",
       "<style scoped>\n",
       "    .dataframe tbody tr th:only-of-type {\n",
       "        vertical-align: middle;\n",
       "    }\n",
       "\n",
       "    .dataframe tbody tr th {\n",
       "        vertical-align: top;\n",
       "    }\n",
       "\n",
       "    .dataframe thead th {\n",
       "        text-align: right;\n",
       "    }\n",
       "</style>\n",
       "<table border=\"1\" class=\"dataframe\">\n",
       "  <thead>\n",
       "    <tr style=\"text-align: right;\">\n",
       "      <th></th>\n",
       "      <th>App</th>\n",
       "      <th>Category</th>\n",
       "      <th>Rating</th>\n",
       "      <th>Reviews</th>\n",
       "      <th>Size</th>\n",
       "      <th>Installs</th>\n",
       "      <th>Type</th>\n",
       "      <th>Price</th>\n",
       "      <th>Content Rating</th>\n",
       "      <th>Genres</th>\n",
       "      <th>Last Updated</th>\n",
       "      <th>Current Ver</th>\n",
       "      <th>Android Ver</th>\n",
       "    </tr>\n",
       "  </thead>\n",
       "  <tbody>\n",
       "    <tr>\n",
       "      <th>0</th>\n",
       "      <td>Photo Editor &amp; Candy Camera &amp; Grid &amp; ScrapBook</td>\n",
       "      <td>ART_AND_DESIGN</td>\n",
       "      <td>4.1</td>\n",
       "      <td>159</td>\n",
       "      <td>19M</td>\n",
       "      <td>10,000+</td>\n",
       "      <td>Free</td>\n",
       "      <td>0</td>\n",
       "      <td>Everyone</td>\n",
       "      <td>Art &amp; Design</td>\n",
       "      <td>January 7, 2018</td>\n",
       "      <td>1.0.0</td>\n",
       "      <td>4.0.3 and up</td>\n",
       "    </tr>\n",
       "    <tr>\n",
       "      <th>1</th>\n",
       "      <td>Coloring book moana</td>\n",
       "      <td>ART_AND_DESIGN</td>\n",
       "      <td>3.9</td>\n",
       "      <td>967</td>\n",
       "      <td>14M</td>\n",
       "      <td>500,000+</td>\n",
       "      <td>Free</td>\n",
       "      <td>0</td>\n",
       "      <td>Everyone</td>\n",
       "      <td>Art &amp; Design;Pretend Play</td>\n",
       "      <td>January 15, 2018</td>\n",
       "      <td>2.0.0</td>\n",
       "      <td>4.0.3 and up</td>\n",
       "    </tr>\n",
       "    <tr>\n",
       "      <th>2</th>\n",
       "      <td>U Launcher Lite – FREE Live Cool Themes, Hide ...</td>\n",
       "      <td>ART_AND_DESIGN</td>\n",
       "      <td>4.7</td>\n",
       "      <td>87510</td>\n",
       "      <td>8.7M</td>\n",
       "      <td>5,000,000+</td>\n",
       "      <td>Free</td>\n",
       "      <td>0</td>\n",
       "      <td>Everyone</td>\n",
       "      <td>Art &amp; Design</td>\n",
       "      <td>August 1, 2018</td>\n",
       "      <td>1.2.4</td>\n",
       "      <td>4.0.3 and up</td>\n",
       "    </tr>\n",
       "    <tr>\n",
       "      <th>3</th>\n",
       "      <td>Sketch - Draw &amp; Paint</td>\n",
       "      <td>ART_AND_DESIGN</td>\n",
       "      <td>4.5</td>\n",
       "      <td>215644</td>\n",
       "      <td>25M</td>\n",
       "      <td>50,000,000+</td>\n",
       "      <td>Free</td>\n",
       "      <td>0</td>\n",
       "      <td>Teen</td>\n",
       "      <td>Art &amp; Design</td>\n",
       "      <td>June 8, 2018</td>\n",
       "      <td>Varies with device</td>\n",
       "      <td>4.2 and up</td>\n",
       "    </tr>\n",
       "    <tr>\n",
       "      <th>4</th>\n",
       "      <td>Pixel Draw - Number Art Coloring Book</td>\n",
       "      <td>ART_AND_DESIGN</td>\n",
       "      <td>4.3</td>\n",
       "      <td>967</td>\n",
       "      <td>2.8M</td>\n",
       "      <td>100,000+</td>\n",
       "      <td>Free</td>\n",
       "      <td>0</td>\n",
       "      <td>Everyone</td>\n",
       "      <td>Art &amp; Design;Creativity</td>\n",
       "      <td>June 20, 2018</td>\n",
       "      <td>1.1</td>\n",
       "      <td>4.4 and up</td>\n",
       "    </tr>\n",
       "  </tbody>\n",
       "</table>\n",
       "</div>"
      ],
      "text/plain": [
       "                                                 App        Category  Rating  \\\n",
       "0     Photo Editor & Candy Camera & Grid & ScrapBook  ART_AND_DESIGN     4.1   \n",
       "1                                Coloring book moana  ART_AND_DESIGN     3.9   \n",
       "2  U Launcher Lite – FREE Live Cool Themes, Hide ...  ART_AND_DESIGN     4.7   \n",
       "3                              Sketch - Draw & Paint  ART_AND_DESIGN     4.5   \n",
       "4              Pixel Draw - Number Art Coloring Book  ART_AND_DESIGN     4.3   \n",
       "\n",
       "  Reviews  Size     Installs  Type Price Content Rating  \\\n",
       "0     159   19M      10,000+  Free     0       Everyone   \n",
       "1     967   14M     500,000+  Free     0       Everyone   \n",
       "2   87510  8.7M   5,000,000+  Free     0       Everyone   \n",
       "3  215644   25M  50,000,000+  Free     0           Teen   \n",
       "4     967  2.8M     100,000+  Free     0       Everyone   \n",
       "\n",
       "                      Genres      Last Updated         Current Ver  \\\n",
       "0               Art & Design   January 7, 2018               1.0.0   \n",
       "1  Art & Design;Pretend Play  January 15, 2018               2.0.0   \n",
       "2               Art & Design    August 1, 2018               1.2.4   \n",
       "3               Art & Design      June 8, 2018  Varies with device   \n",
       "4    Art & Design;Creativity     June 20, 2018                 1.1   \n",
       "\n",
       "    Android Ver  \n",
       "0  4.0.3 and up  \n",
       "1  4.0.3 and up  \n",
       "2  4.0.3 and up  \n",
       "3    4.2 and up  \n",
       "4    4.4 and up  "
      ]
     },
     "execution_count": 5,
     "metadata": {},
     "output_type": "execute_result"
    }
   ],
   "source": [
    "# Import data\n",
    "data = pd.read_csv('data/googleplaystore.csv')\n",
    "data.head()"
   ]
  },
  {
   "cell_type": "code",
   "execution_count": 6,
   "metadata": {},
   "outputs": [],
   "source": [
    "# create data copy for manipulation\n",
    "df = data.copy()"
   ]
  },
  {
   "cell_type": "code",
   "execution_count": 7,
   "metadata": {
    "scrolled": true
   },
   "outputs": [
    {
     "name": "stdout",
     "output_type": "stream",
     "text": [
      "<class 'pandas.core.frame.DataFrame'>\n",
      "RangeIndex: 10841 entries, 0 to 10840\n",
      "Data columns (total 13 columns):\n",
      "App               10841 non-null object\n",
      "Category          10841 non-null object\n",
      "Rating            9367 non-null float64\n",
      "Reviews           10841 non-null object\n",
      "Size              10841 non-null object\n",
      "Installs          10841 non-null object\n",
      "Type              10840 non-null object\n",
      "Price             10841 non-null object\n",
      "Content Rating    10840 non-null object\n",
      "Genres            10841 non-null object\n",
      "Last Updated      10841 non-null object\n",
      "Current Ver       10833 non-null object\n",
      "Android Ver       10838 non-null object\n",
      "dtypes: float64(1), object(12)\n",
      "memory usage: 1.1+ MB\n"
     ]
    }
   ],
   "source": [
    "# Overview \n",
    "df.info()"
   ]
  },
  {
   "cell_type": "markdown",
   "metadata": {},
   "source": [
    "#### Intial Data Cleansing and Review"
   ]
  },
  {
   "cell_type": "code",
   "execution_count": 8,
   "metadata": {
    "scrolled": false
   },
   "outputs": [
    {
     "name": "stdout",
     "output_type": "stream",
     "text": [
      "<class 'pandas.core.frame.DataFrame'>\n",
      "Int64Index: 9360 entries, 0 to 10840\n",
      "Data columns (total 13 columns):\n",
      "App               9360 non-null object\n",
      "Category          9360 non-null object\n",
      "Rating            9360 non-null float64\n",
      "Reviews           9360 non-null object\n",
      "Size              9360 non-null object\n",
      "Installs          9360 non-null object\n",
      "Type              9360 non-null object\n",
      "Price             9360 non-null object\n",
      "Content Rating    9360 non-null object\n",
      "Genres            9360 non-null object\n",
      "Last Updated      9360 non-null object\n",
      "Current Ver       9360 non-null object\n",
      "Android Ver       9360 non-null object\n",
      "dtypes: float64(1), object(12)\n",
      "memory usage: 1023.8+ KB\n"
     ]
    }
   ],
   "source": [
    "# Rating is target so drop nulls\n",
    "df = df.dropna()\n",
    "df.info()"
   ]
  },
  {
   "cell_type": "code",
   "execution_count": 9,
   "metadata": {},
   "outputs": [
    {
     "data": {
      "text/plain": [
       "0        4.1\n",
       "1        3.9\n",
       "2        4.7\n",
       "3        4.5\n",
       "4        4.3\n",
       "        ... \n",
       "10834    4.0\n",
       "10836    4.5\n",
       "10837    5.0\n",
       "10839    4.5\n",
       "10840    4.5\n",
       "Name: Rating, Length: 9360, dtype: float64"
      ]
     },
     "execution_count": 9,
     "metadata": {},
     "output_type": "execute_result"
    }
   ],
   "source": [
    "# Preview Rating values\n",
    "df['Rating']"
   ]
  },
  {
   "cell_type": "code",
   "execution_count": 10,
   "metadata": {},
   "outputs": [
    {
     "data": {
      "text/plain": [
       "0.3155982905982906"
      ]
     },
     "execution_count": 10,
     "metadata": {},
     "output_type": "execute_result"
    }
   ],
   "source": [
    "# What % of Ratings are >= 4.5\n",
    "# 4.5 out of 5 is high rating on Google Play Store\n",
    "len(df[df['Rating'] >= 4.5])/len(df)"
   ]
  },
  {
   "cell_type": "code",
   "execution_count": 11,
   "metadata": {},
   "outputs": [
    {
     "name": "stderr",
     "output_type": "stream",
     "text": [
      "/opt/anaconda3/envs/learn-env/lib/python3.6/site-packages/ipykernel_launcher.py:6: SettingWithCopyWarning: \n",
      "A value is trying to be set on a copy of a slice from a DataFrame\n",
      "\n",
      "See the caveats in the documentation: http://pandas.pydata.org/pandas-docs/stable/user_guide/indexing.html#returning-a-view-versus-a-copy\n",
      "  \n"
     ]
    }
   ],
   "source": [
    "# Create target Positive Rating\n",
    "df['Pos Rating'] = 0\n",
    "\n",
    "for row in df['Rating'].index:\n",
    "    if df['Rating'][row] >= 4.5:\n",
    "        df['Pos Rating'][row] = 1"
   ]
  },
  {
   "cell_type": "code",
   "execution_count": 12,
   "metadata": {},
   "outputs": [
    {
     "data": {
      "text/plain": [
       "0    0.684402\n",
       "1    0.315598\n",
       "Name: Pos Rating, dtype: float64"
      ]
     },
     "execution_count": 12,
     "metadata": {},
     "output_type": "execute_result"
    }
   ],
   "source": [
    "# Check work, target created\n",
    "df['Pos Rating'].value_counts(normalize=True)"
   ]
  },
  {
   "cell_type": "code",
   "execution_count": 13,
   "metadata": {},
   "outputs": [
    {
     "data": {
      "text/plain": [
       "Free    0.93109\n",
       "Paid    0.06891\n",
       "Name: Type, dtype: float64"
      ]
     },
     "execution_count": 13,
     "metadata": {},
     "output_type": "execute_result"
    }
   ],
   "source": [
    "# Type versus Price - view Type distribution\n",
    "df['Type'].value_counts(normalize=True)"
   ]
  },
  {
   "cell_type": "code",
   "execution_count": 14,
   "metadata": {},
   "outputs": [],
   "source": [
    "# Initial df cleans and conversions\n",
    "\n",
    "# Convert to Reviews to numeric, integer\n",
    "df['Reviews'] = df['Reviews'].astype(int)\n",
    "\n",
    "# Drop Price column, use Type - 93% are Free or 0 in Price.\n",
    "df = df.drop(columns='Price', axis=1)\n",
    "\n",
    "# Drop Rating, duplicative of Pos Rating and is target\n",
    "df = df.drop(columns='Rating', axis=1)"
   ]
  },
  {
   "cell_type": "code",
   "execution_count": 15,
   "metadata": {},
   "outputs": [
    {
     "name": "stdout",
     "output_type": "stream",
     "text": [
      "<class 'pandas.core.frame.DataFrame'>\n",
      "Int64Index: 9360 entries, 0 to 10840\n",
      "Data columns (total 12 columns):\n",
      "App               9360 non-null object\n",
      "Category          9360 non-null object\n",
      "Reviews           9360 non-null int64\n",
      "Size              9360 non-null object\n",
      "Installs          9360 non-null object\n",
      "Type              9360 non-null object\n",
      "Content Rating    9360 non-null object\n",
      "Genres            9360 non-null object\n",
      "Last Updated      9360 non-null object\n",
      "Current Ver       9360 non-null object\n",
      "Android Ver       9360 non-null object\n",
      "Pos Rating        9360 non-null int64\n",
      "dtypes: int64(2), object(10)\n",
      "memory usage: 1.2+ MB\n"
     ]
    }
   ],
   "source": [
    "# Preview new df\n",
    "df.info()"
   ]
  },
  {
   "cell_type": "code",
   "execution_count": 16,
   "metadata": {},
   "outputs": [
    {
     "data": {
      "text/html": [
       "<div>\n",
       "<style scoped>\n",
       "    .dataframe tbody tr th:only-of-type {\n",
       "        vertical-align: middle;\n",
       "    }\n",
       "\n",
       "    .dataframe tbody tr th {\n",
       "        vertical-align: top;\n",
       "    }\n",
       "\n",
       "    .dataframe thead th {\n",
       "        text-align: right;\n",
       "    }\n",
       "</style>\n",
       "<table border=\"1\" class=\"dataframe\">\n",
       "  <thead>\n",
       "    <tr style=\"text-align: right;\">\n",
       "      <th></th>\n",
       "      <th>App</th>\n",
       "      <th>Category</th>\n",
       "      <th>Size</th>\n",
       "      <th>Installs</th>\n",
       "      <th>Type</th>\n",
       "      <th>Content Rating</th>\n",
       "      <th>Genres</th>\n",
       "      <th>Last Updated</th>\n",
       "      <th>Current Ver</th>\n",
       "      <th>Android Ver</th>\n",
       "    </tr>\n",
       "  </thead>\n",
       "  <tbody>\n",
       "    <tr>\n",
       "      <th>count</th>\n",
       "      <td>9360</td>\n",
       "      <td>9360</td>\n",
       "      <td>9360</td>\n",
       "      <td>9360</td>\n",
       "      <td>9360</td>\n",
       "      <td>9360</td>\n",
       "      <td>9360</td>\n",
       "      <td>9360</td>\n",
       "      <td>9360</td>\n",
       "      <td>9360</td>\n",
       "    </tr>\n",
       "    <tr>\n",
       "      <th>unique</th>\n",
       "      <td>8190</td>\n",
       "      <td>33</td>\n",
       "      <td>413</td>\n",
       "      <td>19</td>\n",
       "      <td>2</td>\n",
       "      <td>6</td>\n",
       "      <td>115</td>\n",
       "      <td>1299</td>\n",
       "      <td>2638</td>\n",
       "      <td>31</td>\n",
       "    </tr>\n",
       "    <tr>\n",
       "      <th>top</th>\n",
       "      <td>ROBLOX</td>\n",
       "      <td>FAMILY</td>\n",
       "      <td>Varies with device</td>\n",
       "      <td>1,000,000+</td>\n",
       "      <td>Free</td>\n",
       "      <td>Everyone</td>\n",
       "      <td>Tools</td>\n",
       "      <td>August 3, 2018</td>\n",
       "      <td>Varies with device</td>\n",
       "      <td>4.1 and up</td>\n",
       "    </tr>\n",
       "    <tr>\n",
       "      <th>freq</th>\n",
       "      <td>9</td>\n",
       "      <td>1746</td>\n",
       "      <td>1637</td>\n",
       "      <td>1576</td>\n",
       "      <td>8715</td>\n",
       "      <td>7414</td>\n",
       "      <td>732</td>\n",
       "      <td>319</td>\n",
       "      <td>1415</td>\n",
       "      <td>2059</td>\n",
       "    </tr>\n",
       "  </tbody>\n",
       "</table>\n",
       "</div>"
      ],
      "text/plain": [
       "           App Category                Size    Installs  Type Content Rating  \\\n",
       "count     9360     9360                9360        9360  9360           9360   \n",
       "unique    8190       33                 413          19     2              6   \n",
       "top     ROBLOX   FAMILY  Varies with device  1,000,000+  Free       Everyone   \n",
       "freq         9     1746                1637        1576  8715           7414   \n",
       "\n",
       "       Genres    Last Updated         Current Ver Android Ver  \n",
       "count    9360            9360                9360        9360  \n",
       "unique    115            1299                2638          31  \n",
       "top     Tools  August 3, 2018  Varies with device  4.1 and up  \n",
       "freq      732             319                1415        2059  "
      ]
     },
     "execution_count": 16,
     "metadata": {},
     "output_type": "execute_result"
    }
   ],
   "source": [
    "# Many are objects - describe\n",
    "df[[c for c in df.columns if df[c].dtype == 'object']].describe()\n",
    "\n",
    "# App - drop, equivalent of ID\n",
    "# Categorry - 33 uniques, OHE\n",
    "# Size - 413 unique values, most common is Varies with device/in M and k\n",
    "# will need to convert to same unites\n",
    "# Installs - can keep as categories and OHE or try numeric\n",
    "# Content Rating - categorical, but could be ordinal\n",
    "# Genres - categorical, can OHE; see if there is an opportunity to bucket smaller genres into\n",
    "# larger ones\n",
    "# Last Updated - leave out as do not have specific stats for age feature\n",
    "# Current Version and Android Version are not controllable features"
   ]
  },
  {
   "cell_type": "code",
   "execution_count": 17,
   "metadata": {},
   "outputs": [],
   "source": [
    "# Define X and y \n",
    "X = df.drop(columns=['Pos Rating', 'App', 'Last Updated', 'Current Ver', 'Android Ver'])\n",
    "y = df['Pos Rating']"
   ]
  },
  {
   "cell_type": "code",
   "execution_count": 18,
   "metadata": {},
   "outputs": [
    {
     "data": {
      "text/plain": [
       "Index(['Category', 'Reviews', 'Size', 'Installs', 'Type', 'Content Rating',\n",
       "       'Genres'],\n",
       "      dtype='object')"
      ]
     },
     "execution_count": 18,
     "metadata": {},
     "output_type": "execute_result"
    }
   ],
   "source": [
    "# Review X columns for treatment assignment\n",
    "X.columns"
   ]
  },
  {
   "cell_type": "code",
   "execution_count": 19,
   "metadata": {},
   "outputs": [],
   "source": [
    "# Separate for different treatments (scaling and OHE)\n",
    "\n",
    "num_cols = ['Reviews']\n",
    "\n",
    "ohe_cols = ['Category', 'Size', 'Installs', 'Type', 'Content Rating', 'Genres']"
   ]
  },
  {
   "cell_type": "markdown",
   "metadata": {},
   "source": [
    "#### Numeric Treatment - Scale"
   ]
  },
  {
   "cell_type": "code",
   "execution_count": 20,
   "metadata": {},
   "outputs": [],
   "source": [
    "# Copy df for manipulation\n",
    "scaled_features = df.copy()"
   ]
  },
  {
   "cell_type": "code",
   "execution_count": 21,
   "metadata": {},
   "outputs": [
    {
     "data": {
      "text/html": [
       "<div>\n",
       "<style scoped>\n",
       "    .dataframe tbody tr th:only-of-type {\n",
       "        vertical-align: middle;\n",
       "    }\n",
       "\n",
       "    .dataframe tbody tr th {\n",
       "        vertical-align: top;\n",
       "    }\n",
       "\n",
       "    .dataframe thead th {\n",
       "        text-align: right;\n",
       "    }\n",
       "</style>\n",
       "<table border=\"1\" class=\"dataframe\">\n",
       "  <thead>\n",
       "    <tr style=\"text-align: right;\">\n",
       "      <th></th>\n",
       "      <th>Reviews</th>\n",
       "    </tr>\n",
       "  </thead>\n",
       "  <tbody>\n",
       "    <tr>\n",
       "      <th>0</th>\n",
       "      <td>-0.163511</td>\n",
       "    </tr>\n",
       "    <tr>\n",
       "      <th>1</th>\n",
       "      <td>-0.163254</td>\n",
       "    </tr>\n",
       "    <tr>\n",
       "      <th>2</th>\n",
       "      <td>-0.135735</td>\n",
       "    </tr>\n",
       "    <tr>\n",
       "      <th>3</th>\n",
       "      <td>-0.094991</td>\n",
       "    </tr>\n",
       "    <tr>\n",
       "      <th>4</th>\n",
       "      <td>-0.163254</td>\n",
       "    </tr>\n",
       "  </tbody>\n",
       "</table>\n",
       "</div>"
      ],
      "text/plain": [
       "    Reviews\n",
       "0 -0.163511\n",
       "1 -0.163254\n",
       "2 -0.135735\n",
       "3 -0.094991\n",
       "4 -0.163254"
      ]
     },
     "execution_count": 21,
     "metadata": {},
     "output_type": "execute_result"
    }
   ],
   "source": [
    "# Scale num_col features\n",
    "features = scaled_features[num_cols]\n",
    "scaler = StandardScaler().fit(features.values)\n",
    "features = scaler.transform(features.values)\n",
    "\n",
    "# Put into DF for concatenation\n",
    "scaled_features[num_cols] = features\n",
    "scaled = scaled_features[['Reviews']]\n",
    "\n",
    "# Check work\n",
    "scaled.head()"
   ]
  },
  {
   "cell_type": "markdown",
   "metadata": {},
   "source": [
    "#### Categorical Treatment (OHE)"
   ]
  },
  {
   "cell_type": "code",
   "execution_count": 22,
   "metadata": {},
   "outputs": [],
   "source": [
    "# Copy df for manipulation\n",
    "ohe_features = df.copy()"
   ]
  },
  {
   "cell_type": "code",
   "execution_count": 23,
   "metadata": {},
   "outputs": [
    {
     "data": {
      "text/html": [
       "<div>\n",
       "<style scoped>\n",
       "    .dataframe tbody tr th:only-of-type {\n",
       "        vertical-align: middle;\n",
       "    }\n",
       "\n",
       "    .dataframe tbody tr th {\n",
       "        vertical-align: top;\n",
       "    }\n",
       "\n",
       "    .dataframe thead th {\n",
       "        text-align: right;\n",
       "    }\n",
       "</style>\n",
       "<table border=\"1\" class=\"dataframe\">\n",
       "  <thead>\n",
       "    <tr style=\"text-align: right;\">\n",
       "      <th></th>\n",
       "      <th>Category_ART_AND_DESIGN</th>\n",
       "      <th>Category_AUTO_AND_VEHICLES</th>\n",
       "      <th>Category_BEAUTY</th>\n",
       "      <th>Category_BOOKS_AND_REFERENCE</th>\n",
       "      <th>Category_BUSINESS</th>\n",
       "      <th>Category_COMICS</th>\n",
       "      <th>Category_COMMUNICATION</th>\n",
       "      <th>Category_DATING</th>\n",
       "      <th>Category_EDUCATION</th>\n",
       "      <th>Category_ENTERTAINMENT</th>\n",
       "      <th>...</th>\n",
       "      <th>Genres_Tools</th>\n",
       "      <th>Genres_Tools;Education</th>\n",
       "      <th>Genres_Travel &amp; Local</th>\n",
       "      <th>Genres_Travel &amp; Local;Action &amp; Adventure</th>\n",
       "      <th>Genres_Trivia</th>\n",
       "      <th>Genres_Video Players &amp; Editors</th>\n",
       "      <th>Genres_Video Players &amp; Editors;Creativity</th>\n",
       "      <th>Genres_Video Players &amp; Editors;Music &amp; Video</th>\n",
       "      <th>Genres_Weather</th>\n",
       "      <th>Genres_Word</th>\n",
       "    </tr>\n",
       "  </thead>\n",
       "  <tbody>\n",
       "    <tr>\n",
       "      <th>0</th>\n",
       "      <td>1</td>\n",
       "      <td>0</td>\n",
       "      <td>0</td>\n",
       "      <td>0</td>\n",
       "      <td>0</td>\n",
       "      <td>0</td>\n",
       "      <td>0</td>\n",
       "      <td>0</td>\n",
       "      <td>0</td>\n",
       "      <td>0</td>\n",
       "      <td>...</td>\n",
       "      <td>0</td>\n",
       "      <td>0</td>\n",
       "      <td>0</td>\n",
       "      <td>0</td>\n",
       "      <td>0</td>\n",
       "      <td>0</td>\n",
       "      <td>0</td>\n",
       "      <td>0</td>\n",
       "      <td>0</td>\n",
       "      <td>0</td>\n",
       "    </tr>\n",
       "    <tr>\n",
       "      <th>1</th>\n",
       "      <td>1</td>\n",
       "      <td>0</td>\n",
       "      <td>0</td>\n",
       "      <td>0</td>\n",
       "      <td>0</td>\n",
       "      <td>0</td>\n",
       "      <td>0</td>\n",
       "      <td>0</td>\n",
       "      <td>0</td>\n",
       "      <td>0</td>\n",
       "      <td>...</td>\n",
       "      <td>0</td>\n",
       "      <td>0</td>\n",
       "      <td>0</td>\n",
       "      <td>0</td>\n",
       "      <td>0</td>\n",
       "      <td>0</td>\n",
       "      <td>0</td>\n",
       "      <td>0</td>\n",
       "      <td>0</td>\n",
       "      <td>0</td>\n",
       "    </tr>\n",
       "    <tr>\n",
       "      <th>2</th>\n",
       "      <td>1</td>\n",
       "      <td>0</td>\n",
       "      <td>0</td>\n",
       "      <td>0</td>\n",
       "      <td>0</td>\n",
       "      <td>0</td>\n",
       "      <td>0</td>\n",
       "      <td>0</td>\n",
       "      <td>0</td>\n",
       "      <td>0</td>\n",
       "      <td>...</td>\n",
       "      <td>0</td>\n",
       "      <td>0</td>\n",
       "      <td>0</td>\n",
       "      <td>0</td>\n",
       "      <td>0</td>\n",
       "      <td>0</td>\n",
       "      <td>0</td>\n",
       "      <td>0</td>\n",
       "      <td>0</td>\n",
       "      <td>0</td>\n",
       "    </tr>\n",
       "    <tr>\n",
       "      <th>3</th>\n",
       "      <td>1</td>\n",
       "      <td>0</td>\n",
       "      <td>0</td>\n",
       "      <td>0</td>\n",
       "      <td>0</td>\n",
       "      <td>0</td>\n",
       "      <td>0</td>\n",
       "      <td>0</td>\n",
       "      <td>0</td>\n",
       "      <td>0</td>\n",
       "      <td>...</td>\n",
       "      <td>0</td>\n",
       "      <td>0</td>\n",
       "      <td>0</td>\n",
       "      <td>0</td>\n",
       "      <td>0</td>\n",
       "      <td>0</td>\n",
       "      <td>0</td>\n",
       "      <td>0</td>\n",
       "      <td>0</td>\n",
       "      <td>0</td>\n",
       "    </tr>\n",
       "    <tr>\n",
       "      <th>4</th>\n",
       "      <td>1</td>\n",
       "      <td>0</td>\n",
       "      <td>0</td>\n",
       "      <td>0</td>\n",
       "      <td>0</td>\n",
       "      <td>0</td>\n",
       "      <td>0</td>\n",
       "      <td>0</td>\n",
       "      <td>0</td>\n",
       "      <td>0</td>\n",
       "      <td>...</td>\n",
       "      <td>0</td>\n",
       "      <td>0</td>\n",
       "      <td>0</td>\n",
       "      <td>0</td>\n",
       "      <td>0</td>\n",
       "      <td>0</td>\n",
       "      <td>0</td>\n",
       "      <td>0</td>\n",
       "      <td>0</td>\n",
       "      <td>0</td>\n",
       "    </tr>\n",
       "  </tbody>\n",
       "</table>\n",
       "<p>5 rows × 588 columns</p>\n",
       "</div>"
      ],
      "text/plain": [
       "   Category_ART_AND_DESIGN  Category_AUTO_AND_VEHICLES  Category_BEAUTY  \\\n",
       "0                        1                           0                0   \n",
       "1                        1                           0                0   \n",
       "2                        1                           0                0   \n",
       "3                        1                           0                0   \n",
       "4                        1                           0                0   \n",
       "\n",
       "   Category_BOOKS_AND_REFERENCE  Category_BUSINESS  Category_COMICS  \\\n",
       "0                             0                  0                0   \n",
       "1                             0                  0                0   \n",
       "2                             0                  0                0   \n",
       "3                             0                  0                0   \n",
       "4                             0                  0                0   \n",
       "\n",
       "   Category_COMMUNICATION  Category_DATING  Category_EDUCATION  \\\n",
       "0                       0                0                   0   \n",
       "1                       0                0                   0   \n",
       "2                       0                0                   0   \n",
       "3                       0                0                   0   \n",
       "4                       0                0                   0   \n",
       "\n",
       "   Category_ENTERTAINMENT  ...  Genres_Tools  Genres_Tools;Education  \\\n",
       "0                       0  ...             0                       0   \n",
       "1                       0  ...             0                       0   \n",
       "2                       0  ...             0                       0   \n",
       "3                       0  ...             0                       0   \n",
       "4                       0  ...             0                       0   \n",
       "\n",
       "   Genres_Travel & Local  Genres_Travel & Local;Action & Adventure  \\\n",
       "0                      0                                         0   \n",
       "1                      0                                         0   \n",
       "2                      0                                         0   \n",
       "3                      0                                         0   \n",
       "4                      0                                         0   \n",
       "\n",
       "   Genres_Trivia  Genres_Video Players & Editors  \\\n",
       "0              0                               0   \n",
       "1              0                               0   \n",
       "2              0                               0   \n",
       "3              0                               0   \n",
       "4              0                               0   \n",
       "\n",
       "   Genres_Video Players & Editors;Creativity  \\\n",
       "0                                          0   \n",
       "1                                          0   \n",
       "2                                          0   \n",
       "3                                          0   \n",
       "4                                          0   \n",
       "\n",
       "   Genres_Video Players & Editors;Music & Video  Genres_Weather  Genres_Word  \n",
       "0                                             0               0            0  \n",
       "1                                             0               0            0  \n",
       "2                                             0               0            0  \n",
       "3                                             0               0            0  \n",
       "4                                             0               0            0  \n",
       "\n",
       "[5 rows x 588 columns]"
      ]
     },
     "execution_count": 23,
     "metadata": {},
     "output_type": "execute_result"
    }
   ],
   "source": [
    "# Filter down to just ohe_cols\n",
    "ohe_features = ohe_features[ohe_cols]\n",
    "\n",
    "# OHE/Get Dummies\n",
    "ohe_features = pd.get_dummies(ohe_features)\n",
    "\n",
    "# Preview, check work\n",
    "ohe_features.head()"
   ]
  },
  {
   "cell_type": "code",
   "execution_count": 24,
   "metadata": {},
   "outputs": [],
   "source": [
    "ohe_features = pd.get_dummies(ohe_features)"
   ]
  },
  {
   "cell_type": "markdown",
   "metadata": {},
   "source": [
    "#### Combine - Data Version 1 - Many OHE, First Shitty Model"
   ]
  },
  {
   "cell_type": "code",
   "execution_count": 25,
   "metadata": {},
   "outputs": [],
   "source": [
    "# Combine scaled numerical, OHE categoricals, and target into one df\n",
    "preprocessed = pd.concat([scaled, ohe_features, y], axis=1)"
   ]
  },
  {
   "cell_type": "code",
   "execution_count": 26,
   "metadata": {
    "scrolled": true
   },
   "outputs": [
    {
     "data": {
      "text/plain": [
       "Index(['Reviews', 'Category_ART_AND_DESIGN', 'Category_AUTO_AND_VEHICLES',\n",
       "       'Category_BEAUTY', 'Category_BOOKS_AND_REFERENCE', 'Category_BUSINESS',\n",
       "       'Category_COMICS', 'Category_COMMUNICATION', 'Category_DATING',\n",
       "       'Category_EDUCATION',\n",
       "       ...\n",
       "       'Genres_Tools;Education', 'Genres_Travel & Local',\n",
       "       'Genres_Travel & Local;Action & Adventure', 'Genres_Trivia',\n",
       "       'Genres_Video Players & Editors',\n",
       "       'Genres_Video Players & Editors;Creativity',\n",
       "       'Genres_Video Players & Editors;Music & Video', 'Genres_Weather',\n",
       "       'Genres_Word', 'Pos Rating'],\n",
       "      dtype='object', length=590)"
      ]
     },
     "execution_count": 26,
     "metadata": {},
     "output_type": "execute_result"
    }
   ],
   "source": [
    "# Review available columns, check work\n",
    "preprocessed.columns"
   ]
  },
  {
   "cell_type": "markdown",
   "metadata": {},
   "source": [
    "### First Shitty Model and Estimator Exploration"
   ]
  },
  {
   "cell_type": "code",
   "execution_count": 27,
   "metadata": {},
   "outputs": [],
   "source": [
    "# X and y split of preprocessed \n",
    "X = preprocessed.drop(columns=['Pos Rating'], axis=1)\n",
    "y = preprocessed['Pos Rating']"
   ]
  },
  {
   "cell_type": "code",
   "execution_count": 28,
   "metadata": {},
   "outputs": [],
   "source": [
    "X_train, X_test, y_train, y_test = train_test_split(X, y, test_size=0.25, random_state=42)"
   ]
  },
  {
   "cell_type": "markdown",
   "metadata": {},
   "source": [
    "#### Model 1 - LogReg with Balanced Class Weight <a id=\"Model_1\"></a>\n",
    "\n",
    "Class weight = 'balanced' to account for 68/32 split of Target"
   ]
  },
  {
   "cell_type": "code",
   "execution_count": 29,
   "metadata": {},
   "outputs": [],
   "source": [
    "# X and y split of preprocessed \n",
    "X = preprocessed.drop(columns=['Pos Rating'], axis=1)\n",
    "y = preprocessed['Pos Rating']"
   ]
  },
  {
   "cell_type": "code",
   "execution_count": 30,
   "metadata": {},
   "outputs": [],
   "source": [
    "X_train, X_test, y_train, y_test = train_test_split(X, y, test_size=0.25, random_state=42)"
   ]
  },
  {
   "cell_type": "code",
   "execution_count": 31,
   "metadata": {},
   "outputs": [],
   "source": [
    "def eval_model(estimator, X_train, X_test, y_train, y_test):\n",
    "    '''\n",
    "    Evaluation function to show accuracy, recall, mean 3-fold cross-validation \n",
    "    for both the train and test set, then shows confusion matrix for the test set\n",
    "    '''\n",
    "    # grab predictions\n",
    "    train_preds = estimator.predict(X_train)\n",
    "    test_preds = estimator.predict(X_test)\n",
    "    \n",
    "    # print scores\n",
    "    print(\"Train Scores\")\n",
    "    print(\"------------\")\n",
    "    print(f\"Accuracy: {accuracy_score(y_train, train_preds)}\")\n",
    "    print(f\"Recall: {recall_score(y_train, train_preds)}\")\n",
    "    print(f\"F1 Score: {f1_score(y_train, train_preds)}\")\n",
    "    print(\"----\" * 5)\n",
    "    print(\"Test Scores\")\n",
    "    print(\"-----------\")\n",
    "    print(f\"Accuracy: {accuracy_score(y_test, test_preds)}\")\n",
    "    print(f\"Recall: {recall_score(y_test, test_preds)}\")\n",
    "    print(f\"Recall Mean Cross Val 3-Fold: {np.mean(cross_val_score(estimator,  X_train, y_train, cv=3, scoring='recall'))}\")\n",
    "    print(f\"F1 Score: {f1_score(y_test, test_preds)}\")\n",
    "\n",
    "    # plot test confusion matrix\n",
    "    plot_confusion_matrix(estimator, X_test, y_test, values_format='')\n",
    "    plt.show()"
   ]
  },
  {
   "cell_type": "code",
   "execution_count": 32,
   "metadata": {},
   "outputs": [
    {
     "name": "stderr",
     "output_type": "stream",
     "text": [
      "/opt/anaconda3/envs/learn-env/lib/python3.6/site-packages/sklearn/linear_model/_logistic.py:940: ConvergenceWarning: lbfgs failed to converge (status=1):\n",
      "STOP: TOTAL NO. of ITERATIONS REACHED LIMIT.\n",
      "\n",
      "Increase the number of iterations (max_iter) or scale the data as shown in:\n",
      "    https://scikit-learn.org/stable/modules/preprocessing.html\n",
      "Please also refer to the documentation for alternative solver options:\n",
      "    https://scikit-learn.org/stable/modules/linear_model.html#logistic-regression\n",
      "  extra_warning_msg=_LOGISTIC_SOLVER_CONVERGENCE_MSG)\n"
     ]
    },
    {
     "data": {
      "text/plain": [
       "LogisticRegression(C=1.0, class_weight='balanced', dual=False,\n",
       "                   fit_intercept=True, intercept_scaling=1, l1_ratio=None,\n",
       "                   max_iter=100, multi_class='auto', n_jobs=None, penalty='l2',\n",
       "                   random_state=None, solver='lbfgs', tol=0.0001, verbose=0,\n",
       "                   warm_start=False)"
      ]
     },
     "execution_count": 32,
     "metadata": {},
     "output_type": "execute_result"
    }
   ],
   "source": [
    "# Instantiate; adding class weight balanced since 70/30 split of target\n",
    "logreg = LogisticRegression(class_weight='balanced')\n",
    "\n",
    "# Fit\n",
    "logreg.fit(X_train, y_train)"
   ]
  },
  {
   "cell_type": "code",
   "execution_count": 33,
   "metadata": {},
   "outputs": [],
   "source": [
    "# X and y split of preprocessed \n",
    "X = preprocessed.drop(columns=['Pos Rating'], axis=1)\n",
    "y = preprocessed['Pos Rating']"
   ]
  },
  {
   "cell_type": "code",
   "execution_count": 34,
   "metadata": {},
   "outputs": [],
   "source": [
    "X_train, X_test, y_train, y_test = train_test_split(X, y, test_size=0.25, random_state=42)"
   ]
  },
  {
   "cell_type": "code",
   "execution_count": 35,
   "metadata": {
    "scrolled": true
   },
   "outputs": [
    {
     "name": "stdout",
     "output_type": "stream",
     "text": [
      "Train Scores\n",
      "------------\n",
      "Accuracy: 0.6777777777777778\n",
      "Recall: 0.644\n",
      "F1 Score: 0.5616279069767441\n",
      "--------------------\n",
      "Test Scores\n",
      "-----------\n",
      "Accuracy: 0.6376068376068376\n",
      "Recall: 0.5880681818181818\n"
     ]
    },
    {
     "name": "stderr",
     "output_type": "stream",
     "text": [
      "/opt/anaconda3/envs/learn-env/lib/python3.6/site-packages/sklearn/linear_model/_logistic.py:940: ConvergenceWarning: lbfgs failed to converge (status=1):\n",
      "STOP: TOTAL NO. of ITERATIONS REACHED LIMIT.\n",
      "\n",
      "Increase the number of iterations (max_iter) or scale the data as shown in:\n",
      "    https://scikit-learn.org/stable/modules/preprocessing.html\n",
      "Please also refer to the documentation for alternative solver options:\n",
      "    https://scikit-learn.org/stable/modules/linear_model.html#logistic-regression\n",
      "  extra_warning_msg=_LOGISTIC_SOLVER_CONVERGENCE_MSG)\n"
     ]
    },
    {
     "name": "stdout",
     "output_type": "stream",
     "text": [
      "Recall Mean Cross Val 3-Fold: 0.5755555555555556\n",
      "F1 Score: 0.4940334128878281\n"
     ]
    },
    {
     "name": "stderr",
     "output_type": "stream",
     "text": [
      "/opt/anaconda3/envs/learn-env/lib/python3.6/site-packages/sklearn/linear_model/_logistic.py:940: ConvergenceWarning: lbfgs failed to converge (status=1):\n",
      "STOP: TOTAL NO. of ITERATIONS REACHED LIMIT.\n",
      "\n",
      "Increase the number of iterations (max_iter) or scale the data as shown in:\n",
      "    https://scikit-learn.org/stable/modules/preprocessing.html\n",
      "Please also refer to the documentation for alternative solver options:\n",
      "    https://scikit-learn.org/stable/modules/linear_model.html#logistic-regression\n",
      "  extra_warning_msg=_LOGISTIC_SOLVER_CONVERGENCE_MSG)\n"
     ]
    },
    {
     "data": {
      "image/png": "[encoded data removed]",
      "text/plain": [
       "<Figure size 432x288 with 2 Axes>"
      ]
     },
     "metadata": {
      "needs_background": "light"
     },
     "output_type": "display_data"
    }
   ],
   "source": [
    "eval_model(logreg, X_train, X_test, y_train, y_test)\n",
    "\n",
    "# Overfit\n",
    "# Accuracy worse than random guess (-.05)\n",
    "# Lower F1 score than recall means precision < recall"
   ]
  },
  {
   "cell_type": "markdown",
   "metadata": {},
   "source": [
    "#### Model 2 - Decision Tree <a id=\"Model_2\"></a>\n",
    "\n",
    "Class weight = 'balanced' to account for 68/32 split of Target"
   ]
  },
  {
   "cell_type": "code",
   "execution_count": 36,
   "metadata": {},
   "outputs": [
    {
     "data": {
      "text/plain": [
       "DecisionTreeClassifier(ccp_alpha=0.0, class_weight='balanced', criterion='gini',\n",
       "                       max_depth=None, max_features=None, max_leaf_nodes=None,\n",
       "                       min_impurity_decrease=0.0, min_impurity_split=None,\n",
       "                       min_samples_leaf=1, min_samples_split=2,\n",
       "                       min_weight_fraction_leaf=0.0, presort='deprecated',\n",
       "                       random_state=None, splitter='best')"
      ]
     },
     "execution_count": 36,
     "metadata": {},
     "output_type": "execute_result"
    }
   ],
   "source": [
    "# Instantiate\n",
    "dt = DecisionTreeClassifier(class_weight='balanced')\n",
    "\n",
    "# Fit\n",
    "dt.fit(X_train, y_train)"
   ]
  },
  {
   "cell_type": "code",
   "execution_count": 37,
   "metadata": {},
   "outputs": [
    {
     "name": "stdout",
     "output_type": "stream",
     "text": [
      "Train Scores\n",
      "------------\n",
      "Accuracy: 0.9998575498575498\n",
      "Recall: 1.0\n",
      "F1 Score: 0.9997778271495222\n",
      "--------------------\n",
      "Test Scores\n",
      "-----------\n",
      "Accuracy: 0.7243589743589743\n",
      "Recall: 0.5696022727272727\n",
      "Recall Mean Cross Val 3-Fold: 0.5631111111111111\n",
      "F1 Score: 0.5542501727712509\n"
     ]
    },
    {
     "data": {
      "image/png": "[encoded data removed]",
      "text/plain": [
       "<Figure size 432x288 with 2 Axes>"
      ]
     },
     "metadata": {
      "needs_background": "light"
     },
     "output_type": "display_data"
    }
   ],
   "source": [
    "eval_model(dt, X_train, X_test, y_train, y_test)\n",
    "\n",
    "# Overfit\n",
    "# Better accuracy than balance logreg\n",
    "# Similar recall to balanced logreg\n",
    "# Higher f1 which also means higher precision"
   ]
  },
  {
   "cell_type": "markdown",
   "metadata": {},
   "source": [
    "#### Model 3 - KNN <a id=\"Model_3\"></a>"
   ]
  },
  {
   "cell_type": "code",
   "execution_count": 38,
   "metadata": {},
   "outputs": [
    {
     "data": {
      "text/plain": [
       "KNeighborsClassifier(algorithm='auto', leaf_size=30, metric='minkowski',\n",
       "                     metric_params=None, n_jobs=None, n_neighbors=5, p=2,\n",
       "                     weights='uniform')"
      ]
     },
     "execution_count": 38,
     "metadata": {},
     "output_type": "execute_result"
    }
   ],
   "source": [
    "# Instantiate\n",
    "knn = KNeighborsClassifier()\n",
    "\n",
    "# Fit\n",
    "knn.fit(X_train, y_train)"
   ]
  },
  {
   "cell_type": "code",
   "execution_count": 39,
   "metadata": {
    "scrolled": true
   },
   "outputs": [
    {
     "name": "stdout",
     "output_type": "stream",
     "text": [
      "Train Scores\n",
      "------------\n",
      "Accuracy: 0.8032763532763533\n",
      "Recall: 0.5631111111111111\n",
      "F1 Score: 0.6472541507024266\n",
      "--------------------\n",
      "Test Scores\n",
      "-----------\n",
      "Accuracy: 0.7175213675213675\n",
      "Recall: 0.3806818181818182\n",
      "Recall Mean Cross Val 3-Fold: 0.3831111111111111\n",
      "F1 Score: 0.4477861319966583\n"
     ]
    },
    {
     "data": {
      "image/png": "[encoded data removed]",
      "text/plain": [
       "<Figure size 432x288 with 2 Axes>"
      ]
     },
     "metadata": {
      "needs_background": "light"
     },
     "output_type": "display_data"
    }
   ],
   "source": [
    "eval_model(knn, X_train, X_test, y_train, y_test)\n",
    "\n",
    "# Overfit\n",
    "# Similar accuracy to logreg and decision tree\n",
    "# Recall and F1 suffers. Stick with decision tree since going for recall"
   ]
  },
  {
   "cell_type": "markdown",
   "metadata": {},
   "source": [
    "#### Model 4 - Random Forest <a id=\"Model_4\"></a>"
   ]
  },
  {
   "cell_type": "code",
   "execution_count": 40,
   "metadata": {},
   "outputs": [
    {
     "data": {
      "text/plain": [
       "RandomForestClassifier(bootstrap=True, ccp_alpha=0.0, class_weight='balanced',\n",
       "                       criterion='gini', max_depth=None, max_features='auto',\n",
       "                       max_leaf_nodes=None, max_samples=None,\n",
       "                       min_impurity_decrease=0.0, min_impurity_split=None,\n",
       "                       min_samples_leaf=1, min_samples_split=2,\n",
       "                       min_weight_fraction_leaf=0.0, n_estimators=100,\n",
       "                       n_jobs=None, oob_score=False, random_state=None,\n",
       "                       verbose=0, warm_start=False)"
      ]
     },
     "execution_count": 40,
     "metadata": {},
     "output_type": "execute_result"
    }
   ],
   "source": [
    "# Instantiate\n",
    "rf = RandomForestClassifier(class_weight='balanced')\n",
    "\n",
    "# Fit\n",
    "rf.fit(X_train, y_train)"
   ]
  },
  {
   "cell_type": "code",
   "execution_count": 41,
   "metadata": {},
   "outputs": [
    {
     "name": "stdout",
     "output_type": "stream",
     "text": [
      "Train Scores\n",
      "------------\n",
      "Accuracy: 0.9998575498575498\n",
      "Recall: 0.9995555555555555\n",
      "F1 Score: 0.9997777283840853\n",
      "--------------------\n",
      "Test Scores\n",
      "-----------\n",
      "Accuracy: 0.7611111111111111\n",
      "Recall: 0.44886363636363635\n",
      "Recall Mean Cross Val 3-Fold: 0.4226666666666667\n",
      "F1 Score: 0.5306465155331653\n"
     ]
    },
    {
     "data": {
      "image/png": "[encoded data removed]",
      "text/plain": [
       "<Figure size 432x288 with 2 Axes>"
      ]
     },
     "metadata": {
      "needs_background": "light"
     },
     "output_type": "display_data"
    }
   ],
   "source": [
    "eval_model(rf, X_train, X_test, y_train, y_test)\n",
    "\n",
    "# Overfit, but can tune\n",
    "# Better accuracy similar to decision tree\n",
    "# Recall is also similar\n",
    "# Slightly lower f1 score"
   ]
  },
  {
   "cell_type": "markdown",
   "metadata": {},
   "source": [
    "#### Decision: Continue with Decision Tree and Random Forest"
   ]
  },
  {
   "cell_type": "markdown",
   "metadata": {},
   "source": [
    "### Data Version 2 - Additional Data Cleansing \n",
    "\n",
    "Too Many OHE Columns in baseline dataset to appropriately measure\n",
    "Genre has inconsistent values - some apps are assigned 2 genres and there are some genres with <100 apps. Cleanse all Genre values to 1 genre and consolidate the <100 app genres via re-bucketing.\n",
    "\n",
    "Get to \n",
    "- Numeric = ['Reviews', 'Size Trans']\n",
    "- Ordinal = ['Installs']\n",
    "- OHE = ['Category', 'Type', 'Content Rating', 'Genres']"
   ]
  },
  {
   "cell_type": "markdown",
   "metadata": {},
   "source": [
    "#### Numeric - Translate Size to Numeric 'Size Trans'"
   ]
  },
  {
   "cell_type": "code",
   "execution_count": 42,
   "metadata": {},
   "outputs": [
    {
     "data": {
      "text/plain": [
       "0                       19M\n",
       "1                       14M\n",
       "2                      8.7M\n",
       "3                       25M\n",
       "4                      2.8M\n",
       "                ...        \n",
       "10834                  2.6M\n",
       "10836                   53M\n",
       "10837                  3.6M\n",
       "10839    Varies with device\n",
       "10840                   19M\n",
       "Name: Size, Length: 9360, dtype: object"
      ]
     },
     "execution_count": 42,
     "metadata": {},
     "output_type": "execute_result"
    }
   ],
   "source": [
    "# Preview values\n",
    "df['Size']"
   ]
  },
  {
   "cell_type": "code",
   "execution_count": 43,
   "metadata": {},
   "outputs": [
    {
     "name": "stderr",
     "output_type": "stream",
     "text": [
      "/opt/anaconda3/envs/learn-env/lib/python3.6/site-packages/ipykernel_launcher.py:7: SettingWithCopyWarning: \n",
      "A value is trying to be set on a copy of a slice from a DataFrame\n",
      "\n",
      "See the caveats in the documentation: http://pandas.pydata.org/pandas-docs/stable/user_guide/indexing.html#returning-a-view-versus-a-copy\n",
      "  import sys\n",
      "/opt/anaconda3/envs/learn-env/lib/python3.6/site-packages/pandas/core/indexing.py:205: SettingWithCopyWarning: \n",
      "A value is trying to be set on a copy of a slice from a DataFrame\n",
      "\n",
      "See the caveats in the documentation: http://pandas.pydata.org/pandas-docs/stable/user_guide/indexing.html#returning-a-view-versus-a-copy\n",
      "  self._setitem_with_indexer(indexer, value)\n"
     ]
    }
   ],
   "source": [
    "# Create new column for Size Type - this will be M (for MB) or k (for kb) for those that do not have \n",
    "# value 'Varies with device'\n",
    "df['Size Type'] = 0\n",
    "\n",
    "# For each value in Size, take the last character and put it in Size Type\n",
    "for row in df['Size'].index:\n",
    "    df['Size Type'][row] = df['Size'][row][-1]"
   ]
  },
  {
   "cell_type": "code",
   "execution_count": 44,
   "metadata": {},
   "outputs": [
    {
     "data": {
      "text/plain": [
       "M    7466\n",
       "e    1637\n",
       "k     257\n",
       "Name: Size Type, dtype: int64"
      ]
     },
     "execution_count": 44,
     "metadata": {},
     "output_type": "execute_result"
    }
   ],
   "source": [
    "# Check work; Varies with device 1637\n",
    "df['Size Type'].value_counts()"
   ]
  },
  {
   "cell_type": "code",
   "execution_count": 45,
   "metadata": {
    "scrolled": true
   },
   "outputs": [
    {
     "name": "stderr",
     "output_type": "stream",
     "text": [
      "/opt/anaconda3/envs/learn-env/lib/python3.6/site-packages/ipykernel_launcher.py:3: SettingWithCopyWarning: \n",
      "A value is trying to be set on a copy of a slice from a DataFrame\n",
      "\n",
      "See the caveats in the documentation: http://pandas.pydata.org/pandas-docs/stable/user_guide/indexing.html#returning-a-view-versus-a-copy\n",
      "  This is separate from the ipykernel package so we can avoid doing imports until\n"
     ]
    }
   ],
   "source": [
    "# Remove last character from Size, convert to numeric for math in Size Trans\n",
    "for row in df['Size'].index:\n",
    "    df['Size'][row] = df['Size'][row][:-1]"
   ]
  },
  {
   "cell_type": "code",
   "execution_count": 46,
   "metadata": {},
   "outputs": [
    {
     "name": "stderr",
     "output_type": "stream",
     "text": [
      "/opt/anaconda3/envs/learn-env/lib/python3.6/site-packages/ipykernel_launcher.py:10: SettingWithCopyWarning: \n",
      "A value is trying to be set on a copy of a slice from a DataFrame\n",
      "\n",
      "See the caveats in the documentation: http://pandas.pydata.org/pandas-docs/stable/user_guide/indexing.html#returning-a-view-versus-a-copy\n",
      "  # Remove the CWD from sys.path while we load stuff.\n",
      "/opt/anaconda3/envs/learn-env/lib/python3.6/site-packages/ipykernel_launcher.py:12: SettingWithCopyWarning: \n",
      "A value is trying to be set on a copy of a slice from a DataFrame\n",
      "\n",
      "See the caveats in the documentation: http://pandas.pydata.org/pandas-docs/stable/user_guide/indexing.html#returning-a-view-versus-a-copy\n",
      "  if sys.path[0] == '':\n",
      "/opt/anaconda3/envs/learn-env/lib/python3.6/site-packages/pandas/core/indexing.py:205: SettingWithCopyWarning: \n",
      "A value is trying to be set on a copy of a slice from a DataFrame\n",
      "\n",
      "See the caveats in the documentation: http://pandas.pydata.org/pandas-docs/stable/user_guide/indexing.html#returning-a-view-versus-a-copy\n",
      "  self._setitem_with_indexer(indexer, value)\n"
     ]
    }
   ],
   "source": [
    "# Create Size Translation column and convert Size in MBs to kbs\n",
    "df['Size Trans'] = 0\n",
    "\n",
    "# For each row in Size, check Size Type. If M (for MB) multiply by 1000 to convert to kb, \n",
    "# otherwise k values stay the same and e for varies by devices stay at zero (will fill nulls)\n",
    "for row in df['Size'].index:\n",
    "    if df['Size Type'][row] == 'e':\n",
    "        continue\n",
    "    if df['Size Type'][row] == 'M':\n",
    "        df['Size Trans'][row] = float(df['Size'][row]) * 1000\n",
    "    if df['Size Type'][row] == 'k':\n",
    "        df['Size Trans'][row] = df['Size'][row]\n",
    "\n",
    "# Convert column to float\n",
    "df['Size Trans'] = df['Size Trans'].astype(float)"
   ]
  },
  {
   "cell_type": "code",
   "execution_count": 47,
   "metadata": {},
   "outputs": [
    {
     "data": {
      "text/plain": [
       "count      7723.000000\n",
       "mean      22970.456105\n",
       "std       23449.628935\n",
       "min           8.500000\n",
       "25%        5300.000000\n",
       "50%       14000.000000\n",
       "75%       33000.000000\n",
       "max      100000.000000\n",
       "Name: Size Trans, dtype: float64"
      ]
     },
     "execution_count": 47,
     "metadata": {},
     "output_type": "execute_result"
    }
   ],
   "source": [
    "# Look at the Size Translations for those that did not have \"Varies by device\" value aka Size Trans != 0\n",
    "df[df['Size Trans'] != 0]['Size Trans'].describe()\n",
    "# mean is nearly 1.5x median, so there are outliers"
   ]
  },
  {
   "cell_type": "markdown",
   "metadata": {},
   "source": [
    "# Delete the row under this. 0 will mean varies and be a place to recommend further analysis"
   ]
  },
  {
   "cell_type": "code",
   "execution_count": 48,
   "metadata": {},
   "outputs": [],
   "source": [
    "# Name variable for Size median for filling nulls\n",
    "size_median = df[df['Size Trans'] != 0]['Size Trans'].median()"
   ]
  },
  {
   "cell_type": "code",
   "execution_count": 49,
   "metadata": {},
   "outputs": [
    {
     "data": {
      "text/plain": [
       "0        19000.0\n",
       "1        14000.0\n",
       "2         8700.0\n",
       "3        25000.0\n",
       "4         2800.0\n",
       "          ...   \n",
       "10834     2600.0\n",
       "10836    53000.0\n",
       "10837     3600.0\n",
       "10839        0.0\n",
       "10840    19000.0\n",
       "Name: Size Trans, Length: 9360, dtype: float64"
      ]
     },
     "execution_count": 49,
     "metadata": {},
     "output_type": "execute_result"
    }
   ],
   "source": [
    "# Fill Size Trans nulls with median\n",
    "df['Size Trans'].fillna(size_median)"
   ]
  },
  {
   "cell_type": "code",
   "execution_count": 50,
   "metadata": {},
   "outputs": [
    {
     "name": "stdout",
     "output_type": "stream",
     "text": [
      "<class 'pandas.core.frame.DataFrame'>\n",
      "Int64Index: 9360 entries, 0 to 10840\n",
      "Data columns (total 14 columns):\n",
      "App               9360 non-null object\n",
      "Category          9360 non-null object\n",
      "Reviews           9360 non-null int64\n",
      "Size              9360 non-null object\n",
      "Installs          9360 non-null object\n",
      "Type              9360 non-null object\n",
      "Content Rating    9360 non-null object\n",
      "Genres            9360 non-null object\n",
      "Last Updated      9360 non-null object\n",
      "Current Ver       9360 non-null object\n",
      "Android Ver       9360 non-null object\n",
      "Pos Rating        9360 non-null int64\n",
      "Size Type         9360 non-null object\n",
      "Size Trans        9360 non-null float64\n",
      "dtypes: float64(1), int64(2), object(11)\n",
      "memory usage: 1.4+ MB\n"
     ]
    }
   ],
   "source": [
    "# Review table with changes\n",
    "df.info()"
   ]
  },
  {
   "cell_type": "code",
   "execution_count": 51,
   "metadata": {},
   "outputs": [],
   "source": [
    "# Drop helper columns for final value to be used in model Size Trans\n",
    "df = df.drop(columns=['Size Type', 'Size'], axis=1)"
   ]
  },
  {
   "cell_type": "code",
   "execution_count": 52,
   "metadata": {
    "scrolled": true
   },
   "outputs": [
    {
     "name": "stdout",
     "output_type": "stream",
     "text": [
      "<class 'pandas.core.frame.DataFrame'>\n",
      "Int64Index: 9360 entries, 0 to 10840\n",
      "Data columns (total 12 columns):\n",
      "App               9360 non-null object\n",
      "Category          9360 non-null object\n",
      "Reviews           9360 non-null int64\n",
      "Installs          9360 non-null object\n",
      "Type              9360 non-null object\n",
      "Content Rating    9360 non-null object\n",
      "Genres            9360 non-null object\n",
      "Last Updated      9360 non-null object\n",
      "Current Ver       9360 non-null object\n",
      "Android Ver       9360 non-null object\n",
      "Pos Rating        9360 non-null int64\n",
      "Size Trans        9360 non-null float64\n",
      "dtypes: float64(1), int64(2), object(9)\n",
      "memory usage: 1.2+ MB\n"
     ]
    }
   ],
   "source": [
    "# Review new table\n",
    "df.info()"
   ]
  },
  {
   "cell_type": "markdown",
   "metadata": {},
   "source": [
    "#### Ordinal - Translate Installs to ordinal values"
   ]
  },
  {
   "cell_type": "code",
   "execution_count": 53,
   "metadata": {},
   "outputs": [
    {
     "data": {
      "text/plain": [
       "1,000,000+        1576\n",
       "10,000,000+       1252\n",
       "100,000+          1150\n",
       "10,000+           1009\n",
       "5,000,000+         752\n",
       "1,000+             712\n",
       "500,000+           537\n",
       "50,000+            466\n",
       "5,000+             431\n",
       "100,000,000+       409\n",
       "100+               309\n",
       "50,000,000+        289\n",
       "500+               201\n",
       "500,000,000+        72\n",
       "10+                 69\n",
       "1,000,000,000+      58\n",
       "50+                 56\n",
       "5+                   9\n",
       "1+                   3\n",
       "Name: Installs, dtype: int64"
      ]
     },
     "execution_count": 53,
     "metadata": {},
     "output_type": "execute_result"
    }
   ],
   "source": [
    "# Make Installs ordinal instead of categorical\n",
    "df['Installs'].value_counts()"
   ]
  },
  {
   "cell_type": "code",
   "execution_count": 54,
   "metadata": {},
   "outputs": [],
   "source": [
    "# Combine those less than 500 and relabel\n",
    "df['Installs'] = df['Installs'].replace(['1+', '5+', '10+', '50+', '100+', ], 'Less than 500')"
   ]
  },
  {
   "cell_type": "code",
   "execution_count": 55,
   "metadata": {},
   "outputs": [
    {
     "data": {
      "text/plain": [
       "1,000,000+        1576\n",
       "10,000,000+       1252\n",
       "100,000+          1150\n",
       "10,000+           1009\n",
       "5,000,000+         752\n",
       "1,000+             712\n",
       "500,000+           537\n",
       "50,000+            466\n",
       "Less than 500      446\n",
       "5,000+             431\n",
       "100,000,000+       409\n",
       "50,000,000+        289\n",
       "500+               201\n",
       "500,000,000+        72\n",
       "1,000,000,000+      58\n",
       "Name: Installs, dtype: int64"
      ]
     },
     "execution_count": 55,
     "metadata": {},
     "output_type": "execute_result"
    }
   ],
   "source": [
    "# Check work\n",
    "df['Installs'].value_counts()"
   ]
  },
  {
   "cell_type": "code",
   "execution_count": 56,
   "metadata": {},
   "outputs": [],
   "source": [
    "# Ordinal mapping\n",
    "df['Installs'] = df['Installs'].replace(['1+', '5+', '10+', '50+', '100+'], 'Less than 500')"
   ]
  },
  {
   "cell_type": "code",
   "execution_count": 57,
   "metadata": {},
   "outputs": [
    {
     "data": {
      "text/plain": [
       "1,000,000+        1576\n",
       "10,000,000+       1252\n",
       "100,000+          1150\n",
       "10,000+           1009\n",
       "5,000,000+         752\n",
       "1,000+             712\n",
       "500,000+           537\n",
       "50,000+            466\n",
       "Less than 500      446\n",
       "5,000+             431\n",
       "100,000,000+       409\n",
       "50,000,000+        289\n",
       "500+               201\n",
       "500,000,000+        72\n",
       "1,000,000,000+      58\n",
       "Name: Installs, dtype: int64"
      ]
     },
     "execution_count": 57,
     "metadata": {},
     "output_type": "execute_result"
    }
   ],
   "source": [
    "# Check work\n",
    "df['Installs'].value_counts()"
   ]
  },
  {
   "cell_type": "code",
   "execution_count": 58,
   "metadata": {},
   "outputs": [],
   "source": [
    "# Map ordinal values\n",
    "df['Installs'] = df['Installs'].map({'Less than 500': 0,\n",
    "                                    '500+': 1,\n",
    "                                    '1,000+': 2,\n",
    "                                    '5,000+': 3,\n",
    "                                    '10,000+': 4,\n",
    "                                    '50,000+': 5,\n",
    "                                    '100,000+': 6,\n",
    "                                    '500,000+': 7,\n",
    "                                    '1,000,000+': 8,\n",
    "                                    '5,000,000+': 9,\n",
    "                                    '10,000,000+': 10,\n",
    "                                    '50,000,000+': 11,\n",
    "                                    '100,000,000+': 12,\n",
    "                                    '500,000,000+': 13,\n",
    "                                    '1,000,000,000+': 14})"
   ]
  },
  {
   "cell_type": "code",
   "execution_count": 59,
   "metadata": {},
   "outputs": [
    {
     "data": {
      "text/plain": [
       "8     1576\n",
       "10    1252\n",
       "6     1150\n",
       "4     1009\n",
       "9      752\n",
       "2      712\n",
       "7      537\n",
       "5      466\n",
       "0      446\n",
       "3      431\n",
       "12     409\n",
       "11     289\n",
       "1      201\n",
       "13      72\n",
       "14      58\n",
       "Name: Installs, dtype: int64"
      ]
     },
     "execution_count": 59,
     "metadata": {},
     "output_type": "execute_result"
    }
   ],
   "source": [
    "# Check results; matches counts table above\n",
    "df['Installs'].value_counts()"
   ]
  },
  {
   "cell_type": "markdown",
   "metadata": {},
   "source": [
    "#### Genre cleanse and bucketing"
   ]
  },
  {
   "cell_type": "code",
   "execution_count": 60,
   "metadata": {},
   "outputs": [
    {
     "data": {
      "text/plain": [
       "0                     Art & Design\n",
       "1        Art & Design;Pretend Play\n",
       "2                     Art & Design\n",
       "3                     Art & Design\n",
       "4          Art & Design;Creativity\n",
       "                   ...            \n",
       "10834                    Education\n",
       "10836                    Education\n",
       "10837                    Education\n",
       "10839            Books & Reference\n",
       "10840                    Lifestyle\n",
       "Name: Genres, Length: 9360, dtype: object"
      ]
     },
     "execution_count": 60,
     "metadata": {},
     "output_type": "execute_result"
    }
   ],
   "source": [
    "# Preview Genres values\n",
    "df['Genres']"
   ]
  },
  {
   "cell_type": "code",
   "execution_count": 61,
   "metadata": {},
   "outputs": [],
   "source": [
    "# Some have multiple values, create lists\n",
    "df['Genres'] = df['Genres'].str.split(';')"
   ]
  },
  {
   "cell_type": "code",
   "execution_count": 62,
   "metadata": {
    "scrolled": true
   },
   "outputs": [
    {
     "data": {
      "text/plain": [
       "['Art & Design', 'Pretend Play']"
      ]
     },
     "execution_count": 62,
     "metadata": {},
     "output_type": "execute_result"
    }
   ],
   "source": [
    "# View multi-genre value\n",
    "df['Genres'][1]"
   ]
  },
  {
   "cell_type": "code",
   "execution_count": 63,
   "metadata": {},
   "outputs": [
    {
     "data": {
      "text/plain": [
       "2"
      ]
     },
     "execution_count": 63,
     "metadata": {},
     "output_type": "execute_result"
    }
   ],
   "source": [
    "# Test references for for loop \n",
    "len(df['Genres'][1])"
   ]
  },
  {
   "cell_type": "code",
   "execution_count": 64,
   "metadata": {},
   "outputs": [
    {
     "data": {
      "text/plain": [
       "'Art & Design'"
      ]
     },
     "execution_count": 64,
     "metadata": {},
     "output_type": "execute_result"
    }
   ],
   "source": [
    "# Test references for for loop \n",
    "df['Genres'][1][0]"
   ]
  },
  {
   "cell_type": "code",
   "execution_count": 65,
   "metadata": {},
   "outputs": [
    {
     "name": "stderr",
     "output_type": "stream",
     "text": [
      "/opt/anaconda3/envs/learn-env/lib/python3.6/site-packages/ipykernel_launcher.py:3: SettingWithCopyWarning: \n",
      "A value is trying to be set on a copy of a slice from a DataFrame\n",
      "\n",
      "See the caveats in the documentation: http://pandas.pydata.org/pandas-docs/stable/user_guide/indexing.html#returning-a-view-versus-a-copy\n",
      "  This is separate from the ipykernel package so we can avoid doing imports until\n"
     ]
    }
   ],
   "source": [
    "# Some apps have multiple Genres - take first listed genre as priority\n",
    "for row in df['Genres'].index:\n",
    "    df['Genres'][row] = df['Genres'][row][0]"
   ]
  },
  {
   "cell_type": "code",
   "execution_count": 66,
   "metadata": {},
   "outputs": [
    {
     "data": {
      "text/plain": [
       "0             Art & Design\n",
       "1             Art & Design\n",
       "2             Art & Design\n",
       "3             Art & Design\n",
       "4             Art & Design\n",
       "               ...        \n",
       "10834            Education\n",
       "10836            Education\n",
       "10837            Education\n",
       "10839    Books & Reference\n",
       "10840            Lifestyle\n",
       "Name: Genres, Length: 9360, dtype: object"
      ]
     },
     "execution_count": 66,
     "metadata": {},
     "output_type": "execute_result"
    }
   ],
   "source": [
    "# Check work - can see all strings and all first Genres\n",
    "df['Genres']"
   ]
  },
  {
   "cell_type": "code",
   "execution_count": 67,
   "metadata": {
    "scrolled": false
   },
   "outputs": [
    {
     "data": {
      "text/plain": [
       "Tools                      733\n",
       "Entertainment              577\n",
       "Education                  563\n",
       "Action                     375\n",
       "Productivity               351\n",
       "Medical                    350\n",
       "Sports                     337\n",
       "Communication              329\n",
       "Finance                    323\n",
       "Photography                317\n",
       "Lifestyle                  315\n",
       "Personalization            312\n",
       "Business                   303\n",
       "Health & Fitness           299\n",
       "Casual                     262\n",
       "Social                     259\n",
       "Shopping                   238\n",
       "News & Magazines           233\n",
       "Travel & Local             226\n",
       "Arcade                     223\n",
       "Simulation                 212\n",
       "Dating                     195\n",
       "Books & Reference          180\n",
       "Video Players & Editors    163\n",
       "Puzzle                     147\n",
       "Maps & Navigation          124\n",
       "Role Playing               119\n",
       "Racing                     114\n",
       "Food & Drink               109\n",
       "Strategy                   107\n",
       "Educational                103\n",
       "Adventure                   89\n",
       "House & Home                76\n",
       "Weather                     75\n",
       "Auto & Vehicles             73\n",
       "Libraries & Demo            64\n",
       "Art & Design                64\n",
       "Board                       60\n",
       "Comics                      58\n",
       "Parenting                   50\n",
       "Card                        48\n",
       "Events                      45\n",
       "Beauty                      42\n",
       "Casino                      37\n",
       "Word                        28\n",
       "Trivia                      28\n",
       "Music                       24\n",
       "Music & Audio                1\n",
       "Name: Genres, dtype: int64"
      ]
     },
     "execution_count": 67,
     "metadata": {},
     "output_type": "execute_result"
    }
   ],
   "source": [
    "df['Genres'].value_counts()\n",
    "# There are many Genres under 100, to help prevent overfitting - rebucket those under 100"
   ]
  },
  {
   "cell_type": "code",
   "execution_count": 68,
   "metadata": {},
   "outputs": [
    {
     "data": {
      "text/plain": [
       "Events    45\n",
       "Name: Genres, dtype: int64"
      ]
     },
     "execution_count": 68,
     "metadata": {},
     "output_type": "execute_result"
    }
   ],
   "source": [
    "df[df['Category'] =='EVENTS']['Genres'].value_counts()"
   ]
  },
  {
   "cell_type": "code",
   "execution_count": 69,
   "metadata": {},
   "outputs": [
    {
     "data": {
      "text/html": [
       "<div>\n",
       "<style scoped>\n",
       "    .dataframe tbody tr th:only-of-type {\n",
       "        vertical-align: middle;\n",
       "    }\n",
       "\n",
       "    .dataframe tbody tr th {\n",
       "        vertical-align: top;\n",
       "    }\n",
       "\n",
       "    .dataframe thead th {\n",
       "        text-align: right;\n",
       "    }\n",
       "</style>\n",
       "<table border=\"1\" class=\"dataframe\">\n",
       "  <thead>\n",
       "    <tr style=\"text-align: right;\">\n",
       "      <th></th>\n",
       "      <th>App</th>\n",
       "      <th>Category</th>\n",
       "      <th>Reviews</th>\n",
       "      <th>Installs</th>\n",
       "      <th>Type</th>\n",
       "      <th>Content Rating</th>\n",
       "      <th>Genres</th>\n",
       "      <th>Last Updated</th>\n",
       "      <th>Current Ver</th>\n",
       "      <th>Android Ver</th>\n",
       "      <th>Pos Rating</th>\n",
       "      <th>Size Trans</th>\n",
       "    </tr>\n",
       "  </thead>\n",
       "  <tbody>\n",
       "    <tr>\n",
       "      <th>1562</th>\n",
       "      <td>Dollhouse Decorating Games</td>\n",
       "      <td>LIFESTYLE</td>\n",
       "      <td>18968</td>\n",
       "      <td>9</td>\n",
       "      <td>Free</td>\n",
       "      <td>Teen</td>\n",
       "      <td>Lifestyle</td>\n",
       "      <td>April 26, 2018</td>\n",
       "      <td>5.1</td>\n",
       "      <td>4.1 and up</td>\n",
       "      <td>0</td>\n",
       "      <td>32000.0</td>\n",
       "    </tr>\n",
       "    <tr>\n",
       "      <th>1563</th>\n",
       "      <td>metroZONE</td>\n",
       "      <td>LIFESTYLE</td>\n",
       "      <td>47497</td>\n",
       "      <td>10</td>\n",
       "      <td>Free</td>\n",
       "      <td>Everyone</td>\n",
       "      <td>Lifestyle</td>\n",
       "      <td>June 8, 2018</td>\n",
       "      <td>5.3.0.54.7</td>\n",
       "      <td>5.0 and up</td>\n",
       "      <td>0</td>\n",
       "      <td>34000.0</td>\n",
       "    </tr>\n",
       "    <tr>\n",
       "      <th>1564</th>\n",
       "      <td>Easy Hair Style Design</td>\n",
       "      <td>LIFESTYLE</td>\n",
       "      <td>601</td>\n",
       "      <td>6</td>\n",
       "      <td>Free</td>\n",
       "      <td>Everyone</td>\n",
       "      <td>Lifestyle</td>\n",
       "      <td>December 20, 2017</td>\n",
       "      <td>1.0</td>\n",
       "      <td>2.3 and up</td>\n",
       "      <td>0</td>\n",
       "      <td>5100.0</td>\n",
       "    </tr>\n",
       "    <tr>\n",
       "      <th>1565</th>\n",
       "      <td>Talking Babsy Baby: Baby Games</td>\n",
       "      <td>LIFESTYLE</td>\n",
       "      <td>140995</td>\n",
       "      <td>10</td>\n",
       "      <td>Free</td>\n",
       "      <td>Everyone</td>\n",
       "      <td>Lifestyle</td>\n",
       "      <td>July 16, 2018</td>\n",
       "      <td>9.0</td>\n",
       "      <td>4.0 and up</td>\n",
       "      <td>0</td>\n",
       "      <td>100000.0</td>\n",
       "    </tr>\n",
       "    <tr>\n",
       "      <th>1566</th>\n",
       "      <td>Black Wallpaper, AMOLED, Dark Background: Darkify</td>\n",
       "      <td>LIFESTYLE</td>\n",
       "      <td>51357</td>\n",
       "      <td>9</td>\n",
       "      <td>Free</td>\n",
       "      <td>Everyone</td>\n",
       "      <td>Lifestyle</td>\n",
       "      <td>July 31, 2018</td>\n",
       "      <td>8.0</td>\n",
       "      <td>4.0 and up</td>\n",
       "      <td>1</td>\n",
       "      <td>80000.0</td>\n",
       "    </tr>\n",
       "    <tr>\n",
       "      <th>...</th>\n",
       "      <td>...</td>\n",
       "      <td>...</td>\n",
       "      <td>...</td>\n",
       "      <td>...</td>\n",
       "      <td>...</td>\n",
       "      <td>...</td>\n",
       "      <td>...</td>\n",
       "      <td>...</td>\n",
       "      <td>...</td>\n",
       "      <td>...</td>\n",
       "      <td>...</td>\n",
       "      <td>...</td>\n",
       "    </tr>\n",
       "    <tr>\n",
       "      <th>10719</th>\n",
       "      <td>Sona - Nær við allastaðni</td>\n",
       "      <td>LIFESTYLE</td>\n",
       "      <td>31</td>\n",
       "      <td>2</td>\n",
       "      <td>Free</td>\n",
       "      <td>Everyone</td>\n",
       "      <td>Lifestyle</td>\n",
       "      <td>August 2, 2018</td>\n",
       "      <td>1.6.3</td>\n",
       "      <td>4.4 and up</td>\n",
       "      <td>0</td>\n",
       "      <td>25000.0</td>\n",
       "    </tr>\n",
       "    <tr>\n",
       "      <th>10742</th>\n",
       "      <td>GKPB FP Online Church</td>\n",
       "      <td>LIFESTYLE</td>\n",
       "      <td>32</td>\n",
       "      <td>2</td>\n",
       "      <td>Free</td>\n",
       "      <td>Everyone</td>\n",
       "      <td>Lifestyle</td>\n",
       "      <td>December 31, 2017</td>\n",
       "      <td>0.7.1</td>\n",
       "      <td>4.4 and up</td>\n",
       "      <td>1</td>\n",
       "      <td>7900.0</td>\n",
       "    </tr>\n",
       "    <tr>\n",
       "      <th>10797</th>\n",
       "      <td>Fuel Rewards® program</td>\n",
       "      <td>LIFESTYLE</td>\n",
       "      <td>32433</td>\n",
       "      <td>8</td>\n",
       "      <td>Free</td>\n",
       "      <td>Everyone</td>\n",
       "      <td>Lifestyle</td>\n",
       "      <td>June 26, 2018</td>\n",
       "      <td>2.9.1</td>\n",
       "      <td>5.0 and up</td>\n",
       "      <td>1</td>\n",
       "      <td>46000.0</td>\n",
       "    </tr>\n",
       "    <tr>\n",
       "      <th>10805</th>\n",
       "      <td>Scoreboard FR</td>\n",
       "      <td>LIFESTYLE</td>\n",
       "      <td>3</td>\n",
       "      <td>0</td>\n",
       "      <td>Free</td>\n",
       "      <td>Everyone</td>\n",
       "      <td>Lifestyle</td>\n",
       "      <td>August 7, 2018</td>\n",
       "      <td>2.1</td>\n",
       "      <td>4.2 and up</td>\n",
       "      <td>0</td>\n",
       "      <td>15000.0</td>\n",
       "    </tr>\n",
       "    <tr>\n",
       "      <th>10840</th>\n",
       "      <td>iHoroscope - 2018 Daily Horoscope &amp; Astrology</td>\n",
       "      <td>LIFESTYLE</td>\n",
       "      <td>398307</td>\n",
       "      <td>10</td>\n",
       "      <td>Free</td>\n",
       "      <td>Everyone</td>\n",
       "      <td>Lifestyle</td>\n",
       "      <td>July 25, 2018</td>\n",
       "      <td>Varies with device</td>\n",
       "      <td>Varies with device</td>\n",
       "      <td>1</td>\n",
       "      <td>19000.0</td>\n",
       "    </tr>\n",
       "  </tbody>\n",
       "</table>\n",
       "<p>315 rows × 12 columns</p>\n",
       "</div>"
      ],
      "text/plain": [
       "                                                     App   Category  Reviews  \\\n",
       "1562                          Dollhouse Decorating Games  LIFESTYLE    18968   \n",
       "1563                                           metroZONE  LIFESTYLE    47497   \n",
       "1564                              Easy Hair Style Design  LIFESTYLE      601   \n",
       "1565                      Talking Babsy Baby: Baby Games  LIFESTYLE   140995   \n",
       "1566   Black Wallpaper, AMOLED, Dark Background: Darkify  LIFESTYLE    51357   \n",
       "...                                                  ...        ...      ...   \n",
       "10719                          Sona - Nær við allastaðni  LIFESTYLE       31   \n",
       "10742                              GKPB FP Online Church  LIFESTYLE       32   \n",
       "10797                              Fuel Rewards® program  LIFESTYLE    32433   \n",
       "10805                                      Scoreboard FR  LIFESTYLE        3   \n",
       "10840      iHoroscope - 2018 Daily Horoscope & Astrology  LIFESTYLE   398307   \n",
       "\n",
       "       Installs  Type Content Rating     Genres       Last Updated  \\\n",
       "1562          9  Free           Teen  Lifestyle     April 26, 2018   \n",
       "1563         10  Free       Everyone  Lifestyle       June 8, 2018   \n",
       "1564          6  Free       Everyone  Lifestyle  December 20, 2017   \n",
       "1565         10  Free       Everyone  Lifestyle      July 16, 2018   \n",
       "1566          9  Free       Everyone  Lifestyle      July 31, 2018   \n",
       "...         ...   ...            ...        ...                ...   \n",
       "10719         2  Free       Everyone  Lifestyle     August 2, 2018   \n",
       "10742         2  Free       Everyone  Lifestyle  December 31, 2017   \n",
       "10797         8  Free       Everyone  Lifestyle      June 26, 2018   \n",
       "10805         0  Free       Everyone  Lifestyle     August 7, 2018   \n",
       "10840        10  Free       Everyone  Lifestyle      July 25, 2018   \n",
       "\n",
       "              Current Ver         Android Ver  Pos Rating  Size Trans  \n",
       "1562                  5.1          4.1 and up           0     32000.0  \n",
       "1563           5.3.0.54.7          5.0 and up           0     34000.0  \n",
       "1564                  1.0          2.3 and up           0      5100.0  \n",
       "1565                  9.0          4.0 and up           0    100000.0  \n",
       "1566                  8.0          4.0 and up           1     80000.0  \n",
       "...                   ...                 ...         ...         ...  \n",
       "10719               1.6.3          4.4 and up           0     25000.0  \n",
       "10742               0.7.1          4.4 and up           1      7900.0  \n",
       "10797               2.9.1          5.0 and up           1     46000.0  \n",
       "10805                 2.1          4.2 and up           0     15000.0  \n",
       "10840  Varies with device  Varies with device           1     19000.0  \n",
       "\n",
       "[315 rows x 12 columns]"
      ]
     },
     "execution_count": 69,
     "metadata": {},
     "output_type": "execute_result"
    }
   ],
   "source": [
    "df[df['Genres'] == 'Lifestyle']"
   ]
  },
  {
   "cell_type": "markdown",
   "metadata": {},
   "source": [
    "#### Genre Bucketing"
   ]
  },
  {
   "cell_type": "code",
   "execution_count": 70,
   "metadata": {},
   "outputs": [],
   "source": [
    "# Genre buckets to reassign\n",
    "# Adventure                   Action\n",
    "# House & Home                Lifestyle\n",
    "# Weather                     Travel & Local \n",
    "# Auto & Vehicles             Lifestyle\n",
    "# Art & Design                Lifestyle\n",
    "# Libraries & Demo            Entertainment\n",
    "# Board                       Casual - games\n",
    "# Comics                      Entertainment\n",
    "# Parenting                   Lifestyle\n",
    "# Card                        Casual - games\n",
    "# Events                      Lifestyle\n",
    "# Beauty                      Lifestyle\n",
    "# Casino                      Casual - games\n",
    "# Word                        Casual - games\n",
    "# Trivia                      Casual - games\n",
    "# Music                       Entertainment\n",
    "# Music & Audio               Entertainment"
   ]
  },
  {
   "cell_type": "code",
   "execution_count": 71,
   "metadata": {},
   "outputs": [],
   "source": [
    "# Code for mappings above\n",
    "\n",
    "# Replace with Action\n",
    "df['Genres'] = df['Genres'].replace(['Adventure'], 'Action')\n",
    "\n",
    "# Replace with Travel & Local\n",
    "df['Genres'] = df['Genres'].replace(['Weather'], 'Travel & Local')\n",
    "\n",
    "# Replace with Lifestyle\n",
    "df['Genres'] = df['Genres'].replace(['House & Home', 'Auto & Vehicles', 'Art & Design', 'Events', 'Beauty', 'Parenting'], \n",
    "                                    'Lifestyle')\n",
    "# Replace with Entertainment\n",
    "df['Genres'] = df['Genres'].replace(['Libraries & Demo', 'Comics', 'Music', 'Music & Audio'], 'Entertainment')\n",
    "\n",
    "# Replace with Casual\n",
    "df['Genres'] = df['Genres'].replace(['Board', 'Card', 'Casino', 'Word', 'Trivia'], 'Casual')"
   ]
  },
  {
   "cell_type": "markdown",
   "metadata": {},
   "source": [
    "### Create new df for modeling"
   ]
  },
  {
   "cell_type": "code",
   "execution_count": 72,
   "metadata": {},
   "outputs": [],
   "source": [
    "# New breakdown of column types for varying treatments before modeling\n",
    "# Numerical columns\n",
    "num_cols2 = ['Reviews', 'Size Trans']\n",
    "\n",
    "# Ordinal columns\n",
    "ord_cols = ['Installs']\n",
    "\n",
    "# Categorical columns for OHE\n",
    "ohe_cols2 = ['Category', 'Type', 'Content Rating', 'Genres']"
   ]
  },
  {
   "cell_type": "markdown",
   "metadata": {},
   "source": [
    "#### Numeric Treatment - Scale"
   ]
  },
  {
   "cell_type": "code",
   "execution_count": 73,
   "metadata": {},
   "outputs": [],
   "source": [
    "# Copy df for manipulation\n",
    "scaled_features2 = df.copy()"
   ]
  },
  {
   "cell_type": "code",
   "execution_count": 74,
   "metadata": {
    "scrolled": true
   },
   "outputs": [
    {
     "data": {
      "text/html": [
       "<div>\n",
       "<style scoped>\n",
       "    .dataframe tbody tr th:only-of-type {\n",
       "        vertical-align: middle;\n",
       "    }\n",
       "\n",
       "    .dataframe tbody tr th {\n",
       "        vertical-align: top;\n",
       "    }\n",
       "\n",
       "    .dataframe thead th {\n",
       "        text-align: right;\n",
       "    }\n",
       "</style>\n",
       "<table border=\"1\" class=\"dataframe\">\n",
       "  <thead>\n",
       "    <tr style=\"text-align: right;\">\n",
       "      <th></th>\n",
       "      <th>Reviews</th>\n",
       "      <th>Size Trans</th>\n",
       "    </tr>\n",
       "  </thead>\n",
       "  <tbody>\n",
       "    <tr>\n",
       "      <th>0</th>\n",
       "      <td>-0.163511</td>\n",
       "      <td>0.002038</td>\n",
       "    </tr>\n",
       "    <tr>\n",
       "      <th>1</th>\n",
       "      <td>-0.163254</td>\n",
       "      <td>-0.215189</td>\n",
       "    </tr>\n",
       "    <tr>\n",
       "      <th>2</th>\n",
       "      <td>-0.135735</td>\n",
       "      <td>-0.445451</td>\n",
       "    </tr>\n",
       "    <tr>\n",
       "      <th>3</th>\n",
       "      <td>-0.094991</td>\n",
       "      <td>0.262712</td>\n",
       "    </tr>\n",
       "    <tr>\n",
       "      <th>4</th>\n",
       "      <td>-0.163254</td>\n",
       "      <td>-0.701779</td>\n",
       "    </tr>\n",
       "  </tbody>\n",
       "</table>\n",
       "</div>"
      ],
      "text/plain": [
       "    Reviews  Size Trans\n",
       "0 -0.163511    0.002038\n",
       "1 -0.163254   -0.215189\n",
       "2 -0.135735   -0.445451\n",
       "3 -0.094991    0.262712\n",
       "4 -0.163254   -0.701779"
      ]
     },
     "execution_count": 74,
     "metadata": {},
     "output_type": "execute_result"
    }
   ],
   "source": [
    "# Scale num_col features\n",
    "features2 = scaled_features2[num_cols2]\n",
    "scaler2 = StandardScaler().fit(features2.values)\n",
    "features2 = scaler2.transform(features2.values)\n",
    "\n",
    "# Put into DF for concatenation\n",
    "scaled_features2[num_cols2] = features2\n",
    "scaled2 = scaled_features2[num_cols2]\n",
    "\n",
    "# Check work\n",
    "scaled2.head()"
   ]
  },
  {
   "cell_type": "markdown",
   "metadata": {},
   "source": [
    "#### Ordinal Features"
   ]
  },
  {
   "cell_type": "code",
   "execution_count": 75,
   "metadata": {},
   "outputs": [],
   "source": [
    "# Assign remapped Installs values to ordinal variable\n",
    "ordinal = df['Installs']"
   ]
  },
  {
   "cell_type": "markdown",
   "metadata": {},
   "source": [
    "#### Categorical Treatment (OHE)"
   ]
  },
  {
   "cell_type": "code",
   "execution_count": 76,
   "metadata": {},
   "outputs": [],
   "source": [
    "# Copy df for manipulation\n",
    "ohe_features2 = df.copy()"
   ]
  },
  {
   "cell_type": "code",
   "execution_count": 77,
   "metadata": {
    "scrolled": true
   },
   "outputs": [
    {
     "data": {
      "text/html": [
       "<div>\n",
       "<style scoped>\n",
       "    .dataframe tbody tr th:only-of-type {\n",
       "        vertical-align: middle;\n",
       "    }\n",
       "\n",
       "    .dataframe tbody tr th {\n",
       "        vertical-align: top;\n",
       "    }\n",
       "\n",
       "    .dataframe thead th {\n",
       "        text-align: right;\n",
       "    }\n",
       "</style>\n",
       "<table border=\"1\" class=\"dataframe\">\n",
       "  <thead>\n",
       "    <tr style=\"text-align: right;\">\n",
       "      <th></th>\n",
       "      <th>Category_ART_AND_DESIGN</th>\n",
       "      <th>Category_AUTO_AND_VEHICLES</th>\n",
       "      <th>Category_BEAUTY</th>\n",
       "      <th>Category_BOOKS_AND_REFERENCE</th>\n",
       "      <th>Category_BUSINESS</th>\n",
       "      <th>Category_COMICS</th>\n",
       "      <th>Category_COMMUNICATION</th>\n",
       "      <th>Category_DATING</th>\n",
       "      <th>Category_EDUCATION</th>\n",
       "      <th>Category_ENTERTAINMENT</th>\n",
       "      <th>...</th>\n",
       "      <th>Genres_Racing</th>\n",
       "      <th>Genres_Role Playing</th>\n",
       "      <th>Genres_Shopping</th>\n",
       "      <th>Genres_Simulation</th>\n",
       "      <th>Genres_Social</th>\n",
       "      <th>Genres_Sports</th>\n",
       "      <th>Genres_Strategy</th>\n",
       "      <th>Genres_Tools</th>\n",
       "      <th>Genres_Travel &amp; Local</th>\n",
       "      <th>Genres_Video Players &amp; Editors</th>\n",
       "    </tr>\n",
       "  </thead>\n",
       "  <tbody>\n",
       "    <tr>\n",
       "      <th>0</th>\n",
       "      <td>1</td>\n",
       "      <td>0</td>\n",
       "      <td>0</td>\n",
       "      <td>0</td>\n",
       "      <td>0</td>\n",
       "      <td>0</td>\n",
       "      <td>0</td>\n",
       "      <td>0</td>\n",
       "      <td>0</td>\n",
       "      <td>0</td>\n",
       "      <td>...</td>\n",
       "      <td>0</td>\n",
       "      <td>0</td>\n",
       "      <td>0</td>\n",
       "      <td>0</td>\n",
       "      <td>0</td>\n",
       "      <td>0</td>\n",
       "      <td>0</td>\n",
       "      <td>0</td>\n",
       "      <td>0</td>\n",
       "      <td>0</td>\n",
       "    </tr>\n",
       "    <tr>\n",
       "      <th>1</th>\n",
       "      <td>1</td>\n",
       "      <td>0</td>\n",
       "      <td>0</td>\n",
       "      <td>0</td>\n",
       "      <td>0</td>\n",
       "      <td>0</td>\n",
       "      <td>0</td>\n",
       "      <td>0</td>\n",
       "      <td>0</td>\n",
       "      <td>0</td>\n",
       "      <td>...</td>\n",
       "      <td>0</td>\n",
       "      <td>0</td>\n",
       "      <td>0</td>\n",
       "      <td>0</td>\n",
       "      <td>0</td>\n",
       "      <td>0</td>\n",
       "      <td>0</td>\n",
       "      <td>0</td>\n",
       "      <td>0</td>\n",
       "      <td>0</td>\n",
       "    </tr>\n",
       "    <tr>\n",
       "      <th>2</th>\n",
       "      <td>1</td>\n",
       "      <td>0</td>\n",
       "      <td>0</td>\n",
       "      <td>0</td>\n",
       "      <td>0</td>\n",
       "      <td>0</td>\n",
       "      <td>0</td>\n",
       "      <td>0</td>\n",
       "      <td>0</td>\n",
       "      <td>0</td>\n",
       "      <td>...</td>\n",
       "      <td>0</td>\n",
       "      <td>0</td>\n",
       "      <td>0</td>\n",
       "      <td>0</td>\n",
       "      <td>0</td>\n",
       "      <td>0</td>\n",
       "      <td>0</td>\n",
       "      <td>0</td>\n",
       "      <td>0</td>\n",
       "      <td>0</td>\n",
       "    </tr>\n",
       "    <tr>\n",
       "      <th>3</th>\n",
       "      <td>1</td>\n",
       "      <td>0</td>\n",
       "      <td>0</td>\n",
       "      <td>0</td>\n",
       "      <td>0</td>\n",
       "      <td>0</td>\n",
       "      <td>0</td>\n",
       "      <td>0</td>\n",
       "      <td>0</td>\n",
       "      <td>0</td>\n",
       "      <td>...</td>\n",
       "      <td>0</td>\n",
       "      <td>0</td>\n",
       "      <td>0</td>\n",
       "      <td>0</td>\n",
       "      <td>0</td>\n",
       "      <td>0</td>\n",
       "      <td>0</td>\n",
       "      <td>0</td>\n",
       "      <td>0</td>\n",
       "      <td>0</td>\n",
       "    </tr>\n",
       "    <tr>\n",
       "      <th>4</th>\n",
       "      <td>1</td>\n",
       "      <td>0</td>\n",
       "      <td>0</td>\n",
       "      <td>0</td>\n",
       "      <td>0</td>\n",
       "      <td>0</td>\n",
       "      <td>0</td>\n",
       "      <td>0</td>\n",
       "      <td>0</td>\n",
       "      <td>0</td>\n",
       "      <td>...</td>\n",
       "      <td>0</td>\n",
       "      <td>0</td>\n",
       "      <td>0</td>\n",
       "      <td>0</td>\n",
       "      <td>0</td>\n",
       "      <td>0</td>\n",
       "      <td>0</td>\n",
       "      <td>0</td>\n",
       "      <td>0</td>\n",
       "      <td>0</td>\n",
       "    </tr>\n",
       "  </tbody>\n",
       "</table>\n",
       "<p>5 rows × 72 columns</p>\n",
       "</div>"
      ],
      "text/plain": [
       "   Category_ART_AND_DESIGN  Category_AUTO_AND_VEHICLES  Category_BEAUTY  \\\n",
       "0                        1                           0                0   \n",
       "1                        1                           0                0   \n",
       "2                        1                           0                0   \n",
       "3                        1                           0                0   \n",
       "4                        1                           0                0   \n",
       "\n",
       "   Category_BOOKS_AND_REFERENCE  Category_BUSINESS  Category_COMICS  \\\n",
       "0                             0                  0                0   \n",
       "1                             0                  0                0   \n",
       "2                             0                  0                0   \n",
       "3                             0                  0                0   \n",
       "4                             0                  0                0   \n",
       "\n",
       "   Category_COMMUNICATION  Category_DATING  Category_EDUCATION  \\\n",
       "0                       0                0                   0   \n",
       "1                       0                0                   0   \n",
       "2                       0                0                   0   \n",
       "3                       0                0                   0   \n",
       "4                       0                0                   0   \n",
       "\n",
       "   Category_ENTERTAINMENT  ...  Genres_Racing  Genres_Role Playing  \\\n",
       "0                       0  ...              0                    0   \n",
       "1                       0  ...              0                    0   \n",
       "2                       0  ...              0                    0   \n",
       "3                       0  ...              0                    0   \n",
       "4                       0  ...              0                    0   \n",
       "\n",
       "   Genres_Shopping  Genres_Simulation  Genres_Social  Genres_Sports  \\\n",
       "0                0                  0              0              0   \n",
       "1                0                  0              0              0   \n",
       "2                0                  0              0              0   \n",
       "3                0                  0              0              0   \n",
       "4                0                  0              0              0   \n",
       "\n",
       "   Genres_Strategy  Genres_Tools  Genres_Travel & Local  \\\n",
       "0                0             0                      0   \n",
       "1                0             0                      0   \n",
       "2                0             0                      0   \n",
       "3                0             0                      0   \n",
       "4                0             0                      0   \n",
       "\n",
       "   Genres_Video Players & Editors  \n",
       "0                               0  \n",
       "1                               0  \n",
       "2                               0  \n",
       "3                               0  \n",
       "4                               0  \n",
       "\n",
       "[5 rows x 72 columns]"
      ]
     },
     "execution_count": 77,
     "metadata": {},
     "output_type": "execute_result"
    }
   ],
   "source": [
    "# Filter down to just ohe_cols\n",
    "ohe_features2 = ohe_features2[ohe_cols2]\n",
    "\n",
    "# OHE/Get Dummies\n",
    "ohe_features2 = pd.get_dummies(ohe_features2)\n",
    "\n",
    "# Preview, check work, 72 columns versus 500+ in Data Version 1\n",
    "ohe_features2.head()"
   ]
  },
  {
   "cell_type": "markdown",
   "metadata": {},
   "source": [
    "#### Combine - Data Version 2\n",
    "- Numeric = ['Reviews', 'Size Trans']\n",
    "- Ordinal = ['Installs']\n",
    "- OHE = ['Category', 'Type', 'Content Rating', 'Genres']"
   ]
  },
  {
   "cell_type": "code",
   "execution_count": 78,
   "metadata": {},
   "outputs": [],
   "source": [
    "# Combine scaled numerical, OHE categoricals, and target into one df\n",
    "preprocessed2 = pd.concat([scaled2, ordinal, ohe_features2, y], axis=1)"
   ]
  },
  {
   "cell_type": "code",
   "execution_count": 79,
   "metadata": {
    "scrolled": true
   },
   "outputs": [
    {
     "data": {
      "text/plain": [
       "Index(['Reviews', 'Size Trans', 'Installs', 'Category_ART_AND_DESIGN',\n",
       "       'Category_AUTO_AND_VEHICLES', 'Category_BEAUTY',\n",
       "       'Category_BOOKS_AND_REFERENCE', 'Category_BUSINESS', 'Category_COMICS',\n",
       "       'Category_COMMUNICATION', 'Category_DATING', 'Category_EDUCATION',\n",
       "       'Category_ENTERTAINMENT', 'Category_EVENTS', 'Category_FAMILY',\n",
       "       'Category_FINANCE', 'Category_FOOD_AND_DRINK', 'Category_GAME',\n",
       "       'Category_HEALTH_AND_FITNESS', 'Category_HOUSE_AND_HOME',\n",
       "       'Category_LIBRARIES_AND_DEMO', 'Category_LIFESTYLE',\n",
       "       'Category_MAPS_AND_NAVIGATION', 'Category_MEDICAL',\n",
       "       'Category_NEWS_AND_MAGAZINES', 'Category_PARENTING',\n",
       "       'Category_PERSONALIZATION', 'Category_PHOTOGRAPHY',\n",
       "       'Category_PRODUCTIVITY', 'Category_SHOPPING', 'Category_SOCIAL',\n",
       "       'Category_SPORTS', 'Category_TOOLS', 'Category_TRAVEL_AND_LOCAL',\n",
       "       'Category_VIDEO_PLAYERS', 'Category_WEATHER', 'Type_Free', 'Type_Paid',\n",
       "       'Content Rating_Adults only 18+', 'Content Rating_Everyone',\n",
       "       'Content Rating_Everyone 10+', 'Content Rating_Mature 17+',\n",
       "       'Content Rating_Teen', 'Content Rating_Unrated', 'Genres_Action',\n",
       "       'Genres_Arcade', 'Genres_Books & Reference', 'Genres_Business',\n",
       "       'Genres_Casual', 'Genres_Communication', 'Genres_Dating',\n",
       "       'Genres_Education', 'Genres_Educational', 'Genres_Entertainment',\n",
       "       'Genres_Finance', 'Genres_Food & Drink', 'Genres_Health & Fitness',\n",
       "       'Genres_Lifestyle', 'Genres_Maps & Navigation', 'Genres_Medical',\n",
       "       'Genres_News & Magazines', 'Genres_Personalization',\n",
       "       'Genres_Photography', 'Genres_Productivity', 'Genres_Puzzle',\n",
       "       'Genres_Racing', 'Genres_Role Playing', 'Genres_Shopping',\n",
       "       'Genres_Simulation', 'Genres_Social', 'Genres_Sports',\n",
       "       'Genres_Strategy', 'Genres_Tools', 'Genres_Travel & Local',\n",
       "       'Genres_Video Players & Editors', 'Pos Rating'],\n",
       "      dtype='object')"
      ]
     },
     "execution_count": 79,
     "metadata": {},
     "output_type": "execute_result"
    }
   ],
   "source": [
    "preprocessed2.columns"
   ]
  },
  {
   "cell_type": "markdown",
   "metadata": {},
   "source": [
    "#### Model 5 - Decision Tree2 (Data Version 2) <a id=\"Model_5\"></a>\n",
    "\n",
    "Class weight = 'balanced' to account for 68/32 split of Target"
   ]
  },
  {
   "cell_type": "code",
   "execution_count": 80,
   "metadata": {},
   "outputs": [],
   "source": [
    "# X and y split of preprocessed \n",
    "X = preprocessed2.drop(columns=['Pos Rating'], axis=1)\n",
    "y = preprocessed2['Pos Rating']"
   ]
  },
  {
   "cell_type": "code",
   "execution_count": 81,
   "metadata": {},
   "outputs": [],
   "source": [
    "X_train, X_test, y_train, y_test = train_test_split(X, y, test_size=0.25, random_state=42)"
   ]
  },
  {
   "cell_type": "code",
   "execution_count": 82,
   "metadata": {},
   "outputs": [
    {
     "data": {
      "text/plain": [
       "DecisionTreeClassifier(ccp_alpha=0.0, class_weight='balanced', criterion='gini',\n",
       "                       max_depth=None, max_features=None, max_leaf_nodes=None,\n",
       "                       min_impurity_decrease=0.0, min_impurity_split=None,\n",
       "                       min_samples_leaf=1, min_samples_split=2,\n",
       "                       min_weight_fraction_leaf=0.0, presort='deprecated',\n",
       "                       random_state=42, splitter='best')"
      ]
     },
     "execution_count": 82,
     "metadata": {},
     "output_type": "execute_result"
    }
   ],
   "source": [
    "# Instantiate\n",
    "dt2 = DecisionTreeClassifier(class_weight='balanced', random_state=42)\n",
    "\n",
    "# Fit\n",
    "dt2.fit(X_train, y_train)"
   ]
  },
  {
   "cell_type": "code",
   "execution_count": 83,
   "metadata": {},
   "outputs": [
    {
     "name": "stdout",
     "output_type": "stream",
     "text": [
      "Train Scores\n",
      "------------\n",
      "Accuracy: 0.9997150997150998\n",
      "Recall: 1.0\n",
      "F1 Score: 0.9995557529986673\n",
      "--------------------\n",
      "Test Scores\n",
      "-----------\n",
      "Accuracy: 0.714957264957265\n",
      "Recall: 0.5909090909090909\n",
      "Recall Mean Cross Val 3-Fold: 0.5373333333333333\n",
      "F1 Score: 0.5550366911274183\n"
     ]
    },
    {
     "data": {
      "image/png": "[encoded data removed]",
      "text/plain": [
       "<Figure size 432x288 with 2 Axes>"
      ]
     },
     "metadata": {
      "needs_background": "light"
     },
     "output_type": "display_data"
    }
   ],
   "source": [
    "eval_model(dt2, X_train, X_test, y_train, y_test)\n",
    "\n",
    "# Overfit, but can tune\n",
    "# Accuracy similar to original decision tree\n",
    "# Recall at highest at 0.59, validation lower at 0.53\n",
    "# Similar f1 to original decision tree"
   ]
  },
  {
   "cell_type": "markdown",
   "metadata": {},
   "source": [
    "### Tune Decision Tree"
   ]
  },
  {
   "cell_type": "code",
   "execution_count": 84,
   "metadata": {},
   "outputs": [
    {
     "data": {
      "text/plain": [
       "53"
      ]
     },
     "execution_count": 84,
     "metadata": {},
     "output_type": "execute_result"
    }
   ],
   "source": [
    "# What is current depth of overfit tree\n",
    "dt2.tree_.max_depth"
   ]
  },
  {
   "cell_type": "markdown",
   "metadata": {},
   "source": [
    "#### Model 6 - Decision Tree3 (Data Version 2) with half depth <a id=\"Model_6\"></a>\n",
    "\n",
    "Doing this to understand best range of max_depth parameters for GridSearch"
   ]
  },
  {
   "cell_type": "code",
   "execution_count": 85,
   "metadata": {},
   "outputs": [
    {
     "data": {
      "text/plain": [
       "DecisionTreeClassifier(ccp_alpha=0.0, class_weight='balanced', criterion='gini',\n",
       "                       max_depth=31, max_features=None, max_leaf_nodes=None,\n",
       "                       min_impurity_decrease=0.0, min_impurity_split=None,\n",
       "                       min_samples_leaf=1, min_samples_split=2,\n",
       "                       min_weight_fraction_leaf=0.0, presort='deprecated',\n",
       "                       random_state=42, splitter='best')"
      ]
     },
     "execution_count": 85,
     "metadata": {},
     "output_type": "execute_result"
    }
   ],
   "source": [
    "# Instantiate\n",
    "dt3 = DecisionTreeClassifier(class_weight='balanced', random_state=42,\n",
    "                            max_depth = 31)\n",
    "\n",
    "# Fit\n",
    "dt3.fit(X_train, y_train)"
   ]
  },
  {
   "cell_type": "code",
   "execution_count": 86,
   "metadata": {
    "scrolled": true
   },
   "outputs": [
    {
     "name": "stdout",
     "output_type": "stream",
     "text": [
      "Train Scores\n",
      "------------\n",
      "Accuracy: 0.9816239316239316\n",
      "Recall: 0.9671111111111111\n",
      "F1 Score: 0.9712117830841329\n",
      "--------------------\n",
      "Test Scores\n",
      "-----------\n",
      "Accuracy: 0.7136752136752137\n",
      "Recall: 0.5823863636363636\n",
      "Recall Mean Cross Val 3-Fold: 0.5377777777777778\n",
      "F1 Score: 0.5503355704697988\n"
     ]
    },
    {
     "data": {
      "image/png": "[encoded data removed]",
      "text/plain": [
       "<Figure size 432x288 with 2 Axes>"
      ]
     },
     "metadata": {
      "needs_background": "light"
     },
     "output_type": "display_data"
    }
   ],
   "source": [
    "eval_model(dt3, X_train, X_test, y_train, y_test)\n",
    "\n",
    "# Less overfit but still needs help \n",
    "# in GridSearch, do range around this, aim for lower number as this is still very overfit\n",
    "# Similar recall and validation\n",
    "# Same F1 as with full depth"
   ]
  },
  {
   "cell_type": "markdown",
   "metadata": {},
   "source": [
    "#### GridSearch"
   ]
  },
  {
   "cell_type": "code",
   "execution_count": 87,
   "metadata": {},
   "outputs": [],
   "source": [
    "param_dict = {\n",
    "    'criterion': ['gini', 'entropy'],\n",
    "    'max_depth': [5, 10, 15, 20, 25, 30, 35],\n",
    "    'min_samples_split': [2, 4, 6, 8, 10, 12, 14, 16, 18, 20],\n",
    "    'min_samples_leaf': [2, 4, 6, 8, 10, 12, 14, 16, 18, 20]\n",
    "}"
   ]
  },
  {
   "cell_type": "code",
   "execution_count": 88,
   "metadata": {},
   "outputs": [
    {
     "name": "stdout",
     "output_type": "stream",
     "text": [
      "Fitting 5 folds for each of 1400 candidates, totalling 7000 fits\n"
     ]
    },
    {
     "name": "stderr",
     "output_type": "stream",
     "text": [
      "[Parallel(n_jobs=1)]: Using backend SequentialBackend with 1 concurrent workers.\n",
      "[Parallel(n_jobs=1)]: Done 7000 out of 7000 | elapsed:  3.9min finished\n"
     ]
    },
    {
     "data": {
      "text/plain": [
       "GridSearchCV(cv=5, error_score=nan,\n",
       "             estimator=DecisionTreeClassifier(ccp_alpha=0.0,\n",
       "                                              class_weight='balanced',\n",
       "                                              criterion='gini', max_depth=31,\n",
       "                                              max_features=None,\n",
       "                                              max_leaf_nodes=None,\n",
       "                                              min_impurity_decrease=0.0,\n",
       "                                              min_impurity_split=None,\n",
       "                                              min_samples_leaf=1,\n",
       "                                              min_samples_split=2,\n",
       "                                              min_weight_fraction_leaf=0.0,\n",
       "                                              presort='deprecated',\n",
       "                                              random_state=42,\n",
       "                                              splitter='best'),\n",
       "             iid='deprecated', n_jobs=None,\n",
       "             param_grid={'criterion': ['gini', 'entropy'],\n",
       "                         'max_depth': [5, 10, 15, 20, 25, 30, 35],\n",
       "                         'min_samples_leaf': [2, 4, 6, 8, 10, 12, 14, 16, 18,\n",
       "                                              20],\n",
       "                         'min_samples_split': [2, 4, 6, 8, 10, 12, 14, 16, 18,\n",
       "                                               20]},\n",
       "             pre_dispatch='2*n_jobs', refit=True, return_train_score=False,\n",
       "             scoring=None, verbose=1)"
      ]
     },
     "execution_count": 88,
     "metadata": {},
     "output_type": "execute_result"
    }
   ],
   "source": [
    "grid = GridSearchCV(dt3,\n",
    "                   param_grid = param_dict,\n",
    "                   cv=5,\n",
    "                   verbose=1)\n",
    "\n",
    "grid.fit(X_train, y_train)"
   ]
  },
  {
   "cell_type": "code",
   "execution_count": 89,
   "metadata": {},
   "outputs": [
    {
     "data": {
      "text/plain": [
       "{'criterion': 'entropy',\n",
       " 'max_depth': 10,\n",
       " 'min_samples_leaf': 20,\n",
       " 'min_samples_split': 2}"
      ]
     },
     "execution_count": 89,
     "metadata": {},
     "output_type": "execute_result"
    }
   ],
   "source": [
    "grid.best_params_"
   ]
  },
  {
   "cell_type": "code",
   "execution_count": 90,
   "metadata": {
    "scrolled": true
   },
   "outputs": [
    {
     "data": {
      "text/plain": [
       "0.6958689458689459"
      ]
     },
     "execution_count": 90,
     "metadata": {},
     "output_type": "execute_result"
    }
   ],
   "source": [
    "grid.best_score_"
   ]
  },
  {
   "cell_type": "markdown",
   "metadata": {},
   "source": [
    "#### Model 7 - GridSearch Decision Tree <a id=\"Model_7\"></a>"
   ]
  },
  {
   "cell_type": "code",
   "execution_count": 91,
   "metadata": {},
   "outputs": [
    {
     "data": {
      "text/plain": [
       "DecisionTreeClassifier(ccp_alpha=0.0, class_weight='balanced',\n",
       "                       criterion='entropy', max_depth=10, max_features=None,\n",
       "                       max_leaf_nodes=None, min_impurity_decrease=0.0,\n",
       "                       min_impurity_split=None, min_samples_leaf=20,\n",
       "                       min_samples_split=2, min_weight_fraction_leaf=0.0,\n",
       "                       presort='deprecated', random_state=None,\n",
       "                       splitter='best')"
      ]
     },
     "execution_count": 91,
     "metadata": {},
     "output_type": "execute_result"
    }
   ],
   "source": [
    "# Instantiate\n",
    "dt_grid = DecisionTreeClassifier(class_weight='balanced',\n",
    "                             criterion = 'entropy',\n",
    "                             max_depth = 10,\n",
    "                             min_samples_leaf  = 20,\n",
    "                             min_samples_split = 2)\n",
    "\n",
    "# Fit\n",
    "dt_grid.fit(X_train, y_train)"
   ]
  },
  {
   "cell_type": "code",
   "execution_count": 92,
   "metadata": {
    "scrolled": false
   },
   "outputs": [
    {
     "name": "stdout",
     "output_type": "stream",
     "text": [
      "Train Scores\n",
      "------------\n",
      "Accuracy: 0.7215099715099715\n",
      "Recall: 0.5542222222222222\n",
      "F1 Score: 0.5605754102045403\n",
      "--------------------\n",
      "Test Scores\n",
      "-----------\n",
      "Accuracy: 0.6863247863247863\n",
      "Recall: 0.4928977272727273\n",
      "Recall Mean Cross Val 3-Fold: 0.5306666666666667\n",
      "F1 Score: 0.48599439775910364\n"
     ]
    },
    {
     "data": {
      "image/png": "[encoded data removed]",
      "text/plain": [
       "<Figure size 432x288 with 2 Axes>"
      ]
     },
     "metadata": {
      "needs_background": "light"
     },
     "output_type": "display_data"
    }
   ],
   "source": [
    "eval_model(dt_grid, X_train, X_test, y_train, y_test)\n",
    "# Much less overfit - but accuracy down .2 - Same as random guess\n",
    "# Recall much lower from 0.58 to 0.49 - but validation at 0.53"
   ]
  },
  {
   "cell_type": "markdown",
   "metadata": {},
   "source": [
    "#### Model 8 - GridSearch Random Forest <a id=\"Model_8\"></a>"
   ]
  },
  {
   "cell_type": "code",
   "execution_count": 93,
   "metadata": {},
   "outputs": [],
   "source": [
    "# X and y split of preprocessed \n",
    "X = preprocessed2.drop(columns=['Pos Rating'], axis=1)\n",
    "y = preprocessed2['Pos Rating']"
   ]
  },
  {
   "cell_type": "code",
   "execution_count": 94,
   "metadata": {},
   "outputs": [],
   "source": [
    "X_train, X_test, y_train, y_test = train_test_split(X, y, test_size=0.25, random_state=42)"
   ]
  },
  {
   "cell_type": "code",
   "execution_count": 95,
   "metadata": {},
   "outputs": [
    {
     "data": {
      "text/plain": [
       "RandomForestClassifier(bootstrap=True, ccp_alpha=0.0, class_weight='balanced',\n",
       "                       criterion='entropy', max_depth=10, max_features='auto',\n",
       "                       max_leaf_nodes=None, max_samples=None,\n",
       "                       min_impurity_decrease=0.0, min_impurity_split=None,\n",
       "                       min_samples_leaf=20, min_samples_split=2,\n",
       "                       min_weight_fraction_leaf=0.0, n_estimators=100,\n",
       "                       n_jobs=None, oob_score=False, random_state=None,\n",
       "                       verbose=0, warm_start=False)"
      ]
     },
     "execution_count": 95,
     "metadata": {},
     "output_type": "execute_result"
    }
   ],
   "source": [
    "# Instantiate\n",
    "rf_grid = RandomForestClassifier(class_weight='balanced',\n",
    "                             criterion = 'entropy',\n",
    "                             max_depth = 10,\n",
    "                             min_samples_leaf  = 20,\n",
    "                             min_samples_split = 2)\n",
    "\n",
    "# Fit\n",
    "rf_grid.fit(X_train, y_train)"
   ]
  },
  {
   "cell_type": "code",
   "execution_count": 96,
   "metadata": {
    "scrolled": true
   },
   "outputs": [
    {
     "name": "stdout",
     "output_type": "stream",
     "text": [
      "Train Scores\n",
      "------------\n",
      "Accuracy: 0.672934472934473\n",
      "Recall: 0.5786666666666667\n",
      "F1 Score: 0.5314285714285715\n",
      "--------------------\n",
      "Test Scores\n",
      "-----------\n",
      "Accuracy: 0.6666666666666666\n",
      "Recall: 0.5681818181818182\n",
      "Recall Mean Cross Val 3-Fold: 0.5573333333333333\n",
      "F1 Score: 0.5063291139240507\n"
     ]
    },
    {
     "data": {
      "image/png": "[encoded data removed]",
      "text/plain": [
       "<Figure size 432x288 with 2 Axes>"
      ]
     },
     "metadata": {
      "needs_background": "light"
     },
     "output_type": "display_data"
    }
   ],
   "source": [
    "eval_model(rf_grid, X_train, X_test, y_train, y_test)\n",
    "# Slightly overfit\n",
    "# Accuracy is less than random guess although recall is at highest\n",
    "# F1 also at similar highest"
   ]
  },
  {
   "cell_type": "markdown",
   "metadata": {},
   "source": [
    "### Data Version 3 - Additional Ordinal Mapping\n",
    "\n",
    "There is opportunity for Content Rating to be mapped to ordinal values. Edit this in dataset and retry top models.\n",
    "\n",
    "Get to \n",
    "- Numeric = ['Reviews', 'Size Trans']\n",
    "- Ordinal = ['Installs', 'Content Rating']\n",
    "- OHE = ['Category', 'Type', 'Genres']"
   ]
  },
  {
   "cell_type": "code",
   "execution_count": 97,
   "metadata": {},
   "outputs": [
    {
     "data": {
      "text/plain": [
       "Everyone           7414\n",
       "Teen               1084\n",
       "Mature 17+          461\n",
       "Everyone 10+        397\n",
       "Adults only 18+       3\n",
       "Unrated               1\n",
       "Name: Content Rating, dtype: int64"
      ]
     },
     "execution_count": 97,
     "metadata": {},
     "output_type": "execute_result"
    }
   ],
   "source": [
    "df['Content Rating'].value_counts()"
   ]
  },
  {
   "cell_type": "code",
   "execution_count": 98,
   "metadata": {},
   "outputs": [],
   "source": [
    "# Ordinal mapping\n",
    "df['Content Rating'] = df['Content Rating'].map({'Everyone': 0, 'Everyone 10+': 1, 'Teen': 2,\n",
    "                                                 'Mature 17+': 3, 'Adults only 18+': 4, 'Unrated': 5})"
   ]
  },
  {
   "cell_type": "code",
   "execution_count": 99,
   "metadata": {
    "scrolled": true
   },
   "outputs": [
    {
     "data": {
      "text/plain": [
       "0    7414\n",
       "2    1084\n",
       "3     461\n",
       "1     397\n",
       "4       3\n",
       "5       1\n",
       "Name: Content Rating, dtype: int64"
      ]
     },
     "execution_count": 99,
     "metadata": {},
     "output_type": "execute_result"
    }
   ],
   "source": [
    "df['Content Rating'].value_counts()"
   ]
  },
  {
   "cell_type": "markdown",
   "metadata": {},
   "source": [
    "### Create new df for modeling"
   ]
  },
  {
   "cell_type": "code",
   "execution_count": 100,
   "metadata": {},
   "outputs": [],
   "source": [
    "# New breakdown of column types for varying treatments before modeling\n",
    "# Numerical columns, same as Data Version 2, use scaled2\n",
    "\n",
    "# Ordinal columns\n",
    "ord_cols2 = ['Installs', 'Content Rating']\n",
    "\n",
    "# Categorical columns for OHE\n",
    "ohe_cols3 = ['Category', 'Type', 'Genres']"
   ]
  },
  {
   "cell_type": "markdown",
   "metadata": {},
   "source": [
    "#### Ordinal Features"
   ]
  },
  {
   "cell_type": "code",
   "execution_count": 101,
   "metadata": {},
   "outputs": [],
   "source": [
    "# Assign remapped Content rating values to ordinal variable\n",
    "ordinal2 = df[['Installs', 'Content Rating']]"
   ]
  },
  {
   "cell_type": "markdown",
   "metadata": {},
   "source": [
    "#### Categorical Treatment (OHE)"
   ]
  },
  {
   "cell_type": "code",
   "execution_count": 102,
   "metadata": {},
   "outputs": [],
   "source": [
    "# Copy df for manipulation\n",
    "ohe_features3 = df.copy()"
   ]
  },
  {
   "cell_type": "code",
   "execution_count": 103,
   "metadata": {
    "scrolled": true
   },
   "outputs": [
    {
     "data": {
      "text/html": [
       "<div>\n",
       "<style scoped>\n",
       "    .dataframe tbody tr th:only-of-type {\n",
       "        vertical-align: middle;\n",
       "    }\n",
       "\n",
       "    .dataframe tbody tr th {\n",
       "        vertical-align: top;\n",
       "    }\n",
       "\n",
       "    .dataframe thead th {\n",
       "        text-align: right;\n",
       "    }\n",
       "</style>\n",
       "<table border=\"1\" class=\"dataframe\">\n",
       "  <thead>\n",
       "    <tr style=\"text-align: right;\">\n",
       "      <th></th>\n",
       "      <th>Category_ART_AND_DESIGN</th>\n",
       "      <th>Category_AUTO_AND_VEHICLES</th>\n",
       "      <th>Category_BEAUTY</th>\n",
       "      <th>Category_BOOKS_AND_REFERENCE</th>\n",
       "      <th>Category_BUSINESS</th>\n",
       "      <th>Category_COMICS</th>\n",
       "      <th>Category_COMMUNICATION</th>\n",
       "      <th>Category_DATING</th>\n",
       "      <th>Category_EDUCATION</th>\n",
       "      <th>Category_ENTERTAINMENT</th>\n",
       "      <th>...</th>\n",
       "      <th>Genres_Racing</th>\n",
       "      <th>Genres_Role Playing</th>\n",
       "      <th>Genres_Shopping</th>\n",
       "      <th>Genres_Simulation</th>\n",
       "      <th>Genres_Social</th>\n",
       "      <th>Genres_Sports</th>\n",
       "      <th>Genres_Strategy</th>\n",
       "      <th>Genres_Tools</th>\n",
       "      <th>Genres_Travel &amp; Local</th>\n",
       "      <th>Genres_Video Players &amp; Editors</th>\n",
       "    </tr>\n",
       "  </thead>\n",
       "  <tbody>\n",
       "    <tr>\n",
       "      <th>0</th>\n",
       "      <td>1</td>\n",
       "      <td>0</td>\n",
       "      <td>0</td>\n",
       "      <td>0</td>\n",
       "      <td>0</td>\n",
       "      <td>0</td>\n",
       "      <td>0</td>\n",
       "      <td>0</td>\n",
       "      <td>0</td>\n",
       "      <td>0</td>\n",
       "      <td>...</td>\n",
       "      <td>0</td>\n",
       "      <td>0</td>\n",
       "      <td>0</td>\n",
       "      <td>0</td>\n",
       "      <td>0</td>\n",
       "      <td>0</td>\n",
       "      <td>0</td>\n",
       "      <td>0</td>\n",
       "      <td>0</td>\n",
       "      <td>0</td>\n",
       "    </tr>\n",
       "    <tr>\n",
       "      <th>1</th>\n",
       "      <td>1</td>\n",
       "      <td>0</td>\n",
       "      <td>0</td>\n",
       "      <td>0</td>\n",
       "      <td>0</td>\n",
       "      <td>0</td>\n",
       "      <td>0</td>\n",
       "      <td>0</td>\n",
       "      <td>0</td>\n",
       "      <td>0</td>\n",
       "      <td>...</td>\n",
       "      <td>0</td>\n",
       "      <td>0</td>\n",
       "      <td>0</td>\n",
       "      <td>0</td>\n",
       "      <td>0</td>\n",
       "      <td>0</td>\n",
       "      <td>0</td>\n",
       "      <td>0</td>\n",
       "      <td>0</td>\n",
       "      <td>0</td>\n",
       "    </tr>\n",
       "    <tr>\n",
       "      <th>2</th>\n",
       "      <td>1</td>\n",
       "      <td>0</td>\n",
       "      <td>0</td>\n",
       "      <td>0</td>\n",
       "      <td>0</td>\n",
       "      <td>0</td>\n",
       "      <td>0</td>\n",
       "      <td>0</td>\n",
       "      <td>0</td>\n",
       "      <td>0</td>\n",
       "      <td>...</td>\n",
       "      <td>0</td>\n",
       "      <td>0</td>\n",
       "      <td>0</td>\n",
       "      <td>0</td>\n",
       "      <td>0</td>\n",
       "      <td>0</td>\n",
       "      <td>0</td>\n",
       "      <td>0</td>\n",
       "      <td>0</td>\n",
       "      <td>0</td>\n",
       "    </tr>\n",
       "    <tr>\n",
       "      <th>3</th>\n",
       "      <td>1</td>\n",
       "      <td>0</td>\n",
       "      <td>0</td>\n",
       "      <td>0</td>\n",
       "      <td>0</td>\n",
       "      <td>0</td>\n",
       "      <td>0</td>\n",
       "      <td>0</td>\n",
       "      <td>0</td>\n",
       "      <td>0</td>\n",
       "      <td>...</td>\n",
       "      <td>0</td>\n",
       "      <td>0</td>\n",
       "      <td>0</td>\n",
       "      <td>0</td>\n",
       "      <td>0</td>\n",
       "      <td>0</td>\n",
       "      <td>0</td>\n",
       "      <td>0</td>\n",
       "      <td>0</td>\n",
       "      <td>0</td>\n",
       "    </tr>\n",
       "    <tr>\n",
       "      <th>4</th>\n",
       "      <td>1</td>\n",
       "      <td>0</td>\n",
       "      <td>0</td>\n",
       "      <td>0</td>\n",
       "      <td>0</td>\n",
       "      <td>0</td>\n",
       "      <td>0</td>\n",
       "      <td>0</td>\n",
       "      <td>0</td>\n",
       "      <td>0</td>\n",
       "      <td>...</td>\n",
       "      <td>0</td>\n",
       "      <td>0</td>\n",
       "      <td>0</td>\n",
       "      <td>0</td>\n",
       "      <td>0</td>\n",
       "      <td>0</td>\n",
       "      <td>0</td>\n",
       "      <td>0</td>\n",
       "      <td>0</td>\n",
       "      <td>0</td>\n",
       "    </tr>\n",
       "  </tbody>\n",
       "</table>\n",
       "<p>5 rows × 66 columns</p>\n",
       "</div>"
      ],
      "text/plain": [
       "   Category_ART_AND_DESIGN  Category_AUTO_AND_VEHICLES  Category_BEAUTY  \\\n",
       "0                        1                           0                0   \n",
       "1                        1                           0                0   \n",
       "2                        1                           0                0   \n",
       "3                        1                           0                0   \n",
       "4                        1                           0                0   \n",
       "\n",
       "   Category_BOOKS_AND_REFERENCE  Category_BUSINESS  Category_COMICS  \\\n",
       "0                             0                  0                0   \n",
       "1                             0                  0                0   \n",
       "2                             0                  0                0   \n",
       "3                             0                  0                0   \n",
       "4                             0                  0                0   \n",
       "\n",
       "   Category_COMMUNICATION  Category_DATING  Category_EDUCATION  \\\n",
       "0                       0                0                   0   \n",
       "1                       0                0                   0   \n",
       "2                       0                0                   0   \n",
       "3                       0                0                   0   \n",
       "4                       0                0                   0   \n",
       "\n",
       "   Category_ENTERTAINMENT  ...  Genres_Racing  Genres_Role Playing  \\\n",
       "0                       0  ...              0                    0   \n",
       "1                       0  ...              0                    0   \n",
       "2                       0  ...              0                    0   \n",
       "3                       0  ...              0                    0   \n",
       "4                       0  ...              0                    0   \n",
       "\n",
       "   Genres_Shopping  Genres_Simulation  Genres_Social  Genres_Sports  \\\n",
       "0                0                  0              0              0   \n",
       "1                0                  0              0              0   \n",
       "2                0                  0              0              0   \n",
       "3                0                  0              0              0   \n",
       "4                0                  0              0              0   \n",
       "\n",
       "   Genres_Strategy  Genres_Tools  Genres_Travel & Local  \\\n",
       "0                0             0                      0   \n",
       "1                0             0                      0   \n",
       "2                0             0                      0   \n",
       "3                0             0                      0   \n",
       "4                0             0                      0   \n",
       "\n",
       "   Genres_Video Players & Editors  \n",
       "0                               0  \n",
       "1                               0  \n",
       "2                               0  \n",
       "3                               0  \n",
       "4                               0  \n",
       "\n",
       "[5 rows x 66 columns]"
      ]
     },
     "execution_count": 103,
     "metadata": {},
     "output_type": "execute_result"
    }
   ],
   "source": [
    "# Filter down to just ohe_cols\n",
    "ohe_features3 = ohe_features3[ohe_cols3]\n",
    "\n",
    "# OHE/Get Dummies\n",
    "ohe_features3 = pd.get_dummies(ohe_features3)\n",
    "\n",
    "# Preview, check work, 66 columns versus 72 in Data Version 1\n",
    "ohe_features3.head()"
   ]
  },
  {
   "cell_type": "markdown",
   "metadata": {},
   "source": [
    "#### Combine - Data Version 3\n",
    "- Numeric = ['Reviews', 'Size Trans']\n",
    "- Ordinal = ['Installs', 'Content Rating']\n",
    "- OHE = ['Category', 'Type', 'Genres']"
   ]
  },
  {
   "cell_type": "code",
   "execution_count": 104,
   "metadata": {},
   "outputs": [],
   "source": [
    "# Combine scaled numerical, OHE categoricals, and target into one df\n",
    "preprocessed3 = pd.concat([scaled2, ordinal2, ohe_features3, y], axis=1)"
   ]
  },
  {
   "cell_type": "code",
   "execution_count": 105,
   "metadata": {
    "scrolled": true
   },
   "outputs": [
    {
     "data": {
      "text/plain": [
       "Index(['Reviews', 'Size Trans', 'Installs', 'Content Rating',\n",
       "       'Category_ART_AND_DESIGN', 'Category_AUTO_AND_VEHICLES',\n",
       "       'Category_BEAUTY', 'Category_BOOKS_AND_REFERENCE', 'Category_BUSINESS',\n",
       "       'Category_COMICS', 'Category_COMMUNICATION', 'Category_DATING',\n",
       "       'Category_EDUCATION', 'Category_ENTERTAINMENT', 'Category_EVENTS',\n",
       "       'Category_FAMILY', 'Category_FINANCE', 'Category_FOOD_AND_DRINK',\n",
       "       'Category_GAME', 'Category_HEALTH_AND_FITNESS',\n",
       "       'Category_HOUSE_AND_HOME', 'Category_LIBRARIES_AND_DEMO',\n",
       "       'Category_LIFESTYLE', 'Category_MAPS_AND_NAVIGATION',\n",
       "       'Category_MEDICAL', 'Category_NEWS_AND_MAGAZINES', 'Category_PARENTING',\n",
       "       'Category_PERSONALIZATION', 'Category_PHOTOGRAPHY',\n",
       "       'Category_PRODUCTIVITY', 'Category_SHOPPING', 'Category_SOCIAL',\n",
       "       'Category_SPORTS', 'Category_TOOLS', 'Category_TRAVEL_AND_LOCAL',\n",
       "       'Category_VIDEO_PLAYERS', 'Category_WEATHER', 'Type_Free', 'Type_Paid',\n",
       "       'Genres_Action', 'Genres_Arcade', 'Genres_Books & Reference',\n",
       "       'Genres_Business', 'Genres_Casual', 'Genres_Communication',\n",
       "       'Genres_Dating', 'Genres_Education', 'Genres_Educational',\n",
       "       'Genres_Entertainment', 'Genres_Finance', 'Genres_Food & Drink',\n",
       "       'Genres_Health & Fitness', 'Genres_Lifestyle',\n",
       "       'Genres_Maps & Navigation', 'Genres_Medical', 'Genres_News & Magazines',\n",
       "       'Genres_Personalization', 'Genres_Photography', 'Genres_Productivity',\n",
       "       'Genres_Puzzle', 'Genres_Racing', 'Genres_Role Playing',\n",
       "       'Genres_Shopping', 'Genres_Simulation', 'Genres_Social',\n",
       "       'Genres_Sports', 'Genres_Strategy', 'Genres_Tools',\n",
       "       'Genres_Travel & Local', 'Genres_Video Players & Editors',\n",
       "       'Pos Rating'],\n",
       "      dtype='object')"
      ]
     },
     "execution_count": 105,
     "metadata": {},
     "output_type": "execute_result"
    }
   ],
   "source": [
    "preprocessed3.columns"
   ]
  },
  {
   "cell_type": "markdown",
   "metadata": {},
   "source": [
    "#### Model 9 - Decision Tree with Data Version 3 <a id=\"Model_9\"></a>"
   ]
  },
  {
   "cell_type": "code",
   "execution_count": 106,
   "metadata": {},
   "outputs": [],
   "source": [
    "# X and y split of preprocessed \n",
    "X = preprocessed3.drop(columns=['Pos Rating'], axis=1)\n",
    "y = preprocessed3['Pos Rating']"
   ]
  },
  {
   "cell_type": "code",
   "execution_count": 107,
   "metadata": {},
   "outputs": [],
   "source": [
    "X_train, X_test, y_train, y_test = train_test_split(X, y, test_size=0.25, random_state=42)"
   ]
  },
  {
   "cell_type": "code",
   "execution_count": 108,
   "metadata": {},
   "outputs": [
    {
     "data": {
      "text/plain": [
       "DecisionTreeClassifier(ccp_alpha=0.0, class_weight='balanced', criterion='gini',\n",
       "                       max_depth=None, max_features=None, max_leaf_nodes=None,\n",
       "                       min_impurity_decrease=0.0, min_impurity_split=None,\n",
       "                       min_samples_leaf=1, min_samples_split=2,\n",
       "                       min_weight_fraction_leaf=0.0, presort='deprecated',\n",
       "                       random_state=None, splitter='best')"
      ]
     },
     "execution_count": 108,
     "metadata": {},
     "output_type": "execute_result"
    }
   ],
   "source": [
    "# Instantiate\n",
    "dt4 = DecisionTreeClassifier(class_weight='balanced')\n",
    "\n",
    "# Fit\n",
    "dt4.fit(X_train, y_train)"
   ]
  },
  {
   "cell_type": "code",
   "execution_count": 109,
   "metadata": {},
   "outputs": [
    {
     "name": "stdout",
     "output_type": "stream",
     "text": [
      "Train Scores\n",
      "------------\n",
      "Accuracy: 0.9997150997150998\n",
      "Recall: 1.0\n",
      "F1 Score: 0.9995557529986673\n",
      "--------------------\n",
      "Test Scores\n",
      "-----------\n",
      "Accuracy: 0.7051282051282052\n",
      "Recall: 0.5653409090909091\n",
      "Recall Mean Cross Val 3-Fold: 0.5342222222222223\n",
      "F1 Score: 0.5356662180349933\n"
     ]
    },
    {
     "data": {
      "image/png": "[encoded data removed]",
      "text/plain": [
       "<Figure size 432x288 with 2 Axes>"
      ]
     },
     "metadata": {
      "needs_background": "light"
     },
     "output_type": "display_data"
    }
   ],
   "source": [
    "eval_model(dt4, X_train, X_test, y_train, y_test)\n",
    "# Overfit, but can tune\n",
    "# Similar accuracy to previous untuned decision trees\n",
    "# Recall at 0.56\n",
    "# F1 up at 0.53"
   ]
  },
  {
   "cell_type": "code",
   "execution_count": 110,
   "metadata": {},
   "outputs": [
    {
     "data": {
      "text/plain": [
       "58"
      ]
     },
     "execution_count": 110,
     "metadata": {},
     "output_type": "execute_result"
    }
   ],
   "source": [
    "# What is current depth of overfit tree\n",
    "dt4.tree_.max_depth"
   ]
  },
  {
   "cell_type": "markdown",
   "metadata": {},
   "source": [
    "#### Model 10 - Decision Tree3 (Data Version 3) with half depth <a id=\"Model_10\"></a>\n",
    "\n",
    "Doing this to understand best range of max_depth parameters for GridSearch"
   ]
  },
  {
   "cell_type": "code",
   "execution_count": 111,
   "metadata": {},
   "outputs": [
    {
     "data": {
      "text/plain": [
       "DecisionTreeClassifier(ccp_alpha=0.0, class_weight='balanced', criterion='gini',\n",
       "                       max_depth=29, max_features=None, max_leaf_nodes=None,\n",
       "                       min_impurity_decrease=0.0, min_impurity_split=None,\n",
       "                       min_samples_leaf=1, min_samples_split=2,\n",
       "                       min_weight_fraction_leaf=0.0, presort='deprecated',\n",
       "                       random_state=42, splitter='best')"
      ]
     },
     "execution_count": 111,
     "metadata": {},
     "output_type": "execute_result"
    }
   ],
   "source": [
    "# Instantiate\n",
    "dt5 = DecisionTreeClassifier(class_weight='balanced', random_state=42,\n",
    "                            max_depth = 29)\n",
    "\n",
    "# Fit\n",
    "dt5.fit(X_train, y_train)"
   ]
  },
  {
   "cell_type": "code",
   "execution_count": 112,
   "metadata": {
    "scrolled": true
   },
   "outputs": [
    {
     "name": "stdout",
     "output_type": "stream",
     "text": [
      "Train Scores\n",
      "------------\n",
      "Accuracy: 0.975925925925926\n",
      "Recall: 0.9635555555555556\n",
      "F1 Score: 0.9624861265260821\n",
      "--------------------\n",
      "Test Scores\n",
      "-----------\n",
      "Accuracy: 0.7123931623931624\n",
      "Recall: 0.5710227272727273\n",
      "Recall Mean Cross Val 3-Fold: 0.5399999999999999\n",
      "F1 Score: 0.5443466486120515\n"
     ]
    },
    {
     "data": {
      "image/png": "[encoded data removed]",
      "text/plain": [
       "<Figure size 432x288 with 2 Axes>"
      ]
     },
     "metadata": {
      "needs_background": "light"
     },
     "output_type": "display_data"
    }
   ],
   "source": [
    "eval_model(dt5, X_train, X_test, y_train, y_test)\n",
    "\n",
    "# Not mcuh less overfit but still needs help \n",
    "# in GridSearch, do range around this, aim for lower number as this is still very overfit\n",
    "# Similar recall and validation\n",
    "# Same F1 as with full depth"
   ]
  },
  {
   "cell_type": "markdown",
   "metadata": {},
   "source": [
    "#### Grid Search 3 - Expanding min_samples_split for higher range (previously 20) with Data Version 3"
   ]
  },
  {
   "cell_type": "code",
   "execution_count": 113,
   "metadata": {},
   "outputs": [],
   "source": [
    "param_dict3 = {\n",
    "    'criterion': ['gini', 'entropy'],\n",
    "    'max_depth': [5, 10, 15, 20, 25, 30, 35],\n",
    "    'min_samples_split': [15, 20, 25, 30, 35, 40],\n",
    "    'min_samples_leaf': [2, 4, 6, 8, 10, 12, 14, 16, 18, 20]\n",
    "}"
   ]
  },
  {
   "cell_type": "code",
   "execution_count": 114,
   "metadata": {},
   "outputs": [
    {
     "name": "stdout",
     "output_type": "stream",
     "text": [
      "Fitting 5 folds for each of 1400 candidates, totalling 7000 fits\n"
     ]
    },
    {
     "name": "stderr",
     "output_type": "stream",
     "text": [
      "[Parallel(n_jobs=1)]: Using backend SequentialBackend with 1 concurrent workers.\n",
      "[Parallel(n_jobs=1)]: Done 7000 out of 7000 | elapsed:  3.9min finished\n"
     ]
    },
    {
     "data": {
      "text/plain": [
       "GridSearchCV(cv=5, error_score=nan,\n",
       "             estimator=DecisionTreeClassifier(ccp_alpha=0.0,\n",
       "                                              class_weight='balanced',\n",
       "                                              criterion='gini', max_depth=None,\n",
       "                                              max_features=None,\n",
       "                                              max_leaf_nodes=None,\n",
       "                                              min_impurity_decrease=0.0,\n",
       "                                              min_impurity_split=None,\n",
       "                                              min_samples_leaf=1,\n",
       "                                              min_samples_split=2,\n",
       "                                              min_weight_fraction_leaf=0.0,\n",
       "                                              presort='deprecated',\n",
       "                                              random_state=None,\n",
       "                                              splitter='best'),\n",
       "             iid='deprecated', n_jobs=None,\n",
       "             param_grid={'criterion': ['gini', 'entropy'],\n",
       "                         'max_depth': [5, 10, 15, 20, 25, 30, 35],\n",
       "                         'min_samples_leaf': [2, 4, 6, 8, 10, 12, 14, 16, 18,\n",
       "                                              20],\n",
       "                         'min_samples_split': [2, 4, 6, 8, 10, 12, 14, 16, 18,\n",
       "                                               20]},\n",
       "             pre_dispatch='2*n_jobs', refit=True, return_train_score=False,\n",
       "             scoring=None, verbose=1)"
      ]
     },
     "execution_count": 114,
     "metadata": {},
     "output_type": "execute_result"
    }
   ],
   "source": [
    "grid = GridSearchCV(dt4,\n",
    "                   param_grid = param_dict,\n",
    "                   cv=5,\n",
    "                   verbose=1)\n",
    "\n",
    "grid.fit(X_train, y_train)"
   ]
  },
  {
   "cell_type": "code",
   "execution_count": 115,
   "metadata": {},
   "outputs": [
    {
     "data": {
      "text/plain": [
       "{'criterion': 'entropy',\n",
       " 'max_depth': 10,\n",
       " 'min_samples_leaf': 20,\n",
       " 'min_samples_split': 2}"
      ]
     },
     "execution_count": 115,
     "metadata": {},
     "output_type": "execute_result"
    }
   ],
   "source": [
    "grid.best_params_"
   ]
  },
  {
   "cell_type": "code",
   "execution_count": 116,
   "metadata": {
    "scrolled": true
   },
   "outputs": [
    {
     "data": {
      "text/plain": [
       "0.6937321937321937"
      ]
     },
     "execution_count": 116,
     "metadata": {},
     "output_type": "execute_result"
    }
   ],
   "source": [
    "grid.best_score_\n",
    "# 1% better than random guess"
   ]
  },
  {
   "cell_type": "markdown",
   "metadata": {},
   "source": [
    "Decision: GridSearch output is consistent. In addition to class_weight = 'balanced', below parameters should be set:\n",
    "- 'criterion': 'entropy'\n",
    "- 'max_depth': 10\n",
    "- 'min_samples_leaf': 20\n",
    "- 'min_samples_split': 2"
   ]
  },
  {
   "cell_type": "markdown",
   "metadata": {},
   "source": [
    "#### Model 11 - GridSearch2 Decision Tree <a id=\"Model_11\"></a>"
   ]
  },
  {
   "cell_type": "code",
   "execution_count": 117,
   "metadata": {},
   "outputs": [
    {
     "data": {
      "text/plain": [
       "DecisionTreeClassifier(ccp_alpha=0.0, class_weight='balanced',\n",
       "                       criterion='entropy', max_depth=10, max_features=None,\n",
       "                       max_leaf_nodes=None, min_impurity_decrease=0.0,\n",
       "                       min_impurity_split=None, min_samples_leaf=20,\n",
       "                       min_samples_split=2, min_weight_fraction_leaf=0.0,\n",
       "                       presort='deprecated', random_state=None,\n",
       "                       splitter='best')"
      ]
     },
     "execution_count": 117,
     "metadata": {},
     "output_type": "execute_result"
    }
   ],
   "source": [
    "# Instantiate\n",
    "dt_grid2 = DecisionTreeClassifier(class_weight='balanced',\n",
    "                             criterion = 'entropy',\n",
    "                             max_depth = 10,\n",
    "                             min_samples_leaf  = 20, #The minimum number of samples required to be at a leaf node.\n",
    "                             min_samples_split = 2)\n",
    "\n",
    "# Fit\n",
    "dt_grid2.fit(X_train, y_train)"
   ]
  },
  {
   "cell_type": "code",
   "execution_count": 118,
   "metadata": {
    "scrolled": false
   },
   "outputs": [
    {
     "name": "stdout",
     "output_type": "stream",
     "text": [
      "Train Scores\n",
      "------------\n",
      "Accuracy: 0.7215099715099715\n",
      "Recall: 0.5542222222222222\n",
      "F1 Score: 0.5605754102045403\n",
      "--------------------\n",
      "Test Scores\n",
      "-----------\n",
      "Accuracy: 0.6863247863247863\n",
      "Recall: 0.4928977272727273\n",
      "Recall Mean Cross Val 3-Fold: 0.5315555555555557\n",
      "F1 Score: 0.48599439775910364\n"
     ]
    },
    {
     "data": {
      "image/png": "[encoded data removed]",
      "text/plain": [
       "<Figure size 432x288 with 2 Axes>"
      ]
     },
     "metadata": {
      "needs_background": "light"
     },
     "output_type": "display_data"
    }
   ],
   "source": [
    "eval_model(dt_grid2, X_train, X_test, y_train, y_test)\n",
    "# Much less overfit - but accuracy down .2 - Same as random guess\n",
    "# Recall much lower from 0.58 to 0.49 - but validation at 0.53"
   ]
  },
  {
   "cell_type": "markdown",
   "metadata": {},
   "source": [
    "#### Model 12 - GridSearch2 Random Forest <a id=\"Model_13\"></a>"
   ]
  },
  {
   "cell_type": "code",
   "execution_count": 119,
   "metadata": {},
   "outputs": [
    {
     "data": {
      "text/plain": [
       "RandomForestClassifier(bootstrap=True, ccp_alpha=0.0, class_weight='balanced',\n",
       "                       criterion='entropy', max_depth=10, max_features='auto',\n",
       "                       max_leaf_nodes=None, max_samples=None,\n",
       "                       min_impurity_decrease=0.0, min_impurity_split=None,\n",
       "                       min_samples_leaf=20, min_samples_split=2,\n",
       "                       min_weight_fraction_leaf=0.0, n_estimators=100,\n",
       "                       n_jobs=None, oob_score=False, random_state=None,\n",
       "                       verbose=0, warm_start=False)"
      ]
     },
     "execution_count": 119,
     "metadata": {},
     "output_type": "execute_result"
    }
   ],
   "source": [
    "# Instantiate\n",
    "rf_grid2 = RandomForestClassifier(class_weight='balanced',\n",
    "                             criterion = 'entropy',\n",
    "                             max_depth = 10,\n",
    "                             min_samples_leaf  = 20,\n",
    "                             min_samples_split = 2)\n",
    "\n",
    "# Fit\n",
    "rf_grid2.fit(X_train, y_train)"
   ]
  },
  {
   "cell_type": "code",
   "execution_count": 120,
   "metadata": {},
   "outputs": [
    {
     "name": "stdout",
     "output_type": "stream",
     "text": [
      "Train Scores\n",
      "------------\n",
      "Accuracy: 0.6713675213675213\n",
      "Recall: 0.5946666666666667\n",
      "F1 Score: 0.5370258880192655\n",
      "--------------------\n",
      "Test Scores\n",
      "-----------\n",
      "Accuracy: 0.6692307692307692\n",
      "Recall: 0.5809659090909091\n",
      "Recall Mean Cross Val 3-Fold: 0.5573333333333333\n",
      "F1 Score: 0.513819095477387\n"
     ]
    },
    {
     "data": {
      "image/png": "[encoded data removed]",
      "text/plain": [
       "<Figure size 432x288 with 2 Axes>"
      ]
     },
     "metadata": {
      "needs_background": "light"
     },
     "output_type": "display_data"
    }
   ],
   "source": [
    "eval_model(rf_grid2, X_train, X_test, y_train, y_test)\n",
    "# Not overfit for once, but accuracy is less than random guess \n",
    "# although recall is at highest\n",
    "# F1 also at similar highest"
   ]
  },
  {
   "cell_type": "markdown",
   "metadata": {},
   "source": [
    "## Feature Importance on Top Models\n",
    "\n",
    "The best performing models either have:\n",
    "1. An accuracy score 1-2% above a random guess and a 50% recall score \n",
    "OR\n",
    "2. A 56-58% recall score (and similar cross validation scores for recall, and an accuracy score 2% below a random guess. \n",
    "\n",
    "Models explored below include:\n",
    "- Model 11, dt_grid2, which falls into bucket #1 above\n",
    "- Model 12, rf_grid2, which falls into bucket #2 above\n",
    "\n",
    "Looking to feature importance across both to look into any consistency."
   ]
  },
  {
   "cell_type": "markdown",
   "metadata": {},
   "source": [
    "### Model 11 (dt_grid2) Feature Importance <a id=\"Model_11_FI\"></a>"
   ]
  },
  {
   "cell_type": "markdown",
   "metadata": {},
   "source": [
    "#### Baseline"
   ]
  },
  {
   "cell_type": "code",
   "execution_count": 121,
   "metadata": {},
   "outputs": [
    {
     "data": {
      "text/plain": [
       "{'Reviews': 0.3514917474926996,\n",
       " 'Installs': 0.2874481218337568,\n",
       " 'Size Trans': 0.11458367450040421,\n",
       " 'Type_Free': 0.05933202994323856,\n",
       " 'Genres_Health & Fitness': 0.03420882182816005,\n",
       " 'Category_TRAVEL_AND_LOCAL': 0.02509496675294812,\n",
       " 'Category_TOOLS': 0.02102407444211158,\n",
       " 'Content Rating': 0.01739450044668302,\n",
       " 'Genres_Education': 0.0108069190939718,\n",
       " 'Category_SOCIAL': 0.010230815349171177}"
      ]
     },
     "execution_count": 121,
     "metadata": {},
     "output_type": "execute_result"
    }
   ],
   "source": [
    "# Top 10 Feature Importance\n",
    "coef = dt_grid2.feature_importances_\n",
    "d = dict(zip(X.columns, coef))\n",
    "sorted_dict = dict( sorted(d.items(), key=operator.itemgetter(1),reverse=True)[:10])\n",
    "sorted_dict\n",
    "# Reviews and Installs are main drivers\n",
    "# Size next largest"
   ]
  },
  {
   "cell_type": "markdown",
   "metadata": {},
   "source": [
    "#### eli5"
   ]
  },
  {
   "cell_type": "code",
   "execution_count": 122,
   "metadata": {},
   "outputs": [
    {
     "data": {
      "text/html": [
       "<div>\n",
       "<style scoped>\n",
       "    .dataframe tbody tr th:only-of-type {\n",
       "        vertical-align: middle;\n",
       "    }\n",
       "\n",
       "    .dataframe tbody tr th {\n",
       "        vertical-align: top;\n",
       "    }\n",
       "\n",
       "    .dataframe thead th {\n",
       "        text-align: right;\n",
       "    }\n",
       "</style>\n",
       "<table border=\"1\" class=\"dataframe\">\n",
       "  <thead>\n",
       "    <tr style=\"text-align: right;\">\n",
       "      <th></th>\n",
       "      <th>0</th>\n",
       "    </tr>\n",
       "  </thead>\n",
       "  <tbody>\n",
       "    <tr>\n",
       "      <th>0.129920</th>\n",
       "      <td>Reviews</td>\n",
       "    </tr>\n",
       "    <tr>\n",
       "      <th>0.116821</th>\n",
       "      <td>Installs</td>\n",
       "    </tr>\n",
       "    <tr>\n",
       "      <th>0.021744</th>\n",
       "      <td>Type_Free</td>\n",
       "    </tr>\n",
       "    <tr>\n",
       "      <th>0.016923</th>\n",
       "      <td>Size Trans</td>\n",
       "    </tr>\n",
       "    <tr>\n",
       "      <th>0.009678</th>\n",
       "      <td>Content Rating</td>\n",
       "    </tr>\n",
       "    <tr>\n",
       "      <th>...</th>\n",
       "      <td>...</td>\n",
       "    </tr>\n",
       "    <tr>\n",
       "      <th>0.000000</th>\n",
       "      <td>Category_PRODUCTIVITY</td>\n",
       "    </tr>\n",
       "    <tr>\n",
       "      <th>0.000000</th>\n",
       "      <td>Category_SHOPPING</td>\n",
       "    </tr>\n",
       "    <tr>\n",
       "      <th>0.000000</th>\n",
       "      <td>Category_SPORTS</td>\n",
       "    </tr>\n",
       "    <tr>\n",
       "      <th>0.000000</th>\n",
       "      <td>Category_TOOLS</td>\n",
       "    </tr>\n",
       "    <tr>\n",
       "      <th>0.000000</th>\n",
       "      <td>Genres_Video Players &amp; Editors</td>\n",
       "    </tr>\n",
       "  </tbody>\n",
       "</table>\n",
       "<p>70 rows × 1 columns</p>\n",
       "</div>"
      ],
      "text/plain": [
       "                                       0\n",
       "0.129920                         Reviews\n",
       "0.116821                        Installs\n",
       "0.021744                       Type_Free\n",
       "0.016923                      Size Trans\n",
       "0.009678                  Content Rating\n",
       "...                                  ...\n",
       "0.000000           Category_PRODUCTIVITY\n",
       "0.000000               Category_SHOPPING\n",
       "0.000000                 Category_SPORTS\n",
       "0.000000                  Category_TOOLS\n",
       "0.000000  Genres_Video Players & Editors\n",
       "\n",
       "[70 rows x 1 columns]"
      ]
     },
     "execution_count": 122,
     "metadata": {},
     "output_type": "execute_result"
    }
   ],
   "source": [
    "perm = PermutationImportance(dt_grid2, cv = None, refit = False, n_iter = 50).fit(X_train, y_train)\n",
    "perm_imp_eli5 = pd.DataFrame(X_train.columns, perm.feature_importances_)\n",
    "perm_imp_eli5.sort_index(ascending=False)\n",
    "# Reviews and Installs are main drivers"
   ]
  },
  {
   "cell_type": "markdown",
   "metadata": {},
   "source": [
    "#### rfpimp"
   ]
  },
  {
   "cell_type": "code",
   "execution_count": 123,
   "metadata": {},
   "outputs": [
    {
     "data": {
      "text/html": [
       "<div>\n",
       "<style scoped>\n",
       "    .dataframe tbody tr th:only-of-type {\n",
       "        vertical-align: middle;\n",
       "    }\n",
       "\n",
       "    .dataframe tbody tr th {\n",
       "        vertical-align: top;\n",
       "    }\n",
       "\n",
       "    .dataframe thead th {\n",
       "        text-align: right;\n",
       "    }\n",
       "</style>\n",
       "<table border=\"1\" class=\"dataframe\">\n",
       "  <thead>\n",
       "    <tr style=\"text-align: right;\">\n",
       "      <th></th>\n",
       "      <th>Importance</th>\n",
       "    </tr>\n",
       "    <tr>\n",
       "      <th>Feature</th>\n",
       "      <th></th>\n",
       "    </tr>\n",
       "  </thead>\n",
       "  <tbody>\n",
       "    <tr>\n",
       "      <th>Installs</th>\n",
       "      <td>0.791099</td>\n",
       "    </tr>\n",
       "    <tr>\n",
       "      <th>Reviews</th>\n",
       "      <td>0.751590</td>\n",
       "    </tr>\n",
       "    <tr>\n",
       "      <th>Size Trans</th>\n",
       "      <td>0.130472</td>\n",
       "    </tr>\n",
       "    <tr>\n",
       "      <th>Content Rating</th>\n",
       "      <td>0.051454</td>\n",
       "    </tr>\n",
       "    <tr>\n",
       "      <th>Type_Paid</th>\n",
       "      <td>0.040428</td>\n",
       "    </tr>\n",
       "    <tr>\n",
       "      <th>...</th>\n",
       "      <td>...</td>\n",
       "    </tr>\n",
       "    <tr>\n",
       "      <th>Category_SOCIAL</th>\n",
       "      <td>0.000000</td>\n",
       "    </tr>\n",
       "    <tr>\n",
       "      <th>Category_SPORTS</th>\n",
       "      <td>0.000000</td>\n",
       "    </tr>\n",
       "    <tr>\n",
       "      <th>Category_TOOLS</th>\n",
       "      <td>0.000000</td>\n",
       "    </tr>\n",
       "    <tr>\n",
       "      <th>Category_TRAVEL_AND_LOCAL</th>\n",
       "      <td>0.000000</td>\n",
       "    </tr>\n",
       "    <tr>\n",
       "      <th>Genres_Video Players &amp; Editors</th>\n",
       "      <td>0.000000</td>\n",
       "    </tr>\n",
       "  </tbody>\n",
       "</table>\n",
       "<p>70 rows × 1 columns</p>\n",
       "</div>"
      ],
      "text/plain": [
       "                                Importance\n",
       "Feature                                   \n",
       "Installs                          0.791099\n",
       "Reviews                           0.751590\n",
       "Size Trans                        0.130472\n",
       "Content Rating                    0.051454\n",
       "Type_Paid                         0.040428\n",
       "...                                    ...\n",
       "Category_SOCIAL                   0.000000\n",
       "Category_SPORTS                   0.000000\n",
       "Category_TOOLS                    0.000000\n",
       "Category_TRAVEL_AND_LOCAL         0.000000\n",
       "Genres_Video Players & Editors    0.000000\n",
       "\n",
       "[70 rows x 1 columns]"
      ]
     },
     "execution_count": 123,
     "metadata": {},
     "output_type": "execute_result"
    }
   ],
   "source": [
    "perm_imp_rfpimp = permutation_importances(dt_grid2, X_train, y_train, r2)\n",
    "perm_imp_rfpimp\n",
    "# Reviews and Installs are main drivers"
   ]
  },
  {
   "cell_type": "markdown",
   "metadata": {},
   "source": [
    "#### Drop column feature importance"
   ]
  },
  {
   "cell_type": "code",
   "execution_count": 124,
   "metadata": {},
   "outputs": [
    {
     "data": {
      "text/html": [
       "<div>\n",
       "<style scoped>\n",
       "    .dataframe tbody tr th:only-of-type {\n",
       "        vertical-align: middle;\n",
       "    }\n",
       "\n",
       "    .dataframe tbody tr th {\n",
       "        vertical-align: top;\n",
       "    }\n",
       "\n",
       "    .dataframe thead th {\n",
       "        text-align: right;\n",
       "    }\n",
       "</style>\n",
       "<table border=\"1\" class=\"dataframe\">\n",
       "  <thead>\n",
       "    <tr style=\"text-align: right;\">\n",
       "      <th></th>\n",
       "      <th>0</th>\n",
       "    </tr>\n",
       "  </thead>\n",
       "  <tbody>\n",
       "    <tr>\n",
       "      <th>0.060399</th>\n",
       "      <td>Reviews</td>\n",
       "    </tr>\n",
       "    <tr>\n",
       "      <th>0.052849</th>\n",
       "      <td>Installs</td>\n",
       "    </tr>\n",
       "    <tr>\n",
       "      <th>0.044017</th>\n",
       "      <td>Size Trans</td>\n",
       "    </tr>\n",
       "    <tr>\n",
       "      <th>0.002564</th>\n",
       "      <td>Genres_Action</td>\n",
       "    </tr>\n",
       "    <tr>\n",
       "      <th>0.001852</th>\n",
       "      <td>Genres_Education</td>\n",
       "    </tr>\n",
       "    <tr>\n",
       "      <th>...</th>\n",
       "      <td>...</td>\n",
       "    </tr>\n",
       "    <tr>\n",
       "      <th>0.000000</th>\n",
       "      <td>Category_SPORTS</td>\n",
       "    </tr>\n",
       "    <tr>\n",
       "      <th>0.000000</th>\n",
       "      <td>Category_TOOLS</td>\n",
       "    </tr>\n",
       "    <tr>\n",
       "      <th>0.000000</th>\n",
       "      <td>Genres_Video Players &amp; Editors</td>\n",
       "    </tr>\n",
       "    <tr>\n",
       "      <th>-0.002137</th>\n",
       "      <td>Category_GAME</td>\n",
       "    </tr>\n",
       "    <tr>\n",
       "      <th>-0.004558</th>\n",
       "      <td>Category_TRAVEL_AND_LOCAL</td>\n",
       "    </tr>\n",
       "  </tbody>\n",
       "</table>\n",
       "<p>70 rows × 1 columns</p>\n",
       "</div>"
      ],
      "text/plain": [
       "                                        0\n",
       " 0.060399                         Reviews\n",
       " 0.052849                        Installs\n",
       " 0.044017                      Size Trans\n",
       " 0.002564                   Genres_Action\n",
       " 0.001852                Genres_Education\n",
       "...                                   ...\n",
       " 0.000000                 Category_SPORTS\n",
       " 0.000000                  Category_TOOLS\n",
       " 0.000000  Genres_Video Players & Editors\n",
       "-0.002137                   Category_GAME\n",
       "-0.004558       Category_TRAVEL_AND_LOCAL\n",
       "\n",
       "[70 rows x 1 columns]"
      ]
     },
     "execution_count": 124,
     "metadata": {},
     "output_type": "execute_result"
    }
   ],
   "source": [
    "importances_df = drop_col_feat_imp(dt_grid2, X_train, y_train, random_state = 42)\n",
    "importances_df.sort_index(ascending=False)\n",
    "# Reviews, Installs and Size are big drivers \n",
    "# much higher here than other checks"
   ]
  },
  {
   "cell_type": "markdown",
   "metadata": {},
   "source": [
    "### Model 12 (rf_grid2) Feature Importance <a id=\"Model_12_FI\"></a>"
   ]
  },
  {
   "cell_type": "markdown",
   "metadata": {},
   "source": [
    "#### Baseline"
   ]
  },
  {
   "cell_type": "code",
   "execution_count": 125,
   "metadata": {},
   "outputs": [
    {
     "data": {
      "text/plain": [
       "{'Reviews': 0.2806939751351103,\n",
       " 'Installs': 0.23607909460983045,\n",
       " 'Size Trans': 0.08130752016258495,\n",
       " 'Genres_Health & Fitness': 0.040194403427215114,\n",
       " 'Category_HEALTH_AND_FITNESS': 0.03174114489034901,\n",
       " 'Type_Free': 0.02953003825624812,\n",
       " 'Type_Paid': 0.0271303832002088,\n",
       " 'Content Rating': 0.025052694889983664,\n",
       " 'Category_TOOLS': 0.022898409037890397,\n",
       " 'Genres_Tools': 0.022496419454335566}"
      ]
     },
     "execution_count": 125,
     "metadata": {},
     "output_type": "execute_result"
    }
   ],
   "source": [
    "# Top 10 Feature Importance\n",
    "coef = rf_grid2.feature_importances_\n",
    "d = dict(zip(X.columns, coef))\n",
    "sorted_dict = dict( sorted(d.items(), key=operator.itemgetter(1),reverse=True)[:10])\n",
    "sorted_dict\n",
    "# Reviews and Installs are main drivers\n",
    "# Size next largest\n",
    "# All have lower influence than in Decision Tree dt_grid2 above"
   ]
  },
  {
   "cell_type": "markdown",
   "metadata": {},
   "source": [
    "#### eli5"
   ]
  },
  {
   "cell_type": "code",
   "execution_count": 126,
   "metadata": {},
   "outputs": [
    {
     "data": {
      "text/html": [
       "<div>\n",
       "<style scoped>\n",
       "    .dataframe tbody tr th:only-of-type {\n",
       "        vertical-align: middle;\n",
       "    }\n",
       "\n",
       "    .dataframe tbody tr th {\n",
       "        vertical-align: top;\n",
       "    }\n",
       "\n",
       "    .dataframe thead th {\n",
       "        text-align: right;\n",
       "    }\n",
       "</style>\n",
       "<table border=\"1\" class=\"dataframe\">\n",
       "  <thead>\n",
       "    <tr style=\"text-align: right;\">\n",
       "      <th></th>\n",
       "      <th>0</th>\n",
       "    </tr>\n",
       "  </thead>\n",
       "  <tbody>\n",
       "    <tr>\n",
       "      <th>0.055285</th>\n",
       "      <td>Reviews</td>\n",
       "    </tr>\n",
       "    <tr>\n",
       "      <th>0.032880</th>\n",
       "      <td>Installs</td>\n",
       "    </tr>\n",
       "    <tr>\n",
       "      <th>0.007171</th>\n",
       "      <td>Type_Free</td>\n",
       "    </tr>\n",
       "    <tr>\n",
       "      <th>0.006430</th>\n",
       "      <td>Type_Paid</td>\n",
       "    </tr>\n",
       "    <tr>\n",
       "      <th>0.004382</th>\n",
       "      <td>Genres_Health &amp; Fitness</td>\n",
       "    </tr>\n",
       "    <tr>\n",
       "      <th>...</th>\n",
       "      <td>...</td>\n",
       "    </tr>\n",
       "    <tr>\n",
       "      <th>-0.000350</th>\n",
       "      <td>Category_GAME</td>\n",
       "    </tr>\n",
       "    <tr>\n",
       "      <th>-0.000533</th>\n",
       "      <td>Category_EDUCATION</td>\n",
       "    </tr>\n",
       "    <tr>\n",
       "      <th>-0.001191</th>\n",
       "      <td>Genres_Communication</td>\n",
       "    </tr>\n",
       "    <tr>\n",
       "      <th>-0.001627</th>\n",
       "      <td>Category_FAMILY</td>\n",
       "    </tr>\n",
       "    <tr>\n",
       "      <th>-0.001658</th>\n",
       "      <td>Category_COMMUNICATION</td>\n",
       "    </tr>\n",
       "  </tbody>\n",
       "</table>\n",
       "<p>70 rows × 1 columns</p>\n",
       "</div>"
      ],
      "text/plain": [
       "                                 0\n",
       " 0.055285                  Reviews\n",
       " 0.032880                 Installs\n",
       " 0.007171                Type_Free\n",
       " 0.006430                Type_Paid\n",
       " 0.004382  Genres_Health & Fitness\n",
       "...                            ...\n",
       "-0.000350            Category_GAME\n",
       "-0.000533       Category_EDUCATION\n",
       "-0.001191     Genres_Communication\n",
       "-0.001627          Category_FAMILY\n",
       "-0.001658   Category_COMMUNICATION\n",
       "\n",
       "[70 rows x 1 columns]"
      ]
     },
     "execution_count": 126,
     "metadata": {},
     "output_type": "execute_result"
    }
   ],
   "source": [
    "perm = PermutationImportance(rf_grid2, cv = None, refit = False, n_iter = 50).fit(X_train, y_train)\n",
    "perm_imp_eli5 = pd.DataFrame(X_train.columns, perm.feature_importances_)\n",
    "perm_imp_eli5.sort_index(ascending=False)\n",
    "# Reviews and Installs are main drivers"
   ]
  },
  {
   "cell_type": "markdown",
   "metadata": {},
   "source": [
    "#### rfpimp"
   ]
  },
  {
   "cell_type": "code",
   "execution_count": 127,
   "metadata": {},
   "outputs": [
    {
     "data": {
      "text/html": [
       "<div>\n",
       "<style scoped>\n",
       "    .dataframe tbody tr th:only-of-type {\n",
       "        vertical-align: middle;\n",
       "    }\n",
       "\n",
       "    .dataframe tbody tr th {\n",
       "        vertical-align: top;\n",
       "    }\n",
       "\n",
       "    .dataframe thead th {\n",
       "        text-align: right;\n",
       "    }\n",
       "</style>\n",
       "<table border=\"1\" class=\"dataframe\">\n",
       "  <thead>\n",
       "    <tr style=\"text-align: right;\">\n",
       "      <th></th>\n",
       "      <th>Importance</th>\n",
       "    </tr>\n",
       "    <tr>\n",
       "      <th>Feature</th>\n",
       "      <th></th>\n",
       "    </tr>\n",
       "  </thead>\n",
       "  <tbody>\n",
       "    <tr>\n",
       "      <th>Reviews</th>\n",
       "      <td>0.293542</td>\n",
       "    </tr>\n",
       "    <tr>\n",
       "      <th>Installs</th>\n",
       "      <td>0.161766</td>\n",
       "    </tr>\n",
       "    <tr>\n",
       "      <th>Type_Free</th>\n",
       "      <td>0.030899</td>\n",
       "    </tr>\n",
       "    <tr>\n",
       "      <th>Type_Paid</th>\n",
       "      <td>0.025446</td>\n",
       "    </tr>\n",
       "    <tr>\n",
       "      <th>Genres_Health &amp; Fitness</th>\n",
       "      <td>0.019994</td>\n",
       "    </tr>\n",
       "    <tr>\n",
       "      <th>...</th>\n",
       "      <td>...</td>\n",
       "    </tr>\n",
       "    <tr>\n",
       "      <th>Genres_Photography</th>\n",
       "      <td>-0.001818</td>\n",
       "    </tr>\n",
       "    <tr>\n",
       "      <th>Genres_Travel &amp; Local</th>\n",
       "      <td>-0.002726</td>\n",
       "    </tr>\n",
       "    <tr>\n",
       "      <th>Category_COMMUNICATION</th>\n",
       "      <td>-0.005453</td>\n",
       "    </tr>\n",
       "    <tr>\n",
       "      <th>Genres_Entertainment</th>\n",
       "      <td>-0.008179</td>\n",
       "    </tr>\n",
       "    <tr>\n",
       "      <th>Category_FAMILY</th>\n",
       "      <td>-0.010906</td>\n",
       "    </tr>\n",
       "  </tbody>\n",
       "</table>\n",
       "<p>70 rows × 1 columns</p>\n",
       "</div>"
      ],
      "text/plain": [
       "                         Importance\n",
       "Feature                            \n",
       "Reviews                    0.293542\n",
       "Installs                   0.161766\n",
       "Type_Free                  0.030899\n",
       "Type_Paid                  0.025446\n",
       "Genres_Health & Fitness    0.019994\n",
       "...                             ...\n",
       "Genres_Photography        -0.001818\n",
       "Genres_Travel & Local     -0.002726\n",
       "Category_COMMUNICATION    -0.005453\n",
       "Genres_Entertainment      -0.008179\n",
       "Category_FAMILY           -0.010906\n",
       "\n",
       "[70 rows x 1 columns]"
      ]
     },
     "execution_count": 127,
     "metadata": {},
     "output_type": "execute_result"
    }
   ],
   "source": [
    "perm_imp_rfpimp = permutation_importances(rf_grid2, X_train, y_train, r2)\n",
    "perm_imp_rfpimp\n",
    "# Reviews and Installs are main drivers"
   ]
  },
  {
   "cell_type": "markdown",
   "metadata": {},
   "source": [
    "#### Drop column feature importance"
   ]
  },
  {
   "cell_type": "code",
   "execution_count": 128,
   "metadata": {},
   "outputs": [
    {
     "data": {
      "text/html": [
       "<div>\n",
       "<style scoped>\n",
       "    .dataframe tbody tr th:only-of-type {\n",
       "        vertical-align: middle;\n",
       "    }\n",
       "\n",
       "    .dataframe tbody tr th {\n",
       "        vertical-align: top;\n",
       "    }\n",
       "\n",
       "    .dataframe thead th {\n",
       "        text-align: right;\n",
       "    }\n",
       "</style>\n",
       "<table border=\"1\" class=\"dataframe\">\n",
       "  <thead>\n",
       "    <tr style=\"text-align: right;\">\n",
       "      <th></th>\n",
       "      <th>0</th>\n",
       "    </tr>\n",
       "  </thead>\n",
       "  <tbody>\n",
       "    <tr>\n",
       "      <th>0.012393</th>\n",
       "      <td>Installs</td>\n",
       "    </tr>\n",
       "    <tr>\n",
       "      <th>0.002707</th>\n",
       "      <td>Genres_Shopping</td>\n",
       "    </tr>\n",
       "    <tr>\n",
       "      <th>0.002279</th>\n",
       "      <td>Genres_Role Playing</td>\n",
       "    </tr>\n",
       "    <tr>\n",
       "      <th>0.002279</th>\n",
       "      <td>Genres_Personalization</td>\n",
       "    </tr>\n",
       "    <tr>\n",
       "      <th>0.001709</th>\n",
       "      <td>Genres_Lifestyle</td>\n",
       "    </tr>\n",
       "    <tr>\n",
       "      <th>...</th>\n",
       "      <td>...</td>\n",
       "    </tr>\n",
       "    <tr>\n",
       "      <th>-0.004558</th>\n",
       "      <td>Category_AUTO_AND_VEHICLES</td>\n",
       "    </tr>\n",
       "    <tr>\n",
       "      <th>-0.004701</th>\n",
       "      <td>Category_BUSINESS</td>\n",
       "    </tr>\n",
       "    <tr>\n",
       "      <th>-0.005271</th>\n",
       "      <td>Type_Paid</td>\n",
       "    </tr>\n",
       "    <tr>\n",
       "      <th>-0.005840</th>\n",
       "      <td>Genres_Communication</td>\n",
       "    </tr>\n",
       "    <tr>\n",
       "      <th>-0.007123</th>\n",
       "      <td>Type_Free</td>\n",
       "    </tr>\n",
       "  </tbody>\n",
       "</table>\n",
       "<p>70 rows × 1 columns</p>\n",
       "</div>"
      ],
      "text/plain": [
       "                                    0\n",
       " 0.012393                    Installs\n",
       " 0.002707             Genres_Shopping\n",
       " 0.002279         Genres_Role Playing\n",
       " 0.002279      Genres_Personalization\n",
       " 0.001709            Genres_Lifestyle\n",
       "...                               ...\n",
       "-0.004558  Category_AUTO_AND_VEHICLES\n",
       "-0.004701           Category_BUSINESS\n",
       "-0.005271                   Type_Paid\n",
       "-0.005840        Genres_Communication\n",
       "-0.007123                   Type_Free\n",
       "\n",
       "[70 rows x 1 columns]"
      ]
     },
     "execution_count": 128,
     "metadata": {},
     "output_type": "execute_result"
    }
   ],
   "source": [
    "importances_df = drop_col_feat_imp(rf_grid2, X_train, y_train, random_state = 42)\n",
    "importances_df.sort_index(ascending=False)\n",
    "# Installs is top driver, but very small time in comparison to \n",
    "# other feature importance checks"
   ]
  },
  {
   "cell_type": "markdown",
   "metadata": {},
   "source": [
    "#### **Learning:**\n",
    "Across dt_grid and rf_grid2, 5 out 6 feature importance checks highlight Review and Installs followed by Size of the app as model drivers.\n",
    "\n",
    "Although the model is not in a final versioning to be utilized in day-to-day decisions, the consistency from this version can be generally applied to say that marketing, promotion, and adoption of the app is foundationally important.\n",
    "\n",
    "VC would want CEOs with strong marketing background, a network with these skills, and/or teams that have this expertise."
   ]
  },
  {
   "cell_type": "markdown",
   "metadata": {},
   "source": [
    "### Analysis<a id=\"Analysis\"></a>\n",
    "\n",
    "Look into details of Installs, Reviews, and Size of apps that are Positively Rated in the data set (target = 1)."
   ]
  },
  {
   "cell_type": "markdown",
   "metadata": {},
   "source": [
    "#### Installs - most consistent driver <a id=\"Installs\"></a>"
   ]
  },
  {
   "cell_type": "code",
   "execution_count": 129,
   "metadata": {},
   "outputs": [],
   "source": [
    "# Map ordinal values back to original categorical values\n",
    "df['Installs'] = df['Installs'].map({0:'Less than 500',\n",
    "                                    1: '500+',\n",
    "                                    2: '1,000+',\n",
    "                                    3: '5,000+',\n",
    "                                    4: '10,000+',\n",
    "                                    5: '50,000+',\n",
    "                                    6: '100,000+',\n",
    "                                    7: '500,000+',\n",
    "                                    8: '1,000,000+',\n",
    "                                    9: '5,000,000+',\n",
    "                                    10: '10,000,000+',\n",
    "                                    11: '50,000,000+',\n",
    "                                    12: '100,000,000+',\n",
    "                                    13: '500,000,000+',\n",
    "                                    14: '1,000,000,000+'})"
   ]
  },
  {
   "cell_type": "code",
   "execution_count": 130,
   "metadata": {},
   "outputs": [],
   "source": [
    "# Filter down to only those with Positive Ratings (target = 1)\n",
    "installs_df = pd.DataFrame(df[df['Pos Rating'] == 1]['Installs'].value_counts()).reset_index()"
   ]
  },
  {
   "cell_type": "code",
   "execution_count": 131,
   "metadata": {},
   "outputs": [
    {
     "data": {
      "text/html": [
       "<div>\n",
       "<style scoped>\n",
       "    .dataframe tbody tr th:only-of-type {\n",
       "        vertical-align: middle;\n",
       "    }\n",
       "\n",
       "    .dataframe tbody tr th {\n",
       "        vertical-align: top;\n",
       "    }\n",
       "\n",
       "    .dataframe thead th {\n",
       "        text-align: right;\n",
       "    }\n",
       "</style>\n",
       "<table border=\"1\" class=\"dataframe\">\n",
       "  <thead>\n",
       "    <tr style=\"text-align: right;\">\n",
       "      <th></th>\n",
       "      <th>index</th>\n",
       "      <th>Installs</th>\n",
       "    </tr>\n",
       "  </thead>\n",
       "  <tbody>\n",
       "    <tr>\n",
       "      <th>0</th>\n",
       "      <td>10,000,000+</td>\n",
       "      <td>431</td>\n",
       "    </tr>\n",
       "    <tr>\n",
       "      <th>1</th>\n",
       "      <td>1,000,000+</td>\n",
       "      <td>418</td>\n",
       "    </tr>\n",
       "    <tr>\n",
       "      <th>2</th>\n",
       "      <td>100,000+</td>\n",
       "      <td>297</td>\n",
       "    </tr>\n",
       "    <tr>\n",
       "      <th>3</th>\n",
       "      <td>Less than 500</td>\n",
       "      <td>294</td>\n",
       "    </tr>\n",
       "    <tr>\n",
       "      <th>4</th>\n",
       "      <td>1,000+</td>\n",
       "      <td>276</td>\n",
       "    </tr>\n",
       "    <tr>\n",
       "      <th>5</th>\n",
       "      <td>10,000+</td>\n",
       "      <td>270</td>\n",
       "    </tr>\n",
       "    <tr>\n",
       "      <th>6</th>\n",
       "      <td>5,000,000+</td>\n",
       "      <td>190</td>\n",
       "    </tr>\n",
       "    <tr>\n",
       "      <th>7</th>\n",
       "      <td>100,000,000+</td>\n",
       "      <td>166</td>\n",
       "    </tr>\n",
       "    <tr>\n",
       "      <th>8</th>\n",
       "      <td>500,000+</td>\n",
       "      <td>158</td>\n",
       "    </tr>\n",
       "    <tr>\n",
       "      <th>9</th>\n",
       "      <td>5,000+</td>\n",
       "      <td>115</td>\n",
       "    </tr>\n",
       "    <tr>\n",
       "      <th>10</th>\n",
       "      <td>50,000+</td>\n",
       "      <td>111</td>\n",
       "    </tr>\n",
       "    <tr>\n",
       "      <th>11</th>\n",
       "      <td>50,000,000+</td>\n",
       "      <td>106</td>\n",
       "    </tr>\n",
       "    <tr>\n",
       "      <th>12</th>\n",
       "      <td>500+</td>\n",
       "      <td>90</td>\n",
       "    </tr>\n",
       "    <tr>\n",
       "      <th>13</th>\n",
       "      <td>500,000,000+</td>\n",
       "      <td>18</td>\n",
       "    </tr>\n",
       "    <tr>\n",
       "      <th>14</th>\n",
       "      <td>1,000,000,000+</td>\n",
       "      <td>14</td>\n",
       "    </tr>\n",
       "  </tbody>\n",
       "</table>\n",
       "</div>"
      ],
      "text/plain": [
       "             index  Installs\n",
       "0      10,000,000+       431\n",
       "1       1,000,000+       418\n",
       "2         100,000+       297\n",
       "3    Less than 500       294\n",
       "4           1,000+       276\n",
       "5          10,000+       270\n",
       "6       5,000,000+       190\n",
       "7     100,000,000+       166\n",
       "8         500,000+       158\n",
       "9           5,000+       115\n",
       "10         50,000+       111\n",
       "11     50,000,000+       106\n",
       "12            500+        90\n",
       "13    500,000,000+        18\n",
       "14  1,000,000,000+        14"
      ]
     },
     "execution_count": 131,
     "metadata": {},
     "output_type": "execute_result"
    }
   ],
   "source": [
    "# Preview new df\n",
    "installs_df"
   ]
  },
  {
   "cell_type": "code",
   "execution_count": 132,
   "metadata": {},
   "outputs": [
    {
     "name": "stderr",
     "output_type": "stream",
     "text": [
      "/opt/anaconda3/envs/learn-env/lib/python3.6/site-packages/ipykernel_launcher.py:9: SettingWithCopyWarning: \n",
      "A value is trying to be set on a copy of a slice from a DataFrame\n",
      "\n",
      "See the caveats in the documentation: http://pandas.pydata.org/pandas-docs/stable/user_guide/indexing.html#returning-a-view-versus-a-copy\n",
      "  if __name__ == '__main__':\n",
      "/opt/anaconda3/envs/learn-env/lib/python3.6/site-packages/ipykernel_launcher.py:7: SettingWithCopyWarning: \n",
      "A value is trying to be set on a copy of a slice from a DataFrame\n",
      "\n",
      "See the caveats in the documentation: http://pandas.pydata.org/pandas-docs/stable/user_guide/indexing.html#returning-a-view-versus-a-copy\n",
      "  import sys\n"
     ]
    }
   ],
   "source": [
    "# Create helper column that will put Install categories in order\n",
    "installs_df['Install Num'] = 0\n",
    "\n",
    "# For loop to place numerical versions of categories into Install Num column\n",
    "for row in installs_df.index:\n",
    "    if installs_df['index'][row] == 'Less than 500':\n",
    "        installs_df['Install Num'][row] = 500\n",
    "    else:\n",
    "        installs_df['Install Num'][row] = int(installs_df['index'][row][:-1].replace(',',''))"
   ]
  },
  {
   "cell_type": "code",
   "execution_count": 133,
   "metadata": {},
   "outputs": [],
   "source": [
    "# Sort by new Install Num helper column and reset the index\n",
    "installs_df = installs_df.sort_values(by='Install Num', ascending=True).reset_index(drop=True)"
   ]
  },
  {
   "cell_type": "code",
   "execution_count": 134,
   "metadata": {},
   "outputs": [],
   "source": [
    "# Drop helper column\n",
    "installs_df = installs_df.drop(columns='Install Num', axis=1)"
   ]
  },
  {
   "cell_type": "code",
   "execution_count": 135,
   "metadata": {
    "scrolled": true
   },
   "outputs": [
    {
     "data": {
      "image/png": "[encoded data removed]",
      "text/plain": [
       "<Figure size 1440x720 with 1 Axes>"
      ]
     },
     "metadata": {
      "needs_background": "light"
     },
     "output_type": "display_data"
    }
   ],
   "source": [
    "# Plot bar chart with counts per category\n",
    "x = installs_df['index']\n",
    "y = installs_df['Installs']\n",
    "plt.figure (figsize=(20,10))\n",
    "plt.bar(x, y, color='lightskyblue')\n",
    "plt.title('Positive Rated Apps by Install Count', fontsize=20, fontweight=\"bold\")\n",
    "plt.xlabel('Install Count', fontsize=14)\n",
    "plt.xticks(rotation=90, fontsize=14)\n",
    "plt.ylabel('Number of Positive Rated Apps', fontsize=14)\n",
    "plt.yticks(fontsize=14)\n",
    "plt.savefig(\"images/1_install_count_for_pos_apps\")\n",
    "plt.show()\n",
    "# Not necessarily more installs = more positively reviewed app\n",
    "# 1mm-1.5mm installs is sweet spot\n",
    "# 10mm-50mm installs has second most (much larger range)\n",
    "# More installs leaves more room for negative reviews"
   ]
  },
  {
   "cell_type": "markdown",
   "metadata": {},
   "source": [
    "#### Reviews - strongest and second most consistent driver (5 out of 6)<a id=\"Revs\"></a>"
   ]
  },
  {
   "cell_type": "code",
   "execution_count": 136,
   "metadata": {},
   "outputs": [],
   "source": [
    "# Filter down to only those with Positive Ratings (target = 1)\n",
    "pos_rated = df[df['Pos Rating'] == 1]"
   ]
  },
  {
   "cell_type": "code",
   "execution_count": 137,
   "metadata": {},
   "outputs": [
    {
     "data": {
      "text/plain": [
       "count        2954.000000\n",
       "mean       784696.629316\n",
       "std       3827048.578984\n",
       "min             1.000000\n",
       "25%           100.000000\n",
       "50%          8358.500000\n",
       "75%        172508.000000\n",
       "max      66577446.000000\n",
       "Name: Reviews, dtype: object"
      ]
     },
     "execution_count": 137,
     "metadata": {},
     "output_type": "execute_result"
    }
   ],
   "source": [
    "# Explore Reviews distribution\n",
    "pos_rated['Reviews'].describe().apply(lambda x: format(x, 'f'))"
   ]
  },
  {
   "cell_type": "code",
   "execution_count": 138,
   "metadata": {},
   "outputs": [],
   "source": [
    "less_than_two_mm = pos_rated[pos_rated['Reviews'] <= 2000000]['Reviews']"
   ]
  },
  {
   "cell_type": "code",
   "execution_count": 139,
   "metadata": {},
   "outputs": [
    {
     "data": {
      "text/plain": [
       "0.9285714285714286"
      ]
     },
     "execution_count": 139,
     "metadata": {},
     "output_type": "execute_result"
    }
   ],
   "source": [
    "len(less_than_two_mm)/2954"
   ]
  },
  {
   "cell_type": "code",
   "execution_count": 140,
   "metadata": {},
   "outputs": [
    {
     "data": {
      "image/png": "[encoded data removed]",
      "text/plain": [
       "<Figure size 1440x720 with 1 Axes>"
      ]
     },
     "metadata": {
      "needs_background": "light"
     },
     "output_type": "display_data"
    }
   ],
   "source": [
    "# Plot 92% of Positively Rated Reviews population\n",
    "plt.figure(figsize=(20,10))\n",
    "sns.boxplot(less_than_two_mm)\n",
    "plt.title('Distribution of Reviews for Positive Rated Apps', fontsize=20, fontweight=\"bold\")\n",
    "plt.xlabel('Number of Reviews', fontsize=14)\n",
    "plt.xticks(rotation=45, fontsize=14)\n",
    "plt.savefig(\"images/2_review_dist_for_pos_apps\")\n",
    "plt.show()"
   ]
  },
  {
   "cell_type": "code",
   "execution_count": 141,
   "metadata": {},
   "outputs": [
    {
     "data": {
      "text/plain": [
       "0.7071767095463778"
      ]
     },
     "execution_count": 141,
     "metadata": {},
     "output_type": "execute_result"
    }
   ],
   "source": [
    "# What % is accounted for less than or equal to 100k reviews\n",
    "len(pos_rated[pos_rated['Reviews'] <=100000])/2954"
   ]
  },
  {
   "cell_type": "code",
   "execution_count": 142,
   "metadata": {},
   "outputs": [],
   "source": [
    "# Create filtered df\n",
    "reviews_zoom = pos_rated[pos_rated['Reviews'] <=100000]"
   ]
  },
  {
   "cell_type": "code",
   "execution_count": 143,
   "metadata": {
    "scrolled": false
   },
   "outputs": [
    {
     "data": {
      "text/plain": [
       "<matplotlib.axes._subplots.AxesSubplot at 0x7ff755c12748>"
      ]
     },
     "execution_count": 143,
     "metadata": {},
     "output_type": "execute_result"
    },
    {
     "data": {
      "image/png": "[encoded data removed]",
      "text/plain": [
       "<Figure size 1440x720 with 1 Axes>"
      ]
     },
     "metadata": {
      "needs_background": "light"
     },
     "output_type": "display_data"
    }
   ],
   "source": [
    "# Plot this 70%\n",
    "plt.figure(figsize=(20, 10))\n",
    "sns.distplot(reviews_zoom['Reviews'])"
   ]
  },
  {
   "cell_type": "code",
   "execution_count": 144,
   "metadata": {},
   "outputs": [],
   "source": [
    "# Spike is on lowest end, create further filtered df\n",
    "reviews_zoom2 = pos_rated[pos_rated['Reviews'] <=500]"
   ]
  },
  {
   "cell_type": "code",
   "execution_count": 145,
   "metadata": {},
   "outputs": [
    {
     "data": {
      "text/plain": [
       "0.33818551117129314"
      ]
     },
     "execution_count": 145,
     "metadata": {},
     "output_type": "execute_result"
    }
   ],
   "source": [
    "len(reviews_zoom2)/2954"
   ]
  },
  {
   "cell_type": "code",
   "execution_count": 146,
   "metadata": {
    "scrolled": true
   },
   "outputs": [
    {
     "data": {
      "image/png": "[encoded data removed]",
      "text/plain": [
       "<Figure size 1440x720 with 1 Axes>"
      ]
     },
     "metadata": {
      "needs_background": "light"
     },
     "output_type": "display_data"
    }
   ],
   "source": [
    "# Plot the 34%\n",
    "plt.figure(figsize=(20, 10))\n",
    "sns.distplot(reviews_zoom2['Reviews'], hist=True)\n",
    "plt.title('Zoomed Distribution of Reviews for Positive Rated Apps', fontsize=20, fontweight=\"bold\")\n",
    "plt.xlabel('Number of Reviews', fontsize=14)\n",
    "plt.xticks(rotation=45, fontsize=14)\n",
    "plt.savefig(\"images/3_review_dist_zoom_for_pos_apps\")\n",
    "plt.show()"
   ]
  },
  {
   "cell_type": "markdown",
   "metadata": {},
   "source": [
    "#### **Learning:**\n",
    "Plots above are showing that the apps with positive ratings are the ones with 0-20 reviews. This could be a space for further iteration as the logic does not check out that higher installs, but very low number of reviews predict a successful app."
   ]
  },
  {
   "cell_type": "markdown",
   "metadata": {},
   "source": [
    "#### Size - third most consistent driver <a id=\"Size\"></a>"
   ]
  },
  {
   "cell_type": "code",
   "execution_count": 147,
   "metadata": {
    "scrolled": false
   },
   "outputs": [
    {
     "data": {
      "text/plain": [
       "count      2954.000000\n",
       "mean      19818.388795\n",
       "std       24058.485396\n",
       "min           0.000000\n",
       "25%        3000.000000\n",
       "50%       10000.000000\n",
       "75%       26750.000000\n",
       "max      100000.000000\n",
       "Name: Size Trans, dtype: float64"
      ]
     },
     "execution_count": 147,
     "metadata": {},
     "output_type": "execute_result"
    }
   ],
   "source": [
    "# Review distribution of Size Trans which is Size in kb\n",
    "pos_rated['Size Trans'].describe()\n",
    "# 0 means varies by device and this would drag down mean\n",
    "# Opportunity to edit this in further model development\n",
    "# Mean is 2x that of median so have extreme outliers (high end)"
   ]
  },
  {
   "cell_type": "code",
   "execution_count": 148,
   "metadata": {},
   "outputs": [
    {
     "data": {
      "text/plain": [
       "count      2459.000000\n",
       "mean      23807.857056\n",
       "std       24502.125727\n",
       "min           8.500000\n",
       "25%        5700.000000\n",
       "50%       14000.000000\n",
       "75%       32000.000000\n",
       "max      100000.000000\n",
       "Name: Size Trans, dtype: float64"
      ]
     },
     "execution_count": 148,
     "metadata": {},
     "output_type": "execute_result"
    }
   ],
   "source": [
    "# Review distribution of Size Trans which is Size in kb of those that\n",
    "pos_rated[pos_rated['Size Trans'] !=0]['Size Trans'].describe()\n",
    "# Mean is 1.5x that of median so have outliers (high end)"
   ]
  },
  {
   "cell_type": "code",
   "execution_count": 149,
   "metadata": {
    "scrolled": true
   },
   "outputs": [
    {
     "data": {
      "image/png": "[encoded data removed]",
      "text/plain": [
       "<Figure size 1440x720 with 1 Axes>"
      ]
     },
     "metadata": {
      "needs_background": "light"
     },
     "output_type": "display_data"
    }
   ],
   "source": [
    "# Visualize distribution\n",
    "plt.figure(figsize=(20,10))\n",
    "sns.boxplot(df['Size Trans'])\n",
    "plt.title('Distribution of Size in Kilobytes (kb) for Positive Rated Apps', fontsize=20, fontweight=\"bold\")\n",
    "plt.xlabel('Size in Kilobytes (kb)', fontsize=14)\n",
    "plt.xticks(rotation=45, fontsize=14)\n",
    "plt.savefig(\"images/4_size_dist_for_pos_apps\")\n",
    "plt.show()\n",
    "# 3,000-26,750 kbs is general range\n",
    "# 10,000 kbs median\n",
    "# average Android app is 14,600 kbs - more advanced phones with more baseline storage\n",
    "# probably enabled this growth/support of larger apps\n",
    "# source: https://shafi.com.au/mobile%20apps%20facts/iphone/android/big%204%20bank/2020/01/06/mobile-apps-fact-file-size.html"
   ]
  },
  {
   "cell_type": "code",
   "execution_count": 150,
   "metadata": {},
   "outputs": [
    {
     "data": {
      "text/plain": [
       "array(['Tickets + PDA 2018 Exam', 'auto fines',\n",
       "       'Used car is the first car - used car purchase, used car quotation, dealer information to',\n",
       "       'ipsy: Makeup, Beauty, and Tips',\n",
       "       'Sephora: Skin Care, Beauty Makeup & Fragrance Shop',\n",
       "       'Free Books - Spirit Fanfiction and Stories',\n",
       "       'ReadEra – free ebook reader', 'eBoox: book reader fb2 epub zip',\n",
       "       'Job Search by ZipRecruiter', 'Google Analytics',\n",
       "       'Google Analytics',\n",
       "       'GANMA! - All original stories free of charge for all original comics',\n",
       "       'Tapas – Comics, Novels, and Stories', 'Should I Answer?',\n",
       "       'Email TypeApp - Mail App', 'Learn Spanish - Español',\n",
       "       'English for beginners', 'Flame - درب عقلك يوميا',\n",
       "       'Learn Japanese, Korean, Chinese Offline & Free',\n",
       "       'PINKFONG Baby Shark', 'Udemy - Online Courses',\n",
       "       'edX - Online Courses by Harvard, MIT & more',\n",
       "       'Udemy - Online Courses', 'Learn C++', 'Learn JavaScript',\n",
       "       'Learn Java', 'Learn HTML', 'Learn SQL',\n",
       "       'Socratic - Math Answers & Homework Help',\n",
       "       'Udemy - Online Courses',\n",
       "       'edX - Online Courses by Harvard, MIT & more',\n",
       "       'LinkedIn Learning: Online Courses to Learn Skills',\n",
       "       'Learn English with Aco',\n",
       "       'Socratic - Math Answers & Homework Help',\n",
       "       'SoloLearn: Learn to Code for Free',\n",
       "       '🔥 Football Wallpapers 4K | Full HD Backgrounds 😍',\n",
       "       'Low Poly – Puzzle art game', 'Investigation Discovery GO',\n",
       "       'Vivid Seats – Event Tickets',\n",
       "       'Gametime - Tickets to Sports, Concerts, Theater', 'IKO',\n",
       "       'BZWBK24 mobile', 'Post Bank', 'Monefy - Money Manager',\n",
       "       'Experian - Free Credit Report', 'Branch',\n",
       "       'CreditWise from Capital One', 'Fresh EBT - Food Stamp Balance',\n",
       "       'Mobills: Budget Planner',\n",
       "       'MileIQ - Free Mileage Tracker for Business',\n",
       "       'MSN Money- Stock Quotes & News',\n",
       "       'DELISH KITCHEN - FREE recipe movies make food fun and easy!',\n",
       "       'Eat Fast Prepare \"Without Internet\"',\n",
       "       'Yummly Recipes & Shopping List', 'Seamless Food Delivery/Takeout',\n",
       "       'Pedometer - Step Counter Free & Calorie Burner',\n",
       "       'Sportractive GPS Running Cycling Distance Tracker',\n",
       "       'Home Workout for Men - Bodybuilding', 'Sleep Sounds',\n",
       "       'Calorie Counter - EasyFit free', 'Weight Loss Running by Verv',\n",
       "       'StrongLifts 5x5 Workout Gym Log & Personal Trainer',\n",
       "       'Fitbit Coach', 'Map My Ride GPS Cycling Riding',\n",
       "       'Weight Loss Running by Verv', 'Meditate OM',\n",
       "       'Meditation Music - Relax, Yoga', 'I’m Expecting - Pregnancy App',\n",
       "       'The Bump Pregnancy Tracker',\n",
       "       'Best Ovulation Tracker Fertility Calendar App Glow',\n",
       "       'Eve Period Tracker - Love, Sex & Relationships App',\n",
       "       'Fertility Friend Ovulation App',\n",
       "       'Runtastic Mountain Bike GPS Tracker',\n",
       "       'Weight Loss Running by Verv', 'Couch to 5K by RunDouble',\n",
       "       'Fitbit Coach', 'Calorie Counter - MyNetDiary',\n",
       "       'MyPlate Calorie Tracker', 'Calorie Counter - MyNetDiary',\n",
       "       'MyPlate Calorie Tracker', 'Meditation Music - Relax, Yoga',\n",
       "       'Prana Breath: Calm & Meditate',\n",
       "       'Apartment List: Housing, Apt, and Property Rentals',\n",
       "       'Redfin Real Estate', 'Redfin Real Estate',\n",
       "       'Apartment List: Housing, Apt, and Property Rentals',\n",
       "       'Cool Popular Ringtones 2018 🔥', 'ZenUI Safeguard',\n",
       "       'Tattoodo - Find your next tattoo',\n",
       "       'Super Slime Simulator - Satisfying Slime App',\n",
       "       'JOANN - Crafts & Coupons', 'justWink Greeting Cards',\n",
       "       'JOANN - Crafts & Coupons', 'Nature Sounds', 'White Noise Baby',\n",
       "       'Super Jim Jump - pixel 3d', 'Super Jim Jump - pixel 3d',\n",
       "       'Woody Puzzle', 'Looper!', 'Mad Skills BMX 2',\n",
       "       'MLB TAP SPORTS BASEBALL 2018',\n",
       "       'Ice Crush 2018 - A new Puzzle Matching Adventure',\n",
       "       'SHADOWGUN LEGENDS', 'Chapters: Interactive Stories',\n",
       "       'Honkai Impact 3rd', 'Honkai Impact 3rd',\n",
       "       'Super Jim Jump - pixel 3d', 'Jewels Star: OZ adventure',\n",
       "       'Once Upon a Tower', 'Jewels Star: OZ adventure',\n",
       "       'Super ABC! Learning games for kids! Preschool apps',\n",
       "       'Toy Pop Cubes', 'Candy Pop Story', 'Candy Smash',\n",
       "       'Puzzle Kids - Animals Shapes and Jigsaw Puzzles', 'Candy Day',\n",
       "       'Learn To Draw Glow Princess', 'Educational Games for Kids',\n",
       "       'Super ABC! Learning games for kids! Preschool apps',\n",
       "       'Drawing for Kids Learning Games for Toddlers age 3',\n",
       "       'LEGO® Friends: Heartlake Rush',\n",
       "       'Baby ABC in box! Kids alphabet games for toddlers!',\n",
       "       'Henry Danger Crime Warp', 'Toddler Kids Puzzles PUZZINGO',\n",
       "       'Leo and Tig', 'My Oasis - Calming and Relaxing Idle Clicker Game',\n",
       "       'Monster High™ Minis Mania', 'GoodRx Drug Prices and Coupons',\n",
       "       'FollowMyHealth®',\n",
       "       'Ovia Pregnancy Tracker & Baby Countdown Calendar',\n",
       "       'Pregnancy Week By Week',\n",
       "       'Ovia Fertility Tracker & Ovulation Calculator',\n",
       "       '1800 Contacts - Lens Store', 'Ada - Your Health Guide',\n",
       "       'mySugr: the blood sugar tracker made just for you',\n",
       "       'Pregnancy Calculator and Tracker app', 'Period Tracker',\n",
       "       'Anatomy Learning - 3D Atlas',\n",
       "       'mySugr: the blood sugar tracker made just for you',\n",
       "       'Ada - Your Health Guide',\n",
       "       'Ovia Fertility Tracker & Ovulation Calculator',\n",
       "       '1800 Contacts - Lens Store', 'Jodel - The Hyperlocal App',\n",
       "       'Love Sticker', '💘 WhatsLov: Smileys of love, stickers and GIF',\n",
       "       'Moment', 'Horn, free country requirements', 'Life market', 'Nike',\n",
       "       'Ebates: Cash Back, Coupons, Rewards & Savings',\n",
       "       'Slickdeals: Coupons & Shopping', 'Wanelo Shopping',\n",
       "       'Wanelo Shopping', 'Receipt Hog - Receipts to Cash',\n",
       "       'Newegg Mobile', 'Slickdeals: Coupons & Shopping',\n",
       "       'FreePrints – Free Photos Delivered',\n",
       "       'LALALAB prints your photos, photobooks and magnets',\n",
       "       'HD Camera - Quick Snap Photo & Video', 'Waterfall Photo Frames',\n",
       "       'Makeup Editor -Beauty Photo Editor & Selfie Camera',\n",
       "       'Selfie Camera: Beauty Camera, Photo Editor,Collage',\n",
       "       'Night Photo Frame', 'Selfie Photo Editor', 'Kids Photo Frames',\n",
       "       'FilterGrid - Cam&Photo Editor', 'Telemundo Deportes - Live',\n",
       "       'FanDuel: Daily Fantasy Sports',\n",
       "       'DraftKings - Daily Fantasy Sports',\n",
       "       'Yahoo Sports - scores, stats, news, & highlights',\n",
       "       'Yahoo Sports - scores, stats, news, & highlights',\n",
       "       'Yahoo Sports - scores, stats, news, & highlights',\n",
       "       'Yoriza Pension - travel, lodging, pension, camping, caravan, pool villas accommodation discount',\n",
       "       'Moto Suggestions ™', \"I Can't Wake Up! Alarm Clock\",\n",
       "       'Calculator with Percent (Free)', 'Unit Converter',\n",
       "       'Calculator ++', 'Speedcheck', 'Launcher',\n",
       "       'Birds Sounds Ringtones & Wallpapers',\n",
       "       'Funny Alarm Clock Ringtones',\n",
       "       'Color Call - Caller Screen, LED Flash', 'Goku Wallpaper Art',\n",
       "       'Cute wallpapers & kawaii backgrounds images', 'Wallpaper',\n",
       "       'Power Booster - Junk Cleaner & CPU Cooler & Boost',\n",
       "       'Loop - Habit Tracker', 'Pushbullet - SMS on PC',\n",
       "       'Solid Explorer Classic', 'JotterPad - Writer, Screenplay, Novel',\n",
       "       'New Calendar', 'Baby Sleep: White noise lullabies for newborns',\n",
       "       'Feed Baby - Baby Tracker', 'Weather forecast',\n",
       "       'weather - weather forecast',\n",
       "       'Live Weather & Daily Local Weather Forecast',\n",
       "       'HD Movie Video Player',\n",
       "       'Video Editor,Crop Video,Movie Video,Music,Effects',\n",
       "       'Video.Guru - Video Maker', 'daily News',\n",
       "       'Free TV Shows App:News, TV Series, Episode, Movies',\n",
       "       'BaBe Lite - Read Quota Saving News', 'РИА Новости',\n",
       "       'Podcast App: Free & Offline Podcasts by Player FM',\n",
       "       'RT News (Russia Today)', 'AP Mobile - Breaking News',\n",
       "       'Mapy.cz - Cycling & Hiking offline maps',\n",
       "       'Karta GPS - Offline Navigation', 'Snapp',\n",
       "       'GPS Speedometer and Odometer',\n",
       "       'Trucker Path – Truck Stops & Weigh Stations',\n",
       "       'GPS Speedometer, Distance Meter',\n",
       "       'Color by Number - Draw Sandbox Pixel Art', 'STARDOM: THE A-LIST',\n",
       "       'Learn C++', 'CPlus for Craigslist - Officially Licensed',\n",
       "       'Cut the Rope GOLD', 'EXO-L',\n",
       "       \"French to English Speaking - Apprendre l' Anglais\",\n",
       "       'Mobizen Screen Recorder for LG - Record, Capture',\n",
       "       'I’m Expecting - Pregnancy App', \"Drag'n'Boom\",\n",
       "       'S Player - Lightest and Most Powerful Video Player',\n",
       "       'U LIVE – Video Chat & Stream', 'Flashlight X', 'iSwipe Phone X',\n",
       "       'Anime X Wallpaper', 'Robocar X Ray',\n",
       "       'Space X: Sky Wars of Air Force', 'Flashlight Ultimate',\n",
       "       'Z Champions', 'Ultimate Ab & Core Workouts',\n",
       "       'Abs workout - 21 Day Fitness Challenge', 'Replika',\n",
       "       'Orbita AI — Exciting mobile puzzles & riddles',\n",
       "       'Lyra Virtual Assistant', 'Weapon stripping 3D',\n",
       "       'Al Quran Al karim', 'Al Quran Audio (Full 30 Juz)',\n",
       "       'Koran Read &MP3 30 Juz Offline', 'Al Quran MP3 - Quran Reading®',\n",
       "       'Hafizi Quran 15 lines per page', \"Vikings: an Archer's Journey\",\n",
       "       'The PCH App', 'Virtual lover',\n",
       "       'Princess Closet : Otome games free dating sim',\n",
       "       'AP Mobile - Breaking News', 'QuickShortcutMaker',\n",
       "       'Questland: Turn Based RPG',\n",
       "       'Grow Stone Online : 2d pixel RPG, MMORPG game',\n",
       "       'Sleep as Android Unlock', 'Seen', \"Five Nights at Freddy's\",\n",
       "       'Bitdefender Antivirus Free', 'OK K.O.! Lakewood Plaza Turbo',\n",
       "       'mySugr: the blood sugar tracker made just for you',\n",
       "       'ALL-IN-ONE PACKAGE TRACKING', 'B&H Photo Video Pro Audio',\n",
       "       'Newegg Mobile', 'Lesbian Chat & Dating - SPICY',\n",
       "       'Bingo Party - Free Bingo Games', 'WebComics',\n",
       "       'Go-Go-Goat! Free Game',\n",
       "       'Brilliant Quotes: Life, Love, Family & Motivation',\n",
       "       'Simple Gallery', 'Battery Notifier BT Free',\n",
       "       'Pu - Cute giant panda bear, baby pet care game', 'Hypocam',\n",
       "       'Sandbox Art-Sandbox Color by Number Coloring Pages',\n",
       "       'Color By Number - Sandbox Pixel Coloring Book',\n",
       "       'PixelDot - Color by Number Sandbox Pixel Art',\n",
       "       'PixPanda - Color by Number Pixel Art Coloring Book',\n",
       "       'PixBox Coloring - Color by number Sandbox',\n",
       "       'Draw Color by Number - Sandbox Pixel Art',\n",
       "       'Color by Number: Pixel Art',\n",
       "       'Voxel - 3D Color by Number & Pixel Coloring Book',\n",
       "       'No.Diamond – Colors by Number', 'BZ Reminder', 'BZWBK24 mobile',\n",
       "       'Sonic CD Classic', 'CKZ ORIGINS',\n",
       "       'CM Security Open VPN - Free, fast unlimited proxy',\n",
       "       'Speed Booster - Ram, Battery & Game Speed Booster', 'Ruler',\n",
       "       'Cartoon Network Match Land', 'Surely You Quest - Magiswords',\n",
       "       'We Bare Bears Match3 Repairs',\n",
       "       'Champions and Challengers - Adventure Time',\n",
       "       'Dots & Co: A Puzzle Adventure', 'Poke Genie - Safe IV Calculator',\n",
       "       'IV Go（get IV for Pokemon）',\n",
       "       'ClanPlay: Community and Tools for Gamers', 'Calcy IV',\n",
       "       'Ultimate Clash Royale Tracker', 'Stats Royale for Clash Royale',\n",
       "       'Ultimate Chest Tracker', 'Resume Free',\n",
       "       'Cymath - Math Problem Solver', 'Army of Heroes',\n",
       "       'Mapy.cz - Cycling & Hiking offline maps', \"The Zueira's Voice\",\n",
       "       'Krazy Coupon Lady', 'Pocket Heroes', 'Fancy Pants Adventures',\n",
       "       '+Download 4 Instagram Twitter', 'TorrDroid - Torrent Downloader',\n",
       "       'Guardian Hunter: SuperBrawlRPG', 'NoteToDo. Notes. To do list',\n",
       "       'Notes : Colorful Notepad Note,To Do,Reminder,Memo',\n",
       "       'The Walking Zombie: Dead City', 'Dr. Parker : Parking Simulator',\n",
       "       'Dr. Parker : Real car parking simulation',\n",
       "       'Dr. Battery - Fast Charger - Super Cleaner 2018',\n",
       "       'DraStic DS Emulator', 'Bloons TD 5',\n",
       "       'DU Launcher - Boost Your Phone', 'Lost Journey (Dreamsky)',\n",
       "       'English Conversation Courses', 'EGW Writings',\n",
       "       'Disaster Will Strike', 'Exiled Kingdoms RPG', 'El Falı',\n",
       "       'The translator', 'The Holy Rosary', \"Connect'Em\",\n",
       "       'Telemundo Deportes - En Vivo', 'Learn Top 300 English Words',\n",
       "       'Masha and the Bear. Games for kids',\n",
       "       'Masha and The Bear Jam Day Match 3 games for kids',\n",
       "       \"Where's My Water?\", 'Masha and the Bear: Good Night!',\n",
       "       'Masha and the Bear: Climb Racing and Car Games',\n",
       "       'FilterGrid - Cam&Photo Editor', 'Friendly for Facebook',\n",
       "       'FC Bayern Munich', 'Chelsea FC Official Keyboard',\n",
       "       'Financial Calculator India', 'Burn Your Fat With Me! FG',\n",
       "       'Lotto Results - Mega Millions Powerball Lottery US',\n",
       "       'Podcast App: Free & Offline Podcasts by Player FM',\n",
       "       'Magnum 3.0 Gun Custom SImulator',\n",
       "       'Slickdeals: Coupons & Shopping',\n",
       "       'Inf VPN - Global Proxy & Unlimited Free WIFI VPN',\n",
       "       'Fuel Rewards® program', 'Castle Clash: RPG War and Strategy FR'],\n",
       "      dtype=object)"
      ]
     },
     "execution_count": 150,
     "metadata": {},
     "output_type": "execute_result"
    }
   ],
   "source": [
    "# Cite some apps  in presentation\n",
    "# Sephora, SlickDeals, Fuel Rewards, Udemy - Online Courses\n",
    "# LinkedIn Learning: Online Courses to Learn Skills, Fitbit Coach\n",
    "# Redfin Real Estate, JOANN - Crafts & Coupons\n",
    "pos_rated[(pos_rated['Installs'] == '1,000,000+') & \n",
    "         (pos_rated['Size Trans'] !=0)]['App'].values\n",
    "# Can see from values that there are app records duplicated\n",
    "# Another opportunity to better model\n",
    "# Also can visit correlations - some Genres and Categories are named the same\n",
    "# Opportunity to bucket or just use one for more focused impact on model"
   ]
  },
  {
   "cell_type": "markdown",
   "metadata": {},
   "source": [
    "## Data Analysis Learnings <a id=\"DAL\"></a>\n",
    "\n",
    "When looking across the two most successful models an app's number of installs and number of reviews were the biggest drivers along with the size of the app.\n",
    "\n",
    "When looking at installs, the story is not necessarily the more installs an app has, the likely the app is positively reviewed. According to the Google Play Store data used, an app that has 1 million to 5 million installs is the sweet spot. In second, but with a much larger range is the 10 million to 50 million installs bucket. This is interesting as these were not the greatest number of installs. There were an additional four buckets 50 million all the way up to 1 billion. Conceptually, the more installs an app gets, there could be  higher likelihood of negative reviews that can pull the app rating down. Recommend getting more app store data for higher installed apps for model to learn further.\n",
    "\n",
    "Further analysis on the number of reviews for positively rated apps led us to an opportunity for further model improvement. Plotting showed that the apps with positive ratings are the ones with 0-20 reviews. This could be a space for further iteration as the logic does not check out that higher installs, but very low number of reviews predict a successful app.\n",
    "\n",
    "Size was a feature that was tested with consistently in this process and in the final model iterations ended up as a translation of the size into kilobytes. On the other hand, there were many apps that had a size that varied based on the device. These values were left at 0 and this showed up in plotting the app sizes that are most tied to positively rated apps. For those that _had_ a defined size, 3,000-26,750 kbs was the range with a median of 10,000kbs. In researching further, the average android app is 11,500kbs, so our data is similarly aligned\n",
    "[(source)](https://sweetpricing.com/blog/2017/02/average-app-file-size/#:~:text=Of%20all%20mobile%20apps%20published,file%20size%20is%2034.3MB). This sizing includes apps like: Sephora, SlickDeals, Fuel Rewards, LinkedIn Learning, Fitbit Coach, and Redfin Real Estate. In looking for relevant apps in that size range to understand functionality capabilities, it was found that there are duplicates in the dataset. The recommendation for further development would be to spend time deduplicating. The closest thing to an ID is the app name, but would also need to do comparisons on other columns to see if there are variations in the other feature values. Additionally going back to the apps that had a size that varied with devices, the recommendation would be to find additional data to support a true size translation for the particular app or to utilize the median size from this dataset."
   ]
  },
  {
   "cell_type": "markdown",
   "metadata": {},
   "source": [
    "## Conclusion\n",
    "\n",
    "### Recommendations On Model Utilization:<a id=\"REC\"></a>\n",
    "\n",
    "Although the model is not in a final versioning to be utilized in day-to-day decisions, the consistency from this version can be generally applied to say that marketing, promotion, and adoption of the app is foundationally important.\n",
    "\n",
    "Along with the technical aptitude for efficient app development, the VC would want CEOs with strong marketing background, a network with these skills, and/or teams that have this expertise.\n",
    "    \n",
    "\n",
    "### Future Work<a id=\"FW\"></a>\n",
    "\n",
    "#### Internal VC Operations\n",
    "VC should take the themes from the model and emphasize, in addition to the technical teams building and supporting the app, a\" strong marketing capabilities. This can be translated into applications for funding, questions for in-person pitching, and more advanced personal interviews further down the line. It can also be applied as an approach in targeting organizations with these characteristics for VC investment.\n",
    "\n",
    "#### Additional Data Analysis and Modeling\n",
    "Further model iteration is needed from the data perspective. This includes opportunities to fold in more Google Play Store data (is it scrapeable? get more data for high install apps 50 million+, app age), continue to cleanse the current data (duplicates and additional size research and assignment), and revisit the number of reviews feature in the model to understand what is causing 0-20 reviews to pop as a consistent driving factor for a positively rated app. Finessing the model in these ways can aid not only in increasing priority scoring like recall, but with additional data features like age, can create post-funding goals for the app companies to achieve like install and review count milestones."
   ]
  }
 ],
 "metadata": {
  "kernelspec": {
   "display_name": "Python 3",
   "language": "python",
   "name": "python3"
  },
  "language_info": {
   "codemirror_mode": {
    "name": "ipython",
    "version": 3
   },
   "file_extension": ".py",
   "mimetype": "text/x-python",
   "name": "python",
   "nbconvert_exporter": "python",
   "pygments_lexer": "ipython3",
   "version": "3.6.9"
  }
 },
 "nbformat": 4,
 "nbformat_minor": 4
}
