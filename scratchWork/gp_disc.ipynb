{
 "cells": [
  {
   "cell_type": "markdown",
   "metadata": {},
   "source": [
    "### Goal is high recall\n",
    "- False positive - an app is going to be highly rated and it isn’t \n",
    "    - Investing in the wrong thing that has less change of being successful\u000b",
    "\n",
    "- False negative - an app is predicted not highly rated and it actually would be\n",
    "    - Would lose out on bringing app to world\n",
    "    \n",
    "Want to be better at weeding out False Negatives aka be best at True Positives. This is Recall."
   ]
  },
  {
   "cell_type": "code",
   "execution_count": 1,
   "metadata": {},
   "outputs": [],
   "source": [
    "# Import\n",
    "import pandas as pd\n",
    "import matplotlib.pyplot as plt\n",
    "import numpy as np\n",
    "import seaborn as sns"
   ]
  },
  {
   "cell_type": "code",
   "execution_count": 2,
   "metadata": {},
   "outputs": [
    {
     "data": {
      "text/html": [
       "<div>\n",
       "<style scoped>\n",
       "    .dataframe tbody tr th:only-of-type {\n",
       "        vertical-align: middle;\n",
       "    }\n",
       "\n",
       "    .dataframe tbody tr th {\n",
       "        vertical-align: top;\n",
       "    }\n",
       "\n",
       "    .dataframe thead th {\n",
       "        text-align: right;\n",
       "    }\n",
       "</style>\n",
       "<table border=\"1\" class=\"dataframe\">\n",
       "  <thead>\n",
       "    <tr style=\"text-align: right;\">\n",
       "      <th></th>\n",
       "      <th>App</th>\n",
       "      <th>Category</th>\n",
       "      <th>Rating</th>\n",
       "      <th>Reviews</th>\n",
       "      <th>Size</th>\n",
       "      <th>Installs</th>\n",
       "      <th>Type</th>\n",
       "      <th>Price</th>\n",
       "      <th>Content Rating</th>\n",
       "      <th>Genres</th>\n",
       "      <th>Last Updated</th>\n",
       "      <th>Current Ver</th>\n",
       "      <th>Android Ver</th>\n",
       "    </tr>\n",
       "  </thead>\n",
       "  <tbody>\n",
       "    <tr>\n",
       "      <th>0</th>\n",
       "      <td>Photo Editor &amp; Candy Camera &amp; Grid &amp; ScrapBook</td>\n",
       "      <td>ART_AND_DESIGN</td>\n",
       "      <td>4.1</td>\n",
       "      <td>159</td>\n",
       "      <td>19M</td>\n",
       "      <td>10,000+</td>\n",
       "      <td>Free</td>\n",
       "      <td>0</td>\n",
       "      <td>Everyone</td>\n",
       "      <td>Art &amp; Design</td>\n",
       "      <td>January 7, 2018</td>\n",
       "      <td>1.0.0</td>\n",
       "      <td>4.0.3 and up</td>\n",
       "    </tr>\n",
       "    <tr>\n",
       "      <th>1</th>\n",
       "      <td>Coloring book moana</td>\n",
       "      <td>ART_AND_DESIGN</td>\n",
       "      <td>3.9</td>\n",
       "      <td>967</td>\n",
       "      <td>14M</td>\n",
       "      <td>500,000+</td>\n",
       "      <td>Free</td>\n",
       "      <td>0</td>\n",
       "      <td>Everyone</td>\n",
       "      <td>Art &amp; Design;Pretend Play</td>\n",
       "      <td>January 15, 2018</td>\n",
       "      <td>2.0.0</td>\n",
       "      <td>4.0.3 and up</td>\n",
       "    </tr>\n",
       "    <tr>\n",
       "      <th>2</th>\n",
       "      <td>U Launcher Lite – FREE Live Cool Themes, Hide ...</td>\n",
       "      <td>ART_AND_DESIGN</td>\n",
       "      <td>4.7</td>\n",
       "      <td>87510</td>\n",
       "      <td>8.7M</td>\n",
       "      <td>5,000,000+</td>\n",
       "      <td>Free</td>\n",
       "      <td>0</td>\n",
       "      <td>Everyone</td>\n",
       "      <td>Art &amp; Design</td>\n",
       "      <td>August 1, 2018</td>\n",
       "      <td>1.2.4</td>\n",
       "      <td>4.0.3 and up</td>\n",
       "    </tr>\n",
       "    <tr>\n",
       "      <th>3</th>\n",
       "      <td>Sketch - Draw &amp; Paint</td>\n",
       "      <td>ART_AND_DESIGN</td>\n",
       "      <td>4.5</td>\n",
       "      <td>215644</td>\n",
       "      <td>25M</td>\n",
       "      <td>50,000,000+</td>\n",
       "      <td>Free</td>\n",
       "      <td>0</td>\n",
       "      <td>Teen</td>\n",
       "      <td>Art &amp; Design</td>\n",
       "      <td>June 8, 2018</td>\n",
       "      <td>Varies with device</td>\n",
       "      <td>4.2 and up</td>\n",
       "    </tr>\n",
       "    <tr>\n",
       "      <th>4</th>\n",
       "      <td>Pixel Draw - Number Art Coloring Book</td>\n",
       "      <td>ART_AND_DESIGN</td>\n",
       "      <td>4.3</td>\n",
       "      <td>967</td>\n",
       "      <td>2.8M</td>\n",
       "      <td>100,000+</td>\n",
       "      <td>Free</td>\n",
       "      <td>0</td>\n",
       "      <td>Everyone</td>\n",
       "      <td>Art &amp; Design;Creativity</td>\n",
       "      <td>June 20, 2018</td>\n",
       "      <td>1.1</td>\n",
       "      <td>4.4 and up</td>\n",
       "    </tr>\n",
       "  </tbody>\n",
       "</table>\n",
       "</div>"
      ],
      "text/plain": [
       "                                                 App        Category  Rating  \\\n",
       "0     Photo Editor & Candy Camera & Grid & ScrapBook  ART_AND_DESIGN     4.1   \n",
       "1                                Coloring book moana  ART_AND_DESIGN     3.9   \n",
       "2  U Launcher Lite – FREE Live Cool Themes, Hide ...  ART_AND_DESIGN     4.7   \n",
       "3                              Sketch - Draw & Paint  ART_AND_DESIGN     4.5   \n",
       "4              Pixel Draw - Number Art Coloring Book  ART_AND_DESIGN     4.3   \n",
       "\n",
       "  Reviews  Size     Installs  Type Price Content Rating  \\\n",
       "0     159   19M      10,000+  Free     0       Everyone   \n",
       "1     967   14M     500,000+  Free     0       Everyone   \n",
       "2   87510  8.7M   5,000,000+  Free     0       Everyone   \n",
       "3  215644   25M  50,000,000+  Free     0           Teen   \n",
       "4     967  2.8M     100,000+  Free     0       Everyone   \n",
       "\n",
       "                      Genres      Last Updated         Current Ver  \\\n",
       "0               Art & Design   January 7, 2018               1.0.0   \n",
       "1  Art & Design;Pretend Play  January 15, 2018               2.0.0   \n",
       "2               Art & Design    August 1, 2018               1.2.4   \n",
       "3               Art & Design      June 8, 2018  Varies with device   \n",
       "4    Art & Design;Creativity     June 20, 2018                 1.1   \n",
       "\n",
       "    Android Ver  \n",
       "0  4.0.3 and up  \n",
       "1  4.0.3 and up  \n",
       "2  4.0.3 and up  \n",
       "3    4.2 and up  \n",
       "4    4.4 and up  "
      ]
     },
     "execution_count": 2,
     "metadata": {},
     "output_type": "execute_result"
    }
   ],
   "source": [
    "# Import data\n",
    "data = pd.read_csv('../data/googleplaystore.csv')\n",
    "data.head()"
   ]
  },
  {
   "cell_type": "code",
   "execution_count": 3,
   "metadata": {},
   "outputs": [],
   "source": [
    "# create data copy for manipulation\n",
    "df = data.copy()"
   ]
  },
  {
   "cell_type": "code",
   "execution_count": 4,
   "metadata": {},
   "outputs": [
    {
     "data": {
      "text/html": [
       "<div>\n",
       "<style scoped>\n",
       "    .dataframe tbody tr th:only-of-type {\n",
       "        vertical-align: middle;\n",
       "    }\n",
       "\n",
       "    .dataframe tbody tr th {\n",
       "        vertical-align: top;\n",
       "    }\n",
       "\n",
       "    .dataframe thead th {\n",
       "        text-align: right;\n",
       "    }\n",
       "</style>\n",
       "<table border=\"1\" class=\"dataframe\">\n",
       "  <thead>\n",
       "    <tr style=\"text-align: right;\">\n",
       "      <th></th>\n",
       "      <th>App</th>\n",
       "      <th>Category</th>\n",
       "      <th>Rating</th>\n",
       "      <th>Reviews</th>\n",
       "      <th>Size</th>\n",
       "      <th>Installs</th>\n",
       "      <th>Type</th>\n",
       "      <th>Price</th>\n",
       "      <th>Content Rating</th>\n",
       "      <th>Genres</th>\n",
       "      <th>Last Updated</th>\n",
       "      <th>Current Ver</th>\n",
       "      <th>Android Ver</th>\n",
       "    </tr>\n",
       "  </thead>\n",
       "  <tbody>\n",
       "    <tr>\n",
       "      <th>0</th>\n",
       "      <td>Photo Editor &amp; Candy Camera &amp; Grid &amp; ScrapBook</td>\n",
       "      <td>ART_AND_DESIGN</td>\n",
       "      <td>4.1</td>\n",
       "      <td>159</td>\n",
       "      <td>19M</td>\n",
       "      <td>10,000+</td>\n",
       "      <td>Free</td>\n",
       "      <td>0</td>\n",
       "      <td>Everyone</td>\n",
       "      <td>Art &amp; Design</td>\n",
       "      <td>January 7, 2018</td>\n",
       "      <td>1.0.0</td>\n",
       "      <td>4.0.3 and up</td>\n",
       "    </tr>\n",
       "    <tr>\n",
       "      <th>1</th>\n",
       "      <td>Coloring book moana</td>\n",
       "      <td>ART_AND_DESIGN</td>\n",
       "      <td>3.9</td>\n",
       "      <td>967</td>\n",
       "      <td>14M</td>\n",
       "      <td>500,000+</td>\n",
       "      <td>Free</td>\n",
       "      <td>0</td>\n",
       "      <td>Everyone</td>\n",
       "      <td>Art &amp; Design;Pretend Play</td>\n",
       "      <td>January 15, 2018</td>\n",
       "      <td>2.0.0</td>\n",
       "      <td>4.0.3 and up</td>\n",
       "    </tr>\n",
       "    <tr>\n",
       "      <th>2</th>\n",
       "      <td>U Launcher Lite – FREE Live Cool Themes, Hide ...</td>\n",
       "      <td>ART_AND_DESIGN</td>\n",
       "      <td>4.7</td>\n",
       "      <td>87510</td>\n",
       "      <td>8.7M</td>\n",
       "      <td>5,000,000+</td>\n",
       "      <td>Free</td>\n",
       "      <td>0</td>\n",
       "      <td>Everyone</td>\n",
       "      <td>Art &amp; Design</td>\n",
       "      <td>August 1, 2018</td>\n",
       "      <td>1.2.4</td>\n",
       "      <td>4.0.3 and up</td>\n",
       "    </tr>\n",
       "    <tr>\n",
       "      <th>3</th>\n",
       "      <td>Sketch - Draw &amp; Paint</td>\n",
       "      <td>ART_AND_DESIGN</td>\n",
       "      <td>4.5</td>\n",
       "      <td>215644</td>\n",
       "      <td>25M</td>\n",
       "      <td>50,000,000+</td>\n",
       "      <td>Free</td>\n",
       "      <td>0</td>\n",
       "      <td>Teen</td>\n",
       "      <td>Art &amp; Design</td>\n",
       "      <td>June 8, 2018</td>\n",
       "      <td>Varies with device</td>\n",
       "      <td>4.2 and up</td>\n",
       "    </tr>\n",
       "    <tr>\n",
       "      <th>4</th>\n",
       "      <td>Pixel Draw - Number Art Coloring Book</td>\n",
       "      <td>ART_AND_DESIGN</td>\n",
       "      <td>4.3</td>\n",
       "      <td>967</td>\n",
       "      <td>2.8M</td>\n",
       "      <td>100,000+</td>\n",
       "      <td>Free</td>\n",
       "      <td>0</td>\n",
       "      <td>Everyone</td>\n",
       "      <td>Art &amp; Design;Creativity</td>\n",
       "      <td>June 20, 2018</td>\n",
       "      <td>1.1</td>\n",
       "      <td>4.4 and up</td>\n",
       "    </tr>\n",
       "  </tbody>\n",
       "</table>\n",
       "</div>"
      ],
      "text/plain": [
       "                                                 App        Category  Rating  \\\n",
       "0     Photo Editor & Candy Camera & Grid & ScrapBook  ART_AND_DESIGN     4.1   \n",
       "1                                Coloring book moana  ART_AND_DESIGN     3.9   \n",
       "2  U Launcher Lite – FREE Live Cool Themes, Hide ...  ART_AND_DESIGN     4.7   \n",
       "3                              Sketch - Draw & Paint  ART_AND_DESIGN     4.5   \n",
       "4              Pixel Draw - Number Art Coloring Book  ART_AND_DESIGN     4.3   \n",
       "\n",
       "  Reviews  Size     Installs  Type Price Content Rating  \\\n",
       "0     159   19M      10,000+  Free     0       Everyone   \n",
       "1     967   14M     500,000+  Free     0       Everyone   \n",
       "2   87510  8.7M   5,000,000+  Free     0       Everyone   \n",
       "3  215644   25M  50,000,000+  Free     0           Teen   \n",
       "4     967  2.8M     100,000+  Free     0       Everyone   \n",
       "\n",
       "                      Genres      Last Updated         Current Ver  \\\n",
       "0               Art & Design   January 7, 2018               1.0.0   \n",
       "1  Art & Design;Pretend Play  January 15, 2018               2.0.0   \n",
       "2               Art & Design    August 1, 2018               1.2.4   \n",
       "3               Art & Design      June 8, 2018  Varies with device   \n",
       "4    Art & Design;Creativity     June 20, 2018                 1.1   \n",
       "\n",
       "    Android Ver  \n",
       "0  4.0.3 and up  \n",
       "1  4.0.3 and up  \n",
       "2  4.0.3 and up  \n",
       "3    4.2 and up  \n",
       "4    4.4 and up  "
      ]
     },
     "execution_count": 4,
     "metadata": {},
     "output_type": "execute_result"
    }
   ],
   "source": [
    "df.head()"
   ]
  },
  {
   "cell_type": "code",
   "execution_count": 5,
   "metadata": {},
   "outputs": [
    {
     "name": "stdout",
     "output_type": "stream",
     "text": [
      "<class 'pandas.core.frame.DataFrame'>\n",
      "RangeIndex: 10841 entries, 0 to 10840\n",
      "Data columns (total 13 columns):\n",
      "App               10841 non-null object\n",
      "Category          10841 non-null object\n",
      "Rating            9367 non-null float64\n",
      "Reviews           10841 non-null object\n",
      "Size              10841 non-null object\n",
      "Installs          10841 non-null object\n",
      "Type              10840 non-null object\n",
      "Price             10841 non-null object\n",
      "Content Rating    10840 non-null object\n",
      "Genres            10841 non-null object\n",
      "Last Updated      10841 non-null object\n",
      "Current Ver       10833 non-null object\n",
      "Android Ver       10838 non-null object\n",
      "dtypes: float64(1), object(12)\n",
      "memory usage: 1.1+ MB\n"
     ]
    }
   ],
   "source": [
    "df.info()"
   ]
  },
  {
   "cell_type": "code",
   "execution_count": 6,
   "metadata": {
    "scrolled": true
   },
   "outputs": [
    {
     "name": "stdout",
     "output_type": "stream",
     "text": [
      "<class 'pandas.core.frame.DataFrame'>\n",
      "Int64Index: 9360 entries, 0 to 10840\n",
      "Data columns (total 13 columns):\n",
      "App               9360 non-null object\n",
      "Category          9360 non-null object\n",
      "Rating            9360 non-null float64\n",
      "Reviews           9360 non-null object\n",
      "Size              9360 non-null object\n",
      "Installs          9360 non-null object\n",
      "Type              9360 non-null object\n",
      "Price             9360 non-null object\n",
      "Content Rating    9360 non-null object\n",
      "Genres            9360 non-null object\n",
      "Last Updated      9360 non-null object\n",
      "Current Ver       9360 non-null object\n",
      "Android Ver       9360 non-null object\n",
      "dtypes: float64(1), object(12)\n",
      "memory usage: 1023.8+ KB\n"
     ]
    }
   ],
   "source": [
    "# Rating is target so, dropna\n",
    "df = df.dropna()\n",
    "df.info()"
   ]
  },
  {
   "cell_type": "code",
   "execution_count": 7,
   "metadata": {},
   "outputs": [
    {
     "data": {
      "text/plain": [
       "0        4.1\n",
       "1        3.9\n",
       "2        4.7\n",
       "3        4.5\n",
       "4        4.3\n",
       "        ... \n",
       "10834    4.0\n",
       "10836    4.5\n",
       "10837    5.0\n",
       "10839    4.5\n",
       "10840    4.5\n",
       "Name: Rating, Length: 9360, dtype: float64"
      ]
     },
     "execution_count": 7,
     "metadata": {},
     "output_type": "execute_result"
    }
   ],
   "source": [
    "df['Rating']"
   ]
  },
  {
   "cell_type": "code",
   "execution_count": 8,
   "metadata": {},
   "outputs": [
    {
     "data": {
      "text/plain": [
       "0.3155982905982906"
      ]
     },
     "execution_count": 8,
     "metadata": {},
     "output_type": "execute_result"
    }
   ],
   "source": [
    "# What % of Ratings are >= 4.5\n",
    "# 4.5 out of 5 is high rating on Google Play Store\n",
    "len(df[df['Rating'] >= 4.5])/len(df)"
   ]
  },
  {
   "cell_type": "code",
   "execution_count": 9,
   "metadata": {},
   "outputs": [
    {
     "name": "stderr",
     "output_type": "stream",
     "text": [
      "/opt/anaconda3/envs/learn-env/lib/python3.6/site-packages/ipykernel_launcher.py:6: SettingWithCopyWarning: \n",
      "A value is trying to be set on a copy of a slice from a DataFrame\n",
      "\n",
      "See the caveats in the documentation: http://pandas.pydata.org/pandas-docs/stable/user_guide/indexing.html#returning-a-view-versus-a-copy\n",
      "  \n"
     ]
    }
   ],
   "source": [
    "# Create target Positive Rating\n",
    "df['Pos Rating'] = 0\n",
    "\n",
    "for row in df['Rating'].index:\n",
    "    if df['Rating'][row] >= 4.5:\n",
    "        df['Pos Rating'][row] = 1"
   ]
  },
  {
   "cell_type": "code",
   "execution_count": 10,
   "metadata": {},
   "outputs": [
    {
     "data": {
      "text/plain": [
       "0    0.684402\n",
       "1    0.315598\n",
       "Name: Pos Rating, dtype: float64"
      ]
     },
     "execution_count": 10,
     "metadata": {},
     "output_type": "execute_result"
    }
   ],
   "source": [
    "# Check work, target created\n",
    "df['Pos Rating'].value_counts(normalize=True)"
   ]
  },
  {
   "cell_type": "code",
   "execution_count": 11,
   "metadata": {},
   "outputs": [
    {
     "name": "stdout",
     "output_type": "stream",
     "text": [
      "<class 'pandas.core.frame.DataFrame'>\n",
      "Int64Index: 9360 entries, 0 to 10840\n",
      "Data columns (total 14 columns):\n",
      "App               9360 non-null object\n",
      "Category          9360 non-null object\n",
      "Rating            9360 non-null float64\n",
      "Reviews           9360 non-null object\n",
      "Size              9360 non-null object\n",
      "Installs          9360 non-null object\n",
      "Type              9360 non-null object\n",
      "Price             9360 non-null object\n",
      "Content Rating    9360 non-null object\n",
      "Genres            9360 non-null object\n",
      "Last Updated      9360 non-null object\n",
      "Current Ver       9360 non-null object\n",
      "Android Ver       9360 non-null object\n",
      "Pos Rating        9360 non-null int64\n",
      "dtypes: float64(1), int64(1), object(12)\n",
      "memory usage: 1.4+ MB\n"
     ]
    }
   ],
   "source": [
    "df.info()"
   ]
  },
  {
   "cell_type": "code",
   "execution_count": 12,
   "metadata": {},
   "outputs": [
    {
     "data": {
      "text/plain": [
       "Free    0.93109\n",
       "Paid    0.06891\n",
       "Name: Type, dtype: float64"
      ]
     },
     "execution_count": 12,
     "metadata": {},
     "output_type": "execute_result"
    }
   ],
   "source": [
    "df['Type'].value_counts(normalize=True)"
   ]
  },
  {
   "cell_type": "code",
   "execution_count": 13,
   "metadata": {},
   "outputs": [],
   "source": [
    "# Conversions\n",
    "\n",
    "# Convert to Reviews to numeric, integer\n",
    "df['Reviews'] = df['Reviews'].astype(int)\n",
    "\n",
    "# Drop Price column, use Type - 93% are Free or 0 in Price.\n",
    "df = df.drop(columns='Price', axis=1)\n",
    "\n",
    "# Drop Rating, duplicative of Pos Rating and is target\n",
    "df = df.drop(columns='Rating', axis=1)"
   ]
  },
  {
   "cell_type": "code",
   "execution_count": 14,
   "metadata": {},
   "outputs": [
    {
     "name": "stdout",
     "output_type": "stream",
     "text": [
      "<class 'pandas.core.frame.DataFrame'>\n",
      "Int64Index: 9360 entries, 0 to 10840\n",
      "Data columns (total 12 columns):\n",
      "App               9360 non-null object\n",
      "Category          9360 non-null object\n",
      "Reviews           9360 non-null int64\n",
      "Size              9360 non-null object\n",
      "Installs          9360 non-null object\n",
      "Type              9360 non-null object\n",
      "Content Rating    9360 non-null object\n",
      "Genres            9360 non-null object\n",
      "Last Updated      9360 non-null object\n",
      "Current Ver       9360 non-null object\n",
      "Android Ver       9360 non-null object\n",
      "Pos Rating        9360 non-null int64\n",
      "dtypes: int64(2), object(10)\n",
      "memory usage: 1.2+ MB\n"
     ]
    }
   ],
   "source": [
    "df.info()"
   ]
  },
  {
   "cell_type": "code",
   "execution_count": 15,
   "metadata": {},
   "outputs": [
    {
     "data": {
      "text/html": [
       "<div>\n",
       "<style scoped>\n",
       "    .dataframe tbody tr th:only-of-type {\n",
       "        vertical-align: middle;\n",
       "    }\n",
       "\n",
       "    .dataframe tbody tr th {\n",
       "        vertical-align: top;\n",
       "    }\n",
       "\n",
       "    .dataframe thead th {\n",
       "        text-align: right;\n",
       "    }\n",
       "</style>\n",
       "<table border=\"1\" class=\"dataframe\">\n",
       "  <thead>\n",
       "    <tr style=\"text-align: right;\">\n",
       "      <th></th>\n",
       "      <th>App</th>\n",
       "      <th>Category</th>\n",
       "      <th>Size</th>\n",
       "      <th>Installs</th>\n",
       "      <th>Type</th>\n",
       "      <th>Content Rating</th>\n",
       "      <th>Genres</th>\n",
       "      <th>Last Updated</th>\n",
       "      <th>Current Ver</th>\n",
       "      <th>Android Ver</th>\n",
       "    </tr>\n",
       "  </thead>\n",
       "  <tbody>\n",
       "    <tr>\n",
       "      <th>count</th>\n",
       "      <td>9360</td>\n",
       "      <td>9360</td>\n",
       "      <td>9360</td>\n",
       "      <td>9360</td>\n",
       "      <td>9360</td>\n",
       "      <td>9360</td>\n",
       "      <td>9360</td>\n",
       "      <td>9360</td>\n",
       "      <td>9360</td>\n",
       "      <td>9360</td>\n",
       "    </tr>\n",
       "    <tr>\n",
       "      <th>unique</th>\n",
       "      <td>8190</td>\n",
       "      <td>33</td>\n",
       "      <td>413</td>\n",
       "      <td>19</td>\n",
       "      <td>2</td>\n",
       "      <td>6</td>\n",
       "      <td>115</td>\n",
       "      <td>1299</td>\n",
       "      <td>2638</td>\n",
       "      <td>31</td>\n",
       "    </tr>\n",
       "    <tr>\n",
       "      <th>top</th>\n",
       "      <td>ROBLOX</td>\n",
       "      <td>FAMILY</td>\n",
       "      <td>Varies with device</td>\n",
       "      <td>1,000,000+</td>\n",
       "      <td>Free</td>\n",
       "      <td>Everyone</td>\n",
       "      <td>Tools</td>\n",
       "      <td>August 3, 2018</td>\n",
       "      <td>Varies with device</td>\n",
       "      <td>4.1 and up</td>\n",
       "    </tr>\n",
       "    <tr>\n",
       "      <th>freq</th>\n",
       "      <td>9</td>\n",
       "      <td>1746</td>\n",
       "      <td>1637</td>\n",
       "      <td>1576</td>\n",
       "      <td>8715</td>\n",
       "      <td>7414</td>\n",
       "      <td>732</td>\n",
       "      <td>319</td>\n",
       "      <td>1415</td>\n",
       "      <td>2059</td>\n",
       "    </tr>\n",
       "  </tbody>\n",
       "</table>\n",
       "</div>"
      ],
      "text/plain": [
       "           App Category                Size    Installs  Type Content Rating  \\\n",
       "count     9360     9360                9360        9360  9360           9360   \n",
       "unique    8190       33                 413          19     2              6   \n",
       "top     ROBLOX   FAMILY  Varies with device  1,000,000+  Free       Everyone   \n",
       "freq         9     1746                1637        1576  8715           7414   \n",
       "\n",
       "       Genres    Last Updated         Current Ver Android Ver  \n",
       "count    9360            9360                9360        9360  \n",
       "unique    115            1299                2638          31  \n",
       "top     Tools  August 3, 2018  Varies with device  4.1 and up  \n",
       "freq      732             319                1415        2059  "
      ]
     },
     "execution_count": 15,
     "metadata": {},
     "output_type": "execute_result"
    }
   ],
   "source": [
    "df[[c for c in df.columns if df[c].dtype == 'object']].describe()"
   ]
  },
  {
   "cell_type": "code",
   "execution_count": 16,
   "metadata": {},
   "outputs": [],
   "source": [
    "# App - drop, equivalent of ID\n",
    "# Categorry - 33 uniques, OHE\n",
    "# Size - 413 unique values, most common is Varies with device/in M and k\n",
    "# will need to convert to same unites\n",
    "# Installs - can keep as categories and OHE or try numeric\n",
    "# Content Rating - categorical, but could be ordinal\n",
    "# Genres - categorical, can OHE; see if there is an opportunity to bucket smaller genres into\n",
    "# larger ones\n",
    "# Last Updated - leave out as do not have specific stats for age feature\n",
    "# Current Version and Android Version are not controllable features"
   ]
  },
  {
   "cell_type": "code",
   "execution_count": 17,
   "metadata": {},
   "outputs": [
    {
     "data": {
      "text/plain": [
       "Index(['App', 'Category', 'Reviews', 'Size', 'Installs', 'Type',\n",
       "       'Content Rating', 'Genres', 'Last Updated', 'Current Ver',\n",
       "       'Android Ver', 'Pos Rating'],\n",
       "      dtype='object')"
      ]
     },
     "execution_count": 17,
     "metadata": {},
     "output_type": "execute_result"
    }
   ],
   "source": [
    "df.columns"
   ]
  },
  {
   "cell_type": "code",
   "execution_count": 18,
   "metadata": {},
   "outputs": [],
   "source": [
    "X = df.drop(columns=['Pos Rating', 'App', 'Last Updated', 'Current Ver', 'Android Ver'])\n",
    "y = df['Pos Rating']"
   ]
  },
  {
   "cell_type": "code",
   "execution_count": 19,
   "metadata": {},
   "outputs": [
    {
     "data": {
      "text/plain": [
       "Index(['Category', 'Reviews', 'Size', 'Installs', 'Type', 'Content Rating',\n",
       "       'Genres'],\n",
       "      dtype='object')"
      ]
     },
     "execution_count": 19,
     "metadata": {},
     "output_type": "execute_result"
    }
   ],
   "source": [
    "X.columns"
   ]
  },
  {
   "cell_type": "code",
   "execution_count": 20,
   "metadata": {},
   "outputs": [],
   "source": [
    "# Separate for different treatments (scaling and OHE)\n",
    "\n",
    "num_cols = ['Reviews']\n",
    "\n",
    "ohe_cols = ['Category', 'Size', 'Installs', 'Type', 'Content Rating', 'Genres']"
   ]
  },
  {
   "cell_type": "markdown",
   "metadata": {},
   "source": [
    "## Numeric Treatment - Scale"
   ]
  },
  {
   "cell_type": "code",
   "execution_count": 21,
   "metadata": {},
   "outputs": [],
   "source": [
    "from sklearn.preprocessing import StandardScaler"
   ]
  },
  {
   "cell_type": "code",
   "execution_count": 22,
   "metadata": {},
   "outputs": [],
   "source": [
    "scaled_features = df.copy()"
   ]
  },
  {
   "cell_type": "code",
   "execution_count": 23,
   "metadata": {},
   "outputs": [],
   "source": [
    "features = scaled_features[num_cols]\n",
    "scaler = StandardScaler().fit(features.values)\n",
    "features = scaler.transform(features.values)"
   ]
  },
  {
   "cell_type": "code",
   "execution_count": 24,
   "metadata": {},
   "outputs": [],
   "source": [
    "scaled_features[num_cols] = features\n",
    "scaled = scaled_features[['Reviews', ]]"
   ]
  },
  {
   "cell_type": "code",
   "execution_count": 25,
   "metadata": {},
   "outputs": [
    {
     "data": {
      "text/html": [
       "<div>\n",
       "<style scoped>\n",
       "    .dataframe tbody tr th:only-of-type {\n",
       "        vertical-align: middle;\n",
       "    }\n",
       "\n",
       "    .dataframe tbody tr th {\n",
       "        vertical-align: top;\n",
       "    }\n",
       "\n",
       "    .dataframe thead th {\n",
       "        text-align: right;\n",
       "    }\n",
       "</style>\n",
       "<table border=\"1\" class=\"dataframe\">\n",
       "  <thead>\n",
       "    <tr style=\"text-align: right;\">\n",
       "      <th></th>\n",
       "      <th>Reviews</th>\n",
       "    </tr>\n",
       "  </thead>\n",
       "  <tbody>\n",
       "    <tr>\n",
       "      <th>0</th>\n",
       "      <td>-0.163511</td>\n",
       "    </tr>\n",
       "    <tr>\n",
       "      <th>1</th>\n",
       "      <td>-0.163254</td>\n",
       "    </tr>\n",
       "    <tr>\n",
       "      <th>2</th>\n",
       "      <td>-0.135735</td>\n",
       "    </tr>\n",
       "    <tr>\n",
       "      <th>3</th>\n",
       "      <td>-0.094991</td>\n",
       "    </tr>\n",
       "    <tr>\n",
       "      <th>4</th>\n",
       "      <td>-0.163254</td>\n",
       "    </tr>\n",
       "  </tbody>\n",
       "</table>\n",
       "</div>"
      ],
      "text/plain": [
       "    Reviews\n",
       "0 -0.163511\n",
       "1 -0.163254\n",
       "2 -0.135735\n",
       "3 -0.094991\n",
       "4 -0.163254"
      ]
     },
     "execution_count": 25,
     "metadata": {},
     "output_type": "execute_result"
    }
   ],
   "source": [
    "scaled.head()"
   ]
  },
  {
   "cell_type": "markdown",
   "metadata": {},
   "source": [
    "## Categorical Treatment (OHE)"
   ]
  },
  {
   "cell_type": "code",
   "execution_count": 26,
   "metadata": {},
   "outputs": [],
   "source": [
    "ohe_features = df.copy()"
   ]
  },
  {
   "cell_type": "code",
   "execution_count": 27,
   "metadata": {},
   "outputs": [],
   "source": [
    "ohe_features = ohe_features[ohe_cols]"
   ]
  },
  {
   "cell_type": "code",
   "execution_count": 28,
   "metadata": {},
   "outputs": [],
   "source": [
    "ohe_features = pd.get_dummies(ohe_features)"
   ]
  },
  {
   "cell_type": "code",
   "execution_count": 29,
   "metadata": {},
   "outputs": [
    {
     "data": {
      "text/html": [
       "<div>\n",
       "<style scoped>\n",
       "    .dataframe tbody tr th:only-of-type {\n",
       "        vertical-align: middle;\n",
       "    }\n",
       "\n",
       "    .dataframe tbody tr th {\n",
       "        vertical-align: top;\n",
       "    }\n",
       "\n",
       "    .dataframe thead th {\n",
       "        text-align: right;\n",
       "    }\n",
       "</style>\n",
       "<table border=\"1\" class=\"dataframe\">\n",
       "  <thead>\n",
       "    <tr style=\"text-align: right;\">\n",
       "      <th></th>\n",
       "      <th>Category_ART_AND_DESIGN</th>\n",
       "      <th>Category_AUTO_AND_VEHICLES</th>\n",
       "      <th>Category_BEAUTY</th>\n",
       "      <th>Category_BOOKS_AND_REFERENCE</th>\n",
       "      <th>Category_BUSINESS</th>\n",
       "      <th>Category_COMICS</th>\n",
       "      <th>Category_COMMUNICATION</th>\n",
       "      <th>Category_DATING</th>\n",
       "      <th>Category_EDUCATION</th>\n",
       "      <th>Category_ENTERTAINMENT</th>\n",
       "      <th>...</th>\n",
       "      <th>Genres_Tools</th>\n",
       "      <th>Genres_Tools;Education</th>\n",
       "      <th>Genres_Travel &amp; Local</th>\n",
       "      <th>Genres_Travel &amp; Local;Action &amp; Adventure</th>\n",
       "      <th>Genres_Trivia</th>\n",
       "      <th>Genres_Video Players &amp; Editors</th>\n",
       "      <th>Genres_Video Players &amp; Editors;Creativity</th>\n",
       "      <th>Genres_Video Players &amp; Editors;Music &amp; Video</th>\n",
       "      <th>Genres_Weather</th>\n",
       "      <th>Genres_Word</th>\n",
       "    </tr>\n",
       "  </thead>\n",
       "  <tbody>\n",
       "    <tr>\n",
       "      <th>0</th>\n",
       "      <td>1</td>\n",
       "      <td>0</td>\n",
       "      <td>0</td>\n",
       "      <td>0</td>\n",
       "      <td>0</td>\n",
       "      <td>0</td>\n",
       "      <td>0</td>\n",
       "      <td>0</td>\n",
       "      <td>0</td>\n",
       "      <td>0</td>\n",
       "      <td>...</td>\n",
       "      <td>0</td>\n",
       "      <td>0</td>\n",
       "      <td>0</td>\n",
       "      <td>0</td>\n",
       "      <td>0</td>\n",
       "      <td>0</td>\n",
       "      <td>0</td>\n",
       "      <td>0</td>\n",
       "      <td>0</td>\n",
       "      <td>0</td>\n",
       "    </tr>\n",
       "    <tr>\n",
       "      <th>1</th>\n",
       "      <td>1</td>\n",
       "      <td>0</td>\n",
       "      <td>0</td>\n",
       "      <td>0</td>\n",
       "      <td>0</td>\n",
       "      <td>0</td>\n",
       "      <td>0</td>\n",
       "      <td>0</td>\n",
       "      <td>0</td>\n",
       "      <td>0</td>\n",
       "      <td>...</td>\n",
       "      <td>0</td>\n",
       "      <td>0</td>\n",
       "      <td>0</td>\n",
       "      <td>0</td>\n",
       "      <td>0</td>\n",
       "      <td>0</td>\n",
       "      <td>0</td>\n",
       "      <td>0</td>\n",
       "      <td>0</td>\n",
       "      <td>0</td>\n",
       "    </tr>\n",
       "    <tr>\n",
       "      <th>2</th>\n",
       "      <td>1</td>\n",
       "      <td>0</td>\n",
       "      <td>0</td>\n",
       "      <td>0</td>\n",
       "      <td>0</td>\n",
       "      <td>0</td>\n",
       "      <td>0</td>\n",
       "      <td>0</td>\n",
       "      <td>0</td>\n",
       "      <td>0</td>\n",
       "      <td>...</td>\n",
       "      <td>0</td>\n",
       "      <td>0</td>\n",
       "      <td>0</td>\n",
       "      <td>0</td>\n",
       "      <td>0</td>\n",
       "      <td>0</td>\n",
       "      <td>0</td>\n",
       "      <td>0</td>\n",
       "      <td>0</td>\n",
       "      <td>0</td>\n",
       "    </tr>\n",
       "    <tr>\n",
       "      <th>3</th>\n",
       "      <td>1</td>\n",
       "      <td>0</td>\n",
       "      <td>0</td>\n",
       "      <td>0</td>\n",
       "      <td>0</td>\n",
       "      <td>0</td>\n",
       "      <td>0</td>\n",
       "      <td>0</td>\n",
       "      <td>0</td>\n",
       "      <td>0</td>\n",
       "      <td>...</td>\n",
       "      <td>0</td>\n",
       "      <td>0</td>\n",
       "      <td>0</td>\n",
       "      <td>0</td>\n",
       "      <td>0</td>\n",
       "      <td>0</td>\n",
       "      <td>0</td>\n",
       "      <td>0</td>\n",
       "      <td>0</td>\n",
       "      <td>0</td>\n",
       "    </tr>\n",
       "    <tr>\n",
       "      <th>4</th>\n",
       "      <td>1</td>\n",
       "      <td>0</td>\n",
       "      <td>0</td>\n",
       "      <td>0</td>\n",
       "      <td>0</td>\n",
       "      <td>0</td>\n",
       "      <td>0</td>\n",
       "      <td>0</td>\n",
       "      <td>0</td>\n",
       "      <td>0</td>\n",
       "      <td>...</td>\n",
       "      <td>0</td>\n",
       "      <td>0</td>\n",
       "      <td>0</td>\n",
       "      <td>0</td>\n",
       "      <td>0</td>\n",
       "      <td>0</td>\n",
       "      <td>0</td>\n",
       "      <td>0</td>\n",
       "      <td>0</td>\n",
       "      <td>0</td>\n",
       "    </tr>\n",
       "    <tr>\n",
       "      <th>...</th>\n",
       "      <td>...</td>\n",
       "      <td>...</td>\n",
       "      <td>...</td>\n",
       "      <td>...</td>\n",
       "      <td>...</td>\n",
       "      <td>...</td>\n",
       "      <td>...</td>\n",
       "      <td>...</td>\n",
       "      <td>...</td>\n",
       "      <td>...</td>\n",
       "      <td>...</td>\n",
       "      <td>...</td>\n",
       "      <td>...</td>\n",
       "      <td>...</td>\n",
       "      <td>...</td>\n",
       "      <td>...</td>\n",
       "      <td>...</td>\n",
       "      <td>...</td>\n",
       "      <td>...</td>\n",
       "      <td>...</td>\n",
       "      <td>...</td>\n",
       "    </tr>\n",
       "    <tr>\n",
       "      <th>10834</th>\n",
       "      <td>0</td>\n",
       "      <td>0</td>\n",
       "      <td>0</td>\n",
       "      <td>0</td>\n",
       "      <td>0</td>\n",
       "      <td>0</td>\n",
       "      <td>0</td>\n",
       "      <td>0</td>\n",
       "      <td>0</td>\n",
       "      <td>0</td>\n",
       "      <td>...</td>\n",
       "      <td>0</td>\n",
       "      <td>0</td>\n",
       "      <td>0</td>\n",
       "      <td>0</td>\n",
       "      <td>0</td>\n",
       "      <td>0</td>\n",
       "      <td>0</td>\n",
       "      <td>0</td>\n",
       "      <td>0</td>\n",
       "      <td>0</td>\n",
       "    </tr>\n",
       "    <tr>\n",
       "      <th>10836</th>\n",
       "      <td>0</td>\n",
       "      <td>0</td>\n",
       "      <td>0</td>\n",
       "      <td>0</td>\n",
       "      <td>0</td>\n",
       "      <td>0</td>\n",
       "      <td>0</td>\n",
       "      <td>0</td>\n",
       "      <td>0</td>\n",
       "      <td>0</td>\n",
       "      <td>...</td>\n",
       "      <td>0</td>\n",
       "      <td>0</td>\n",
       "      <td>0</td>\n",
       "      <td>0</td>\n",
       "      <td>0</td>\n",
       "      <td>0</td>\n",
       "      <td>0</td>\n",
       "      <td>0</td>\n",
       "      <td>0</td>\n",
       "      <td>0</td>\n",
       "    </tr>\n",
       "    <tr>\n",
       "      <th>10837</th>\n",
       "      <td>0</td>\n",
       "      <td>0</td>\n",
       "      <td>0</td>\n",
       "      <td>0</td>\n",
       "      <td>0</td>\n",
       "      <td>0</td>\n",
       "      <td>0</td>\n",
       "      <td>0</td>\n",
       "      <td>0</td>\n",
       "      <td>0</td>\n",
       "      <td>...</td>\n",
       "      <td>0</td>\n",
       "      <td>0</td>\n",
       "      <td>0</td>\n",
       "      <td>0</td>\n",
       "      <td>0</td>\n",
       "      <td>0</td>\n",
       "      <td>0</td>\n",
       "      <td>0</td>\n",
       "      <td>0</td>\n",
       "      <td>0</td>\n",
       "    </tr>\n",
       "    <tr>\n",
       "      <th>10839</th>\n",
       "      <td>0</td>\n",
       "      <td>0</td>\n",
       "      <td>0</td>\n",
       "      <td>1</td>\n",
       "      <td>0</td>\n",
       "      <td>0</td>\n",
       "      <td>0</td>\n",
       "      <td>0</td>\n",
       "      <td>0</td>\n",
       "      <td>0</td>\n",
       "      <td>...</td>\n",
       "      <td>0</td>\n",
       "      <td>0</td>\n",
       "      <td>0</td>\n",
       "      <td>0</td>\n",
       "      <td>0</td>\n",
       "      <td>0</td>\n",
       "      <td>0</td>\n",
       "      <td>0</td>\n",
       "      <td>0</td>\n",
       "      <td>0</td>\n",
       "    </tr>\n",
       "    <tr>\n",
       "      <th>10840</th>\n",
       "      <td>0</td>\n",
       "      <td>0</td>\n",
       "      <td>0</td>\n",
       "      <td>0</td>\n",
       "      <td>0</td>\n",
       "      <td>0</td>\n",
       "      <td>0</td>\n",
       "      <td>0</td>\n",
       "      <td>0</td>\n",
       "      <td>0</td>\n",
       "      <td>...</td>\n",
       "      <td>0</td>\n",
       "      <td>0</td>\n",
       "      <td>0</td>\n",
       "      <td>0</td>\n",
       "      <td>0</td>\n",
       "      <td>0</td>\n",
       "      <td>0</td>\n",
       "      <td>0</td>\n",
       "      <td>0</td>\n",
       "      <td>0</td>\n",
       "    </tr>\n",
       "  </tbody>\n",
       "</table>\n",
       "<p>9360 rows × 588 columns</p>\n",
       "</div>"
      ],
      "text/plain": [
       "       Category_ART_AND_DESIGN  Category_AUTO_AND_VEHICLES  Category_BEAUTY  \\\n",
       "0                            1                           0                0   \n",
       "1                            1                           0                0   \n",
       "2                            1                           0                0   \n",
       "3                            1                           0                0   \n",
       "4                            1                           0                0   \n",
       "...                        ...                         ...              ...   \n",
       "10834                        0                           0                0   \n",
       "10836                        0                           0                0   \n",
       "10837                        0                           0                0   \n",
       "10839                        0                           0                0   \n",
       "10840                        0                           0                0   \n",
       "\n",
       "       Category_BOOKS_AND_REFERENCE  Category_BUSINESS  Category_COMICS  \\\n",
       "0                                 0                  0                0   \n",
       "1                                 0                  0                0   \n",
       "2                                 0                  0                0   \n",
       "3                                 0                  0                0   \n",
       "4                                 0                  0                0   \n",
       "...                             ...                ...              ...   \n",
       "10834                             0                  0                0   \n",
       "10836                             0                  0                0   \n",
       "10837                             0                  0                0   \n",
       "10839                             1                  0                0   \n",
       "10840                             0                  0                0   \n",
       "\n",
       "       Category_COMMUNICATION  Category_DATING  Category_EDUCATION  \\\n",
       "0                           0                0                   0   \n",
       "1                           0                0                   0   \n",
       "2                           0                0                   0   \n",
       "3                           0                0                   0   \n",
       "4                           0                0                   0   \n",
       "...                       ...              ...                 ...   \n",
       "10834                       0                0                   0   \n",
       "10836                       0                0                   0   \n",
       "10837                       0                0                   0   \n",
       "10839                       0                0                   0   \n",
       "10840                       0                0                   0   \n",
       "\n",
       "       Category_ENTERTAINMENT  ...  Genres_Tools  Genres_Tools;Education  \\\n",
       "0                           0  ...             0                       0   \n",
       "1                           0  ...             0                       0   \n",
       "2                           0  ...             0                       0   \n",
       "3                           0  ...             0                       0   \n",
       "4                           0  ...             0                       0   \n",
       "...                       ...  ...           ...                     ...   \n",
       "10834                       0  ...             0                       0   \n",
       "10836                       0  ...             0                       0   \n",
       "10837                       0  ...             0                       0   \n",
       "10839                       0  ...             0                       0   \n",
       "10840                       0  ...             0                       0   \n",
       "\n",
       "       Genres_Travel & Local  Genres_Travel & Local;Action & Adventure  \\\n",
       "0                          0                                         0   \n",
       "1                          0                                         0   \n",
       "2                          0                                         0   \n",
       "3                          0                                         0   \n",
       "4                          0                                         0   \n",
       "...                      ...                                       ...   \n",
       "10834                      0                                         0   \n",
       "10836                      0                                         0   \n",
       "10837                      0                                         0   \n",
       "10839                      0                                         0   \n",
       "10840                      0                                         0   \n",
       "\n",
       "       Genres_Trivia  Genres_Video Players & Editors  \\\n",
       "0                  0                               0   \n",
       "1                  0                               0   \n",
       "2                  0                               0   \n",
       "3                  0                               0   \n",
       "4                  0                               0   \n",
       "...              ...                             ...   \n",
       "10834              0                               0   \n",
       "10836              0                               0   \n",
       "10837              0                               0   \n",
       "10839              0                               0   \n",
       "10840              0                               0   \n",
       "\n",
       "       Genres_Video Players & Editors;Creativity  \\\n",
       "0                                              0   \n",
       "1                                              0   \n",
       "2                                              0   \n",
       "3                                              0   \n",
       "4                                              0   \n",
       "...                                          ...   \n",
       "10834                                          0   \n",
       "10836                                          0   \n",
       "10837                                          0   \n",
       "10839                                          0   \n",
       "10840                                          0   \n",
       "\n",
       "       Genres_Video Players & Editors;Music & Video  Genres_Weather  \\\n",
       "0                                                 0               0   \n",
       "1                                                 0               0   \n",
       "2                                                 0               0   \n",
       "3                                                 0               0   \n",
       "4                                                 0               0   \n",
       "...                                             ...             ...   \n",
       "10834                                             0               0   \n",
       "10836                                             0               0   \n",
       "10837                                             0               0   \n",
       "10839                                             0               0   \n",
       "10840                                             0               0   \n",
       "\n",
       "       Genres_Word  \n",
       "0                0  \n",
       "1                0  \n",
       "2                0  \n",
       "3                0  \n",
       "4                0  \n",
       "...            ...  \n",
       "10834            0  \n",
       "10836            0  \n",
       "10837            0  \n",
       "10839            0  \n",
       "10840            0  \n",
       "\n",
       "[9360 rows x 588 columns]"
      ]
     },
     "execution_count": 29,
     "metadata": {},
     "output_type": "execute_result"
    }
   ],
   "source": [
    "ohe_features"
   ]
  },
  {
   "cell_type": "markdown",
   "metadata": {},
   "source": [
    "#### Combine - Data Version 1 - Many OHE, First Shitty Model"
   ]
  },
  {
   "cell_type": "code",
   "execution_count": 30,
   "metadata": {},
   "outputs": [],
   "source": [
    "# Combine scaled numerical, OHE categoricals, and target into one df\n",
    "preprocessed = pd.concat([scaled, ohe_features, y], axis=1)"
   ]
  },
  {
   "cell_type": "code",
   "execution_count": 31,
   "metadata": {
    "scrolled": true
   },
   "outputs": [
    {
     "data": {
      "text/plain": [
       "Index(['Reviews', 'Category_ART_AND_DESIGN', 'Category_AUTO_AND_VEHICLES',\n",
       "       'Category_BEAUTY', 'Category_BOOKS_AND_REFERENCE', 'Category_BUSINESS',\n",
       "       'Category_COMICS', 'Category_COMMUNICATION', 'Category_DATING',\n",
       "       'Category_EDUCATION',\n",
       "       ...\n",
       "       'Genres_Tools;Education', 'Genres_Travel & Local',\n",
       "       'Genres_Travel & Local;Action & Adventure', 'Genres_Trivia',\n",
       "       'Genres_Video Players & Editors',\n",
       "       'Genres_Video Players & Editors;Creativity',\n",
       "       'Genres_Video Players & Editors;Music & Video', 'Genres_Weather',\n",
       "       'Genres_Word', 'Pos Rating'],\n",
       "      dtype='object', length=590)"
      ]
     },
     "execution_count": 31,
     "metadata": {},
     "output_type": "execute_result"
    }
   ],
   "source": [
    "preprocessed.columns"
   ]
  },
  {
   "cell_type": "markdown",
   "metadata": {},
   "source": [
    "## First Shitty Model"
   ]
  },
  {
   "cell_type": "code",
   "execution_count": 32,
   "metadata": {},
   "outputs": [],
   "source": [
    "# Imports\n",
    "from sklearn.linear_model import LogisticRegression\n",
    "from sklearn.tree import DecisionTreeClassifier\n",
    "from sklearn.neighbors import KNeighborsClassifier\n",
    "from sklearn.ensemble import RandomForestClassifier\n",
    "from sklearn.model_selection import train_test_split, cross_val_score, GridSearchCV\n",
    "from sklearn.metrics import accuracy_score, recall_score, f1_score, roc_auc_score, plot_confusion_matrix"
   ]
  },
  {
   "cell_type": "code",
   "execution_count": 33,
   "metadata": {},
   "outputs": [],
   "source": [
    "# X and y split of preprocessed \n",
    "X = preprocessed.drop(columns=['Pos Rating'], axis=1)\n",
    "y = preprocessed['Pos Rating']"
   ]
  },
  {
   "cell_type": "code",
   "execution_count": 34,
   "metadata": {},
   "outputs": [],
   "source": [
    "X_train, X_test, y_train, y_test = train_test_split(X, y, test_size=0.25, random_state=42)"
   ]
  },
  {
   "cell_type": "code",
   "execution_count": 35,
   "metadata": {},
   "outputs": [
    {
     "name": "stderr",
     "output_type": "stream",
     "text": [
      "/opt/anaconda3/envs/learn-env/lib/python3.6/site-packages/sklearn/linear_model/_logistic.py:940: ConvergenceWarning: lbfgs failed to converge (status=1):\n",
      "STOP: TOTAL NO. of ITERATIONS REACHED LIMIT.\n",
      "\n",
      "Increase the number of iterations (max_iter) or scale the data as shown in:\n",
      "    https://scikit-learn.org/stable/modules/preprocessing.html\n",
      "Please also refer to the documentation for alternative solver options:\n",
      "    https://scikit-learn.org/stable/modules/linear_model.html#logistic-regression\n",
      "  extra_warning_msg=_LOGISTIC_SOLVER_CONVERGENCE_MSG)\n"
     ]
    }
   ],
   "source": [
    "# Instantiate\n",
    "logreg = LogisticRegression()\n",
    "\n",
    "# Fit\n",
    "logreg.fit(X_train, y_train)\n",
    "\n",
    "# Preds\n",
    "train_preds = logreg.predict(X_train)\n",
    "test_preds = logreg.predict(X_test)"
   ]
  },
  {
   "cell_type": "code",
   "execution_count": 36,
   "metadata": {
    "scrolled": true
   },
   "outputs": [
    {
     "name": "stdout",
     "output_type": "stream",
     "text": [
      "Train Scores\n",
      "------------\n",
      "Accuracy: 0.715954415954416\n",
      "Recall: 0.2648888888888889\n",
      "F1 Score: 0.37413684871311986\n",
      "--------------------\n",
      "Test Scores\n",
      "-----------\n",
      "Accuracy: 0.7128205128205128\n",
      "Recall: 0.22585227272727273\n"
     ]
    },
    {
     "name": "stderr",
     "output_type": "stream",
     "text": [
      "/opt/anaconda3/envs/learn-env/lib/python3.6/site-packages/sklearn/linear_model/_logistic.py:940: ConvergenceWarning: lbfgs failed to converge (status=1):\n",
      "STOP: TOTAL NO. of ITERATIONS REACHED LIMIT.\n",
      "\n",
      "Increase the number of iterations (max_iter) or scale the data as shown in:\n",
      "    https://scikit-learn.org/stable/modules/preprocessing.html\n",
      "Please also refer to the documentation for alternative solver options:\n",
      "    https://scikit-learn.org/stable/modules/linear_model.html#logistic-regression\n",
      "  extra_warning_msg=_LOGISTIC_SOLVER_CONVERGENCE_MSG)\n",
      "/opt/anaconda3/envs/learn-env/lib/python3.6/site-packages/sklearn/linear_model/_logistic.py:940: ConvergenceWarning: lbfgs failed to converge (status=1):\n",
      "STOP: TOTAL NO. of ITERATIONS REACHED LIMIT.\n",
      "\n",
      "Increase the number of iterations (max_iter) or scale the data as shown in:\n",
      "    https://scikit-learn.org/stable/modules/preprocessing.html\n",
      "Please also refer to the documentation for alternative solver options:\n",
      "    https://scikit-learn.org/stable/modules/linear_model.html#logistic-regression\n",
      "  extra_warning_msg=_LOGISTIC_SOLVER_CONVERGENCE_MSG)\n"
     ]
    },
    {
     "name": "stdout",
     "output_type": "stream",
     "text": [
      "Recall Mean Cross Val 3-Fold: 0.23555555555555555\n",
      "F1 Score: 0.3212121212121212\n"
     ]
    },
    {
     "name": "stderr",
     "output_type": "stream",
     "text": [
      "/opt/anaconda3/envs/learn-env/lib/python3.6/site-packages/sklearn/linear_model/_logistic.py:940: ConvergenceWarning: lbfgs failed to converge (status=1):\n",
      "STOP: TOTAL NO. of ITERATIONS REACHED LIMIT.\n",
      "\n",
      "Increase the number of iterations (max_iter) or scale the data as shown in:\n",
      "    https://scikit-learn.org/stable/modules/preprocessing.html\n",
      "Please also refer to the documentation for alternative solver options:\n",
      "    https://scikit-learn.org/stable/modules/linear_model.html#logistic-regression\n",
      "  extra_warning_msg=_LOGISTIC_SOLVER_CONVERGENCE_MSG)\n"
     ]
    },
    {
     "data": {
      "image/png": "[encoded data removed]",
      "text/plain": [
       "<Figure size 432x288 with 2 Axes>"
      ]
     },
     "metadata": {
      "needs_background": "light"
     },
     "output_type": "display_data"
    }
   ],
   "source": [
    "# print scores\n",
    "print(\"Train Scores\")\n",
    "print(\"------------\")\n",
    "print(f\"Accuracy: {accuracy_score(y_train, train_preds)}\")\n",
    "print(f\"Recall: {recall_score(y_train, train_preds)}\")\n",
    "print(f\"F1 Score: {f1_score(y_train, train_preds)}\")\n",
    "print(\"----\" * 5)\n",
    "print(\"Test Scores\")\n",
    "print(\"-----------\")\n",
    "print(f\"Accuracy: {accuracy_score(y_test, test_preds)}\")\n",
    "print(f\"Recall: {recall_score(y_test, test_preds)}\")\n",
    "print(f\"Recall Mean Cross Val 3-Fold: {np.mean(cross_val_score(logreg, X_train, y_train, cv=3, scoring='recall'))}\")\n",
    "print(f\"F1 Score: {f1_score(y_test, test_preds)}\")\n",
    "\n",
    "# plot test confusion matrix\n",
    "plot_confusion_matrix(logreg, X_test, y_test, values_format='')\n",
    "plt.show()\n",
    "\n",
    "# Overfit\n",
    "# Accuracy only 3% better than random guess (68% from Pos Rating split)\n",
    "# Low recall, higher precision (.22 recall versus .32 f1)"
   ]
  },
  {
   "cell_type": "markdown",
   "metadata": {},
   "source": [
    "### Try with Class Balance parameter"
   ]
  },
  {
   "cell_type": "code",
   "execution_count": 37,
   "metadata": {},
   "outputs": [
    {
     "name": "stderr",
     "output_type": "stream",
     "text": [
      "/opt/anaconda3/envs/learn-env/lib/python3.6/site-packages/sklearn/linear_model/_logistic.py:940: ConvergenceWarning: lbfgs failed to converge (status=1):\n",
      "STOP: TOTAL NO. of ITERATIONS REACHED LIMIT.\n",
      "\n",
      "Increase the number of iterations (max_iter) or scale the data as shown in:\n",
      "    https://scikit-learn.org/stable/modules/preprocessing.html\n",
      "Please also refer to the documentation for alternative solver options:\n",
      "    https://scikit-learn.org/stable/modules/linear_model.html#logistic-regression\n",
      "  extra_warning_msg=_LOGISTIC_SOLVER_CONVERGENCE_MSG)\n"
     ]
    }
   ],
   "source": [
    "# Instantiate; adding class weight balanced since 70/30 split of target\n",
    "logreg2 = LogisticRegression(class_weight='balanced')\n",
    "\n",
    "# Fit\n",
    "logreg2.fit(X_train, y_train)\n",
    "\n",
    "# Preds\n",
    "train_preds = logreg2.predict(X_train)\n",
    "test_preds = logreg2.predict(X_test)"
   ]
  },
  {
   "cell_type": "code",
   "execution_count": 38,
   "metadata": {
    "scrolled": true
   },
   "outputs": [
    {
     "name": "stdout",
     "output_type": "stream",
     "text": [
      "Train Scores\n",
      "------------\n",
      "Accuracy: 0.6777777777777778\n",
      "Recall: 0.644\n",
      "F1 Score: 0.5616279069767441\n",
      "--------------------\n",
      "Test Scores\n",
      "-----------\n",
      "Accuracy: 0.6376068376068376\n",
      "Recall: 0.5880681818181818\n"
     ]
    },
    {
     "name": "stderr",
     "output_type": "stream",
     "text": [
      "/opt/anaconda3/envs/learn-env/lib/python3.6/site-packages/sklearn/linear_model/_logistic.py:940: ConvergenceWarning: lbfgs failed to converge (status=1):\n",
      "STOP: TOTAL NO. of ITERATIONS REACHED LIMIT.\n",
      "\n",
      "Increase the number of iterations (max_iter) or scale the data as shown in:\n",
      "    https://scikit-learn.org/stable/modules/preprocessing.html\n",
      "Please also refer to the documentation for alternative solver options:\n",
      "    https://scikit-learn.org/stable/modules/linear_model.html#logistic-regression\n",
      "  extra_warning_msg=_LOGISTIC_SOLVER_CONVERGENCE_MSG)\n"
     ]
    },
    {
     "name": "stdout",
     "output_type": "stream",
     "text": [
      "Recall Mean Cross Val 3-Fold: 0.5755555555555556\n",
      "F1 Score: 0.4940334128878281\n"
     ]
    },
    {
     "name": "stderr",
     "output_type": "stream",
     "text": [
      "/opt/anaconda3/envs/learn-env/lib/python3.6/site-packages/sklearn/linear_model/_logistic.py:940: ConvergenceWarning: lbfgs failed to converge (status=1):\n",
      "STOP: TOTAL NO. of ITERATIONS REACHED LIMIT.\n",
      "\n",
      "Increase the number of iterations (max_iter) or scale the data as shown in:\n",
      "    https://scikit-learn.org/stable/modules/preprocessing.html\n",
      "Please also refer to the documentation for alternative solver options:\n",
      "    https://scikit-learn.org/stable/modules/linear_model.html#logistic-regression\n",
      "  extra_warning_msg=_LOGISTIC_SOLVER_CONVERGENCE_MSG)\n"
     ]
    },
    {
     "data": {
      "image/png": "[encoded data removed]",
      "text/plain": [
       "<Figure size 432x288 with 2 Axes>"
      ]
     },
     "metadata": {
      "needs_background": "light"
     },
     "output_type": "display_data"
    }
   ],
   "source": [
    "# print scores\n",
    "print(\"Train Scores\")\n",
    "print(\"------------\")\n",
    "print(f\"Accuracy: {accuracy_score(y_train, train_preds)}\")\n",
    "print(f\"Recall: {recall_score(y_train, train_preds)}\")\n",
    "print(f\"F1 Score: {f1_score(y_train, train_preds)}\")\n",
    "print(\"----\" * 5)\n",
    "print(\"Test Scores\")\n",
    "print(\"-----------\")\n",
    "print(f\"Accuracy: {accuracy_score(y_test, test_preds)}\")\n",
    "print(f\"Recall: {recall_score(y_test, test_preds)}\")\n",
    "print(f\"Recall Mean Cross Val 3-Fold: {np.mean(cross_val_score(logreg2,  X_train, y_train, cv=3, scoring='recall'))}\")\n",
    "print(f\"F1 Score: {f1_score(y_test, test_preds)}\")\n",
    "\n",
    "# plot test confusion matrix\n",
    "plot_confusion_matrix(logreg2, X_test, y_test, values_format='')\n",
    "plt.show()\n",
    "\n",
    "# Overfit\n",
    "# Accuracy decreases .8\n",
    "# Much higher recall from 0.22 to 0.58\n",
    "# Can also see precision is lower as F1 is 0.49 (mean of precision and accuracy scores)"
   ]
  },
  {
   "cell_type": "markdown",
   "metadata": {},
   "source": [
    "## Try Decision Tree"
   ]
  },
  {
   "cell_type": "code",
   "execution_count": 39,
   "metadata": {},
   "outputs": [],
   "source": [
    "# X and y split of preprocessed \n",
    "X = preprocessed.drop(columns=['Pos Rating'], axis=1)\n",
    "y = preprocessed['Pos Rating']"
   ]
  },
  {
   "cell_type": "code",
   "execution_count": 40,
   "metadata": {},
   "outputs": [],
   "source": [
    "X_train, X_test, y_train, y_test = train_test_split(X, y, test_size=0.25, random_state=42)"
   ]
  },
  {
   "cell_type": "code",
   "execution_count": 41,
   "metadata": {},
   "outputs": [],
   "source": [
    "# Instantiate\n",
    "dt = DecisionTreeClassifier(class_weight='balanced')\n",
    "\n",
    "# Fit\n",
    "dt.fit(X_train, y_train)\n",
    "\n",
    "# Preds\n",
    "train_preds = dt.predict(X_train)\n",
    "test_preds = dt.predict(X_test)"
   ]
  },
  {
   "cell_type": "code",
   "execution_count": 42,
   "metadata": {
    "scrolled": false
   },
   "outputs": [
    {
     "name": "stdout",
     "output_type": "stream",
     "text": [
      "Train Scores\n",
      "------------\n",
      "Accuracy: 0.9998575498575498\n",
      "Recall: 1.0\n",
      "F1 Score: 0.9997778271495222\n",
      "--------------------\n",
      "Test Scores\n",
      "-----------\n",
      "Accuracy: 0.7243589743589743\n",
      "Recall: 0.5696022727272727\n",
      "Recall Mean Cross Val 3-Fold: 0.5604444444444444\n",
      "F1 Score: 0.5542501727712509\n"
     ]
    },
    {
     "data": {
      "image/png": "[encoded data removed]",
      "text/plain": [
       "<Figure size 432x288 with 2 Axes>"
      ]
     },
     "metadata": {
      "needs_background": "light"
     },
     "output_type": "display_data"
    }
   ],
   "source": [
    "# print scores\n",
    "print(\"Train Scores\")\n",
    "print(\"------------\")\n",
    "print(f\"Accuracy: {accuracy_score(y_train, train_preds)}\")\n",
    "print(f\"Recall: {recall_score(y_train, train_preds)}\")\n",
    "print(f\"F1 Score: {f1_score(y_train, train_preds)}\")\n",
    "print(\"----\" * 5)\n",
    "print(\"Test Scores\")\n",
    "print(\"-----------\")\n",
    "print(f\"Accuracy: {accuracy_score(y_test, test_preds)}\")\n",
    "print(f\"Recall: {recall_score(y_test, test_preds)}\")\n",
    "print(f\"Recall Mean Cross Val 3-Fold: {np.mean(cross_val_score(dt, X_train, y_train, cv=3, scoring='recall'))}\")\n",
    "print(f\"F1 Score: {f1_score(y_test, test_preds)}\")\n",
    "\n",
    "# plot test confusion matrix\n",
    "plot_confusion_matrix(dt, X_test, y_test, values_format='')\n",
    "plt.show()\n",
    "\n",
    "# Overfit\n",
    "# Better accuracy than balance logreg\n",
    "# Similar recall to balanced logreg\n",
    "# Higher f1 which also means higher precision"
   ]
  },
  {
   "cell_type": "code",
   "execution_count": 43,
   "metadata": {},
   "outputs": [
    {
     "data": {
      "text/plain": [
       "{'Reviews': 0.2718240921903429,\n",
       " 'Size_Varies with device': 0.018879829954745637,\n",
       " 'Installs_1,000,000+': 0.01849975509509079,\n",
       " 'Installs_1,000+': 0.011188098653345992,\n",
       " 'Type_Free': 0.011102324667370714,\n",
       " 'Category_FAMILY': 0.010892234749925608,\n",
       " 'Content Rating_Everyone': 0.010388168816934497,\n",
       " 'Category_HEALTH_AND_FITNESS': 0.009102517440016028,\n",
       " 'Installs_500,000+': 0.008734298728790935,\n",
       " 'Installs_5,000+': 0.00872250538692338,\n",
       " 'Size_13M': 0.008262743962735738,\n",
       " 'Installs_10,000+': 0.00793565165501577,\n",
       " 'Content Rating_Mature 17+': 0.007825098164363851,\n",
       " 'Installs_10,000,000+': 0.007492373051245696,\n",
       " 'Genres_Entertainment': 0.007473789107678263,\n",
       " 'Category_SPORTS': 0.007436642958174878,\n",
       " 'Installs_100,000+': 0.00697707864933005,\n",
       " 'Genres_Tools': 0.006930351476280408,\n",
       " 'Content Rating_Teen': 0.006868065774289943,\n",
       " 'Genres_Action': 0.006824321717676513,\n",
       " 'Category_GAME': 0.006552472658047225,\n",
       " 'Size_18M': 0.006406971919528597,\n",
       " 'Installs_500+': 0.006406162325914066,\n",
       " 'Installs_5,000,000+': 0.006213382727096084,\n",
       " 'Category_TRAVEL_AND_LOCAL': 0.005909603871462687,\n",
       " 'Size_24M': 0.005802053946748201,\n",
       " 'Genres_Photography': 0.005790629637559142,\n",
       " 'Genres_Casual': 0.005754695470662331,\n",
       " 'Size_3.8M': 0.005712761915636754,\n",
       " 'Genres_Lifestyle': 0.005677569599194897,\n",
       " 'Size_14M': 0.005657030229491735,\n",
       " 'Size_23M': 0.00563573376469483,\n",
       " 'Size_46M': 0.005477411664428501,\n",
       " 'Category_COMMUNICATION': 0.0054578829512435005,\n",
       " 'Size_25M': 0.005428447682242327,\n",
       " 'Size_12M': 0.005329861386804338,\n",
       " 'Size_3.3M': 0.00503771129884374,\n",
       " 'Category_MEDICAL': 0.004940768979968537,\n",
       " 'Category_PERSONALIZATION': 0.004890938556943598,\n",
       " 'Size_22M': 0.0048330033450656356,\n",
       " 'Installs_50,000+': 0.004807900518478088,\n",
       " 'Size_10M': 0.004788496299063806,\n",
       " 'Size_11M': 0.004752886827496682,\n",
       " 'Size_17M': 0.004720002983908077,\n",
       " 'Genres_Education': 0.004569599122877424,\n",
       " 'Genres_Puzzle': 0.004544712035202045,\n",
       " 'Size_19M': 0.00452364638240944,\n",
       " 'Size_15M': 0.004370590154568599,\n",
       " 'Category_BOOKS_AND_REFERENCE': 0.004349705449311625,\n",
       " 'Size_63M': 0.004306235714993775,\n",
       " 'Size_33M': 0.00428032189351319,\n",
       " 'Genres_Productivity': 0.003993943808911523,\n",
       " 'Size_37M': 0.003931746239091406,\n",
       " 'Category_ENTERTAINMENT': 0.003872518192351475,\n",
       " 'Genres_News & Magazines': 0.0037615365151625925,\n",
       " 'Content Rating_Everyone 10+': 0.0035708486071102416,\n",
       " 'Size_21M': 0.003532461129554283,\n",
       " 'Size_16M': 0.0035153409179009814,\n",
       " 'Genres_Shopping': 0.0034526875129689896,\n",
       " 'Size_4.0M': 0.0034495966906459103,\n",
       " 'Category_SOCIAL': 0.0034416278821872946,\n",
       " 'Size_27M': 0.0034131178380569912,\n",
       " 'Genres_Finance': 0.003412446180594159,\n",
       " 'Genres_Role Playing': 0.003337671490989032,\n",
       " 'Genres_Personalization': 0.0032642548085455936,\n",
       " 'Size_20M': 0.0032557422930282053,\n",
       " 'Size_1.6M': 0.0032493236585939577,\n",
       " 'Category_PHOTOGRAPHY': 0.003244180051034118,\n",
       " 'Genres_Simulation': 0.003223486085358728,\n",
       " 'Genres_Adventure': 0.0031809317446480604,\n",
       " 'Genres_Travel & Local': 0.003167548427867276,\n",
       " 'Size_6.4M': 0.0031550180192924096,\n",
       " 'Installs_100+': 0.003105418717166585,\n",
       " 'Genres_Communication': 0.003092611031344022,\n",
       " 'Genres_Sports': 0.0029903629710067666,\n",
       " 'Size_26M': 0.002980528808244514,\n",
       " 'Size_69M': 0.0029407065937041535,\n",
       " 'Size_6.9M': 0.002923038908149442,\n",
       " 'Size_9.5M': 0.0029112098323059213,\n",
       " 'Genres_Music': 0.0029032963033468772,\n",
       " 'Category_BUSINESS': 0.0027964915056730914,\n",
       " 'Category_PRODUCTIVITY': 0.0027901820669086605,\n",
       " 'Size_40M': 0.0027547322186392055,\n",
       " 'Category_LIBRARIES_AND_DEMO': 0.002708932791150994,\n",
       " 'Size_8.6M': 0.002654649198538569,\n",
       " 'Category_LIFESTYLE': 0.0026454353551312263,\n",
       " 'Size_30M': 0.002611455043663965,\n",
       " 'Size_3.5M': 0.0026047337542020473,\n",
       " 'Size_53M': 0.0025467856160157737,\n",
       " 'Size_56M': 0.002531184542563285,\n",
       " 'Size_50M': 0.0025221158468272838,\n",
       " 'Size_29M': 0.0024921106665256126,\n",
       " 'Size_3.1M': 0.002484425107787108,\n",
       " 'Size_2.8M': 0.002413397898905659,\n",
       " 'Genres_Maps & Navigation': 0.002407610684606401,\n",
       " 'Size_62M': 0.0023709671069072316,\n",
       " 'Size_8.0M': 0.002360453416574168,\n",
       " 'Size_31M': 0.0023383809404504906,\n",
       " 'Size_2.5M': 0.002336244609875754,\n",
       " 'Size_2.1M': 0.002333969886678489,\n",
       " 'Size_34M': 0.002311710100465723,\n",
       " 'Size_4.9M': 0.0023110361402788977,\n",
       " 'Size_2.6M': 0.00225272091847564,\n",
       " 'Size_35M': 0.0022478236761306696,\n",
       " 'Installs_100,000,000+': 0.0022369786096490345,\n",
       " 'Size_60M': 0.002234726495032475,\n",
       " 'Category_EVENTS': 0.0022281569866060146,\n",
       " 'Genres_Video Players & Editors': 0.002207103554025686,\n",
       " 'Size_2.9M': 0.002187889749929396,\n",
       " 'Installs_1,000,000,000+': 0.0021831512705799074,\n",
       " 'Size_4.2M': 0.002181879434767038,\n",
       " 'Genres_Comics': 0.002180863362671742,\n",
       " 'Size_4.1M': 0.0021717093949328277,\n",
       " 'Category_NEWS_AND_MAGAZINES': 0.0021448320274796845,\n",
       " 'Size_3.4M': 0.0021353209240160542,\n",
       " 'Size_6.1M': 0.0021338344931197267,\n",
       " 'Size_99M': 0.002122829380013554,\n",
       " 'Size_39M': 0.00212100249484951,\n",
       " 'Genres_Social': 0.0021020000534661292,\n",
       " 'Size_5.4M': 0.0021018422351777146,\n",
       " 'Size_49M': 0.0020853430398536294,\n",
       " 'Size_7.1M': 0.002081588325843087,\n",
       " 'Size_45M': 0.002066190847819855,\n",
       " 'Genres_Business': 0.0020335479284461656,\n",
       " 'Size_48M': 0.0020154553420434,\n",
       " 'Size_3.0M': 0.0020013728282894144,\n",
       " 'Category_MAPS_AND_NAVIGATION': 0.0019994433127314246,\n",
       " 'Size_6.7M': 0.0019845378519188126,\n",
       " 'Size_2.0M': 0.001976221486724629,\n",
       " 'Genres_Entertainment;Music & Video': 0.0019711673170800586,\n",
       " 'Size_1.2M': 0.001960240983266696,\n",
       " 'Genres_Word': 0.0019311881339146965,\n",
       " 'Genres_Arcade': 0.0019157286798543133,\n",
       " 'Size_8.9M': 0.0019105107304461001,\n",
       " 'Size_7.8M': 0.0018955406068019212,\n",
       " 'Size_74M': 0.0018935275174132835,\n",
       " 'Category_FOOD_AND_DRINK': 0.0018816944441139322,\n",
       " 'Size_5.5M': 0.0018794056486532615,\n",
       " 'Size_4.7M': 0.0018786676248868741,\n",
       " 'Size_82M': 0.0018662537207289123,\n",
       " 'Size_5.7M': 0.0018612953211176286,\n",
       " 'Category_PARENTING': 0.001821531864760001,\n",
       " 'Size_1.8M': 0.0018036221301923668,\n",
       " 'Size_52M': 0.0017912253509404382,\n",
       " 'Size_1.9M': 0.0017764645071888976,\n",
       " 'Genres_Beauty': 0.001773071327610194,\n",
       " 'Category_DATING': 0.0017582288881756768,\n",
       " 'Size_9.1M': 0.0017517654739885068,\n",
       " 'Size_4.3M': 0.0017310215381298813,\n",
       " 'Size_5.0M': 0.0017241361512155395,\n",
       " 'Size_70M': 0.001721102488389878,\n",
       " 'Size_57M': 0.0017160019824808334,\n",
       " 'Size_28M': 0.0016953801185854225,\n",
       " 'Size_3.7M': 0.0016909509375348387,\n",
       " 'Genres_Strategy': 0.00168917866501861,\n",
       " 'Category_SHOPPING': 0.0016511414759224794,\n",
       " 'Size_47M': 0.001644612291010715,\n",
       " 'Genres_Racing': 0.0016338462530226978,\n",
       " 'Genres_Educational;Education': 0.001629934386451584,\n",
       " 'Category_FINANCE': 0.0016197641563392535,\n",
       " 'Genres_House & Home': 0.0015910890871186456,\n",
       " 'Size_3.2M': 0.0015866922037280201,\n",
       " 'Size_1.1M': 0.0015566893871560112,\n",
       " 'Size_8.5M': 0.001513461676040331,\n",
       " 'Size_6.3M': 0.001513015410508303,\n",
       " 'Size_6.8M': 0.0014974041815014067,\n",
       " 'Size_100M': 0.0014933268258386287,\n",
       " 'Category_WEATHER': 0.0014795859805681268,\n",
       " 'Size_9.2M': 0.0014524511887599712,\n",
       " 'Size_2.7M': 0.0014223598726161783,\n",
       " 'Size_8.7M': 0.0013718097378997572,\n",
       " 'Genres_Medical': 0.0013566557409215917,\n",
       " 'Size_8.2M': 0.001340585925363522,\n",
       " 'Size_7.7M': 0.0013265511554673996,\n",
       " 'Installs_50,000,000+': 0.0013090105044046513,\n",
       " 'Category_EDUCATION': 0.001308667263265498,\n",
       " 'Genres_Casino': 0.001299536992590867,\n",
       " 'Genres_Weather': 0.001277264194778399,\n",
       " 'Size_4.4M': 0.001271332793123613,\n",
       " 'Size_4.6M': 0.001267594884910769,\n",
       " 'Genres_Auto & Vehicles': 0.0012536355178872916,\n",
       " 'Size_91M': 0.0012420414092082015,\n",
       " 'Category_AUTO_AND_VEHICLES': 0.0012240796524881357,\n",
       " 'Size_8.8M': 0.0012119673085842773,\n",
       " 'Genres_Education;Education': 0.0011903434357628322,\n",
       " 'Genres_Food & Drink': 0.0011891055875558041,\n",
       " 'Category_ART_AND_DESIGN': 0.0011854676206814717,\n",
       " 'Size_77M': 0.001136507938087525,\n",
       " 'Size_7.4M': 0.00113272911027378,\n",
       " 'Genres_Casual;Brain Games': 0.0011120408725593769,\n",
       " 'Size_2.2M': 0.0011052594467123923,\n",
       " 'Genres_Books & Reference': 0.0011034603370782205,\n",
       " 'Size_5.6M': 0.0010948392757160748,\n",
       " 'Category_COMICS': 0.0010921548335418628,\n",
       " 'Genres_Racing;Action & Adventure': 0.0010657867870990216,\n",
       " 'Size_1.4M': 0.0010589454793174958,\n",
       " 'Category_HOUSE_AND_HOME': 0.001050635537618488,\n",
       " 'Genres_Adventure;Action & Adventure': 0.0010504631896689374,\n",
       " 'Size_3.9M': 0.001049982426059281,\n",
       " 'Genres_Educational;Pretend Play': 0.0010485065316058204,\n",
       " 'Genres_Educational;Brain Games': 0.001047566966570284,\n",
       " 'Size_73M': 0.0010339174474010872,\n",
       " 'Size_54M': 0.001014844192056101,\n",
       " 'Size_5.1M': 0.0010141342031824657,\n",
       " 'Size_38M': 0.0010043351120805576,\n",
       " 'Size_5.3M': 0.0010036314629186236,\n",
       " 'Genres_Simulation;Pretend Play': 0.0009860384111717664,\n",
       " 'Size_1.3M': 0.0009822498339745525,\n",
       " 'Genres_Dating': 0.0009692040057498658,\n",
       " 'Size_43M': 0.0009678477156194964,\n",
       " 'Size_9.3M': 0.0009550613291208836,\n",
       " 'Size_44M': 0.0009504218145074557,\n",
       " 'Size_97M': 0.0009472205626415672,\n",
       " 'Size_9.6M': 0.0009381821215941229,\n",
       " 'Size_9.4M': 0.0009287026836375466,\n",
       " 'Size_5.2M': 0.0009282323992864341,\n",
       " 'Genres_Puzzle;Brain Games': 0.0009207418350827696,\n",
       " 'Size_3.6M': 0.0009205059506782741,\n",
       " 'Size_9.0M': 0.0008800866477827455,\n",
       " 'Size_9.9M': 0.000850213453104968,\n",
       " 'Size_64M': 0.00084641823757406,\n",
       " 'Size_5.8M': 0.0008225559681898974,\n",
       " 'Genres_Simulation;Action & Adventure': 0.0008073309023940845,\n",
       " 'Category_BEAUTY': 0.0008067879176397355,\n",
       " 'Size_59M': 0.0007935592915664147,\n",
       " 'Size_58M': 0.0007909433099314811,\n",
       " 'Size_203k': 0.0007872577501886688,\n",
       " 'Size_7.0M': 0.0007792722321870108,\n",
       " 'Size_89M': 0.0007697605324925289,\n",
       " 'Size_375k': 0.0007669932233503748,\n",
       " 'Genres_Events': 0.000759502583990187,\n",
       " 'Size_9.7M': 0.0007454698371432984,\n",
       " 'Size_837k': 0.0007397813919053846,\n",
       " 'Size_36M': 0.0007372823208359445,\n",
       " 'Size_1.7M': 0.0007325004895873894,\n",
       " 'Size_51M': 0.0007320674471873076,\n",
       " 'Size_94M': 0.0007253915079784465,\n",
       " 'Size_6.6M': 0.0007113947028404438,\n",
       " 'Size_55M': 0.0007105086013532376,\n",
       " 'Size_2.3M': 0.0007043600442275283,\n",
       " 'Size_6.5M': 0.0007003369068267831,\n",
       " 'Size_32M': 0.000683662303353749,\n",
       " 'Size_6.2M': 0.0006825946826201941,\n",
       " 'Genres_Parenting': 0.0006824556403831799,\n",
       " 'Size_66M': 0.0006711576049684381,\n",
       " 'Size_5.9M': 0.000668434697172294,\n",
       " 'Size_7.2M': 0.0006570016298692382,\n",
       " 'Size_8.4M': 0.0006515807924874051,\n",
       " 'Size_72M': 0.0006388244637325361,\n",
       " 'Size_9.8M': 0.0006384851107169358,\n",
       " 'Category_VIDEO_PLAYERS': 0.0006273194726812974,\n",
       " 'Size_2.4M': 0.0006209799751366816,\n",
       " 'Size_80M': 0.0006205452205106768,\n",
       " 'Size_7.5M': 0.0006160716310086173,\n",
       " 'Size_95M': 0.0006025258217615684,\n",
       " 'Genres_Trivia': 0.0005964004182571308,\n",
       " 'Size_8.1M': 0.0005911538963537837,\n",
       " 'Genres_Casual;Action & Adventure': 0.0005877906348106431,\n",
       " 'Size_6.0M': 0.0005811386965727903,\n",
       " 'Genres_Arcade;Pretend Play': 0.000576762791402334,\n",
       " 'Size_552k': 0.0005750116059796325,\n",
       " 'Size_772k': 0.0005660886026095447,\n",
       " 'Size_953k': 0.0005631051879354928,\n",
       " 'Size_42M': 0.0005367331651708127,\n",
       " 'Genres_Board': 0.0005332721703992879,\n",
       " 'Genres_Health & Fitness': 0.0005209817611853662,\n",
       " 'Size_7.9M': 0.0005206038038928556,\n",
       " 'Genres_Education;Pretend Play': 0.000520214931862375,\n",
       " 'Size_1.5M': 0.0004438090028742621,\n",
       " 'Size_71M': 0.00040731978214436935,\n",
       " 'Size_76M': 0.00039605443463535463,\n",
       " 'Size_78M': 0.00039292900506910267,\n",
       " 'Size_266k': 0.0003832509507570566,\n",
       " 'Size_525k': 0.0003832509507570548,\n",
       " 'Genres_Art & Design': 0.00038224265370325833,\n",
       " 'Size_619k': 0.00037986250943090324,\n",
       " 'Genres_Casual;Pretend Play': 0.0003778566842791474,\n",
       " 'Size_899k': 0.00037768853590203953,\n",
       " 'Size_4.8M': 0.00037182562786257747,\n",
       " 'Size_89k': 0.00037162268134836396,\n",
       " 'Size_208k': 0.000365393285816088,\n",
       " 'Genres_Libraries & Demo': 0.00036242209473765077,\n",
       " 'Size_717k': 0.00036242209473765044,\n",
       " 'Size_544k': 0.0003607096745193878,\n",
       " 'Size_27k': 0.0003605020642122044,\n",
       " 'Size_65M': 0.0003570671229450422,\n",
       " 'Size_87M': 0.0003542765406864765,\n",
       " 'Genres_Puzzle;Creativity': 0.0003530123066499418,\n",
       " 'Installs_500,000,000+': 0.0003393672541054839,\n",
       " 'Size_957k': 0.00033935333866422424,\n",
       " 'Size_293k': 0.00033928445309004175,\n",
       " 'Size_85M': 0.0003356672939273112,\n",
       " 'Size_93M': 0.0003356371762905171,\n",
       " 'Size_84M': 0.0003355955093408717,\n",
       " 'Genres_Action;Action & Adventure': 0.0003343569703093426,\n",
       " 'Size_780k': 0.0003319598509268085,\n",
       " 'Genres_Sports;Action & Adventure': 0.0003307654070187587,\n",
       " 'Size_840k': 0.00032957096311067634,\n",
       " 'Size_10.0M': 0.00032720776962791087,\n",
       " 'Size_79M': 0.0003229219195515214,\n",
       " 'Size_96M': 0.0003204362172193842,\n",
       " 'Genres_Role Playing;Brain Games': 0.00031877788931508567,\n",
       " 'Size_234k': 0.00031800469288878843,\n",
       " 'Size_61M': 0.000317980390907161,\n",
       " 'Genres_Educational': 0.00031226308366936876,\n",
       " 'Size_88M': 0.00031128126916909067,\n",
       " 'Size_192k': 0.0003085223186017694,\n",
       " 'Genres_Role Playing;Action & Adventure': 0.0003085223186017689,\n",
       " 'Size_28k': 0.00030680965922525295,\n",
       " 'Size_25k': 0.0003065716978537834,\n",
       " 'Category_TOOLS': 0.0002849814762039655,\n",
       " 'Size_17k': 0.00028498147620396457,\n",
       " 'Installs_1+': 0.0002849814762039642,\n",
       " 'Size_259k': 0.0002849814762039628,\n",
       " 'Installs_10+': 0.0002849814762039628,\n",
       " 'Genres_Lifestyle;Education': 0.00027461623038655894,\n",
       " 'Size_23k': 0.0002506824316040498,\n",
       " 'Genres_Card': 0.00011717988330755137,\n",
       " 'Size_68M': 0.00010578525170758902,\n",
       " 'Size_1.0M': 0.0,\n",
       " 'Size_103k': 0.0,\n",
       " 'Size_116k': 0.0,\n",
       " 'Size_118k': 0.0,\n",
       " 'Size_121k': 0.0,\n",
       " 'Size_122k': 0.0,\n",
       " 'Size_141k': 0.0,\n",
       " 'Size_143k': 0.0,\n",
       " 'Size_144k': 0.0,\n",
       " 'Size_14k': 0.0,\n",
       " 'Size_153k': 0.0,\n",
       " 'Size_154k': 0.0,\n",
       " 'Size_160k': 0.0,\n",
       " 'Size_161k': 0.0,\n",
       " 'Size_164k': 0.0,\n",
       " 'Size_169k': 0.0,\n",
       " 'Size_170k': 0.0,\n",
       " 'Size_173k': 0.0,\n",
       " 'Size_175k': 0.0,\n",
       " 'Size_176k': 0.0,\n",
       " 'Size_186k': 0.0,\n",
       " 'Size_18k': 0.0,\n",
       " 'Size_190k': 0.0,\n",
       " 'Size_193k': 0.0,\n",
       " 'Size_196k': 0.0,\n",
       " 'Size_201k': 0.0,\n",
       " 'Size_206k': 0.0,\n",
       " 'Size_209k': 0.0,\n",
       " 'Size_20k': 0.0,\n",
       " 'Size_210k': 0.0,\n",
       " 'Size_219k': 0.0,\n",
       " 'Size_220k': 0.0,\n",
       " 'Size_221k': 0.0,\n",
       " 'Size_226k': 0.0,\n",
       " 'Size_228k': 0.0,\n",
       " 'Size_232k': 0.0,\n",
       " 'Size_239k': 0.0,\n",
       " 'Size_240k': 0.0,\n",
       " 'Size_241k': 0.0,\n",
       " 'Size_246k': 0.0,\n",
       " 'Size_24k': 0.0,\n",
       " 'Size_251k': 0.0,\n",
       " 'Size_253k': 0.0,\n",
       " 'Size_257k': 0.0,\n",
       " 'Size_26k': 0.0,\n",
       " 'Size_270k': 0.0,\n",
       " 'Size_280k': 0.0,\n",
       " 'Size_283k': 0.0,\n",
       " 'Size_288k': 0.0,\n",
       " 'Size_292k': 0.0,\n",
       " 'Size_29k': 0.0,\n",
       " 'Size_306k': 0.0,\n",
       " 'Size_308k': 0.0,\n",
       " 'Size_309k': 0.0,\n",
       " 'Size_313k': 0.0,\n",
       " 'Size_314k': 0.0,\n",
       " 'Size_317k': 0.0,\n",
       " 'Size_318k': 0.0,\n",
       " 'Size_322k': 0.0,\n",
       " 'Size_323k': 0.0,\n",
       " 'Size_334k': 0.0,\n",
       " 'Size_335k': 0.0,\n",
       " 'Size_33k': 0.0,\n",
       " 'Size_34k': 0.0,\n",
       " 'Size_350k': 0.0,\n",
       " 'Size_351k': 0.0,\n",
       " 'Size_364k': 0.0,\n",
       " 'Size_371k': 0.0,\n",
       " 'Size_373k': 0.0,\n",
       " 'Size_376k': 0.0,\n",
       " 'Size_378k': 0.0,\n",
       " 'Size_383k': 0.0,\n",
       " 'Size_387k': 0.0,\n",
       " 'Size_39k': 0.0,\n",
       " 'Size_4.5M': 0.0,\n",
       " 'Size_400k': 0.0,\n",
       " 'Size_404k': 0.0,\n",
       " 'Size_411k': 0.0,\n",
       " 'Size_412k': 0.0,\n",
       " 'Size_414k': 0.0,\n",
       " 'Size_417k': 0.0,\n",
       " 'Size_41M': 0.0,\n",
       " 'Size_41k': 0.0,\n",
       " 'Size_420k': 0.0,\n",
       " 'Size_429k': 0.0,\n",
       " 'Size_430k': 0.0,\n",
       " 'Size_437k': 0.0,\n",
       " 'Size_442k': 0.0,\n",
       " 'Size_444k': 0.0,\n",
       " 'Size_454k': 0.0,\n",
       " 'Size_458k': 0.0,\n",
       " 'Size_459k': 0.0,\n",
       " 'Size_45k': 0.0,\n",
       " 'Size_460k': 0.0,\n",
       " 'Size_467k': 0.0,\n",
       " 'Size_470k': 0.0,\n",
       " 'Size_473k': 0.0,\n",
       " 'Size_478k': 0.0,\n",
       " 'Size_485k': 0.0,\n",
       " 'Size_48k': 0.0,\n",
       " 'Size_496k': 0.0,\n",
       " 'Size_498k': 0.0,\n",
       " 'Size_499k': 0.0,\n",
       " 'Size_500k': 0.0,\n",
       " 'Size_506k': 0.0,\n",
       " 'Size_50k': 0.0,\n",
       " 'Size_511k': 0.0,\n",
       " 'Size_516k': 0.0,\n",
       " 'Size_51k': 0.0,\n",
       " 'Size_523k': 0.0,\n",
       " 'Size_526k': 0.0,\n",
       " 'Size_540k': 0.0,\n",
       " 'Size_545k': 0.0,\n",
       " 'Size_54k': 0.0,\n",
       " 'Size_551k': 0.0,\n",
       " 'Size_554k': 0.0,\n",
       " 'Size_556k': 0.0,\n",
       " 'Size_55k': 0.0,\n",
       " 'Size_562k': 0.0,\n",
       " 'Size_582k': 0.0,\n",
       " 'Size_585k': 0.0,\n",
       " 'Size_58k': 0.0,\n",
       " 'Size_592k': 0.0,\n",
       " 'Size_597k': 0.0,\n",
       " 'Size_598k': 0.0,\n",
       " 'Size_600k': 0.0,\n",
       " 'Size_608k': 0.0,\n",
       " 'Size_609k': 0.0,\n",
       " 'Size_613k': 0.0,\n",
       " 'Size_61k': 0.0,\n",
       " 'Size_624k': 0.0,\n",
       " 'Size_626k': 0.0,\n",
       " 'Size_629k': 0.0,\n",
       " 'Size_636k': 0.0,\n",
       " 'Size_643k': 0.0,\n",
       " 'Size_647k': 0.0,\n",
       " 'Size_655k': 0.0,\n",
       " 'Size_656k': 0.0,\n",
       " 'Size_676k': 0.0,\n",
       " 'Size_67M': 0.0,\n",
       " 'Size_683k': 0.0,\n",
       " 'Size_691k': 0.0,\n",
       " 'Size_695k': 0.0,\n",
       " 'Size_696k': 0.0,\n",
       " 'Size_7.3M': 0.0,\n",
       " 'Size_7.6M': 0.0,\n",
       " 'Size_704k': 0.0,\n",
       " 'Size_70k': 0.0,\n",
       " 'Size_713k': 0.0,\n",
       " 'Size_714k': 0.0,\n",
       " 'Size_716k': 0.0,\n",
       " 'Size_720k': 0.0,\n",
       " 'Size_721k': 0.0,\n",
       " 'Size_728k': 0.0,\n",
       " 'Size_72k': 0.0,\n",
       " 'Size_730k': 0.0,\n",
       " 'Size_73k': 0.0,\n",
       " 'Size_746k': 0.0,\n",
       " 'Size_74k': 0.0,\n",
       " 'Size_756k': 0.0,\n",
       " 'Size_75M': 0.0,\n",
       " 'Size_775k': 0.0,\n",
       " 'Size_778k': 0.0,\n",
       " 'Size_779k': 0.0,\n",
       " 'Size_782k': 0.0,\n",
       " 'Size_784k': 0.0,\n",
       " 'Size_785k': 0.0,\n",
       " 'Size_787k': 0.0,\n",
       " 'Size_78k': 0.0,\n",
       " 'Size_79k': 0.0,\n",
       " 'Size_8.3M': 0.0,\n",
       " 'Size_8.5k': 0.0,\n",
       " 'Size_801k': 0.0,\n",
       " 'Size_809k': 0.0,\n",
       " 'Size_811k': 0.0,\n",
       " 'Size_812k': 0.0,\n",
       " 'Size_816k': 0.0,\n",
       " 'Size_818k': 0.0,\n",
       " 'Size_81M': 0.0,\n",
       " 'Size_81k': 0.0,\n",
       " 'Size_82k': 0.0,\n",
       " 'Size_83M': 0.0,\n",
       " 'Size_842k': 0.0,\n",
       " 'Size_847k': 0.0,\n",
       " 'Size_853k': 0.0,\n",
       " 'Size_857k': 0.0,\n",
       " 'Size_860k': 0.0,\n",
       " 'Size_861k': 0.0,\n",
       " 'Size_862k': 0.0,\n",
       " 'Size_865k': 0.0,\n",
       " 'Size_86M': 0.0,\n",
       " 'Size_872k': 0.0,\n",
       " 'Size_879k': 0.0,\n",
       " 'Size_887k': 0.0,\n",
       " 'Size_892k': 0.0,\n",
       " 'Size_903k': 0.0,\n",
       " 'Size_90M': 0.0,\n",
       " 'Size_914k': 0.0,\n",
       " 'Size_916k': 0.0,\n",
       " 'Size_91k': 0.0,\n",
       " 'Size_920k': 0.0,\n",
       " 'Size_924k': 0.0,\n",
       " 'Size_92M': 0.0,\n",
       " 'Size_930k': 0.0,\n",
       " 'Size_939k': 0.0,\n",
       " 'Size_93k': 0.0,\n",
       " 'Size_948k': 0.0,\n",
       " 'Size_951k': 0.0,\n",
       " 'Size_954k': 0.0,\n",
       " 'Size_963k': 0.0,\n",
       " 'Size_965k': 0.0,\n",
       " 'Size_975k': 0.0,\n",
       " 'Size_976k': 0.0,\n",
       " 'Size_980k': 0.0,\n",
       " 'Size_982k': 0.0,\n",
       " 'Size_986k': 0.0,\n",
       " 'Size_98M': 0.0,\n",
       " 'Size_994k': 0.0,\n",
       " 'Installs_5+': 0.0,\n",
       " 'Installs_50+': 0.0,\n",
       " 'Type_Paid': 0.0,\n",
       " 'Content Rating_Adults only 18+': 0.0,\n",
       " 'Content Rating_Unrated': 0.0,\n",
       " 'Genres_Adventure;Brain Games': 0.0,\n",
       " 'Genres_Adventure;Education': 0.0,\n",
       " 'Genres_Arcade;Action & Adventure': 0.0,\n",
       " 'Genres_Art & Design;Creativity': 0.0,\n",
       " 'Genres_Art & Design;Pretend Play': 0.0,\n",
       " 'Genres_Board;Action & Adventure': 0.0,\n",
       " 'Genres_Board;Brain Games': 0.0,\n",
       " 'Genres_Board;Pretend Play': 0.0,\n",
       " 'Genres_Books & Reference;Education': 0.0,\n",
       " 'Genres_Card;Action & Adventure': 0.0,\n",
       " 'Genres_Card;Brain Games': 0.0,\n",
       " 'Genres_Casual;Creativity': 0.0,\n",
       " 'Genres_Casual;Education': 0.0,\n",
       " 'Genres_Casual;Music & Video': 0.0,\n",
       " 'Genres_Comics;Creativity': 0.0,\n",
       " 'Genres_Communication;Creativity': 0.0,\n",
       " 'Genres_Education;Action & Adventure': 0.0,\n",
       " 'Genres_Education;Brain Games': 0.0,\n",
       " 'Genres_Education;Creativity': 0.0,\n",
       " 'Genres_Education;Music & Video': 0.0,\n",
       " 'Genres_Educational;Action & Adventure': 0.0,\n",
       " 'Genres_Educational;Creativity': 0.0,\n",
       " 'Genres_Entertainment;Action & Adventure': 0.0,\n",
       " 'Genres_Entertainment;Brain Games': 0.0,\n",
       " 'Genres_Entertainment;Creativity': 0.0,\n",
       " 'Genres_Entertainment;Education': 0.0,\n",
       " 'Genres_Entertainment;Pretend Play': 0.0,\n",
       " 'Genres_Health & Fitness;Action & Adventure': 0.0,\n",
       " 'Genres_Health & Fitness;Education': 0.0,\n",
       " 'Genres_Lifestyle;Pretend Play': 0.0,\n",
       " 'Genres_Music & Audio;Music & Video': 0.0,\n",
       " 'Genres_Music;Music & Video': 0.0,\n",
       " 'Genres_Parenting;Brain Games': 0.0,\n",
       " 'Genres_Parenting;Education': 0.0,\n",
       " 'Genres_Parenting;Music & Video': 0.0,\n",
       " 'Genres_Puzzle;Action & Adventure': 0.0,\n",
       " 'Genres_Puzzle;Education': 0.0,\n",
       " 'Genres_Racing;Pretend Play': 0.0,\n",
       " 'Genres_Role Playing;Pretend Play': 0.0,\n",
       " 'Genres_Simulation;Education': 0.0,\n",
       " 'Genres_Strategy;Action & Adventure': 0.0,\n",
       " 'Genres_Strategy;Creativity': 0.0,\n",
       " 'Genres_Strategy;Education': 0.0,\n",
       " 'Genres_Tools;Education': 0.0,\n",
       " 'Genres_Travel & Local;Action & Adventure': 0.0,\n",
       " 'Genres_Video Players & Editors;Creativity': 0.0,\n",
       " 'Genres_Video Players & Editors;Music & Video': 0.0}"
      ]
     },
     "execution_count": 43,
     "metadata": {},
     "output_type": "execute_result"
    }
   ],
   "source": [
    "# Look at feature importances\n",
    "import operator\n",
    "\n",
    "coef = dt.feature_importances_ # Pull feature impotances from dt model above\n",
    "d = dict(zip(X.columns, coef)) # Zip them in dictionary\n",
    "sorted_dict = dict( sorted(d.items(), key=operator.itemgetter(1),reverse=True)) # Sort dictionary based on descending importance\n",
    "sorted_dict\n",
    "\n",
    "# Reviews are big driver\n",
    "# Events apps or Casual apps are next up, but far from Reviews"
   ]
  },
  {
   "cell_type": "markdown",
   "metadata": {},
   "source": [
    "## Try KNN"
   ]
  },
  {
   "cell_type": "code",
   "execution_count": 44,
   "metadata": {},
   "outputs": [],
   "source": [
    "# X and y split of preprocessed \n",
    "X = preprocessed.drop(columns=['Pos Rating'], axis=1)\n",
    "y = preprocessed['Pos Rating']"
   ]
  },
  {
   "cell_type": "code",
   "execution_count": 45,
   "metadata": {},
   "outputs": [],
   "source": [
    "X_train, X_test, y_train, y_test = train_test_split(X, y, test_size=0.25, random_state=42)"
   ]
  },
  {
   "cell_type": "code",
   "execution_count": 46,
   "metadata": {},
   "outputs": [],
   "source": [
    "# Instantiate\n",
    "knn = KNeighborsClassifier()\n",
    "\n",
    "# Fit\n",
    "knn.fit(X_train, y_train)\n",
    "\n",
    "# Preds\n",
    "train_preds = knn.predict(X_train)\n",
    "test_preds = knn.predict(X_test)"
   ]
  },
  {
   "cell_type": "code",
   "execution_count": 47,
   "metadata": {
    "scrolled": false
   },
   "outputs": [
    {
     "name": "stdout",
     "output_type": "stream",
     "text": [
      "Train Scores\n",
      "------------\n",
      "Accuracy: 0.8032763532763533\n",
      "Recall: 0.5631111111111111\n",
      "F1 Score: 0.6472541507024266\n",
      "--------------------\n",
      "Test Scores\n",
      "-----------\n",
      "Accuracy: 0.7175213675213675\n",
      "Recall: 0.3806818181818182\n",
      "Recall Mean Cross Val 3-Fold: 0.3831111111111111\n",
      "F1 Score: 0.4477861319966583\n"
     ]
    },
    {
     "data": {
      "image/png": "[encoded data removed]",
      "text/plain": [
       "<Figure size 432x288 with 2 Axes>"
      ]
     },
     "metadata": {
      "needs_background": "light"
     },
     "output_type": "display_data"
    }
   ],
   "source": [
    "# print scores\n",
    "print(\"Train Scores\")\n",
    "print(\"------------\")\n",
    "print(f\"Accuracy: {accuracy_score(y_train, train_preds)}\")\n",
    "print(f\"Recall: {recall_score(y_train, train_preds)}\")\n",
    "print(f\"F1 Score: {f1_score(y_train, train_preds)}\")\n",
    "print(\"----\" * 5)\n",
    "print(\"Test Scores\")\n",
    "print(\"-----------\")\n",
    "print(f\"Accuracy: {accuracy_score(y_test, test_preds)}\")\n",
    "print(f\"Recall: {recall_score(y_test, test_preds)}\")\n",
    "print(f\"Recall Mean Cross Val 3-Fold: {np.mean(cross_val_score(knn, X_train, y_train, cv=3, scoring='recall'))}\")\n",
    "print(f\"F1 Score: {f1_score(y_test, test_preds)}\")\n",
    "\n",
    "# plot test confusion matrix\n",
    "plot_confusion_matrix(knn, X_test, y_test, values_format='')\n",
    "plt.show()\n",
    "\n",
    "# Overfit\n",
    "# Similar accuracy to logreg and decision tree\n",
    "# Recall and F1 suffers. Stick with decision tree since going for recall"
   ]
  },
  {
   "cell_type": "markdown",
   "metadata": {},
   "source": [
    "## Try Random Forest"
   ]
  },
  {
   "cell_type": "code",
   "execution_count": 48,
   "metadata": {},
   "outputs": [],
   "source": [
    "# X and y split of preprocessed \n",
    "X = preprocessed.drop(columns=['Pos Rating'], axis=1)\n",
    "y = preprocessed['Pos Rating']"
   ]
  },
  {
   "cell_type": "code",
   "execution_count": 49,
   "metadata": {},
   "outputs": [],
   "source": [
    "X_train, X_test, y_train, y_test = train_test_split(X, y, test_size=0.25, random_state=42)"
   ]
  },
  {
   "cell_type": "code",
   "execution_count": 50,
   "metadata": {},
   "outputs": [],
   "source": [
    "# Instantiate\n",
    "rf = DecisionTreeClassifier(class_weight='balanced')\n",
    "\n",
    "# Fit\n",
    "rf.fit(X_train, y_train)\n",
    "\n",
    "# Preds\n",
    "train_preds = rf.predict(X_train)\n",
    "test_preds = rf.predict(X_test)"
   ]
  },
  {
   "cell_type": "code",
   "execution_count": 51,
   "metadata": {
    "scrolled": false
   },
   "outputs": [
    {
     "name": "stdout",
     "output_type": "stream",
     "text": [
      "Train Scores\n",
      "------------\n",
      "Accuracy: 0.9998575498575498\n",
      "Recall: 1.0\n",
      "F1 Score: 0.9997778271495222\n",
      "--------------------\n",
      "Test Scores\n",
      "-----------\n",
      "Accuracy: 0.7235042735042735\n",
      "Recall: 0.5710227272727273\n",
      "Recall Mean Cross Val 3-Fold: 0.5582222222222223\n",
      "F1 Score: 0.5541006202618883\n"
     ]
    },
    {
     "data": {
      "image/png": "[encoded data removed]",
      "text/plain": [
       "<Figure size 432x288 with 2 Axes>"
      ]
     },
     "metadata": {
      "needs_background": "light"
     },
     "output_type": "display_data"
    }
   ],
   "source": [
    "# print scores\n",
    "print(\"Train Scores\")\n",
    "print(\"------------\")\n",
    "print(f\"Accuracy: {accuracy_score(y_train, train_preds)}\")\n",
    "print(f\"Recall: {recall_score(y_train, train_preds)}\")\n",
    "print(f\"F1 Score: {f1_score(y_train, train_preds)}\")\n",
    "print(\"----\" * 5)\n",
    "print(\"Test Scores\")\n",
    "print(\"-----------\")\n",
    "print(f\"Accuracy: {accuracy_score(y_test, test_preds)}\")\n",
    "print(f\"Recall: {recall_score(y_test, test_preds)}\")\n",
    "print(f\"Recall Mean Cross Val 3-Fold: {np.mean(cross_val_score(rf, X_train, y_train, cv=3, scoring='recall'))}\")\n",
    "print(f\"F1 Score: {f1_score(y_test, test_preds)}\")\n",
    "\n",
    "# plot test confusion matrix\n",
    "plot_confusion_matrix(rf, X_test, y_test, values_format='')\n",
    "plt.show()\n",
    "\n",
    "# Overfit, but can tune\n",
    "# Better accuracy similar to decision tree\n",
    "# Recall is also similar\n",
    "# Slightly lower f1 score"
   ]
  },
  {
   "cell_type": "markdown",
   "metadata": {},
   "source": [
    "## Too Many OHE Columns in Baseline Dataset to Appropriately measure - Data Cleansing Round 2 then try again"
   ]
  },
  {
   "cell_type": "markdown",
   "metadata": {},
   "source": [
    "Get to \n",
    "- Numeric = ['Reviews', 'Size Trans']\n",
    "- Ordinal = ['Installs']\n",
    "- OHE = ['Category', 'Type', 'Content Rating', 'Genres']"
   ]
  },
  {
   "cell_type": "markdown",
   "metadata": {},
   "source": [
    "#### Make installs Ordinal"
   ]
  },
  {
   "cell_type": "code",
   "execution_count": 52,
   "metadata": {},
   "outputs": [
    {
     "data": {
      "text/plain": [
       "1,000,000+        1576\n",
       "10,000,000+       1252\n",
       "100,000+          1150\n",
       "10,000+           1009\n",
       "5,000,000+         752\n",
       "1,000+             712\n",
       "500,000+           537\n",
       "50,000+            466\n",
       "5,000+             431\n",
       "100,000,000+       409\n",
       "100+               309\n",
       "50,000,000+        289\n",
       "500+               201\n",
       "500,000,000+        72\n",
       "10+                 69\n",
       "1,000,000,000+      58\n",
       "50+                 56\n",
       "5+                   9\n",
       "1+                   3\n",
       "Name: Installs, dtype: int64"
      ]
     },
     "execution_count": 52,
     "metadata": {},
     "output_type": "execute_result"
    }
   ],
   "source": [
    "# Make Installs ordinal instead of categorical\n",
    "df['Installs'].value_counts()"
   ]
  },
  {
   "cell_type": "code",
   "execution_count": 53,
   "metadata": {},
   "outputs": [],
   "source": [
    "# Combine those less than 500 and relabel\n",
    "df['Installs'] = df['Installs'].replace(['1+', '5+', '10+', '50+', '100+', ], 'Less than 500')"
   ]
  },
  {
   "cell_type": "code",
   "execution_count": 54,
   "metadata": {},
   "outputs": [
    {
     "data": {
      "text/plain": [
       "1,000,000+        1576\n",
       "10,000,000+       1252\n",
       "100,000+          1150\n",
       "10,000+           1009\n",
       "5,000,000+         752\n",
       "1,000+             712\n",
       "500,000+           537\n",
       "50,000+            466\n",
       "Less than 500      446\n",
       "5,000+             431\n",
       "100,000,000+       409\n",
       "50,000,000+        289\n",
       "500+               201\n",
       "500,000,000+        72\n",
       "1,000,000,000+      58\n",
       "Name: Installs, dtype: int64"
      ]
     },
     "execution_count": 54,
     "metadata": {},
     "output_type": "execute_result"
    }
   ],
   "source": [
    "# Check work\n",
    "df['Installs'].value_counts()"
   ]
  },
  {
   "cell_type": "code",
   "execution_count": 55,
   "metadata": {},
   "outputs": [],
   "source": [
    "# Ordinal mapping\n",
    "df['Installs'] = df['Installs'].replace(['1+', '5+', '10+', '50+', '100+'], 'Less than 500')"
   ]
  },
  {
   "cell_type": "code",
   "execution_count": 56,
   "metadata": {},
   "outputs": [
    {
     "data": {
      "text/plain": [
       "1,000,000+        1576\n",
       "10,000,000+       1252\n",
       "100,000+          1150\n",
       "10,000+           1009\n",
       "5,000,000+         752\n",
       "1,000+             712\n",
       "500,000+           537\n",
       "50,000+            466\n",
       "Less than 500      446\n",
       "5,000+             431\n",
       "100,000,000+       409\n",
       "50,000,000+        289\n",
       "500+               201\n",
       "500,000,000+        72\n",
       "1,000,000,000+      58\n",
       "Name: Installs, dtype: int64"
      ]
     },
     "execution_count": 56,
     "metadata": {},
     "output_type": "execute_result"
    }
   ],
   "source": [
    "# Check work\n",
    "df['Installs'].value_counts()"
   ]
  },
  {
   "cell_type": "code",
   "execution_count": 57,
   "metadata": {},
   "outputs": [],
   "source": [
    "# Map ordinal values\n",
    "df['Installs'] = df['Installs'].map({'Less than 500': 0,\n",
    "                                    '500+': 1,\n",
    "                                    '1,000+': 2,\n",
    "                                    '5,000+': 3,\n",
    "                                    '10,000+': 4,\n",
    "                                    '50,000+': 5,\n",
    "                                    '100,000+': 6,\n",
    "                                    '500,000+': 7,\n",
    "                                    '1,000,000+': 8,\n",
    "                                    '5,000,000+': 9,\n",
    "                                    '10,000,000+': 10,\n",
    "                                    '50,000,000+': 11,\n",
    "                                    '100,000,000+': 12,\n",
    "                                    '500,000,000+': 13,\n",
    "                                    '1,000,000,000+': 14})"
   ]
  },
  {
   "cell_type": "code",
   "execution_count": 58,
   "metadata": {},
   "outputs": [
    {
     "data": {
      "text/plain": [
       "8     1576\n",
       "10    1252\n",
       "6     1150\n",
       "4     1009\n",
       "9      752\n",
       "2      712\n",
       "7      537\n",
       "5      466\n",
       "0      446\n",
       "3      431\n",
       "12     409\n",
       "11     289\n",
       "1      201\n",
       "13      72\n",
       "14      58\n",
       "Name: Installs, dtype: int64"
      ]
     },
     "execution_count": 58,
     "metadata": {},
     "output_type": "execute_result"
    }
   ],
   "source": [
    "# Check results; matches counts table above\n",
    "df['Installs'].value_counts()"
   ]
  },
  {
   "cell_type": "markdown",
   "metadata": {},
   "source": [
    "#### Genre clean"
   ]
  },
  {
   "cell_type": "code",
   "execution_count": 59,
   "metadata": {},
   "outputs": [
    {
     "data": {
      "text/plain": [
       "0                     Art & Design\n",
       "1        Art & Design;Pretend Play\n",
       "2                     Art & Design\n",
       "3                     Art & Design\n",
       "4          Art & Design;Creativity\n",
       "                   ...            \n",
       "10834                    Education\n",
       "10836                    Education\n",
       "10837                    Education\n",
       "10839            Books & Reference\n",
       "10840                    Lifestyle\n",
       "Name: Genres, Length: 9360, dtype: object"
      ]
     },
     "execution_count": 59,
     "metadata": {},
     "output_type": "execute_result"
    }
   ],
   "source": [
    "# Preview Genres values\n",
    "df['Genres']"
   ]
  },
  {
   "cell_type": "code",
   "execution_count": 60,
   "metadata": {},
   "outputs": [],
   "source": [
    "# Some have multiple values, create lists\n",
    "df['Genres'] = df['Genres'].str.split(';')"
   ]
  },
  {
   "cell_type": "code",
   "execution_count": 61,
   "metadata": {
    "scrolled": true
   },
   "outputs": [
    {
     "data": {
      "text/plain": [
       "['Art & Design', 'Pretend Play']"
      ]
     },
     "execution_count": 61,
     "metadata": {},
     "output_type": "execute_result"
    }
   ],
   "source": [
    "# View multi-genre value\n",
    "df['Genres'][1]"
   ]
  },
  {
   "cell_type": "code",
   "execution_count": 62,
   "metadata": {},
   "outputs": [
    {
     "data": {
      "text/plain": [
       "2"
      ]
     },
     "execution_count": 62,
     "metadata": {},
     "output_type": "execute_result"
    }
   ],
   "source": [
    "# Test references for for loop \n",
    "len(df['Genres'][1])"
   ]
  },
  {
   "cell_type": "code",
   "execution_count": 63,
   "metadata": {},
   "outputs": [
    {
     "data": {
      "text/plain": [
       "'Art & Design'"
      ]
     },
     "execution_count": 63,
     "metadata": {},
     "output_type": "execute_result"
    }
   ],
   "source": [
    "# Test references for for loop \n",
    "df['Genres'][1][0]"
   ]
  },
  {
   "cell_type": "code",
   "execution_count": 64,
   "metadata": {},
   "outputs": [
    {
     "name": "stderr",
     "output_type": "stream",
     "text": [
      "/opt/anaconda3/envs/learn-env/lib/python3.6/site-packages/ipykernel_launcher.py:3: SettingWithCopyWarning: \n",
      "A value is trying to be set on a copy of a slice from a DataFrame\n",
      "\n",
      "See the caveats in the documentation: http://pandas.pydata.org/pandas-docs/stable/user_guide/indexing.html#returning-a-view-versus-a-copy\n",
      "  This is separate from the ipykernel package so we can avoid doing imports until\n"
     ]
    }
   ],
   "source": [
    "# Some apps have multiple Genres - take first listed genre as priority\n",
    "for row in df['Genres'].index:\n",
    "    df['Genres'][row] = df['Genres'][row][0]"
   ]
  },
  {
   "cell_type": "code",
   "execution_count": 65,
   "metadata": {},
   "outputs": [
    {
     "data": {
      "text/plain": [
       "0             Art & Design\n",
       "1             Art & Design\n",
       "2             Art & Design\n",
       "3             Art & Design\n",
       "4             Art & Design\n",
       "               ...        \n",
       "10834            Education\n",
       "10836            Education\n",
       "10837            Education\n",
       "10839    Books & Reference\n",
       "10840            Lifestyle\n",
       "Name: Genres, Length: 9360, dtype: object"
      ]
     },
     "execution_count": 65,
     "metadata": {},
     "output_type": "execute_result"
    }
   ],
   "source": [
    "# Check work - can see all strings and all first Genres\n",
    "df['Genres']"
   ]
  },
  {
   "cell_type": "code",
   "execution_count": 66,
   "metadata": {
    "scrolled": false
   },
   "outputs": [
    {
     "data": {
      "text/plain": [
       "Tools                      733\n",
       "Entertainment              577\n",
       "Education                  563\n",
       "Action                     375\n",
       "Productivity               351\n",
       "Medical                    350\n",
       "Sports                     337\n",
       "Communication              329\n",
       "Finance                    323\n",
       "Photography                317\n",
       "Lifestyle                  315\n",
       "Personalization            312\n",
       "Business                   303\n",
       "Health & Fitness           299\n",
       "Casual                     262\n",
       "Social                     259\n",
       "Shopping                   238\n",
       "News & Magazines           233\n",
       "Travel & Local             226\n",
       "Arcade                     223\n",
       "Simulation                 212\n",
       "Dating                     195\n",
       "Books & Reference          180\n",
       "Video Players & Editors    163\n",
       "Puzzle                     147\n",
       "Maps & Navigation          124\n",
       "Role Playing               119\n",
       "Racing                     114\n",
       "Food & Drink               109\n",
       "Strategy                   107\n",
       "Educational                103\n",
       "Adventure                   89\n",
       "House & Home                76\n",
       "Weather                     75\n",
       "Auto & Vehicles             73\n",
       "Libraries & Demo            64\n",
       "Art & Design                64\n",
       "Board                       60\n",
       "Comics                      58\n",
       "Parenting                   50\n",
       "Card                        48\n",
       "Events                      45\n",
       "Beauty                      42\n",
       "Casino                      37\n",
       "Trivia                      28\n",
       "Word                        28\n",
       "Music                       24\n",
       "Music & Audio                1\n",
       "Name: Genres, dtype: int64"
      ]
     },
     "execution_count": 66,
     "metadata": {},
     "output_type": "execute_result"
    }
   ],
   "source": [
    "df['Genres'].value_counts()\n",
    "# There are many Genres under 100, to help prevent overfitting - rebucket those under 100"
   ]
  },
  {
   "cell_type": "code",
   "execution_count": 67,
   "metadata": {},
   "outputs": [
    {
     "data": {
      "text/plain": [
       "Events    45\n",
       "Name: Genres, dtype: int64"
      ]
     },
     "execution_count": 67,
     "metadata": {},
     "output_type": "execute_result"
    }
   ],
   "source": [
    "df[df['Category'] =='EVENTS']['Genres'].value_counts()"
   ]
  },
  {
   "cell_type": "code",
   "execution_count": 68,
   "metadata": {},
   "outputs": [
    {
     "data": {
      "text/html": [
       "<div>\n",
       "<style scoped>\n",
       "    .dataframe tbody tr th:only-of-type {\n",
       "        vertical-align: middle;\n",
       "    }\n",
       "\n",
       "    .dataframe tbody tr th {\n",
       "        vertical-align: top;\n",
       "    }\n",
       "\n",
       "    .dataframe thead th {\n",
       "        text-align: right;\n",
       "    }\n",
       "</style>\n",
       "<table border=\"1\" class=\"dataframe\">\n",
       "  <thead>\n",
       "    <tr style=\"text-align: right;\">\n",
       "      <th></th>\n",
       "      <th>App</th>\n",
       "      <th>Category</th>\n",
       "      <th>Reviews</th>\n",
       "      <th>Size</th>\n",
       "      <th>Installs</th>\n",
       "      <th>Type</th>\n",
       "      <th>Content Rating</th>\n",
       "      <th>Genres</th>\n",
       "      <th>Last Updated</th>\n",
       "      <th>Current Ver</th>\n",
       "      <th>Android Ver</th>\n",
       "      <th>Pos Rating</th>\n",
       "    </tr>\n",
       "  </thead>\n",
       "  <tbody>\n",
       "    <tr>\n",
       "      <th>1562</th>\n",
       "      <td>Dollhouse Decorating Games</td>\n",
       "      <td>LIFESTYLE</td>\n",
       "      <td>18968</td>\n",
       "      <td>32M</td>\n",
       "      <td>9</td>\n",
       "      <td>Free</td>\n",
       "      <td>Teen</td>\n",
       "      <td>Lifestyle</td>\n",
       "      <td>April 26, 2018</td>\n",
       "      <td>5.1</td>\n",
       "      <td>4.1 and up</td>\n",
       "      <td>0</td>\n",
       "    </tr>\n",
       "    <tr>\n",
       "      <th>1563</th>\n",
       "      <td>metroZONE</td>\n",
       "      <td>LIFESTYLE</td>\n",
       "      <td>47497</td>\n",
       "      <td>34M</td>\n",
       "      <td>10</td>\n",
       "      <td>Free</td>\n",
       "      <td>Everyone</td>\n",
       "      <td>Lifestyle</td>\n",
       "      <td>June 8, 2018</td>\n",
       "      <td>5.3.0.54.7</td>\n",
       "      <td>5.0 and up</td>\n",
       "      <td>0</td>\n",
       "    </tr>\n",
       "    <tr>\n",
       "      <th>1564</th>\n",
       "      <td>Easy Hair Style Design</td>\n",
       "      <td>LIFESTYLE</td>\n",
       "      <td>601</td>\n",
       "      <td>5.1M</td>\n",
       "      <td>6</td>\n",
       "      <td>Free</td>\n",
       "      <td>Everyone</td>\n",
       "      <td>Lifestyle</td>\n",
       "      <td>December 20, 2017</td>\n",
       "      <td>1.0</td>\n",
       "      <td>2.3 and up</td>\n",
       "      <td>0</td>\n",
       "    </tr>\n",
       "    <tr>\n",
       "      <th>1565</th>\n",
       "      <td>Talking Babsy Baby: Baby Games</td>\n",
       "      <td>LIFESTYLE</td>\n",
       "      <td>140995</td>\n",
       "      <td>100M</td>\n",
       "      <td>10</td>\n",
       "      <td>Free</td>\n",
       "      <td>Everyone</td>\n",
       "      <td>Lifestyle</td>\n",
       "      <td>July 16, 2018</td>\n",
       "      <td>9.0</td>\n",
       "      <td>4.0 and up</td>\n",
       "      <td>0</td>\n",
       "    </tr>\n",
       "    <tr>\n",
       "      <th>1566</th>\n",
       "      <td>Black Wallpaper, AMOLED, Dark Background: Darkify</td>\n",
       "      <td>LIFESTYLE</td>\n",
       "      <td>51357</td>\n",
       "      <td>80M</td>\n",
       "      <td>9</td>\n",
       "      <td>Free</td>\n",
       "      <td>Everyone</td>\n",
       "      <td>Lifestyle</td>\n",
       "      <td>July 31, 2018</td>\n",
       "      <td>8.0</td>\n",
       "      <td>4.0 and up</td>\n",
       "      <td>1</td>\n",
       "    </tr>\n",
       "    <tr>\n",
       "      <th>...</th>\n",
       "      <td>...</td>\n",
       "      <td>...</td>\n",
       "      <td>...</td>\n",
       "      <td>...</td>\n",
       "      <td>...</td>\n",
       "      <td>...</td>\n",
       "      <td>...</td>\n",
       "      <td>...</td>\n",
       "      <td>...</td>\n",
       "      <td>...</td>\n",
       "      <td>...</td>\n",
       "      <td>...</td>\n",
       "    </tr>\n",
       "    <tr>\n",
       "      <th>10719</th>\n",
       "      <td>Sona - Nær við allastaðni</td>\n",
       "      <td>LIFESTYLE</td>\n",
       "      <td>31</td>\n",
       "      <td>25M</td>\n",
       "      <td>2</td>\n",
       "      <td>Free</td>\n",
       "      <td>Everyone</td>\n",
       "      <td>Lifestyle</td>\n",
       "      <td>August 2, 2018</td>\n",
       "      <td>1.6.3</td>\n",
       "      <td>4.4 and up</td>\n",
       "      <td>0</td>\n",
       "    </tr>\n",
       "    <tr>\n",
       "      <th>10742</th>\n",
       "      <td>GKPB FP Online Church</td>\n",
       "      <td>LIFESTYLE</td>\n",
       "      <td>32</td>\n",
       "      <td>7.9M</td>\n",
       "      <td>2</td>\n",
       "      <td>Free</td>\n",
       "      <td>Everyone</td>\n",
       "      <td>Lifestyle</td>\n",
       "      <td>December 31, 2017</td>\n",
       "      <td>0.7.1</td>\n",
       "      <td>4.4 and up</td>\n",
       "      <td>1</td>\n",
       "    </tr>\n",
       "    <tr>\n",
       "      <th>10797</th>\n",
       "      <td>Fuel Rewards® program</td>\n",
       "      <td>LIFESTYLE</td>\n",
       "      <td>32433</td>\n",
       "      <td>46M</td>\n",
       "      <td>8</td>\n",
       "      <td>Free</td>\n",
       "      <td>Everyone</td>\n",
       "      <td>Lifestyle</td>\n",
       "      <td>June 26, 2018</td>\n",
       "      <td>2.9.1</td>\n",
       "      <td>5.0 and up</td>\n",
       "      <td>1</td>\n",
       "    </tr>\n",
       "    <tr>\n",
       "      <th>10805</th>\n",
       "      <td>Scoreboard FR</td>\n",
       "      <td>LIFESTYLE</td>\n",
       "      <td>3</td>\n",
       "      <td>15M</td>\n",
       "      <td>0</td>\n",
       "      <td>Free</td>\n",
       "      <td>Everyone</td>\n",
       "      <td>Lifestyle</td>\n",
       "      <td>August 7, 2018</td>\n",
       "      <td>2.1</td>\n",
       "      <td>4.2 and up</td>\n",
       "      <td>0</td>\n",
       "    </tr>\n",
       "    <tr>\n",
       "      <th>10840</th>\n",
       "      <td>iHoroscope - 2018 Daily Horoscope &amp; Astrology</td>\n",
       "      <td>LIFESTYLE</td>\n",
       "      <td>398307</td>\n",
       "      <td>19M</td>\n",
       "      <td>10</td>\n",
       "      <td>Free</td>\n",
       "      <td>Everyone</td>\n",
       "      <td>Lifestyle</td>\n",
       "      <td>July 25, 2018</td>\n",
       "      <td>Varies with device</td>\n",
       "      <td>Varies with device</td>\n",
       "      <td>1</td>\n",
       "    </tr>\n",
       "  </tbody>\n",
       "</table>\n",
       "<p>315 rows × 12 columns</p>\n",
       "</div>"
      ],
      "text/plain": [
       "                                                     App   Category  Reviews  \\\n",
       "1562                          Dollhouse Decorating Games  LIFESTYLE    18968   \n",
       "1563                                           metroZONE  LIFESTYLE    47497   \n",
       "1564                              Easy Hair Style Design  LIFESTYLE      601   \n",
       "1565                      Talking Babsy Baby: Baby Games  LIFESTYLE   140995   \n",
       "1566   Black Wallpaper, AMOLED, Dark Background: Darkify  LIFESTYLE    51357   \n",
       "...                                                  ...        ...      ...   \n",
       "10719                          Sona - Nær við allastaðni  LIFESTYLE       31   \n",
       "10742                              GKPB FP Online Church  LIFESTYLE       32   \n",
       "10797                              Fuel Rewards® program  LIFESTYLE    32433   \n",
       "10805                                      Scoreboard FR  LIFESTYLE        3   \n",
       "10840      iHoroscope - 2018 Daily Horoscope & Astrology  LIFESTYLE   398307   \n",
       "\n",
       "       Size  Installs  Type Content Rating     Genres       Last Updated  \\\n",
       "1562    32M         9  Free           Teen  Lifestyle     April 26, 2018   \n",
       "1563    34M        10  Free       Everyone  Lifestyle       June 8, 2018   \n",
       "1564   5.1M         6  Free       Everyone  Lifestyle  December 20, 2017   \n",
       "1565   100M        10  Free       Everyone  Lifestyle      July 16, 2018   \n",
       "1566    80M         9  Free       Everyone  Lifestyle      July 31, 2018   \n",
       "...     ...       ...   ...            ...        ...                ...   \n",
       "10719   25M         2  Free       Everyone  Lifestyle     August 2, 2018   \n",
       "10742  7.9M         2  Free       Everyone  Lifestyle  December 31, 2017   \n",
       "10797   46M         8  Free       Everyone  Lifestyle      June 26, 2018   \n",
       "10805   15M         0  Free       Everyone  Lifestyle     August 7, 2018   \n",
       "10840   19M        10  Free       Everyone  Lifestyle      July 25, 2018   \n",
       "\n",
       "              Current Ver         Android Ver  Pos Rating  \n",
       "1562                  5.1          4.1 and up           0  \n",
       "1563           5.3.0.54.7          5.0 and up           0  \n",
       "1564                  1.0          2.3 and up           0  \n",
       "1565                  9.0          4.0 and up           0  \n",
       "1566                  8.0          4.0 and up           1  \n",
       "...                   ...                 ...         ...  \n",
       "10719               1.6.3          4.4 and up           0  \n",
       "10742               0.7.1          4.4 and up           1  \n",
       "10797               2.9.1          5.0 and up           1  \n",
       "10805                 2.1          4.2 and up           0  \n",
       "10840  Varies with device  Varies with device           1  \n",
       "\n",
       "[315 rows x 12 columns]"
      ]
     },
     "execution_count": 68,
     "metadata": {},
     "output_type": "execute_result"
    }
   ],
   "source": [
    "df[df['Genres'] == 'Lifestyle']"
   ]
  },
  {
   "cell_type": "markdown",
   "metadata": {},
   "source": [
    "#### Genre Bucketing"
   ]
  },
  {
   "cell_type": "code",
   "execution_count": 69,
   "metadata": {},
   "outputs": [],
   "source": [
    "# Genre buckets to reassign\n",
    "# Adventure                   Action\n",
    "# House & Home                Lifestyle\n",
    "# Weather                     Travel & Local \n",
    "# Auto & Vehicles             Lifestyle\n",
    "# Art & Design                Lifestyle\n",
    "# Libraries & Demo            Entertainment\n",
    "# Board                       Casual - games\n",
    "# Comics                      Entertainment\n",
    "# Parenting                   Lifestyle\n",
    "# Card                        Casual - games\n",
    "# Events                      Lifestyle\n",
    "# Beauty                      Lifestyle\n",
    "# Casino                      Casual - games\n",
    "# Word                        Casual - games\n",
    "# Trivia                      Casual - games\n",
    "# Music                       Entertainment\n",
    "# Music & Audio               Entertainment"
   ]
  },
  {
   "cell_type": "code",
   "execution_count": 70,
   "metadata": {},
   "outputs": [],
   "source": [
    "# Code for mappings above\n",
    "\n",
    "# Replace with Action\n",
    "df['Genres'] = df['Genres'].replace(['Adventure'], 'Action')\n",
    "\n",
    "# Replace with Travel & Local\n",
    "df['Genres'] = df['Genres'].replace(['Weather'], 'Travel & Local')\n",
    "\n",
    "# Replace with Lifestyle\n",
    "df['Genres'] = df['Genres'].replace(['House & Home', 'Auto & Vehicles', 'Art & Design', 'Events', 'Beauty', 'Parenting'], \n",
    "                                    'Lifestyle')\n",
    "# Replace with Entertainment\n",
    "df['Genres'] = df['Genres'].replace(['Libraries & Demo', 'Comics', 'Music', 'Music & Audio'], 'Entertainment')\n",
    "\n",
    "# Replace with Casual\n",
    "df['Genres'] = df['Genres'].replace(['Board', 'Card', 'Casino', 'Word', 'Trivia'], 'Casual')"
   ]
  },
  {
   "cell_type": "code",
   "execution_count": 71,
   "metadata": {},
   "outputs": [
    {
     "data": {
      "text/plain": [
       "Tools                      733\n",
       "Entertainment              724\n",
       "Lifestyle                  665\n",
       "Education                  563\n",
       "Action                     464\n",
       "Casual                     463\n",
       "Productivity               351\n",
       "Medical                    350\n",
       "Sports                     337\n",
       "Communication              329\n",
       "Finance                    323\n",
       "Photography                317\n",
       "Personalization            312\n",
       "Business                   303\n",
       "Travel & Local             301\n",
       "Health & Fitness           299\n",
       "Social                     259\n",
       "Shopping                   238\n",
       "News & Magazines           233\n",
       "Arcade                     223\n",
       "Simulation                 212\n",
       "Dating                     195\n",
       "Books & Reference          180\n",
       "Video Players & Editors    163\n",
       "Puzzle                     147\n",
       "Maps & Navigation          124\n",
       "Role Playing               119\n",
       "Racing                     114\n",
       "Food & Drink               109\n",
       "Strategy                   107\n",
       "Educational                103\n",
       "Name: Genres, dtype: int64"
      ]
     },
     "execution_count": 71,
     "metadata": {},
     "output_type": "execute_result"
    }
   ],
   "source": [
    "# Check work \n",
    "df['Genres'].value_counts()\n",
    "# no values under 100"
   ]
  },
  {
   "cell_type": "markdown",
   "metadata": {},
   "source": [
    "#### Size Translation"
   ]
  },
  {
   "cell_type": "code",
   "execution_count": 72,
   "metadata": {},
   "outputs": [
    {
     "data": {
      "text/plain": [
       "0                       19M\n",
       "1                       14M\n",
       "2                      8.7M\n",
       "3                       25M\n",
       "4                      2.8M\n",
       "                ...        \n",
       "10834                  2.6M\n",
       "10836                   53M\n",
       "10837                  3.6M\n",
       "10839    Varies with device\n",
       "10840                   19M\n",
       "Name: Size, Length: 9360, dtype: object"
      ]
     },
     "execution_count": 72,
     "metadata": {},
     "output_type": "execute_result"
    }
   ],
   "source": [
    "# Preview values\n",
    "df['Size']"
   ]
  },
  {
   "cell_type": "code",
   "execution_count": 73,
   "metadata": {},
   "outputs": [
    {
     "data": {
      "text/plain": [
       "'M'"
      ]
     },
     "execution_count": 73,
     "metadata": {},
     "output_type": "execute_result"
    }
   ],
   "source": [
    "# Test references to pull out last character for measurement\n",
    "df['Size'][0][-1]"
   ]
  },
  {
   "cell_type": "code",
   "execution_count": 74,
   "metadata": {},
   "outputs": [
    {
     "name": "stderr",
     "output_type": "stream",
     "text": [
      "/opt/anaconda3/envs/learn-env/lib/python3.6/site-packages/ipykernel_launcher.py:7: SettingWithCopyWarning: \n",
      "A value is trying to be set on a copy of a slice from a DataFrame\n",
      "\n",
      "See the caveats in the documentation: http://pandas.pydata.org/pandas-docs/stable/user_guide/indexing.html#returning-a-view-versus-a-copy\n",
      "  import sys\n",
      "/opt/anaconda3/envs/learn-env/lib/python3.6/site-packages/pandas/core/indexing.py:205: SettingWithCopyWarning: \n",
      "A value is trying to be set on a copy of a slice from a DataFrame\n",
      "\n",
      "See the caveats in the documentation: http://pandas.pydata.org/pandas-docs/stable/user_guide/indexing.html#returning-a-view-versus-a-copy\n",
      "  self._setitem_with_indexer(indexer, value)\n"
     ]
    }
   ],
   "source": [
    "# Create new column for Size Type - this will be M (for MB) or k (for kb) for those that do not have \n",
    "# value 'Varies with device'\n",
    "df['Size Type'] = 0\n",
    "\n",
    "# For each value in Size, take the last character and put it in Size Type\n",
    "for row in df['Size'].index:\n",
    "    df['Size Type'][row] = df['Size'][row][-1]"
   ]
  },
  {
   "cell_type": "code",
   "execution_count": 75,
   "metadata": {},
   "outputs": [
    {
     "data": {
      "text/plain": [
       "M    7466\n",
       "e    1637\n",
       "k     257\n",
       "Name: Size Type, dtype: int64"
      ]
     },
     "execution_count": 75,
     "metadata": {},
     "output_type": "execute_result"
    }
   ],
   "source": [
    "# Check work; Varies with device 1637\n",
    "df['Size Type'].value_counts()"
   ]
  },
  {
   "cell_type": "code",
   "execution_count": 76,
   "metadata": {},
   "outputs": [
    {
     "data": {
      "text/plain": [
       "'19'"
      ]
     },
     "execution_count": 76,
     "metadata": {},
     "output_type": "execute_result"
    }
   ],
   "source": [
    "# Test reference \n",
    "df['Size'][0][:-1]"
   ]
  },
  {
   "cell_type": "code",
   "execution_count": 77,
   "metadata": {
    "scrolled": true
   },
   "outputs": [
    {
     "name": "stderr",
     "output_type": "stream",
     "text": [
      "/opt/anaconda3/envs/learn-env/lib/python3.6/site-packages/ipykernel_launcher.py:3: SettingWithCopyWarning: \n",
      "A value is trying to be set on a copy of a slice from a DataFrame\n",
      "\n",
      "See the caveats in the documentation: http://pandas.pydata.org/pandas-docs/stable/user_guide/indexing.html#returning-a-view-versus-a-copy\n",
      "  This is separate from the ipykernel package so we can avoid doing imports until\n"
     ]
    }
   ],
   "source": [
    "# Remove last character from Size, convert to numeric for math in Size Trans\n",
    "for row in df['Size'].index:\n",
    "    df['Size'][row] = df['Size'][row][:-1]"
   ]
  },
  {
   "cell_type": "code",
   "execution_count": 78,
   "metadata": {},
   "outputs": [
    {
     "data": {
      "text/plain": [
       "19000"
      ]
     },
     "execution_count": 78,
     "metadata": {},
     "output_type": "execute_result"
    }
   ],
   "source": [
    "# Test type conversion for math \n",
    "int(df['Size'][0])*1000"
   ]
  },
  {
   "cell_type": "code",
   "execution_count": 79,
   "metadata": {},
   "outputs": [
    {
     "name": "stderr",
     "output_type": "stream",
     "text": [
      "/opt/anaconda3/envs/learn-env/lib/python3.6/site-packages/ipykernel_launcher.py:10: SettingWithCopyWarning: \n",
      "A value is trying to be set on a copy of a slice from a DataFrame\n",
      "\n",
      "See the caveats in the documentation: http://pandas.pydata.org/pandas-docs/stable/user_guide/indexing.html#returning-a-view-versus-a-copy\n",
      "  # Remove the CWD from sys.path while we load stuff.\n",
      "/opt/anaconda3/envs/learn-env/lib/python3.6/site-packages/ipykernel_launcher.py:12: SettingWithCopyWarning: \n",
      "A value is trying to be set on a copy of a slice from a DataFrame\n",
      "\n",
      "See the caveats in the documentation: http://pandas.pydata.org/pandas-docs/stable/user_guide/indexing.html#returning-a-view-versus-a-copy\n",
      "  if sys.path[0] == '':\n",
      "/opt/anaconda3/envs/learn-env/lib/python3.6/site-packages/pandas/core/indexing.py:205: SettingWithCopyWarning: \n",
      "A value is trying to be set on a copy of a slice from a DataFrame\n",
      "\n",
      "See the caveats in the documentation: http://pandas.pydata.org/pandas-docs/stable/user_guide/indexing.html#returning-a-view-versus-a-copy\n",
      "  self._setitem_with_indexer(indexer, value)\n"
     ]
    }
   ],
   "source": [
    "# Create Size Translation column and convert Size in MBs to kbs\n",
    "df['Size Trans'] = 0\n",
    "\n",
    "# For each row in Size, check Size Type. If M (for MB) multiply by 1000 to convert to kb, \n",
    "# otherwise k values stay the same and e for varies by devices stay at zero (will fill nulls)\n",
    "for row in df['Size'].index:\n",
    "    if df['Size Type'][row] == 'e':\n",
    "        continue\n",
    "    if df['Size Type'][row] == 'M':\n",
    "        df['Size Trans'][row] = float(df['Size'][row]) * 1000\n",
    "    if df['Size Type'][row] == 'k':\n",
    "        df['Size Trans'][row] = df['Size'][row]\n",
    "\n",
    "# Convert column to float\n",
    "df['Size Trans'] = df['Size Trans'].astype(float)"
   ]
  },
  {
   "cell_type": "code",
   "execution_count": 80,
   "metadata": {},
   "outputs": [
    {
     "data": {
      "text/plain": [
       "count      7723.000000\n",
       "mean      22970.456105\n",
       "std       23449.628935\n",
       "min           8.500000\n",
       "25%        5300.000000\n",
       "50%       14000.000000\n",
       "75%       33000.000000\n",
       "max      100000.000000\n",
       "Name: Size Trans, dtype: float64"
      ]
     },
     "execution_count": 80,
     "metadata": {},
     "output_type": "execute_result"
    }
   ],
   "source": [
    "# Look at the Size Translations for those that did not have \"Varies by device\" value aka Size Trans != 0\n",
    "df[df['Size Trans'] != 0]['Size Trans'].describe()\n",
    "# mean is nearly 1.5x median, so there are outliers"
   ]
  },
  {
   "cell_type": "code",
   "execution_count": 81,
   "metadata": {},
   "outputs": [],
   "source": [
    "# Name variable for Size median for filling nulls\n",
    "size_median = df[df['Size Trans'] != 0]['Size Trans'].median()"
   ]
  },
  {
   "cell_type": "code",
   "execution_count": 82,
   "metadata": {},
   "outputs": [
    {
     "data": {
      "text/plain": [
       "0        19000.0\n",
       "1        14000.0\n",
       "2         8700.0\n",
       "3        25000.0\n",
       "4         2800.0\n",
       "          ...   \n",
       "10834     2600.0\n",
       "10836    53000.0\n",
       "10837     3600.0\n",
       "10839        0.0\n",
       "10840    19000.0\n",
       "Name: Size Trans, Length: 9360, dtype: float64"
      ]
     },
     "execution_count": 82,
     "metadata": {},
     "output_type": "execute_result"
    }
   ],
   "source": [
    "# Fill Size Trans nulls with median\n",
    "df['Size Trans'].fillna(size_median)"
   ]
  },
  {
   "cell_type": "code",
   "execution_count": 83,
   "metadata": {},
   "outputs": [
    {
     "name": "stdout",
     "output_type": "stream",
     "text": [
      "<class 'pandas.core.frame.DataFrame'>\n",
      "Int64Index: 9360 entries, 0 to 10840\n",
      "Data columns (total 14 columns):\n",
      "App               9360 non-null object\n",
      "Category          9360 non-null object\n",
      "Reviews           9360 non-null int64\n",
      "Size              9360 non-null object\n",
      "Installs          9360 non-null int64\n",
      "Type              9360 non-null object\n",
      "Content Rating    9360 non-null object\n",
      "Genres            9360 non-null object\n",
      "Last Updated      9360 non-null object\n",
      "Current Ver       9360 non-null object\n",
      "Android Ver       9360 non-null object\n",
      "Pos Rating        9360 non-null int64\n",
      "Size Type         9360 non-null object\n",
      "Size Trans        9360 non-null float64\n",
      "dtypes: float64(1), int64(3), object(10)\n",
      "memory usage: 1.4+ MB\n"
     ]
    }
   ],
   "source": [
    "# Review table with changes\n",
    "df.info()"
   ]
  },
  {
   "cell_type": "code",
   "execution_count": 84,
   "metadata": {},
   "outputs": [],
   "source": [
    "# Drop helper columns for final value to be used in model Size Trans\n",
    "df = df.drop(columns=['Size Type', 'Size'], axis=1)"
   ]
  },
  {
   "cell_type": "code",
   "execution_count": 85,
   "metadata": {},
   "outputs": [
    {
     "name": "stdout",
     "output_type": "stream",
     "text": [
      "<class 'pandas.core.frame.DataFrame'>\n",
      "Int64Index: 9360 entries, 0 to 10840\n",
      "Data columns (total 12 columns):\n",
      "App               9360 non-null object\n",
      "Category          9360 non-null object\n",
      "Reviews           9360 non-null int64\n",
      "Installs          9360 non-null int64\n",
      "Type              9360 non-null object\n",
      "Content Rating    9360 non-null object\n",
      "Genres            9360 non-null object\n",
      "Last Updated      9360 non-null object\n",
      "Current Ver       9360 non-null object\n",
      "Android Ver       9360 non-null object\n",
      "Pos Rating        9360 non-null int64\n",
      "Size Trans        9360 non-null float64\n",
      "dtypes: float64(1), int64(3), object(8)\n",
      "memory usage: 1.2+ MB\n"
     ]
    }
   ],
   "source": [
    "# Review new table\n",
    "df.info()"
   ]
  },
  {
   "cell_type": "markdown",
   "metadata": {},
   "source": [
    "## Additional Modeling"
   ]
  },
  {
   "cell_type": "markdown",
   "metadata": {},
   "source": [
    "### Create new df for modeling"
   ]
  },
  {
   "cell_type": "code",
   "execution_count": 86,
   "metadata": {},
   "outputs": [],
   "source": [
    "# New breakdown of column types for varying treatments before modeling\n",
    "# Numerical columns\n",
    "num_cols2 = ['Reviews', 'Size Trans']\n",
    "\n",
    "# Ordinal columns\n",
    "ord_cols = ['Installs']\n",
    "\n",
    "# Categorical columns for OHE\n",
    "ohe_cols = ['Category', 'Type', 'Content Rating', 'Genres']"
   ]
  },
  {
   "cell_type": "markdown",
   "metadata": {},
   "source": [
    "#### Ordinal Features"
   ]
  },
  {
   "cell_type": "code",
   "execution_count": 87,
   "metadata": {},
   "outputs": [],
   "source": [
    "ordinal = df['Installs']"
   ]
  },
  {
   "cell_type": "markdown",
   "metadata": {},
   "source": [
    "#### Numeric Treatment - Scale"
   ]
  },
  {
   "cell_type": "code",
   "execution_count": 88,
   "metadata": {},
   "outputs": [],
   "source": [
    "scaled_features2 = df.copy()"
   ]
  },
  {
   "cell_type": "code",
   "execution_count": 89,
   "metadata": {},
   "outputs": [],
   "source": [
    "features2 = scaled_features2[num_cols2]\n",
    "scaler = StandardScaler().fit(features2.values)\n",
    "features2 = scaler.transform(features2.values)"
   ]
  },
  {
   "cell_type": "code",
   "execution_count": 90,
   "metadata": {},
   "outputs": [],
   "source": [
    "scaled_features2[num_cols2] = features2\n",
    "scaled2 = scaled_features2[['Reviews', 'Size Trans']]"
   ]
  },
  {
   "cell_type": "code",
   "execution_count": 91,
   "metadata": {
    "scrolled": true
   },
   "outputs": [
    {
     "data": {
      "text/html": [
       "<div>\n",
       "<style scoped>\n",
       "    .dataframe tbody tr th:only-of-type {\n",
       "        vertical-align: middle;\n",
       "    }\n",
       "\n",
       "    .dataframe tbody tr th {\n",
       "        vertical-align: top;\n",
       "    }\n",
       "\n",
       "    .dataframe thead th {\n",
       "        text-align: right;\n",
       "    }\n",
       "</style>\n",
       "<table border=\"1\" class=\"dataframe\">\n",
       "  <thead>\n",
       "    <tr style=\"text-align: right;\">\n",
       "      <th></th>\n",
       "      <th>Reviews</th>\n",
       "      <th>Size Trans</th>\n",
       "    </tr>\n",
       "  </thead>\n",
       "  <tbody>\n",
       "    <tr>\n",
       "      <th>0</th>\n",
       "      <td>-0.163511</td>\n",
       "      <td>0.002038</td>\n",
       "    </tr>\n",
       "    <tr>\n",
       "      <th>1</th>\n",
       "      <td>-0.163254</td>\n",
       "      <td>-0.215189</td>\n",
       "    </tr>\n",
       "    <tr>\n",
       "      <th>2</th>\n",
       "      <td>-0.135735</td>\n",
       "      <td>-0.445451</td>\n",
       "    </tr>\n",
       "    <tr>\n",
       "      <th>3</th>\n",
       "      <td>-0.094991</td>\n",
       "      <td>0.262712</td>\n",
       "    </tr>\n",
       "    <tr>\n",
       "      <th>4</th>\n",
       "      <td>-0.163254</td>\n",
       "      <td>-0.701779</td>\n",
       "    </tr>\n",
       "  </tbody>\n",
       "</table>\n",
       "</div>"
      ],
      "text/plain": [
       "    Reviews  Size Trans\n",
       "0 -0.163511    0.002038\n",
       "1 -0.163254   -0.215189\n",
       "2 -0.135735   -0.445451\n",
       "3 -0.094991    0.262712\n",
       "4 -0.163254   -0.701779"
      ]
     },
     "execution_count": 91,
     "metadata": {},
     "output_type": "execute_result"
    }
   ],
   "source": [
    "scaled2.head()"
   ]
  },
  {
   "cell_type": "markdown",
   "metadata": {},
   "source": [
    "#### Categorical Treatment (OHE)"
   ]
  },
  {
   "cell_type": "code",
   "execution_count": 92,
   "metadata": {},
   "outputs": [],
   "source": [
    "ohe_features2 = df.copy()"
   ]
  },
  {
   "cell_type": "code",
   "execution_count": 93,
   "metadata": {},
   "outputs": [],
   "source": [
    "ohe_features2 = ohe_features2[ohe_cols]"
   ]
  },
  {
   "cell_type": "code",
   "execution_count": 94,
   "metadata": {},
   "outputs": [],
   "source": [
    "ohe_features2 = pd.get_dummies(ohe_features2)"
   ]
  },
  {
   "cell_type": "code",
   "execution_count": 95,
   "metadata": {},
   "outputs": [
    {
     "data": {
      "text/html": [
       "<div>\n",
       "<style scoped>\n",
       "    .dataframe tbody tr th:only-of-type {\n",
       "        vertical-align: middle;\n",
       "    }\n",
       "\n",
       "    .dataframe tbody tr th {\n",
       "        vertical-align: top;\n",
       "    }\n",
       "\n",
       "    .dataframe thead th {\n",
       "        text-align: right;\n",
       "    }\n",
       "</style>\n",
       "<table border=\"1\" class=\"dataframe\">\n",
       "  <thead>\n",
       "    <tr style=\"text-align: right;\">\n",
       "      <th></th>\n",
       "      <th>Category_ART_AND_DESIGN</th>\n",
       "      <th>Category_AUTO_AND_VEHICLES</th>\n",
       "      <th>Category_BEAUTY</th>\n",
       "      <th>Category_BOOKS_AND_REFERENCE</th>\n",
       "      <th>Category_BUSINESS</th>\n",
       "      <th>Category_COMICS</th>\n",
       "      <th>Category_COMMUNICATION</th>\n",
       "      <th>Category_DATING</th>\n",
       "      <th>Category_EDUCATION</th>\n",
       "      <th>Category_ENTERTAINMENT</th>\n",
       "      <th>...</th>\n",
       "      <th>Genres_Racing</th>\n",
       "      <th>Genres_Role Playing</th>\n",
       "      <th>Genres_Shopping</th>\n",
       "      <th>Genres_Simulation</th>\n",
       "      <th>Genres_Social</th>\n",
       "      <th>Genres_Sports</th>\n",
       "      <th>Genres_Strategy</th>\n",
       "      <th>Genres_Tools</th>\n",
       "      <th>Genres_Travel &amp; Local</th>\n",
       "      <th>Genres_Video Players &amp; Editors</th>\n",
       "    </tr>\n",
       "  </thead>\n",
       "  <tbody>\n",
       "    <tr>\n",
       "      <th>0</th>\n",
       "      <td>1</td>\n",
       "      <td>0</td>\n",
       "      <td>0</td>\n",
       "      <td>0</td>\n",
       "      <td>0</td>\n",
       "      <td>0</td>\n",
       "      <td>0</td>\n",
       "      <td>0</td>\n",
       "      <td>0</td>\n",
       "      <td>0</td>\n",
       "      <td>...</td>\n",
       "      <td>0</td>\n",
       "      <td>0</td>\n",
       "      <td>0</td>\n",
       "      <td>0</td>\n",
       "      <td>0</td>\n",
       "      <td>0</td>\n",
       "      <td>0</td>\n",
       "      <td>0</td>\n",
       "      <td>0</td>\n",
       "      <td>0</td>\n",
       "    </tr>\n",
       "    <tr>\n",
       "      <th>1</th>\n",
       "      <td>1</td>\n",
       "      <td>0</td>\n",
       "      <td>0</td>\n",
       "      <td>0</td>\n",
       "      <td>0</td>\n",
       "      <td>0</td>\n",
       "      <td>0</td>\n",
       "      <td>0</td>\n",
       "      <td>0</td>\n",
       "      <td>0</td>\n",
       "      <td>...</td>\n",
       "      <td>0</td>\n",
       "      <td>0</td>\n",
       "      <td>0</td>\n",
       "      <td>0</td>\n",
       "      <td>0</td>\n",
       "      <td>0</td>\n",
       "      <td>0</td>\n",
       "      <td>0</td>\n",
       "      <td>0</td>\n",
       "      <td>0</td>\n",
       "    </tr>\n",
       "    <tr>\n",
       "      <th>2</th>\n",
       "      <td>1</td>\n",
       "      <td>0</td>\n",
       "      <td>0</td>\n",
       "      <td>0</td>\n",
       "      <td>0</td>\n",
       "      <td>0</td>\n",
       "      <td>0</td>\n",
       "      <td>0</td>\n",
       "      <td>0</td>\n",
       "      <td>0</td>\n",
       "      <td>...</td>\n",
       "      <td>0</td>\n",
       "      <td>0</td>\n",
       "      <td>0</td>\n",
       "      <td>0</td>\n",
       "      <td>0</td>\n",
       "      <td>0</td>\n",
       "      <td>0</td>\n",
       "      <td>0</td>\n",
       "      <td>0</td>\n",
       "      <td>0</td>\n",
       "    </tr>\n",
       "    <tr>\n",
       "      <th>3</th>\n",
       "      <td>1</td>\n",
       "      <td>0</td>\n",
       "      <td>0</td>\n",
       "      <td>0</td>\n",
       "      <td>0</td>\n",
       "      <td>0</td>\n",
       "      <td>0</td>\n",
       "      <td>0</td>\n",
       "      <td>0</td>\n",
       "      <td>0</td>\n",
       "      <td>...</td>\n",
       "      <td>0</td>\n",
       "      <td>0</td>\n",
       "      <td>0</td>\n",
       "      <td>0</td>\n",
       "      <td>0</td>\n",
       "      <td>0</td>\n",
       "      <td>0</td>\n",
       "      <td>0</td>\n",
       "      <td>0</td>\n",
       "      <td>0</td>\n",
       "    </tr>\n",
       "    <tr>\n",
       "      <th>4</th>\n",
       "      <td>1</td>\n",
       "      <td>0</td>\n",
       "      <td>0</td>\n",
       "      <td>0</td>\n",
       "      <td>0</td>\n",
       "      <td>0</td>\n",
       "      <td>0</td>\n",
       "      <td>0</td>\n",
       "      <td>0</td>\n",
       "      <td>0</td>\n",
       "      <td>...</td>\n",
       "      <td>0</td>\n",
       "      <td>0</td>\n",
       "      <td>0</td>\n",
       "      <td>0</td>\n",
       "      <td>0</td>\n",
       "      <td>0</td>\n",
       "      <td>0</td>\n",
       "      <td>0</td>\n",
       "      <td>0</td>\n",
       "      <td>0</td>\n",
       "    </tr>\n",
       "    <tr>\n",
       "      <th>...</th>\n",
       "      <td>...</td>\n",
       "      <td>...</td>\n",
       "      <td>...</td>\n",
       "      <td>...</td>\n",
       "      <td>...</td>\n",
       "      <td>...</td>\n",
       "      <td>...</td>\n",
       "      <td>...</td>\n",
       "      <td>...</td>\n",
       "      <td>...</td>\n",
       "      <td>...</td>\n",
       "      <td>...</td>\n",
       "      <td>...</td>\n",
       "      <td>...</td>\n",
       "      <td>...</td>\n",
       "      <td>...</td>\n",
       "      <td>...</td>\n",
       "      <td>...</td>\n",
       "      <td>...</td>\n",
       "      <td>...</td>\n",
       "      <td>...</td>\n",
       "    </tr>\n",
       "    <tr>\n",
       "      <th>10834</th>\n",
       "      <td>0</td>\n",
       "      <td>0</td>\n",
       "      <td>0</td>\n",
       "      <td>0</td>\n",
       "      <td>0</td>\n",
       "      <td>0</td>\n",
       "      <td>0</td>\n",
       "      <td>0</td>\n",
       "      <td>0</td>\n",
       "      <td>0</td>\n",
       "      <td>...</td>\n",
       "      <td>0</td>\n",
       "      <td>0</td>\n",
       "      <td>0</td>\n",
       "      <td>0</td>\n",
       "      <td>0</td>\n",
       "      <td>0</td>\n",
       "      <td>0</td>\n",
       "      <td>0</td>\n",
       "      <td>0</td>\n",
       "      <td>0</td>\n",
       "    </tr>\n",
       "    <tr>\n",
       "      <th>10836</th>\n",
       "      <td>0</td>\n",
       "      <td>0</td>\n",
       "      <td>0</td>\n",
       "      <td>0</td>\n",
       "      <td>0</td>\n",
       "      <td>0</td>\n",
       "      <td>0</td>\n",
       "      <td>0</td>\n",
       "      <td>0</td>\n",
       "      <td>0</td>\n",
       "      <td>...</td>\n",
       "      <td>0</td>\n",
       "      <td>0</td>\n",
       "      <td>0</td>\n",
       "      <td>0</td>\n",
       "      <td>0</td>\n",
       "      <td>0</td>\n",
       "      <td>0</td>\n",
       "      <td>0</td>\n",
       "      <td>0</td>\n",
       "      <td>0</td>\n",
       "    </tr>\n",
       "    <tr>\n",
       "      <th>10837</th>\n",
       "      <td>0</td>\n",
       "      <td>0</td>\n",
       "      <td>0</td>\n",
       "      <td>0</td>\n",
       "      <td>0</td>\n",
       "      <td>0</td>\n",
       "      <td>0</td>\n",
       "      <td>0</td>\n",
       "      <td>0</td>\n",
       "      <td>0</td>\n",
       "      <td>...</td>\n",
       "      <td>0</td>\n",
       "      <td>0</td>\n",
       "      <td>0</td>\n",
       "      <td>0</td>\n",
       "      <td>0</td>\n",
       "      <td>0</td>\n",
       "      <td>0</td>\n",
       "      <td>0</td>\n",
       "      <td>0</td>\n",
       "      <td>0</td>\n",
       "    </tr>\n",
       "    <tr>\n",
       "      <th>10839</th>\n",
       "      <td>0</td>\n",
       "      <td>0</td>\n",
       "      <td>0</td>\n",
       "      <td>1</td>\n",
       "      <td>0</td>\n",
       "      <td>0</td>\n",
       "      <td>0</td>\n",
       "      <td>0</td>\n",
       "      <td>0</td>\n",
       "      <td>0</td>\n",
       "      <td>...</td>\n",
       "      <td>0</td>\n",
       "      <td>0</td>\n",
       "      <td>0</td>\n",
       "      <td>0</td>\n",
       "      <td>0</td>\n",
       "      <td>0</td>\n",
       "      <td>0</td>\n",
       "      <td>0</td>\n",
       "      <td>0</td>\n",
       "      <td>0</td>\n",
       "    </tr>\n",
       "    <tr>\n",
       "      <th>10840</th>\n",
       "      <td>0</td>\n",
       "      <td>0</td>\n",
       "      <td>0</td>\n",
       "      <td>0</td>\n",
       "      <td>0</td>\n",
       "      <td>0</td>\n",
       "      <td>0</td>\n",
       "      <td>0</td>\n",
       "      <td>0</td>\n",
       "      <td>0</td>\n",
       "      <td>...</td>\n",
       "      <td>0</td>\n",
       "      <td>0</td>\n",
       "      <td>0</td>\n",
       "      <td>0</td>\n",
       "      <td>0</td>\n",
       "      <td>0</td>\n",
       "      <td>0</td>\n",
       "      <td>0</td>\n",
       "      <td>0</td>\n",
       "      <td>0</td>\n",
       "    </tr>\n",
       "  </tbody>\n",
       "</table>\n",
       "<p>9360 rows × 72 columns</p>\n",
       "</div>"
      ],
      "text/plain": [
       "       Category_ART_AND_DESIGN  Category_AUTO_AND_VEHICLES  Category_BEAUTY  \\\n",
       "0                            1                           0                0   \n",
       "1                            1                           0                0   \n",
       "2                            1                           0                0   \n",
       "3                            1                           0                0   \n",
       "4                            1                           0                0   \n",
       "...                        ...                         ...              ...   \n",
       "10834                        0                           0                0   \n",
       "10836                        0                           0                0   \n",
       "10837                        0                           0                0   \n",
       "10839                        0                           0                0   \n",
       "10840                        0                           0                0   \n",
       "\n",
       "       Category_BOOKS_AND_REFERENCE  Category_BUSINESS  Category_COMICS  \\\n",
       "0                                 0                  0                0   \n",
       "1                                 0                  0                0   \n",
       "2                                 0                  0                0   \n",
       "3                                 0                  0                0   \n",
       "4                                 0                  0                0   \n",
       "...                             ...                ...              ...   \n",
       "10834                             0                  0                0   \n",
       "10836                             0                  0                0   \n",
       "10837                             0                  0                0   \n",
       "10839                             1                  0                0   \n",
       "10840                             0                  0                0   \n",
       "\n",
       "       Category_COMMUNICATION  Category_DATING  Category_EDUCATION  \\\n",
       "0                           0                0                   0   \n",
       "1                           0                0                   0   \n",
       "2                           0                0                   0   \n",
       "3                           0                0                   0   \n",
       "4                           0                0                   0   \n",
       "...                       ...              ...                 ...   \n",
       "10834                       0                0                   0   \n",
       "10836                       0                0                   0   \n",
       "10837                       0                0                   0   \n",
       "10839                       0                0                   0   \n",
       "10840                       0                0                   0   \n",
       "\n",
       "       Category_ENTERTAINMENT  ...  Genres_Racing  Genres_Role Playing  \\\n",
       "0                           0  ...              0                    0   \n",
       "1                           0  ...              0                    0   \n",
       "2                           0  ...              0                    0   \n",
       "3                           0  ...              0                    0   \n",
       "4                           0  ...              0                    0   \n",
       "...                       ...  ...            ...                  ...   \n",
       "10834                       0  ...              0                    0   \n",
       "10836                       0  ...              0                    0   \n",
       "10837                       0  ...              0                    0   \n",
       "10839                       0  ...              0                    0   \n",
       "10840                       0  ...              0                    0   \n",
       "\n",
       "       Genres_Shopping  Genres_Simulation  Genres_Social  Genres_Sports  \\\n",
       "0                    0                  0              0              0   \n",
       "1                    0                  0              0              0   \n",
       "2                    0                  0              0              0   \n",
       "3                    0                  0              0              0   \n",
       "4                    0                  0              0              0   \n",
       "...                ...                ...            ...            ...   \n",
       "10834                0                  0              0              0   \n",
       "10836                0                  0              0              0   \n",
       "10837                0                  0              0              0   \n",
       "10839                0                  0              0              0   \n",
       "10840                0                  0              0              0   \n",
       "\n",
       "       Genres_Strategy  Genres_Tools  Genres_Travel & Local  \\\n",
       "0                    0             0                      0   \n",
       "1                    0             0                      0   \n",
       "2                    0             0                      0   \n",
       "3                    0             0                      0   \n",
       "4                    0             0                      0   \n",
       "...                ...           ...                    ...   \n",
       "10834                0             0                      0   \n",
       "10836                0             0                      0   \n",
       "10837                0             0                      0   \n",
       "10839                0             0                      0   \n",
       "10840                0             0                      0   \n",
       "\n",
       "       Genres_Video Players & Editors  \n",
       "0                                   0  \n",
       "1                                   0  \n",
       "2                                   0  \n",
       "3                                   0  \n",
       "4                                   0  \n",
       "...                               ...  \n",
       "10834                               0  \n",
       "10836                               0  \n",
       "10837                               0  \n",
       "10839                               0  \n",
       "10840                               0  \n",
       "\n",
       "[9360 rows x 72 columns]"
      ]
     },
     "execution_count": 95,
     "metadata": {},
     "output_type": "execute_result"
    }
   ],
   "source": [
    "ohe_features2"
   ]
  },
  {
   "cell_type": "markdown",
   "metadata": {},
   "source": [
    "#### Combine - Data Version 2\n",
    "- Numeric = ['Reviews', 'Size Trans']\n",
    "- Ordinal = ['Installs']\n",
    "- OHE = ['Category', 'Type', 'Content Rating', 'Genres']"
   ]
  },
  {
   "cell_type": "code",
   "execution_count": 96,
   "metadata": {},
   "outputs": [],
   "source": [
    "# Combine scaled numerical, OHE categoricals, and target into one df\n",
    "preprocessed2 = pd.concat([scaled2, ordinal, ohe_features2, y], axis=1)"
   ]
  },
  {
   "cell_type": "code",
   "execution_count": 97,
   "metadata": {
    "scrolled": false
   },
   "outputs": [
    {
     "data": {
      "text/plain": [
       "Index(['Reviews', 'Size Trans', 'Installs', 'Category_ART_AND_DESIGN',\n",
       "       'Category_AUTO_AND_VEHICLES', 'Category_BEAUTY',\n",
       "       'Category_BOOKS_AND_REFERENCE', 'Category_BUSINESS', 'Category_COMICS',\n",
       "       'Category_COMMUNICATION', 'Category_DATING', 'Category_EDUCATION',\n",
       "       'Category_ENTERTAINMENT', 'Category_EVENTS', 'Category_FAMILY',\n",
       "       'Category_FINANCE', 'Category_FOOD_AND_DRINK', 'Category_GAME',\n",
       "       'Category_HEALTH_AND_FITNESS', 'Category_HOUSE_AND_HOME',\n",
       "       'Category_LIBRARIES_AND_DEMO', 'Category_LIFESTYLE',\n",
       "       'Category_MAPS_AND_NAVIGATION', 'Category_MEDICAL',\n",
       "       'Category_NEWS_AND_MAGAZINES', 'Category_PARENTING',\n",
       "       'Category_PERSONALIZATION', 'Category_PHOTOGRAPHY',\n",
       "       'Category_PRODUCTIVITY', 'Category_SHOPPING', 'Category_SOCIAL',\n",
       "       'Category_SPORTS', 'Category_TOOLS', 'Category_TRAVEL_AND_LOCAL',\n",
       "       'Category_VIDEO_PLAYERS', 'Category_WEATHER', 'Type_Free', 'Type_Paid',\n",
       "       'Content Rating_Adults only 18+', 'Content Rating_Everyone',\n",
       "       'Content Rating_Everyone 10+', 'Content Rating_Mature 17+',\n",
       "       'Content Rating_Teen', 'Content Rating_Unrated', 'Genres_Action',\n",
       "       'Genres_Arcade', 'Genres_Books & Reference', 'Genres_Business',\n",
       "       'Genres_Casual', 'Genres_Communication', 'Genres_Dating',\n",
       "       'Genres_Education', 'Genres_Educational', 'Genres_Entertainment',\n",
       "       'Genres_Finance', 'Genres_Food & Drink', 'Genres_Health & Fitness',\n",
       "       'Genres_Lifestyle', 'Genres_Maps & Navigation', 'Genres_Medical',\n",
       "       'Genres_News & Magazines', 'Genres_Personalization',\n",
       "       'Genres_Photography', 'Genres_Productivity', 'Genres_Puzzle',\n",
       "       'Genres_Racing', 'Genres_Role Playing', 'Genres_Shopping',\n",
       "       'Genres_Simulation', 'Genres_Social', 'Genres_Sports',\n",
       "       'Genres_Strategy', 'Genres_Tools', 'Genres_Travel & Local',\n",
       "       'Genres_Video Players & Editors', 'Pos Rating'],\n",
       "      dtype='object')"
      ]
     },
     "execution_count": 97,
     "metadata": {},
     "output_type": "execute_result"
    }
   ],
   "source": [
    "preprocessed2.columns"
   ]
  },
  {
   "cell_type": "markdown",
   "metadata": {},
   "source": [
    "### Retry LogReg Balanced"
   ]
  },
  {
   "cell_type": "code",
   "execution_count": 98,
   "metadata": {},
   "outputs": [],
   "source": [
    "# X and y split of preprocessed \n",
    "X = preprocessed2.drop(columns=['Pos Rating'], axis=1)\n",
    "y = preprocessed2['Pos Rating']"
   ]
  },
  {
   "cell_type": "code",
   "execution_count": 99,
   "metadata": {},
   "outputs": [],
   "source": [
    "X_train, X_test, y_train, y_test = train_test_split(X, y, test_size=0.25, random_state=42)"
   ]
  },
  {
   "cell_type": "code",
   "execution_count": 100,
   "metadata": {},
   "outputs": [
    {
     "name": "stderr",
     "output_type": "stream",
     "text": [
      "/opt/anaconda3/envs/learn-env/lib/python3.6/site-packages/sklearn/linear_model/_logistic.py:940: ConvergenceWarning: lbfgs failed to converge (status=1):\n",
      "STOP: TOTAL NO. of ITERATIONS REACHED LIMIT.\n",
      "\n",
      "Increase the number of iterations (max_iter) or scale the data as shown in:\n",
      "    https://scikit-learn.org/stable/modules/preprocessing.html\n",
      "Please also refer to the documentation for alternative solver options:\n",
      "    https://scikit-learn.org/stable/modules/linear_model.html#logistic-regression\n",
      "  extra_warning_msg=_LOGISTIC_SOLVER_CONVERGENCE_MSG)\n"
     ]
    }
   ],
   "source": [
    "# Instantiate; adding class weight balanced since 70/30 split of target\n",
    "logreg3 = LogisticRegression(class_weight='balanced')\n",
    "\n",
    "# Fit\n",
    "logreg3.fit(X_train, y_train)\n",
    "\n",
    "# Preds\n",
    "train_preds = logreg3.predict(X_train)\n",
    "test_preds = logreg3.predict(X_test)"
   ]
  },
  {
   "cell_type": "code",
   "execution_count": 101,
   "metadata": {
    "scrolled": true
   },
   "outputs": [
    {
     "name": "stderr",
     "output_type": "stream",
     "text": [
      "/opt/anaconda3/envs/learn-env/lib/python3.6/site-packages/sklearn/linear_model/_logistic.py:940: ConvergenceWarning: lbfgs failed to converge (status=1):\n",
      "STOP: TOTAL NO. of ITERATIONS REACHED LIMIT.\n",
      "\n",
      "Increase the number of iterations (max_iter) or scale the data as shown in:\n",
      "    https://scikit-learn.org/stable/modules/preprocessing.html\n",
      "Please also refer to the documentation for alternative solver options:\n",
      "    https://scikit-learn.org/stable/modules/linear_model.html#logistic-regression\n",
      "  extra_warning_msg=_LOGISTIC_SOLVER_CONVERGENCE_MSG)\n",
      "/opt/anaconda3/envs/learn-env/lib/python3.6/site-packages/sklearn/linear_model/_logistic.py:940: ConvergenceWarning: lbfgs failed to converge (status=1):\n",
      "STOP: TOTAL NO. of ITERATIONS REACHED LIMIT.\n",
      "\n",
      "Increase the number of iterations (max_iter) or scale the data as shown in:\n",
      "    https://scikit-learn.org/stable/modules/preprocessing.html\n",
      "Please also refer to the documentation for alternative solver options:\n",
      "    https://scikit-learn.org/stable/modules/linear_model.html#logistic-regression\n",
      "  extra_warning_msg=_LOGISTIC_SOLVER_CONVERGENCE_MSG)\n"
     ]
    },
    {
     "name": "stdout",
     "output_type": "stream",
     "text": [
      "Train Scores\n",
      "------------\n",
      "Accuracy: 0.6102564102564103\n",
      "Recall: 0.5844444444444444\n",
      "F1 Score: 0.49012299664554604\n",
      "--------------------\n",
      "Test Scores\n",
      "-----------\n",
      "Accuracy: 0.6068376068376068\n",
      "Recall: 0.5710227272727273\n"
     ]
    },
    {
     "name": "stderr",
     "output_type": "stream",
     "text": [
      "/opt/anaconda3/envs/learn-env/lib/python3.6/site-packages/sklearn/linear_model/_logistic.py:940: ConvergenceWarning: lbfgs failed to converge (status=1):\n",
      "STOP: TOTAL NO. of ITERATIONS REACHED LIMIT.\n",
      "\n",
      "Increase the number of iterations (max_iter) or scale the data as shown in:\n",
      "    https://scikit-learn.org/stable/modules/preprocessing.html\n",
      "Please also refer to the documentation for alternative solver options:\n",
      "    https://scikit-learn.org/stable/modules/linear_model.html#logistic-regression\n",
      "  extra_warning_msg=_LOGISTIC_SOLVER_CONVERGENCE_MSG)\n"
     ]
    },
    {
     "name": "stdout",
     "output_type": "stream",
     "text": [
      "Recall Mean Cross Val 3-Fold: 0.5777777777777778\n",
      "F1 Score: 0.46635730858468677\n"
     ]
    },
    {
     "data": {
      "image/png": "[encoded data removed]",
      "text/plain": [
       "<Figure size 432x288 with 2 Axes>"
      ]
     },
     "metadata": {
      "needs_background": "light"
     },
     "output_type": "display_data"
    }
   ],
   "source": [
    "# print scores\n",
    "print(\"Train Scores\")\n",
    "print(\"------------\")\n",
    "print(f\"Accuracy: {accuracy_score(y_train, train_preds)}\")\n",
    "print(f\"Recall: {recall_score(y_train, train_preds)}\")\n",
    "print(f\"F1 Score: {f1_score(y_train, train_preds)}\")\n",
    "print(\"----\" * 5)\n",
    "print(\"Test Scores\")\n",
    "print(\"-----------\")\n",
    "print(f\"Accuracy: {accuracy_score(y_test, test_preds)}\")\n",
    "print(f\"Recall: {recall_score(y_test, test_preds)}\")\n",
    "print(f\"Recall Mean Cross Val 3-Fold: {np.mean(cross_val_score(logreg3,  X_train, y_train, cv=3, scoring='recall'))}\")\n",
    "print(f\"F1 Score: {f1_score(y_test, test_preds)}\")\n",
    "\n",
    "# plot test confusion matrix\n",
    "plot_confusion_matrix(logreg3, X_test, y_test, values_format='')\n",
    "plt.show()\n",
    "\n",
    "# Not as overfit as others\n",
    "# Accuracy down .3 after data cleansing, less OHE so can't overlearn\n",
    "# Recall similar\n",
    "# F1 down 0.03 from original data"
   ]
  },
  {
   "cell_type": "markdown",
   "metadata": {},
   "source": [
    "### Retry Decision Tree since that best performed (even though overfit, can tune)"
   ]
  },
  {
   "cell_type": "code",
   "execution_count": 102,
   "metadata": {},
   "outputs": [],
   "source": [
    "# Instantiate\n",
    "dt2 = DecisionTreeClassifier(class_weight='balanced')\n",
    "\n",
    "# Fit\n",
    "dt2.fit(X_train, y_train)\n",
    "\n",
    "# Preds\n",
    "train_preds = dt2.predict(X_train)\n",
    "test_preds = dt2.predict(X_test)"
   ]
  },
  {
   "cell_type": "code",
   "execution_count": 103,
   "metadata": {
    "scrolled": false
   },
   "outputs": [
    {
     "name": "stdout",
     "output_type": "stream",
     "text": [
      "Train Scores\n",
      "------------\n",
      "Accuracy: 0.9997150997150998\n",
      "Recall: 1.0\n",
      "F1 Score: 0.9995557529986673\n",
      "--------------------\n",
      "Test Scores\n",
      "-----------\n",
      "Accuracy: 0.7170940170940171\n",
      "Recall: 0.5894886363636364\n",
      "Recall Mean Cross Val 3-Fold: 0.5346666666666666\n",
      "F1 Score: 0.5563002680965147\n"
     ]
    },
    {
     "data": {
      "image/png": "[encoded data removed]",
      "text/plain": [
       "<Figure size 432x288 with 2 Axes>"
      ]
     },
     "metadata": {
      "needs_background": "light"
     },
     "output_type": "display_data"
    }
   ],
   "source": [
    "# print scores\n",
    "print(\"Train Scores\")\n",
    "print(\"------------\")\n",
    "print(f\"Accuracy: {accuracy_score(y_train, train_preds)}\")\n",
    "print(f\"Recall: {recall_score(y_train, train_preds)}\")\n",
    "print(f\"F1 Score: {f1_score(y_train, train_preds)}\")\n",
    "print(\"----\" * 5)\n",
    "print(\"Test Scores\")\n",
    "print(\"-----------\")\n",
    "print(f\"Accuracy: {accuracy_score(y_test, test_preds)}\")\n",
    "print(f\"Recall: {recall_score(y_test, test_preds)}\")\n",
    "print(f\"Recall Mean Cross Val 3-Fold: {np.mean(cross_val_score(dt2, X_train, y_train, cv=3, scoring='recall'))}\")\n",
    "print(f\"F1 Score: {f1_score(y_test, test_preds)}\")\n",
    "\n",
    "# plot test confusion matrix\n",
    "plot_confusion_matrix(dt2, X_test, y_test, values_format='')\n",
    "plt.show()\n",
    "\n",
    "# Overfit, but can tune\n",
    "# Better accuracy than balance logreg retry, similar to original decision tree\n",
    "# Recall at highest at 0.58, validation lower at 0.53\n",
    "# Similar f1 to original decision tree"
   ]
  },
  {
   "cell_type": "code",
   "execution_count": 104,
   "metadata": {
    "scrolled": true
   },
   "outputs": [
    {
     "data": {
      "text/plain": [
       "53"
      ]
     },
     "execution_count": 104,
     "metadata": {},
     "output_type": "execute_result"
    }
   ],
   "source": [
    "# What is current depth of overfit tree\n",
    "dt2.tree_.max_depth"
   ]
  },
  {
   "cell_type": "code",
   "execution_count": 105,
   "metadata": {},
   "outputs": [],
   "source": [
    "coef = dt2.feature_importances_"
   ]
  },
  {
   "cell_type": "code",
   "execution_count": 106,
   "metadata": {},
   "outputs": [],
   "source": [
    "d = dict(zip(X.columns, coef))"
   ]
  },
  {
   "cell_type": "code",
   "execution_count": 107,
   "metadata": {},
   "outputs": [],
   "source": [
    "sorted_dict = dict( sorted(d.items(), key=operator.itemgetter(1),reverse=True))"
   ]
  },
  {
   "cell_type": "code",
   "execution_count": 108,
   "metadata": {
    "scrolled": true
   },
   "outputs": [
    {
     "data": {
      "text/plain": [
       "{'Reviews': 0.3391771967966881,\n",
       " 'Size Trans': 0.21201840651291906,\n",
       " 'Installs': 0.09386812507891114,\n",
       " 'Content Rating_Teen': 0.013297867013854103,\n",
       " 'Content Rating_Everyone': 0.012309120591747042,\n",
       " 'Genres_Entertainment': 0.011990519660550737,\n",
       " 'Genres_Casual': 0.011075219690279192,\n",
       " 'Genres_Action': 0.010589493090481258,\n",
       " 'Type_Free': 0.010494882683427296,\n",
       " 'Category_COMMUNICATION': 0.009864587897227715,\n",
       " 'Content Rating_Mature 17+': 0.009623442512296958,\n",
       " 'Category_FAMILY': 0.009546166676385635,\n",
       " 'Category_GAME': 0.009104200487857487,\n",
       " 'Genres_Education': 0.009062839986632251,\n",
       " 'Category_LIFESTYLE': 0.008948891564027795,\n",
       " 'Genres_Personalization': 0.008451288815666234,\n",
       " 'Genres_Health & Fitness': 0.008036433846060615,\n",
       " 'Category_TRAVEL_AND_LOCAL': 0.00682438105557626,\n",
       " 'Genres_Travel & Local': 0.006570522887577386,\n",
       " 'Genres_Tools': 0.006371089113172875,\n",
       " 'Category_MEDICAL': 0.006366097166109968,\n",
       " 'Content Rating_Everyone 10+': 0.006335780545573388,\n",
       " 'Genres_Simulation': 0.006100605274947128,\n",
       " 'Genres_Sports': 0.005987259508145497,\n",
       " 'Genres_Arcade': 0.005973711729589218,\n",
       " 'Category_PHOTOGRAPHY': 0.005939737051467325,\n",
       " 'Genres_Puzzle': 0.005896884352429445,\n",
       " 'Category_SPORTS': 0.005477445065838948,\n",
       " 'Category_FINANCE': 0.0054730587993530476,\n",
       " 'Category_SHOPPING': 0.005424160664439583,\n",
       " 'Category_BUSINESS': 0.005410854447491171,\n",
       " 'Genres_Productivity': 0.005187592264375466,\n",
       " 'Category_PERSONALIZATION': 0.005180957955502621,\n",
       " 'Category_ENTERTAINMENT': 0.004765115029489296,\n",
       " 'Category_PRODUCTIVITY': 0.004736061346685721,\n",
       " 'Category_TOOLS': 0.004433845650123303,\n",
       " 'Genres_Finance': 0.004402101006601813,\n",
       " 'Category_SOCIAL': 0.00438678305035167,\n",
       " 'Genres_Communication': 0.004176740985886086,\n",
       " 'Genres_Food & Drink': 0.004120709885326707,\n",
       " 'Genres_Educational': 0.003993770638602254,\n",
       " 'Genres_Medical': 0.003963930155072699,\n",
       " 'Category_BOOKS_AND_REFERENCE': 0.003963719791164292,\n",
       " 'Genres_Racing': 0.0037726377500430183,\n",
       " 'Category_COMICS': 0.003720297993488222,\n",
       " 'Genres_Lifestyle': 0.0034762364996369977,\n",
       " 'Genres_News & Magazines': 0.0033359412360244164,\n",
       " 'Genres_Social': 0.0033225269498618343,\n",
       " 'Genres_Photography': 0.003160591938529354,\n",
       " 'Genres_Books & Reference': 0.0031260651422554387,\n",
       " 'Genres_Role Playing': 0.003098965488843368,\n",
       " 'Category_WEATHER': 0.003033208241475867,\n",
       " 'Genres_Shopping': 0.0030283832781154295,\n",
       " 'Category_FOOD_AND_DRINK': 0.0029838629392787337,\n",
       " 'Category_PARENTING': 0.002799122829158024,\n",
       " 'Category_EDUCATION': 0.0027564045983207493,\n",
       " 'Category_NEWS_AND_MAGAZINES': 0.002753502578733748,\n",
       " 'Category_DATING': 0.0027461967682958113,\n",
       " 'Category_AUTO_AND_VEHICLES': 0.0027112880507375848,\n",
       " 'Category_BEAUTY': 0.002697363751357806,\n",
       " 'Category_ART_AND_DESIGN': 0.0026735705022678867,\n",
       " 'Category_MAPS_AND_NAVIGATION': 0.002523988016090891,\n",
       " 'Category_HOUSE_AND_HOME': 0.002368416036723966,\n",
       " 'Genres_Dating': 0.0022810846959621855,\n",
       " 'Genres_Strategy': 0.0021975228411707246,\n",
       " 'Genres_Video Players & Editors': 0.001846049088954179,\n",
       " 'Genres_Maps & Navigation': 0.0018314246656253718,\n",
       " 'Category_VIDEO_PLAYERS': 0.0016728682017956977,\n",
       " 'Category_HEALTH_AND_FITNESS': 0.0016411104592530823,\n",
       " 'Genres_Business': 0.0011667240720059477,\n",
       " 'Category_LIBRARIES_AND_DEMO': 0.0011077284690964467,\n",
       " 'Type_Paid': 0.0009228092152835601,\n",
       " 'Category_EVENTS': 0.0003225093757078832,\n",
       " 'Content Rating_Adults only 18+': 0.0,\n",
       " 'Content Rating_Unrated': 0.0}"
      ]
     },
     "execution_count": 108,
     "metadata": {},
     "output_type": "execute_result"
    }
   ],
   "source": [
    "sorted_dict\n",
    "# Reviews, Size, and Installs are big drivers"
   ]
  },
  {
   "cell_type": "markdown",
   "metadata": {},
   "source": [
    "#### Try Decision Tree again with half depth to see impacts"
   ]
  },
  {
   "cell_type": "code",
   "execution_count": 109,
   "metadata": {},
   "outputs": [],
   "source": [
    "# Instantiate\n",
    "dt3 = DecisionTreeClassifier(class_weight='balanced', max_depth=26)\n",
    "\n",
    "# Fit\n",
    "dt3.fit(X_train, y_train)\n",
    "\n",
    "# Preds\n",
    "train_preds = dt3.predict(X_train)\n",
    "test_preds = dt3.predict(X_test)"
   ]
  },
  {
   "cell_type": "code",
   "execution_count": 110,
   "metadata": {
    "scrolled": false
   },
   "outputs": [
    {
     "name": "stdout",
     "output_type": "stream",
     "text": [
      "Train Scores\n",
      "------------\n",
      "Accuracy: 0.9615384615384616\n",
      "Recall: 0.9595555555555556\n",
      "F1 Score: 0.9411508282476024\n",
      "--------------------\n",
      "Test Scores\n",
      "-----------\n",
      "Accuracy: 0.7136752136752137\n",
      "Recall: 0.5923295454545454\n",
      "Recall Mean Cross Val 3-Fold: 0.5391111111111111\n",
      "F1 Score: 0.5545212765957447\n"
     ]
    },
    {
     "data": {
      "image/png": "[encoded data removed]",
      "text/plain": [
       "<Figure size 432x288 with 2 Axes>"
      ]
     },
     "metadata": {
      "needs_background": "light"
     },
     "output_type": "display_data"
    }
   ],
   "source": [
    "# print scores\n",
    "print(\"Train Scores\")\n",
    "print(\"------------\")\n",
    "print(f\"Accuracy: {accuracy_score(y_train, train_preds)}\")\n",
    "print(f\"Recall: {recall_score(y_train, train_preds)}\")\n",
    "print(f\"F1 Score: {f1_score(y_train, train_preds)}\")\n",
    "print(\"----\" * 5)\n",
    "print(\"Test Scores\")\n",
    "print(\"-----------\")\n",
    "print(f\"Accuracy: {accuracy_score(y_test, test_preds)}\")\n",
    "print(f\"Recall: {recall_score(y_test, test_preds)}\")\n",
    "print(f\"Recall Mean Cross Val 3-Fold: {np.mean(cross_val_score(dt3, X_train, y_train, cv=3, scoring='recall'))}\")\n",
    "print(f\"F1 Score: {f1_score(y_test, test_preds)}\")\n",
    "\n",
    "# plot test confusion matrix\n",
    "plot_confusion_matrix(dt3, X_test, y_test, values_format='')\n",
    "plt.show()\n",
    "\n",
    "# Less overfit but still needs help - in GridSearch, do range around this, aim for lower\n",
    "# number as this is still very overfit\n",
    "# Similar recall and validation\n",
    "# Same F1 as with full depth"
   ]
  },
  {
   "cell_type": "markdown",
   "metadata": {},
   "source": [
    "### Tune Decision Tree"
   ]
  },
  {
   "cell_type": "markdown",
   "metadata": {},
   "source": [
    "#### Grid Search"
   ]
  },
  {
   "cell_type": "code",
   "execution_count": 111,
   "metadata": {},
   "outputs": [],
   "source": [
    "param_dict = {\n",
    "    'criterion': ['gini', 'entropy'],\n",
    "    'max_depth': [5, 10, 15, 20, 25, 30, 35],\n",
    "    'min_samples_split': [2, 4, 6, 8, 10, 12, 14, 16, 18, 20],\n",
    "    'min_samples_leaf': [2, 4, 6, 8, 10, 12, 14, 16, 18, 20]\n",
    "}"
   ]
  },
  {
   "cell_type": "code",
   "execution_count": 114,
   "metadata": {},
   "outputs": [],
   "source": [
    "# grid = GridSearchCV(dt3,\n",
    "#                    param_grid = param_dict,\n",
    "#                    cv=5,\n",
    "#                    verbose=1)\n",
    "\n",
    "# grid.fit(X_train, y_train)"
   ]
  },
  {
   "cell_type": "code",
   "execution_count": 115,
   "metadata": {},
   "outputs": [],
   "source": [
    "# grid.best_params_"
   ]
  },
  {
   "cell_type": "code",
   "execution_count": 116,
   "metadata": {
    "scrolled": true
   },
   "outputs": [],
   "source": [
    "# grid.best_score_"
   ]
  },
  {
   "cell_type": "markdown",
   "metadata": {},
   "source": [
    "#### Apply GridSearch results to Decision Tree with Installs"
   ]
  },
  {
   "cell_type": "code",
   "execution_count": 117,
   "metadata": {},
   "outputs": [],
   "source": [
    "# Instantiate\n",
    "dt_grid = DecisionTreeClassifier(class_weight='balanced',\n",
    "                             criterion = 'entropy',\n",
    "                             max_depth = 10,\n",
    "                             min_samples_leaf  = 20,\n",
    "                             min_samples_split = 2)\n",
    "\n",
    "# Fit\n",
    "dt_grid.fit(X_train, y_train)\n",
    "\n",
    "# Preds\n",
    "train_preds = dt_grid.predict(X_train)\n",
    "test_preds = dt_grid.predict(X_test)"
   ]
  },
  {
   "cell_type": "code",
   "execution_count": 118,
   "metadata": {
    "scrolled": true
   },
   "outputs": [
    {
     "name": "stdout",
     "output_type": "stream",
     "text": [
      "Train Scores\n",
      "------------\n",
      "Accuracy: 0.7215099715099715\n",
      "Recall: 0.5542222222222222\n",
      "F1 Score: 0.5605754102045403\n",
      "--------------------\n",
      "Test Scores\n",
      "-----------\n",
      "Accuracy: 0.6863247863247863\n",
      "Recall: 0.4928977272727273\n",
      "Recall Mean Cross Val 3-Fold: 0.5306666666666667\n",
      "F1 Score: 0.48599439775910364\n"
     ]
    },
    {
     "data": {
      "image/png": "[encoded data removed]",
      "text/plain": [
       "<Figure size 432x288 with 2 Axes>"
      ]
     },
     "metadata": {
      "needs_background": "light"
     },
     "output_type": "display_data"
    }
   ],
   "source": [
    "# print scores\n",
    "print(\"Train Scores\")\n",
    "print(\"------------\")\n",
    "print(f\"Accuracy: {accuracy_score(y_train, train_preds)}\")\n",
    "print(f\"Recall: {recall_score(y_train, train_preds)}\")\n",
    "print(f\"F1 Score: {f1_score(y_train, train_preds)}\")\n",
    "print(\"----\" * 5)\n",
    "print(\"Test Scores\")\n",
    "print(\"-----------\")\n",
    "print(f\"Accuracy: {accuracy_score(y_test, test_preds)}\")\n",
    "print(f\"Recall: {recall_score(y_test, test_preds)}\")\n",
    "print(f\"Recall Mean Cross Val 3-Fold: {np.mean(cross_val_score(dt_grid, X_train, y_train, cv=3, scoring='recall'))}\")\n",
    "print(f\"F1 Score: {f1_score(y_test, test_preds)}\")\n",
    "\n",
    "# plot test confusion matrix\n",
    "plot_confusion_matrix(dt_grid, X_test, y_test, values_format='')\n",
    "plt.show()\n",
    "\n",
    "# Much less overfit - but accuracy down .2 - Same as random guess\n",
    "# Recall much lower from 0.58 to 0.49 - but validation at 0.53"
   ]
  },
  {
   "cell_type": "code",
   "execution_count": 119,
   "metadata": {},
   "outputs": [],
   "source": [
    "coef = dt_grid.feature_importances_"
   ]
  },
  {
   "cell_type": "code",
   "execution_count": 120,
   "metadata": {},
   "outputs": [],
   "source": [
    "d = dict(zip(X.columns, coef))"
   ]
  },
  {
   "cell_type": "code",
   "execution_count": 121,
   "metadata": {},
   "outputs": [],
   "source": [
    "sorted_dict = dict( sorted(d.items(), key=operator.itemgetter(1),reverse=True))"
   ]
  },
  {
   "cell_type": "code",
   "execution_count": 122,
   "metadata": {
    "scrolled": true
   },
   "outputs": [
    {
     "data": {
      "text/plain": [
       "{'Reviews': 0.35377055939426005,\n",
       " 'Installs': 0.28773083995693227,\n",
       " 'Size Trans': 0.11177972382370507,\n",
       " 'Type_Free': 0.06210623032449733,\n",
       " 'Genres_Health & Fitness': 0.041366887859316616,\n",
       " 'Category_TRAVEL_AND_LOCAL': 0.02511964877855545,\n",
       " 'Genres_Tools': 0.018035994694523463,\n",
       " 'Content Rating_Mature 17+': 0.012834447740698807,\n",
       " 'Genres_Education': 0.010817548183715288,\n",
       " 'Category_SOCIAL': 0.010240877815036348,\n",
       " 'Genres_Communication': 0.009507867267359865,\n",
       " 'Genres_Action': 0.008882868592384605,\n",
       " 'Category_LIFESTYLE': 0.008248828356213971,\n",
       " 'Category_MAPS_AND_NAVIGATION': 0.006801687871409487,\n",
       " 'Genres_Books & Reference': 0.00648751066299803,\n",
       " 'Category_GAME': 0.005527897572028308,\n",
       " 'Genres_Entertainment': 0.0053977166919702045,\n",
       " 'Genres_Medical': 0.004721739968658777,\n",
       " 'Content Rating_Everyone': 0.00457716097751429,\n",
       " 'Category_TOOLS': 0.003008757867974191,\n",
       " 'Category_FAMILY': 0.0018924824802368186,\n",
       " 'Category_BUSINESS': 0.001142723120010703,\n",
       " 'Category_ART_AND_DESIGN': 0.0,\n",
       " 'Category_AUTO_AND_VEHICLES': 0.0,\n",
       " 'Category_BEAUTY': 0.0,\n",
       " 'Category_BOOKS_AND_REFERENCE': 0.0,\n",
       " 'Category_COMICS': 0.0,\n",
       " 'Category_COMMUNICATION': 0.0,\n",
       " 'Category_DATING': 0.0,\n",
       " 'Category_EDUCATION': 0.0,\n",
       " 'Category_ENTERTAINMENT': 0.0,\n",
       " 'Category_EVENTS': 0.0,\n",
       " 'Category_FINANCE': 0.0,\n",
       " 'Category_FOOD_AND_DRINK': 0.0,\n",
       " 'Category_HEALTH_AND_FITNESS': 0.0,\n",
       " 'Category_HOUSE_AND_HOME': 0.0,\n",
       " 'Category_LIBRARIES_AND_DEMO': 0.0,\n",
       " 'Category_MEDICAL': 0.0,\n",
       " 'Category_NEWS_AND_MAGAZINES': 0.0,\n",
       " 'Category_PARENTING': 0.0,\n",
       " 'Category_PERSONALIZATION': 0.0,\n",
       " 'Category_PHOTOGRAPHY': 0.0,\n",
       " 'Category_PRODUCTIVITY': 0.0,\n",
       " 'Category_SHOPPING': 0.0,\n",
       " 'Category_SPORTS': 0.0,\n",
       " 'Category_VIDEO_PLAYERS': 0.0,\n",
       " 'Category_WEATHER': 0.0,\n",
       " 'Type_Paid': 0.0,\n",
       " 'Content Rating_Adults only 18+': 0.0,\n",
       " 'Content Rating_Everyone 10+': 0.0,\n",
       " 'Content Rating_Teen': 0.0,\n",
       " 'Content Rating_Unrated': 0.0,\n",
       " 'Genres_Arcade': 0.0,\n",
       " 'Genres_Business': 0.0,\n",
       " 'Genres_Casual': 0.0,\n",
       " 'Genres_Dating': 0.0,\n",
       " 'Genres_Educational': 0.0,\n",
       " 'Genres_Finance': 0.0,\n",
       " 'Genres_Food & Drink': 0.0,\n",
       " 'Genres_Lifestyle': 0.0,\n",
       " 'Genres_Maps & Navigation': 0.0,\n",
       " 'Genres_News & Magazines': 0.0,\n",
       " 'Genres_Personalization': 0.0,\n",
       " 'Genres_Photography': 0.0,\n",
       " 'Genres_Productivity': 0.0,\n",
       " 'Genres_Puzzle': 0.0,\n",
       " 'Genres_Racing': 0.0,\n",
       " 'Genres_Role Playing': 0.0,\n",
       " 'Genres_Shopping': 0.0,\n",
       " 'Genres_Simulation': 0.0,\n",
       " 'Genres_Social': 0.0,\n",
       " 'Genres_Sports': 0.0,\n",
       " 'Genres_Strategy': 0.0,\n",
       " 'Genres_Travel & Local': 0.0,\n",
       " 'Genres_Video Players & Editors': 0.0}"
      ]
     },
     "execution_count": 122,
     "metadata": {},
     "output_type": "execute_result"
    }
   ],
   "source": [
    "sorted_dict\n",
    "# Reviews, Size, and Installs are big drivers\n",
    "# Then Content Rating"
   ]
  },
  {
   "cell_type": "markdown",
   "metadata": {},
   "source": [
    "#### Consistently overfit - try less training data"
   ]
  },
  {
   "cell_type": "code",
   "execution_count": 123,
   "metadata": {},
   "outputs": [],
   "source": [
    "X_train, X_test, y_train, y_test = train_test_split(X, y, test_size=0.30, random_state=42)"
   ]
  },
  {
   "cell_type": "code",
   "execution_count": 124,
   "metadata": {},
   "outputs": [],
   "source": [
    "# Instantiate\n",
    "dt5 = DecisionTreeClassifier(class_weight='balanced',\n",
    "                             criterion = 'entropy',\n",
    "                             max_depth = 10,\n",
    "                             min_samples_leaf  = 20,\n",
    "                             min_samples_split = 2)\n",
    "\n",
    "# Fit\n",
    "dt5.fit(X_train, y_train)\n",
    "\n",
    "# Preds\n",
    "train_preds = dt5.predict(X_train)\n",
    "test_preds = dt5.predict(X_test)"
   ]
  },
  {
   "cell_type": "code",
   "execution_count": 125,
   "metadata": {
    "scrolled": true
   },
   "outputs": [
    {
     "name": "stdout",
     "output_type": "stream",
     "text": [
      "Train Scores\n",
      "------------\n",
      "Accuracy: 0.7312271062271062\n",
      "Recall: 0.5002373042240151\n",
      "F1 Score: 0.5448436288446626\n",
      "--------------------\n",
      "Test Scores\n",
      "-----------\n",
      "Accuracy: 0.7136752136752137\n",
      "Recall: 0.4628099173553719\n",
      "Recall Mean Cross Val 3-Fold: 0.5372693881465812\n",
      "F1 Score: 0.49370277078085645\n"
     ]
    },
    {
     "data": {
      "image/png": "[encoded data removed]",
      "text/plain": [
       "<Figure size 432x288 with 2 Axes>"
      ]
     },
     "metadata": {
      "needs_background": "light"
     },
     "output_type": "display_data"
    }
   ],
   "source": [
    "# print scores\n",
    "print(\"Train Scores\")\n",
    "print(\"------------\")\n",
    "print(f\"Accuracy: {accuracy_score(y_train, train_preds)}\")\n",
    "print(f\"Recall: {recall_score(y_train, train_preds)}\")\n",
    "print(f\"F1 Score: {f1_score(y_train, train_preds)}\")\n",
    "print(\"----\" * 5)\n",
    "print(\"Test Scores\")\n",
    "print(\"-----------\")\n",
    "print(f\"Accuracy: {accuracy_score(y_test, test_preds)}\")\n",
    "print(f\"Recall: {recall_score(y_test, test_preds)}\")\n",
    "print(f\"Recall Mean Cross Val 3-Fold: {np.mean(cross_val_score(dt5, X_train, y_train, cv=3, scoring='recall'))}\")\n",
    "print(f\"F1 Score: {f1_score(y_test, test_preds)}\")\n",
    "\n",
    "# plot test confusion matrix\n",
    "plot_confusion_matrix(dt5, X_test, y_test, values_format='')\n",
    "plt.show()\n",
    "\n",
    "# Still slightly overfit\n",
    "# Bette accuracy by .02\n",
    "# Recall suffers by .04 - buut cross val is .53\n",
    "# Slightly lower F1"
   ]
  },
  {
   "cell_type": "markdown",
   "metadata": {},
   "source": [
    "### Try Random Forest"
   ]
  },
  {
   "cell_type": "code",
   "execution_count": 269,
   "metadata": {},
   "outputs": [],
   "source": [
    "# X and y split of preprocessed \n",
    "X = preprocessed2.drop(columns=['Pos Rating'], axis=1)\n",
    "y = preprocessed2['Pos Rating']"
   ]
  },
  {
   "cell_type": "code",
   "execution_count": 270,
   "metadata": {},
   "outputs": [],
   "source": [
    "X_train, X_test, y_train, y_test = train_test_split(X, y, test_size=0.25, random_state=42)"
   ]
  },
  {
   "cell_type": "code",
   "execution_count": 271,
   "metadata": {},
   "outputs": [
    {
     "data": {
      "text/plain": [
       "(7020, 75)"
      ]
     },
     "execution_count": 271,
     "metadata": {},
     "output_type": "execute_result"
    }
   ],
   "source": [
    "X_train.shape"
   ]
  },
  {
   "cell_type": "code",
   "execution_count": 272,
   "metadata": {},
   "outputs": [
    {
     "data": {
      "text/plain": [
       "(7020,)"
      ]
     },
     "execution_count": 272,
     "metadata": {},
     "output_type": "execute_result"
    }
   ],
   "source": [
    "y_train.shape"
   ]
  },
  {
   "cell_type": "code",
   "execution_count": 273,
   "metadata": {},
   "outputs": [],
   "source": [
    "# Instantiate\n",
    "rf_grid = RandomForestClassifier(class_weight='balanced',\n",
    "                             criterion = 'entropy',\n",
    "                             max_depth = 10,\n",
    "                             min_samples_leaf  = 20,\n",
    "                             min_samples_split = 2)\n",
    "\n",
    "# Fit\n",
    "rf_grid.fit(X_train, y_train)\n",
    "\n",
    "# Preds\n",
    "train_preds = rf_grid.predict(X_train)\n",
    "test_preds = rf_grid.predict(X_test)"
   ]
  },
  {
   "cell_type": "code",
   "execution_count": 274,
   "metadata": {
    "scrolled": true
   },
   "outputs": [
    {
     "name": "stdout",
     "output_type": "stream",
     "text": [
      "Train Scores\n",
      "------------\n",
      "Accuracy: 0.6763532763532764\n",
      "Recall: 0.5777777777777777\n",
      "F1 Score: 0.5336617405582923\n",
      "--------------------\n",
      "Test Scores\n",
      "-----------\n",
      "Accuracy: 0.6735042735042736\n",
      "Recall: 0.5696022727272727\n",
      "Recall Mean Cross Val 3-Fold: 0.5626666666666668\n",
      "F1 Score: 0.5121328224776501\n"
     ]
    },
    {
     "data": {
      "image/png": "[encoded data removed]",
      "text/plain": [
       "<Figure size 432x288 with 2 Axes>"
      ]
     },
     "metadata": {
      "needs_background": "light"
     },
     "output_type": "display_data"
    }
   ],
   "source": [
    "# print scores\n",
    "print(\"Train Scores\")\n",
    "print(\"------------\")\n",
    "print(f\"Accuracy: {accuracy_score(y_train, train_preds)}\")\n",
    "print(f\"Recall: {recall_score(y_train, train_preds)}\")\n",
    "print(f\"F1 Score: {f1_score(y_train, train_preds)}\")\n",
    "print(\"----\" * 5)\n",
    "print(\"Test Scores\")\n",
    "print(\"-----------\")\n",
    "print(f\"Accuracy: {accuracy_score(y_test, test_preds)}\")\n",
    "print(f\"Recall: {recall_score(y_test, test_preds)}\")\n",
    "print(f\"Recall Mean Cross Val 3-Fold: {np.mean(cross_val_score(rf_grid, X_train, y_train, cv=3, scoring='recall'))}\")\n",
    "print(f\"F1 Score: {f1_score(y_test, test_preds)}\")\n",
    "\n",
    "# plot test confusion matrix\n",
    "plot_confusion_matrix(rf_grid, X_test, y_test, values_format='')\n",
    "plt.show()\n",
    "\n",
    "# Not overfit for once, but accuracy is less than random guess although recall is at highest\n",
    "# F1 also at similar highest"
   ]
  },
  {
   "cell_type": "code",
   "execution_count": null,
   "metadata": {},
   "outputs": [],
   "source": [
    "# source: https://towardsdatascience.com/explaining-feature-importance-by-example-of-a-random-forest-d9166011959e\n",
    "from sklearn.base import clone \n",
    "\n",
    "def drop_col_feat_imp(model, X_train, y_train, random_state = 42):\n",
    "    \n",
    "    # clone the model to have the exact same specification as the one initially trained\n",
    "    model_clone = clone(model)\n",
    "    # set random_state for comparability\n",
    "    model_clone.random_state = random_state\n",
    "    # training and scoring the benchmark model\n",
    "    model_clone.fit(X_train, y_train)\n",
    "    benchmark_score = model_clone.score(X_train, y_train)\n",
    "    # list for storing feature importances\n",
    "    importances = []\n",
    "    \n",
    "    # iterating over all columns and storing feature importance (difference between benchmark and new model)\n",
    "    for col in X_train.columns:\n",
    "        model_clone = clone(model)\n",
    "        model_clone.random_state = random_state\n",
    "        model_clone.fit(X_train.drop(col, axis = 1), y_train)\n",
    "        drop_col_score = model_clone.score(X_train.drop(col, axis = 1), y_train)\n",
    "        importances.append(benchmark_score - drop_col_score)\n",
    "    \n",
    "    importances_df = pd.DataFrame(X_train.columns, importances)\n",
    "    return importances_df"
   ]
  },
  {
   "cell_type": "code",
   "execution_count": null,
   "metadata": {},
   "outputs": [],
   "source": [
    "importances_df = drop_col_feat_imp(rf_grid, X_train, y_train, random_state = 42)"
   ]
  },
  {
   "cell_type": "code",
   "execution_count": null,
   "metadata": {},
   "outputs": [],
   "source": [
    "importances_df.sort_index(ascending=False)"
   ]
  },
  {
   "cell_type": "code",
   "execution_count": 256,
   "metadata": {},
   "outputs": [
    {
     "data": {
      "text/html": [
       "<div>\n",
       "<style scoped>\n",
       "    .dataframe tbody tr th:only-of-type {\n",
       "        vertical-align: middle;\n",
       "    }\n",
       "\n",
       "    .dataframe tbody tr th {\n",
       "        vertical-align: top;\n",
       "    }\n",
       "\n",
       "    .dataframe thead th {\n",
       "        text-align: right;\n",
       "    }\n",
       "</style>\n",
       "<table border=\"1\" class=\"dataframe\">\n",
       "  <thead>\n",
       "    <tr style=\"text-align: right;\">\n",
       "      <th></th>\n",
       "      <th>Importance</th>\n",
       "    </tr>\n",
       "    <tr>\n",
       "      <th>Feature</th>\n",
       "      <th></th>\n",
       "    </tr>\n",
       "  </thead>\n",
       "  <tbody>\n",
       "    <tr>\n",
       "      <th>Reviews</th>\n",
       "      <td>0.242698</td>\n",
       "    </tr>\n",
       "    <tr>\n",
       "      <th>Installs</th>\n",
       "      <td>0.191944</td>\n",
       "    </tr>\n",
       "    <tr>\n",
       "      <th>Type_Paid</th>\n",
       "      <td>0.066442</td>\n",
       "    </tr>\n",
       "    <tr>\n",
       "      <th>Type_Free</th>\n",
       "      <td>0.025839</td>\n",
       "    </tr>\n",
       "    <tr>\n",
       "      <th>Category_HEALTH_AND_FITNESS</th>\n",
       "      <td>0.018456</td>\n",
       "    </tr>\n",
       "    <tr>\n",
       "      <th>...</th>\n",
       "      <td>...</td>\n",
       "    </tr>\n",
       "    <tr>\n",
       "      <th>Content Rating_Everyone</th>\n",
       "      <td>-0.006460</td>\n",
       "    </tr>\n",
       "    <tr>\n",
       "      <th>Genres_Communication</th>\n",
       "      <td>-0.009228</td>\n",
       "    </tr>\n",
       "    <tr>\n",
       "      <th>Genres_Travel &amp; Local</th>\n",
       "      <td>-0.009228</td>\n",
       "    </tr>\n",
       "    <tr>\n",
       "      <th>Category_TRAVEL_AND_LOCAL</th>\n",
       "      <td>-0.011074</td>\n",
       "    </tr>\n",
       "    <tr>\n",
       "      <th>Genres_Education</th>\n",
       "      <td>-0.021225</td>\n",
       "    </tr>\n",
       "  </tbody>\n",
       "</table>\n",
       "<p>75 rows × 1 columns</p>\n",
       "</div>"
      ],
      "text/plain": [
       "                             Importance\n",
       "Feature                                \n",
       "Reviews                        0.242698\n",
       "Installs                       0.191944\n",
       "Type_Paid                      0.066442\n",
       "Type_Free                      0.025839\n",
       "Category_HEALTH_AND_FITNESS    0.018456\n",
       "...                                 ...\n",
       "Content Rating_Everyone       -0.006460\n",
       "Genres_Communication          -0.009228\n",
       "Genres_Travel & Local         -0.009228\n",
       "Category_TRAVEL_AND_LOCAL     -0.011074\n",
       "Genres_Education              -0.021225\n",
       "\n",
       "[75 rows x 1 columns]"
      ]
     },
     "execution_count": 256,
     "metadata": {},
     "output_type": "execute_result"
    }
   ],
   "source": [
    "from sklearn.metrics import r2_score\n",
    "from rfpimp import permutation_importances\n",
    "\n",
    "def r2(rf, X_train, y_train):\n",
    "    return r2_score(y_train, rf.predict(X_train))\n",
    "\n",
    "perm_imp_rfpimp = permutation_importances(rf_grid, X_train, y_train, r2)\n",
    "perm_imp_rfpimp"
   ]
  },
  {
   "cell_type": "code",
   "execution_count": 275,
   "metadata": {},
   "outputs": [],
   "source": [
    "perm = PermutationImportance(rf_grid, cv = None, refit = False, n_iter = 50).fit(X_train, y_train)\n",
    "rfg_perm_imp_eli5 = pd.DataFrame(X_train.columns, perm.feature_importances_)"
   ]
  },
  {
   "cell_type": "code",
   "execution_count": 276,
   "metadata": {
    "scrolled": true
   },
   "outputs": [
    {
     "data": {
      "text/html": [
       "<div>\n",
       "<style scoped>\n",
       "    .dataframe tbody tr th:only-of-type {\n",
       "        vertical-align: middle;\n",
       "    }\n",
       "\n",
       "    .dataframe tbody tr th {\n",
       "        vertical-align: top;\n",
       "    }\n",
       "\n",
       "    .dataframe thead th {\n",
       "        text-align: right;\n",
       "    }\n",
       "</style>\n",
       "<table border=\"1\" class=\"dataframe\">\n",
       "  <thead>\n",
       "    <tr style=\"text-align: right;\">\n",
       "      <th></th>\n",
       "      <th>0</th>\n",
       "    </tr>\n",
       "  </thead>\n",
       "  <tbody>\n",
       "    <tr>\n",
       "      <th>0.052664</th>\n",
       "      <td>Reviews</td>\n",
       "    </tr>\n",
       "    <tr>\n",
       "      <th>0.034630</th>\n",
       "      <td>Installs</td>\n",
       "    </tr>\n",
       "    <tr>\n",
       "      <th>0.007365</th>\n",
       "      <td>Genres_Health &amp; Fitness</td>\n",
       "    </tr>\n",
       "    <tr>\n",
       "      <th>0.007091</th>\n",
       "      <td>Type_Free</td>\n",
       "    </tr>\n",
       "    <tr>\n",
       "      <th>0.006399</th>\n",
       "      <td>Category_HEALTH_AND_FITNESS</td>\n",
       "    </tr>\n",
       "    <tr>\n",
       "      <th>...</th>\n",
       "      <td>...</td>\n",
       "    </tr>\n",
       "    <tr>\n",
       "      <th>-0.000171</th>\n",
       "      <td>Genres_Photography</td>\n",
       "    </tr>\n",
       "    <tr>\n",
       "      <th>-0.000236</th>\n",
       "      <td>Genres_Dating</td>\n",
       "    </tr>\n",
       "    <tr>\n",
       "      <th>-0.000527</th>\n",
       "      <td>Category_DATING</td>\n",
       "    </tr>\n",
       "    <tr>\n",
       "      <th>-0.001048</th>\n",
       "      <td>Category_COMMUNICATION</td>\n",
       "    </tr>\n",
       "    <tr>\n",
       "      <th>-0.001556</th>\n",
       "      <td>Category_EDUCATION</td>\n",
       "    </tr>\n",
       "  </tbody>\n",
       "</table>\n",
       "<p>75 rows × 1 columns</p>\n",
       "</div>"
      ],
      "text/plain": [
       "                                     0\n",
       " 0.052664                      Reviews\n",
       " 0.034630                     Installs\n",
       " 0.007365      Genres_Health & Fitness\n",
       " 0.007091                    Type_Free\n",
       " 0.006399  Category_HEALTH_AND_FITNESS\n",
       "...                                ...\n",
       "-0.000171           Genres_Photography\n",
       "-0.000236                Genres_Dating\n",
       "-0.000527              Category_DATING\n",
       "-0.001048       Category_COMMUNICATION\n",
       "-0.001556           Category_EDUCATION\n",
       "\n",
       "[75 rows x 1 columns]"
      ]
     },
     "execution_count": 276,
     "metadata": {},
     "output_type": "execute_result"
    }
   ],
   "source": [
    "rfg_perm_imp_eli5.sort_index(ascending=False)"
   ]
  },
  {
   "cell_type": "markdown",
   "metadata": {},
   "source": [
    "### Additional Cleansing - Retry ordinal mapping for Content Rating"
   ]
  },
  {
   "cell_type": "code",
   "execution_count": 129,
   "metadata": {},
   "outputs": [
    {
     "data": {
      "text/plain": [
       "Everyone           7414\n",
       "Teen               1084\n",
       "Mature 17+          461\n",
       "Everyone 10+        397\n",
       "Adults only 18+       3\n",
       "Unrated               1\n",
       "Name: Content Rating, dtype: int64"
      ]
     },
     "execution_count": 129,
     "metadata": {},
     "output_type": "execute_result"
    }
   ],
   "source": [
    "df['Content Rating'].value_counts()"
   ]
  },
  {
   "cell_type": "code",
   "execution_count": 130,
   "metadata": {},
   "outputs": [],
   "source": [
    "# Ordinal mapping\n",
    "df['Content Rating'] = df['Content Rating'].map({'Everyone': 0, 'Everyone 10+': 1, 'Teen': 2,\n",
    "                                                 'Mature 17+': 3, 'Adults only 18+': 4, 'Unrated': 5})"
   ]
  },
  {
   "cell_type": "code",
   "execution_count": 131,
   "metadata": {
    "scrolled": true
   },
   "outputs": [
    {
     "data": {
      "text/plain": [
       "0    7414\n",
       "2    1084\n",
       "3     461\n",
       "1     397\n",
       "4       3\n",
       "5       1\n",
       "Name: Content Rating, dtype: int64"
      ]
     },
     "execution_count": 131,
     "metadata": {},
     "output_type": "execute_result"
    }
   ],
   "source": [
    "df['Content Rating'].value_counts()"
   ]
  },
  {
   "cell_type": "markdown",
   "metadata": {},
   "source": [
    "### Create new df for modeling"
   ]
  },
  {
   "cell_type": "code",
   "execution_count": 132,
   "metadata": {},
   "outputs": [],
   "source": [
    "# New breakdown of column types for varying treatments before modeling\n",
    "# Numerical columns same - use num_cols2 and scaled2 variables\n",
    "\n",
    "# Ordinal columns\n",
    "ord_cols2 = ['Installs', 'Content Rating']\n",
    "\n",
    "# Categorical columns for OHE\n",
    "ohe_cols3 = ['Category', 'Type', 'Genres']"
   ]
  },
  {
   "cell_type": "markdown",
   "metadata": {},
   "source": [
    "#### Ordinal Features"
   ]
  },
  {
   "cell_type": "code",
   "execution_count": 133,
   "metadata": {},
   "outputs": [],
   "source": [
    "ord_features2 = df[ord_cols2]"
   ]
  },
  {
   "cell_type": "markdown",
   "metadata": {},
   "source": [
    "#### Categorical Treatment (OHE)"
   ]
  },
  {
   "cell_type": "code",
   "execution_count": 134,
   "metadata": {},
   "outputs": [],
   "source": [
    "ohe_features3 = df.copy()"
   ]
  },
  {
   "cell_type": "code",
   "execution_count": 135,
   "metadata": {},
   "outputs": [],
   "source": [
    "ohe_features3 = ohe_features3[ohe_cols3]"
   ]
  },
  {
   "cell_type": "code",
   "execution_count": 136,
   "metadata": {},
   "outputs": [],
   "source": [
    "ohe_features3 = pd.get_dummies(ohe_features3)"
   ]
  },
  {
   "cell_type": "code",
   "execution_count": 137,
   "metadata": {},
   "outputs": [
    {
     "data": {
      "text/html": [
       "<div>\n",
       "<style scoped>\n",
       "    .dataframe tbody tr th:only-of-type {\n",
       "        vertical-align: middle;\n",
       "    }\n",
       "\n",
       "    .dataframe tbody tr th {\n",
       "        vertical-align: top;\n",
       "    }\n",
       "\n",
       "    .dataframe thead th {\n",
       "        text-align: right;\n",
       "    }\n",
       "</style>\n",
       "<table border=\"1\" class=\"dataframe\">\n",
       "  <thead>\n",
       "    <tr style=\"text-align: right;\">\n",
       "      <th></th>\n",
       "      <th>Category_ART_AND_DESIGN</th>\n",
       "      <th>Category_AUTO_AND_VEHICLES</th>\n",
       "      <th>Category_BEAUTY</th>\n",
       "      <th>Category_BOOKS_AND_REFERENCE</th>\n",
       "      <th>Category_BUSINESS</th>\n",
       "      <th>Category_COMICS</th>\n",
       "      <th>Category_COMMUNICATION</th>\n",
       "      <th>Category_DATING</th>\n",
       "      <th>Category_EDUCATION</th>\n",
       "      <th>Category_ENTERTAINMENT</th>\n",
       "      <th>...</th>\n",
       "      <th>Genres_Racing</th>\n",
       "      <th>Genres_Role Playing</th>\n",
       "      <th>Genres_Shopping</th>\n",
       "      <th>Genres_Simulation</th>\n",
       "      <th>Genres_Social</th>\n",
       "      <th>Genres_Sports</th>\n",
       "      <th>Genres_Strategy</th>\n",
       "      <th>Genres_Tools</th>\n",
       "      <th>Genres_Travel &amp; Local</th>\n",
       "      <th>Genres_Video Players &amp; Editors</th>\n",
       "    </tr>\n",
       "  </thead>\n",
       "  <tbody>\n",
       "    <tr>\n",
       "      <th>0</th>\n",
       "      <td>1</td>\n",
       "      <td>0</td>\n",
       "      <td>0</td>\n",
       "      <td>0</td>\n",
       "      <td>0</td>\n",
       "      <td>0</td>\n",
       "      <td>0</td>\n",
       "      <td>0</td>\n",
       "      <td>0</td>\n",
       "      <td>0</td>\n",
       "      <td>...</td>\n",
       "      <td>0</td>\n",
       "      <td>0</td>\n",
       "      <td>0</td>\n",
       "      <td>0</td>\n",
       "      <td>0</td>\n",
       "      <td>0</td>\n",
       "      <td>0</td>\n",
       "      <td>0</td>\n",
       "      <td>0</td>\n",
       "      <td>0</td>\n",
       "    </tr>\n",
       "    <tr>\n",
       "      <th>1</th>\n",
       "      <td>1</td>\n",
       "      <td>0</td>\n",
       "      <td>0</td>\n",
       "      <td>0</td>\n",
       "      <td>0</td>\n",
       "      <td>0</td>\n",
       "      <td>0</td>\n",
       "      <td>0</td>\n",
       "      <td>0</td>\n",
       "      <td>0</td>\n",
       "      <td>...</td>\n",
       "      <td>0</td>\n",
       "      <td>0</td>\n",
       "      <td>0</td>\n",
       "      <td>0</td>\n",
       "      <td>0</td>\n",
       "      <td>0</td>\n",
       "      <td>0</td>\n",
       "      <td>0</td>\n",
       "      <td>0</td>\n",
       "      <td>0</td>\n",
       "    </tr>\n",
       "    <tr>\n",
       "      <th>2</th>\n",
       "      <td>1</td>\n",
       "      <td>0</td>\n",
       "      <td>0</td>\n",
       "      <td>0</td>\n",
       "      <td>0</td>\n",
       "      <td>0</td>\n",
       "      <td>0</td>\n",
       "      <td>0</td>\n",
       "      <td>0</td>\n",
       "      <td>0</td>\n",
       "      <td>...</td>\n",
       "      <td>0</td>\n",
       "      <td>0</td>\n",
       "      <td>0</td>\n",
       "      <td>0</td>\n",
       "      <td>0</td>\n",
       "      <td>0</td>\n",
       "      <td>0</td>\n",
       "      <td>0</td>\n",
       "      <td>0</td>\n",
       "      <td>0</td>\n",
       "    </tr>\n",
       "    <tr>\n",
       "      <th>3</th>\n",
       "      <td>1</td>\n",
       "      <td>0</td>\n",
       "      <td>0</td>\n",
       "      <td>0</td>\n",
       "      <td>0</td>\n",
       "      <td>0</td>\n",
       "      <td>0</td>\n",
       "      <td>0</td>\n",
       "      <td>0</td>\n",
       "      <td>0</td>\n",
       "      <td>...</td>\n",
       "      <td>0</td>\n",
       "      <td>0</td>\n",
       "      <td>0</td>\n",
       "      <td>0</td>\n",
       "      <td>0</td>\n",
       "      <td>0</td>\n",
       "      <td>0</td>\n",
       "      <td>0</td>\n",
       "      <td>0</td>\n",
       "      <td>0</td>\n",
       "    </tr>\n",
       "    <tr>\n",
       "      <th>4</th>\n",
       "      <td>1</td>\n",
       "      <td>0</td>\n",
       "      <td>0</td>\n",
       "      <td>0</td>\n",
       "      <td>0</td>\n",
       "      <td>0</td>\n",
       "      <td>0</td>\n",
       "      <td>0</td>\n",
       "      <td>0</td>\n",
       "      <td>0</td>\n",
       "      <td>...</td>\n",
       "      <td>0</td>\n",
       "      <td>0</td>\n",
       "      <td>0</td>\n",
       "      <td>0</td>\n",
       "      <td>0</td>\n",
       "      <td>0</td>\n",
       "      <td>0</td>\n",
       "      <td>0</td>\n",
       "      <td>0</td>\n",
       "      <td>0</td>\n",
       "    </tr>\n",
       "    <tr>\n",
       "      <th>...</th>\n",
       "      <td>...</td>\n",
       "      <td>...</td>\n",
       "      <td>...</td>\n",
       "      <td>...</td>\n",
       "      <td>...</td>\n",
       "      <td>...</td>\n",
       "      <td>...</td>\n",
       "      <td>...</td>\n",
       "      <td>...</td>\n",
       "      <td>...</td>\n",
       "      <td>...</td>\n",
       "      <td>...</td>\n",
       "      <td>...</td>\n",
       "      <td>...</td>\n",
       "      <td>...</td>\n",
       "      <td>...</td>\n",
       "      <td>...</td>\n",
       "      <td>...</td>\n",
       "      <td>...</td>\n",
       "      <td>...</td>\n",
       "      <td>...</td>\n",
       "    </tr>\n",
       "    <tr>\n",
       "      <th>10834</th>\n",
       "      <td>0</td>\n",
       "      <td>0</td>\n",
       "      <td>0</td>\n",
       "      <td>0</td>\n",
       "      <td>0</td>\n",
       "      <td>0</td>\n",
       "      <td>0</td>\n",
       "      <td>0</td>\n",
       "      <td>0</td>\n",
       "      <td>0</td>\n",
       "      <td>...</td>\n",
       "      <td>0</td>\n",
       "      <td>0</td>\n",
       "      <td>0</td>\n",
       "      <td>0</td>\n",
       "      <td>0</td>\n",
       "      <td>0</td>\n",
       "      <td>0</td>\n",
       "      <td>0</td>\n",
       "      <td>0</td>\n",
       "      <td>0</td>\n",
       "    </tr>\n",
       "    <tr>\n",
       "      <th>10836</th>\n",
       "      <td>0</td>\n",
       "      <td>0</td>\n",
       "      <td>0</td>\n",
       "      <td>0</td>\n",
       "      <td>0</td>\n",
       "      <td>0</td>\n",
       "      <td>0</td>\n",
       "      <td>0</td>\n",
       "      <td>0</td>\n",
       "      <td>0</td>\n",
       "      <td>...</td>\n",
       "      <td>0</td>\n",
       "      <td>0</td>\n",
       "      <td>0</td>\n",
       "      <td>0</td>\n",
       "      <td>0</td>\n",
       "      <td>0</td>\n",
       "      <td>0</td>\n",
       "      <td>0</td>\n",
       "      <td>0</td>\n",
       "      <td>0</td>\n",
       "    </tr>\n",
       "    <tr>\n",
       "      <th>10837</th>\n",
       "      <td>0</td>\n",
       "      <td>0</td>\n",
       "      <td>0</td>\n",
       "      <td>0</td>\n",
       "      <td>0</td>\n",
       "      <td>0</td>\n",
       "      <td>0</td>\n",
       "      <td>0</td>\n",
       "      <td>0</td>\n",
       "      <td>0</td>\n",
       "      <td>...</td>\n",
       "      <td>0</td>\n",
       "      <td>0</td>\n",
       "      <td>0</td>\n",
       "      <td>0</td>\n",
       "      <td>0</td>\n",
       "      <td>0</td>\n",
       "      <td>0</td>\n",
       "      <td>0</td>\n",
       "      <td>0</td>\n",
       "      <td>0</td>\n",
       "    </tr>\n",
       "    <tr>\n",
       "      <th>10839</th>\n",
       "      <td>0</td>\n",
       "      <td>0</td>\n",
       "      <td>0</td>\n",
       "      <td>1</td>\n",
       "      <td>0</td>\n",
       "      <td>0</td>\n",
       "      <td>0</td>\n",
       "      <td>0</td>\n",
       "      <td>0</td>\n",
       "      <td>0</td>\n",
       "      <td>...</td>\n",
       "      <td>0</td>\n",
       "      <td>0</td>\n",
       "      <td>0</td>\n",
       "      <td>0</td>\n",
       "      <td>0</td>\n",
       "      <td>0</td>\n",
       "      <td>0</td>\n",
       "      <td>0</td>\n",
       "      <td>0</td>\n",
       "      <td>0</td>\n",
       "    </tr>\n",
       "    <tr>\n",
       "      <th>10840</th>\n",
       "      <td>0</td>\n",
       "      <td>0</td>\n",
       "      <td>0</td>\n",
       "      <td>0</td>\n",
       "      <td>0</td>\n",
       "      <td>0</td>\n",
       "      <td>0</td>\n",
       "      <td>0</td>\n",
       "      <td>0</td>\n",
       "      <td>0</td>\n",
       "      <td>...</td>\n",
       "      <td>0</td>\n",
       "      <td>0</td>\n",
       "      <td>0</td>\n",
       "      <td>0</td>\n",
       "      <td>0</td>\n",
       "      <td>0</td>\n",
       "      <td>0</td>\n",
       "      <td>0</td>\n",
       "      <td>0</td>\n",
       "      <td>0</td>\n",
       "    </tr>\n",
       "  </tbody>\n",
       "</table>\n",
       "<p>9360 rows × 66 columns</p>\n",
       "</div>"
      ],
      "text/plain": [
       "       Category_ART_AND_DESIGN  Category_AUTO_AND_VEHICLES  Category_BEAUTY  \\\n",
       "0                            1                           0                0   \n",
       "1                            1                           0                0   \n",
       "2                            1                           0                0   \n",
       "3                            1                           0                0   \n",
       "4                            1                           0                0   \n",
       "...                        ...                         ...              ...   \n",
       "10834                        0                           0                0   \n",
       "10836                        0                           0                0   \n",
       "10837                        0                           0                0   \n",
       "10839                        0                           0                0   \n",
       "10840                        0                           0                0   \n",
       "\n",
       "       Category_BOOKS_AND_REFERENCE  Category_BUSINESS  Category_COMICS  \\\n",
       "0                                 0                  0                0   \n",
       "1                                 0                  0                0   \n",
       "2                                 0                  0                0   \n",
       "3                                 0                  0                0   \n",
       "4                                 0                  0                0   \n",
       "...                             ...                ...              ...   \n",
       "10834                             0                  0                0   \n",
       "10836                             0                  0                0   \n",
       "10837                             0                  0                0   \n",
       "10839                             1                  0                0   \n",
       "10840                             0                  0                0   \n",
       "\n",
       "       Category_COMMUNICATION  Category_DATING  Category_EDUCATION  \\\n",
       "0                           0                0                   0   \n",
       "1                           0                0                   0   \n",
       "2                           0                0                   0   \n",
       "3                           0                0                   0   \n",
       "4                           0                0                   0   \n",
       "...                       ...              ...                 ...   \n",
       "10834                       0                0                   0   \n",
       "10836                       0                0                   0   \n",
       "10837                       0                0                   0   \n",
       "10839                       0                0                   0   \n",
       "10840                       0                0                   0   \n",
       "\n",
       "       Category_ENTERTAINMENT  ...  Genres_Racing  Genres_Role Playing  \\\n",
       "0                           0  ...              0                    0   \n",
       "1                           0  ...              0                    0   \n",
       "2                           0  ...              0                    0   \n",
       "3                           0  ...              0                    0   \n",
       "4                           0  ...              0                    0   \n",
       "...                       ...  ...            ...                  ...   \n",
       "10834                       0  ...              0                    0   \n",
       "10836                       0  ...              0                    0   \n",
       "10837                       0  ...              0                    0   \n",
       "10839                       0  ...              0                    0   \n",
       "10840                       0  ...              0                    0   \n",
       "\n",
       "       Genres_Shopping  Genres_Simulation  Genres_Social  Genres_Sports  \\\n",
       "0                    0                  0              0              0   \n",
       "1                    0                  0              0              0   \n",
       "2                    0                  0              0              0   \n",
       "3                    0                  0              0              0   \n",
       "4                    0                  0              0              0   \n",
       "...                ...                ...            ...            ...   \n",
       "10834                0                  0              0              0   \n",
       "10836                0                  0              0              0   \n",
       "10837                0                  0              0              0   \n",
       "10839                0                  0              0              0   \n",
       "10840                0                  0              0              0   \n",
       "\n",
       "       Genres_Strategy  Genres_Tools  Genres_Travel & Local  \\\n",
       "0                    0             0                      0   \n",
       "1                    0             0                      0   \n",
       "2                    0             0                      0   \n",
       "3                    0             0                      0   \n",
       "4                    0             0                      0   \n",
       "...                ...           ...                    ...   \n",
       "10834                0             0                      0   \n",
       "10836                0             0                      0   \n",
       "10837                0             0                      0   \n",
       "10839                0             0                      0   \n",
       "10840                0             0                      0   \n",
       "\n",
       "       Genres_Video Players & Editors  \n",
       "0                                   0  \n",
       "1                                   0  \n",
       "2                                   0  \n",
       "3                                   0  \n",
       "4                                   0  \n",
       "...                               ...  \n",
       "10834                               0  \n",
       "10836                               0  \n",
       "10837                               0  \n",
       "10839                               0  \n",
       "10840                               0  \n",
       "\n",
       "[9360 rows x 66 columns]"
      ]
     },
     "execution_count": 137,
     "metadata": {},
     "output_type": "execute_result"
    }
   ],
   "source": [
    "ohe_features3"
   ]
  },
  {
   "cell_type": "markdown",
   "metadata": {},
   "source": [
    "#### Combine - Data Version 3 - Additionally Make Content Rating Ordinal"
   ]
  },
  {
   "cell_type": "code",
   "execution_count": 138,
   "metadata": {},
   "outputs": [],
   "source": [
    "# Combine scaled numerical, OHE categoricals, and target into one df\n",
    "preprocessed3 = pd.concat([scaled2, ord_features2, ohe_features3, y], axis=1)"
   ]
  },
  {
   "cell_type": "code",
   "execution_count": 139,
   "metadata": {
    "scrolled": true
   },
   "outputs": [
    {
     "data": {
      "text/plain": [
       "Index(['Reviews', 'Size Trans', 'Installs', 'Content Rating',\n",
       "       'Category_ART_AND_DESIGN', 'Category_AUTO_AND_VEHICLES',\n",
       "       'Category_BEAUTY', 'Category_BOOKS_AND_REFERENCE', 'Category_BUSINESS',\n",
       "       'Category_COMICS', 'Category_COMMUNICATION', 'Category_DATING',\n",
       "       'Category_EDUCATION', 'Category_ENTERTAINMENT', 'Category_EVENTS',\n",
       "       'Category_FAMILY', 'Category_FINANCE', 'Category_FOOD_AND_DRINK',\n",
       "       'Category_GAME', 'Category_HEALTH_AND_FITNESS',\n",
       "       'Category_HOUSE_AND_HOME', 'Category_LIBRARIES_AND_DEMO',\n",
       "       'Category_LIFESTYLE', 'Category_MAPS_AND_NAVIGATION',\n",
       "       'Category_MEDICAL', 'Category_NEWS_AND_MAGAZINES', 'Category_PARENTING',\n",
       "       'Category_PERSONALIZATION', 'Category_PHOTOGRAPHY',\n",
       "       'Category_PRODUCTIVITY', 'Category_SHOPPING', 'Category_SOCIAL',\n",
       "       'Category_SPORTS', 'Category_TOOLS', 'Category_TRAVEL_AND_LOCAL',\n",
       "       'Category_VIDEO_PLAYERS', 'Category_WEATHER', 'Type_Free', 'Type_Paid',\n",
       "       'Genres_Action', 'Genres_Arcade', 'Genres_Books & Reference',\n",
       "       'Genres_Business', 'Genres_Casual', 'Genres_Communication',\n",
       "       'Genres_Dating', 'Genres_Education', 'Genres_Educational',\n",
       "       'Genres_Entertainment', 'Genres_Finance', 'Genres_Food & Drink',\n",
       "       'Genres_Health & Fitness', 'Genres_Lifestyle',\n",
       "       'Genres_Maps & Navigation', 'Genres_Medical', 'Genres_News & Magazines',\n",
       "       'Genres_Personalization', 'Genres_Photography', 'Genres_Productivity',\n",
       "       'Genres_Puzzle', 'Genres_Racing', 'Genres_Role Playing',\n",
       "       'Genres_Shopping', 'Genres_Simulation', 'Genres_Social',\n",
       "       'Genres_Sports', 'Genres_Strategy', 'Genres_Tools',\n",
       "       'Genres_Travel & Local', 'Genres_Video Players & Editors',\n",
       "       'Pos Rating'],\n",
       "      dtype='object')"
      ]
     },
     "execution_count": 139,
     "metadata": {},
     "output_type": "execute_result"
    }
   ],
   "source": [
    "preprocessed3.columns"
   ]
  },
  {
   "cell_type": "markdown",
   "metadata": {},
   "source": [
    "### Retry Decision Tree since that best performed (even though overfit, can tune)"
   ]
  },
  {
   "cell_type": "code",
   "execution_count": 140,
   "metadata": {},
   "outputs": [],
   "source": [
    "# X and y split of preprocessed \n",
    "X = preprocessed3.drop(columns=['Pos Rating'], axis=1)\n",
    "y = preprocessed3['Pos Rating']"
   ]
  },
  {
   "cell_type": "code",
   "execution_count": 141,
   "metadata": {},
   "outputs": [],
   "source": [
    "X_train, X_test, y_train, y_test = train_test_split(X, y, test_size=0.25, random_state=42)"
   ]
  },
  {
   "cell_type": "code",
   "execution_count": 142,
   "metadata": {},
   "outputs": [],
   "source": [
    "# Instantiate\n",
    "dt6 = DecisionTreeClassifier(class_weight='balanced')\n",
    "\n",
    "# Fit\n",
    "dt6.fit(X_train, y_train)\n",
    "\n",
    "# Preds\n",
    "train_preds = dt6.predict(X_train)\n",
    "test_preds = dt6.predict(X_test)"
   ]
  },
  {
   "cell_type": "code",
   "execution_count": 143,
   "metadata": {
    "scrolled": false
   },
   "outputs": [
    {
     "name": "stdout",
     "output_type": "stream",
     "text": [
      "Train Scores\n",
      "------------\n",
      "Accuracy: 0.9997150997150998\n",
      "Recall: 1.0\n",
      "F1 Score: 0.9995557529986673\n",
      "--------------------\n",
      "Test Scores\n",
      "-----------\n",
      "Accuracy: 0.7042735042735043\n",
      "Recall: 0.5710227272727273\n",
      "Recall Mean Cross Val 3-Fold: 0.5417777777777778\n",
      "F1 Score: 0.5374331550802139\n"
     ]
    },
    {
     "data": {
      "image/png": "[encoded data removed]",
      "text/plain": [
       "<Figure size 432x288 with 2 Axes>"
      ]
     },
     "metadata": {
      "needs_background": "light"
     },
     "output_type": "display_data"
    }
   ],
   "source": [
    "# print scores\n",
    "print(\"Train Scores\")\n",
    "print(\"------------\")\n",
    "print(f\"Accuracy: {accuracy_score(y_train, train_preds)}\")\n",
    "print(f\"Recall: {recall_score(y_train, train_preds)}\")\n",
    "print(f\"F1 Score: {f1_score(y_train, train_preds)}\")\n",
    "print(\"----\" * 5)\n",
    "print(\"Test Scores\")\n",
    "print(\"-----------\")\n",
    "print(f\"Accuracy: {accuracy_score(y_test, test_preds)}\")\n",
    "print(f\"Recall: {recall_score(y_test, test_preds)}\")\n",
    "print(f\"Recall Mean Cross Val 3-Fold: {np.mean(cross_val_score(dt6, X_train, y_train, cv=3, scoring='recall'))}\")\n",
    "print(f\"F1 Score: {f1_score(y_test, test_preds)}\")\n",
    "\n",
    "# plot test confusion matrix\n",
    "plot_confusion_matrix(dt6, X_test, y_test, values_format='')\n",
    "plt.show()\n",
    "\n",
    "# Overfit, but can tune\n",
    "# Similar accuracy to previous untuned decision trees\n",
    "# Recall at 0.56, validation same at 0.53\n",
    "# Slightly lower f1 0.53 from 0.55"
   ]
  },
  {
   "cell_type": "code",
   "execution_count": 144,
   "metadata": {
    "scrolled": true
   },
   "outputs": [
    {
     "data": {
      "text/plain": [
       "58"
      ]
     },
     "execution_count": 144,
     "metadata": {},
     "output_type": "execute_result"
    }
   ],
   "source": [
    "# What is current depth of overfit tree\n",
    "dt6.tree_.max_depth"
   ]
  },
  {
   "cell_type": "code",
   "execution_count": 145,
   "metadata": {},
   "outputs": [],
   "source": [
    "coef = dt6.feature_importances_"
   ]
  },
  {
   "cell_type": "code",
   "execution_count": 146,
   "metadata": {},
   "outputs": [],
   "source": [
    "d = dict(zip(X.columns, coef))"
   ]
  },
  {
   "cell_type": "code",
   "execution_count": 147,
   "metadata": {},
   "outputs": [],
   "source": [
    "sorted_dict = dict( sorted(d.items(), key=operator.itemgetter(1),reverse=True))"
   ]
  },
  {
   "cell_type": "code",
   "execution_count": 148,
   "metadata": {
    "scrolled": true
   },
   "outputs": [
    {
     "data": {
      "text/plain": [
       "{'Reviews': 0.34629016221050357,\n",
       " 'Size Trans': 0.2200908931774545,\n",
       " 'Installs': 0.08966611297185345,\n",
       " 'Content Rating': 0.037375638616756905,\n",
       " 'Genres_Action': 0.011567170195236133,\n",
       " 'Genres_Entertainment': 0.011415732111534016,\n",
       " 'Genres_Casual': 0.011185009160069126,\n",
       " 'Category_TRAVEL_AND_LOCAL': 0.01029218473181717,\n",
       " 'Type_Free': 0.010270254391400543,\n",
       " 'Category_LIFESTYLE': 0.00997005309876406,\n",
       " 'Genres_Communication': 0.00968431865600683,\n",
       " 'Genres_Education': 0.009249754618087335,\n",
       " 'Category_GAME': 0.008177385676459141,\n",
       " 'Genres_Health & Fitness': 0.007644197176893895,\n",
       " 'Category_FAMILY': 0.0073228086787992305,\n",
       " 'Genres_Personalization': 0.006690121416123045,\n",
       " 'Genres_Finance': 0.00657448385095636,\n",
       " 'Genres_Tools': 0.006355273022168148,\n",
       " 'Genres_Puzzle': 0.006198194726605725,\n",
       " 'Genres_Books & Reference': 0.006124422002447481,\n",
       " 'Genres_Medical': 0.006098111959077518,\n",
       " 'Category_PERSONALIZATION': 0.006086603254473068,\n",
       " 'Genres_Sports': 0.006023018073630831,\n",
       " 'Genres_Food & Drink': 0.005486754607891993,\n",
       " 'Category_PRODUCTIVITY': 0.005407095763993118,\n",
       " 'Category_SPORTS': 0.005387860234898135,\n",
       " 'Category_SOCIAL': 0.0052480228599494525,\n",
       " 'Genres_Shopping': 0.005015405956537134,\n",
       " 'Category_COMMUNICATION': 0.004650762273617528,\n",
       " 'Genres_Arcade': 0.0046102580508430874,\n",
       " 'Genres_Simulation': 0.0045861000513950055,\n",
       " 'Category_TOOLS': 0.004556049810774346,\n",
       " 'Category_SHOPPING': 0.004539995307897068,\n",
       " 'Genres_Photography': 0.004491499309682339,\n",
       " 'Genres_Lifestyle': 0.004417903982090438,\n",
       " 'Category_COMICS': 0.00436595512915539,\n",
       " 'Genres_Business': 0.004323071502974879,\n",
       " 'Category_FINANCE': 0.004316913916612706,\n",
       " 'Genres_Productivity': 0.00431131677893504,\n",
       " 'Genres_Racing': 0.004204383219483112,\n",
       " 'Genres_Strategy': 0.004117246633055802,\n",
       " 'Genres_News & Magazines': 0.004029139168516161,\n",
       " 'Genres_Educational': 0.003982356624259763,\n",
       " 'Category_PHOTOGRAPHY': 0.0037523305975766534,\n",
       " 'Genres_Travel & Local': 0.003635841906665749,\n",
       " 'Category_ENTERTAINMENT': 0.0034386044534125888,\n",
       " 'Genres_Role Playing': 0.00314489821455788,\n",
       " 'Category_MEDICAL': 0.00275874328959162,\n",
       " 'Category_ART_AND_DESIGN': 0.0026594335391034807,\n",
       " 'Genres_Maps & Navigation': 0.0025665084677803573,\n",
       " 'Genres_Dating': 0.0024982848473661602,\n",
       " 'Category_BUSINESS': 0.002484666606045522,\n",
       " 'Category_HOUSE_AND_HOME': 0.0024557208845884834,\n",
       " 'Category_NEWS_AND_MAGAZINES': 0.002407225813553062,\n",
       " 'Genres_Video Players & Editors': 0.0023486953018412677,\n",
       " 'Category_PARENTING': 0.002292012724680748,\n",
       " 'Category_AUTO_AND_VEHICLES': 0.002209387294902323,\n",
       " 'Category_EDUCATION': 0.0021685461102888344,\n",
       " 'Category_VIDEO_PLAYERS': 0.001966538919217071,\n",
       " 'Category_MAPS_AND_NAVIGATION': 0.0017888020994584735,\n",
       " 'Genres_Social': 0.0017836369163591458,\n",
       " 'Category_HEALTH_AND_FITNESS': 0.0017482844146201213,\n",
       " 'Category_BOOKS_AND_REFERENCE': 0.001733101700349613,\n",
       " 'Type_Paid': 0.0016695303651741175,\n",
       " 'Category_WEATHER': 0.0014636955738032158,\n",
       " 'Category_BEAUTY': 0.0012059255041947845,\n",
       " 'Category_EVENTS': 0.0011900482094594127,\n",
       " 'Category_FOOD_AND_DRINK': 0.0008809698467035885,\n",
       " 'Category_LIBRARIES_AND_DEMO': 0.0008001192080437202,\n",
       " 'Category_DATING': 0.0005484522309814513}"
      ]
     },
     "execution_count": 148,
     "metadata": {},
     "output_type": "execute_result"
    }
   ],
   "source": [
    "sorted_dict\n",
    "# Reviews, Size, and Installs are big drivers\n",
    "# Then Content Rating"
   ]
  },
  {
   "cell_type": "markdown",
   "metadata": {},
   "source": [
    "### Try Decision Tree with half max depth"
   ]
  },
  {
   "cell_type": "code",
   "execution_count": 149,
   "metadata": {},
   "outputs": [],
   "source": [
    "X_train, X_test, y_train, y_test = train_test_split(X, y, test_size=0.25, random_state=42)"
   ]
  },
  {
   "cell_type": "code",
   "execution_count": 150,
   "metadata": {},
   "outputs": [],
   "source": [
    "# Instantiate\n",
    "dt7 = DecisionTreeClassifier(class_weight='balanced',\n",
    "                            max_depth = 24)\n",
    "\n",
    "# Fit\n",
    "dt7.fit(X_train, y_train)\n",
    "\n",
    "# Preds\n",
    "train_preds = dt7.predict(X_train)\n",
    "test_preds = dt7.predict(X_test)"
   ]
  },
  {
   "cell_type": "code",
   "execution_count": 151,
   "metadata": {
    "scrolled": true
   },
   "outputs": [
    {
     "name": "stdout",
     "output_type": "stream",
     "text": [
      "Train Scores\n",
      "------------\n",
      "Accuracy: 0.95\n",
      "Recall: 0.9333333333333333\n",
      "F1 Score: 0.922874093605801\n",
      "--------------------\n",
      "Test Scores\n",
      "-----------\n",
      "Accuracy: 0.7034188034188035\n",
      "Recall: 0.5724431818181818\n",
      "Recall Mean Cross Val 3-Fold: 0.5462222222222223\n",
      "F1 Score: 0.5373333333333333\n"
     ]
    },
    {
     "data": {
      "image/png": "[encoded data removed]",
      "text/plain": [
       "<Figure size 432x288 with 2 Axes>"
      ]
     },
     "metadata": {
      "needs_background": "light"
     },
     "output_type": "display_data"
    }
   ],
   "source": [
    "# print scores\n",
    "print(\"Train Scores\")\n",
    "print(\"------------\")\n",
    "print(f\"Accuracy: {accuracy_score(y_train, train_preds)}\")\n",
    "print(f\"Recall: {recall_score(y_train, train_preds)}\")\n",
    "print(f\"F1 Score: {f1_score(y_train, train_preds)}\")\n",
    "print(\"----\" * 5)\n",
    "print(\"Test Scores\")\n",
    "print(\"-----------\")\n",
    "print(f\"Accuracy: {accuracy_score(y_test, test_preds)}\")\n",
    "print(f\"Recall: {recall_score(y_test, test_preds)}\")\n",
    "print(f\"Recall Mean Cross Val 3-Fold: {np.mean(cross_val_score(dt7, X_train, y_train, cv=3, scoring='recall'))}\")\n",
    "print(f\"F1 Score: {f1_score(y_test, test_preds)}\")\n",
    "\n",
    "# plot test confusion matrix\n",
    "plot_confusion_matrix(dt7, X_test, y_test, values_format='')\n",
    "plt.show()\n",
    "\n",
    "# Still vey over fit - focus on trying smalle numbers for max depth\n",
    "# Accuracy, Recall and F1 hold"
   ]
  },
  {
   "cell_type": "markdown",
   "metadata": {},
   "source": [
    "#### Grid Search2 - With Similar Ranges"
   ]
  },
  {
   "cell_type": "code",
   "execution_count": 152,
   "metadata": {},
   "outputs": [],
   "source": [
    "param_dict = {\n",
    "    'criterion': ['gini', 'entropy'],\n",
    "    'max_depth': [5, 10, 15, 20, 25, 30, 35],\n",
    "    'min_samples_split': [2, 4, 6, 8, 10, 12, 14, 16, 18, 20],\n",
    "    'min_samples_leaf': [2, 4, 6, 8, 10, 12, 14, 16, 18, 20]\n",
    "}"
   ]
  },
  {
   "cell_type": "code",
   "execution_count": 153,
   "metadata": {},
   "outputs": [],
   "source": [
    "# grid = GridSearchCV(dt6,\n",
    "#                    param_grid = param_dict,\n",
    "#                    cv=5,\n",
    "#                    verbose=1)\n",
    "\n",
    "# grid.fit(X_train, y_train)"
   ]
  },
  {
   "cell_type": "code",
   "execution_count": 154,
   "metadata": {},
   "outputs": [],
   "source": [
    "# grid.best_params_"
   ]
  },
  {
   "cell_type": "code",
   "execution_count": 155,
   "metadata": {
    "scrolled": true
   },
   "outputs": [],
   "source": [
    "# grid.best_score_\n",
    "# # 1% better than random guess"
   ]
  },
  {
   "cell_type": "markdown",
   "metadata": {},
   "source": [
    "#### Apply GridSearch2 results to Decision Tree"
   ]
  },
  {
   "cell_type": "code",
   "execution_count": 156,
   "metadata": {},
   "outputs": [],
   "source": [
    "# Instantiate\n",
    "dt_grid2 = DecisionTreeClassifier(class_weight='balanced',\n",
    "                             criterion = 'entropy',\n",
    "                             max_depth = 10,\n",
    "                             min_samples_leaf  = 20,\n",
    "                             min_samples_split = 2)\n",
    "\n",
    "# Fit\n",
    "dt_grid2.fit(X_train, y_train)\n",
    "\n",
    "# Preds\n",
    "train_preds = dt_grid2.predict(X_train)\n",
    "test_preds = dt_grid2.predict(X_test)"
   ]
  },
  {
   "cell_type": "code",
   "execution_count": 157,
   "metadata": {
    "scrolled": true
   },
   "outputs": [
    {
     "name": "stdout",
     "output_type": "stream",
     "text": [
      "Train Scores\n",
      "------------\n",
      "Accuracy: 0.7215099715099715\n",
      "Recall: 0.5542222222222222\n",
      "F1 Score: 0.5605754102045403\n",
      "--------------------\n",
      "Test Scores\n",
      "-----------\n",
      "Accuracy: 0.6897435897435897\n",
      "Recall: 0.4971590909090909\n",
      "Recall Mean Cross Val 3-Fold: 0.5315555555555557\n",
      "F1 Score: 0.4908835904628331\n"
     ]
    },
    {
     "data": {
      "image/png": "[encoded data removed]",
      "text/plain": [
       "<Figure size 432x288 with 2 Axes>"
      ]
     },
     "metadata": {
      "needs_background": "light"
     },
     "output_type": "display_data"
    }
   ],
   "source": [
    "# print scores\n",
    "print(\"Train Scores\")\n",
    "print(\"------------\")\n",
    "print(f\"Accuracy: {accuracy_score(y_train, train_preds)}\")\n",
    "print(f\"Recall: {recall_score(y_train, train_preds)}\")\n",
    "print(f\"F1 Score: {f1_score(y_train, train_preds)}\")\n",
    "print(\"----\" * 5)\n",
    "print(\"Test Scores\")\n",
    "print(\"-----------\")\n",
    "print(f\"Accuracy: {accuracy_score(y_test, test_preds)}\")\n",
    "print(f\"Recall: {recall_score(y_test, test_preds)}\")\n",
    "print(f\"Recall Mean Cross Val 3-Fold: {np.mean(cross_val_score(dt_grid2, X_train, y_train, cv=3, scoring='recall'))}\")\n",
    "print(f\"F1 Score: {f1_score(y_test, test_preds)}\")\n",
    "\n",
    "# plot test confusion matrix\n",
    "plot_confusion_matrix(dt_grid2, X_test, y_test, values_format='')\n",
    "plt.show()\n",
    "\n",
    "# Much less overfit - but accuracy down .2 - Same as random guess\n",
    "# Recall much lower from 0.58 to 0.49 - but validation at 0.53"
   ]
  },
  {
   "cell_type": "code",
   "execution_count": 158,
   "metadata": {},
   "outputs": [],
   "source": [
    "coef = dt_grid2.feature_importances_"
   ]
  },
  {
   "cell_type": "code",
   "execution_count": 159,
   "metadata": {},
   "outputs": [],
   "source": [
    "d = dict(zip(X.columns, coef))"
   ]
  },
  {
   "cell_type": "code",
   "execution_count": 160,
   "metadata": {},
   "outputs": [],
   "source": [
    "sorted_dict = dict( sorted(d.items(), key=operator.itemgetter(1),reverse=True))"
   ]
  },
  {
   "cell_type": "code",
   "execution_count": 161,
   "metadata": {
    "scrolled": true
   },
   "outputs": [
    {
     "data": {
      "text/plain": [
       "{'Reviews': 0.3554157380392292,\n",
       " 'Installs': 0.2877308399569165,\n",
       " 'Size Trans': 0.11013454517876195,\n",
       " 'Type_Free': 0.05472163026244945,\n",
       " 'Genres_Health & Fitness': 0.04136688785932196,\n",
       " 'Category_TRAVEL_AND_LOCAL': 0.02511964877854719,\n",
       " 'Category_TOOLS': 0.01803599469452513,\n",
       " 'Content Rating': 0.01741160871821377,\n",
       " 'Genres_Education': 0.010817548183713893,\n",
       " 'Genres_Social': 0.010240877815036341,\n",
       " 'Category_COMMUNICATION': 0.009507867267359504,\n",
       " 'Genres_Action': 0.008882868592384347,\n",
       " 'Category_LIFESTYLE': 0.008248828356214486,\n",
       " 'Type_Paid': 0.007384600062036861,\n",
       " 'Category_MAPS_AND_NAVIGATION': 0.006801687871411037,\n",
       " 'Category_BOOKS_AND_REFERENCE': 0.006487510662998553,\n",
       " 'Category_GAME': 0.005527897572028405,\n",
       " 'Genres_Entertainment': 0.005397716691970863,\n",
       " 'Category_MEDICAL': 0.004721739968658764,\n",
       " 'Genres_Tools': 0.003008757867974191,\n",
       " 'Category_FAMILY': 0.001892482480236812,\n",
       " 'Category_BUSINESS': 0.0011427231200109096,\n",
       " 'Category_ART_AND_DESIGN': 0.0,\n",
       " 'Category_AUTO_AND_VEHICLES': 0.0,\n",
       " 'Category_BEAUTY': 0.0,\n",
       " 'Category_COMICS': 0.0,\n",
       " 'Category_DATING': 0.0,\n",
       " 'Category_EDUCATION': 0.0,\n",
       " 'Category_ENTERTAINMENT': 0.0,\n",
       " 'Category_EVENTS': 0.0,\n",
       " 'Category_FINANCE': 0.0,\n",
       " 'Category_FOOD_AND_DRINK': 0.0,\n",
       " 'Category_HEALTH_AND_FITNESS': 0.0,\n",
       " 'Category_HOUSE_AND_HOME': 0.0,\n",
       " 'Category_LIBRARIES_AND_DEMO': 0.0,\n",
       " 'Category_NEWS_AND_MAGAZINES': 0.0,\n",
       " 'Category_PARENTING': 0.0,\n",
       " 'Category_PERSONALIZATION': 0.0,\n",
       " 'Category_PHOTOGRAPHY': 0.0,\n",
       " 'Category_PRODUCTIVITY': 0.0,\n",
       " 'Category_SHOPPING': 0.0,\n",
       " 'Category_SOCIAL': 0.0,\n",
       " 'Category_SPORTS': 0.0,\n",
       " 'Category_VIDEO_PLAYERS': 0.0,\n",
       " 'Category_WEATHER': 0.0,\n",
       " 'Genres_Arcade': 0.0,\n",
       " 'Genres_Books & Reference': 0.0,\n",
       " 'Genres_Business': 0.0,\n",
       " 'Genres_Casual': 0.0,\n",
       " 'Genres_Communication': 0.0,\n",
       " 'Genres_Dating': 0.0,\n",
       " 'Genres_Educational': 0.0,\n",
       " 'Genres_Finance': 0.0,\n",
       " 'Genres_Food & Drink': 0.0,\n",
       " 'Genres_Lifestyle': 0.0,\n",
       " 'Genres_Maps & Navigation': 0.0,\n",
       " 'Genres_Medical': 0.0,\n",
       " 'Genres_News & Magazines': 0.0,\n",
       " 'Genres_Personalization': 0.0,\n",
       " 'Genres_Photography': 0.0,\n",
       " 'Genres_Productivity': 0.0,\n",
       " 'Genres_Puzzle': 0.0,\n",
       " 'Genres_Racing': 0.0,\n",
       " 'Genres_Role Playing': 0.0,\n",
       " 'Genres_Shopping': 0.0,\n",
       " 'Genres_Simulation': 0.0,\n",
       " 'Genres_Sports': 0.0,\n",
       " 'Genres_Strategy': 0.0,\n",
       " 'Genres_Travel & Local': 0.0,\n",
       " 'Genres_Video Players & Editors': 0.0}"
      ]
     },
     "execution_count": 161,
     "metadata": {},
     "output_type": "execute_result"
    }
   ],
   "source": [
    "sorted_dict\n",
    "# Reviews, Size, and Installs are big drivers\n",
    "# Then Content Rating"
   ]
  },
  {
   "cell_type": "markdown",
   "metadata": {},
   "source": [
    "## Correlation checks and Data Version 4 - Remove genres from highly correlated category and genre correlations"
   ]
  },
  {
   "cell_type": "code",
   "execution_count": 162,
   "metadata": {},
   "outputs": [],
   "source": [
    "def correlation_view(df, annot):\n",
    "    \"\"\"Evaluates correlations between all Dataframe columns/variables and displays correlation heatmap \n",
    "    (lower triangle only) with or without correlation value annotation\n",
    "    --\n",
    "    Inputs:\n",
    "    - df - Panda DataFrame\n",
    "    - annot - Options are True or False. If value is True, each cell in correlation heatmap grid will have \n",
    "    correlation value noted in the cell along with t. If value is False, the cell will be blank and only colored by\n",
    "    color in relation to gradient scale\n",
    "    --\n",
    "    Outputs:\n",
    "    - Correlation heatmap lower triangle with cool(blue) to hot (red) correlation gradient. Upper triangle is masked.\n",
    "    \"\"\"\n",
    "    # From Seaborn documentation - https://seaborn.pydata.org/examples/many_pairwise_correlations.html\n",
    "    # Compute the correlation matrix\n",
    "    corr = df.corr()\n",
    "\n",
    "    # Generate a mask for the upper triangle\n",
    "    mask = np.triu(np.ones_like(corr, dtype=bool))\n",
    "\n",
    "    # Set up the matplotlib figure\n",
    "    f, ax = plt.subplots(figsize=(15, 20))\n",
    "\n",
    "    # Generate a custom diverging colormap\n",
    "    cmap = sns.diverging_palette(230, 20, as_cmap=True)\n",
    "\n",
    "    # Draw the heatmap with the mask and correct aspect ratio\n",
    "    sns.heatmap(corr, mask=mask, cmap=cmap, vmax=.3, center=0,\n",
    "                square=True, linewidths=.5, cbar_kws={\"shrink\": .5}, annot=annot)"
   ]
  },
  {
   "cell_type": "code",
   "execution_count": 163,
   "metadata": {},
   "outputs": [],
   "source": [
    "def high_corr(df, thresh):\n",
    "    \"\"\"Evaluates correlations between all Dataframe columns/variables and displays DataFrame of variable correlations \n",
    "    above the threshold defined\n",
    "    --\n",
    "    Inputs:\n",
    "    - df - Pandas DataFrame\n",
    "    - thresh - correlation threshold or limit willing to be accepted; if thresh=0.8, output will show all variables\n",
    "    correlations that are higher than 0.8\n",
    "    Outputs:\n",
    "    - Pandas DataFrame of variable correlations above the threshold defined\n",
    "    \"\"\"\n",
    "    # Define correlation threshold\n",
    "    corr_val=thresh\n",
    "    # Create DataFrame of feature 1, feature 2, and their correlation value; reset the index\n",
    "    df2 = df.corr().unstack().reset_index()\n",
    "    # Filter DataFrame to only show rows with correlation values above the defined threshold\n",
    "    high_corr = df2[(df2[0]>corr_val)& (df2[0]<1)]\n",
    "    # Show DataFrame of correlated values above threshold\n",
    "    return high_corr"
   ]
  },
  {
   "cell_type": "code",
   "execution_count": 164,
   "metadata": {
    "scrolled": false
   },
   "outputs": [
    {
     "data": {
      "image/png": "[encoded data removed]",
      "text/plain": [
       "<Figure size 1080x1440 with 2 Axes>"
      ]
     },
     "metadata": {
      "needs_background": "light"
     },
     "output_type": "display_data"
    }
   ],
   "source": [
    "correlation_view(preprocessed2, False)\n",
    "# Some Genres and Categories are correlated"
   ]
  },
  {
   "cell_type": "code",
   "execution_count": 165,
   "metadata": {},
   "outputs": [
    {
     "data": {
      "text/html": [
       "<div>\n",
       "<style scoped>\n",
       "    .dataframe tbody tr th:only-of-type {\n",
       "        vertical-align: middle;\n",
       "    }\n",
       "\n",
       "    .dataframe tbody tr th {\n",
       "        vertical-align: top;\n",
       "    }\n",
       "\n",
       "    .dataframe thead th {\n",
       "        text-align: right;\n",
       "    }\n",
       "</style>\n",
       "<table border=\"1\" class=\"dataframe\">\n",
       "  <thead>\n",
       "    <tr style=\"text-align: right;\">\n",
       "      <th></th>\n",
       "      <th>level_0</th>\n",
       "      <th>level_1</th>\n",
       "      <th>0</th>\n",
       "    </tr>\n",
       "  </thead>\n",
       "  <tbody>\n",
       "    <tr>\n",
       "      <th>502</th>\n",
       "      <td>Category_BOOKS_AND_REFERENCE</td>\n",
       "      <td>Genres_Books &amp; Reference</td>\n",
       "      <td>0.994321</td>\n",
       "    </tr>\n",
       "    <tr>\n",
       "      <th>733</th>\n",
       "      <td>Category_COMMUNICATION</td>\n",
       "      <td>Genres_Communication</td>\n",
       "      <td>0.998424</td>\n",
       "    </tr>\n",
       "    <tr>\n",
       "      <th>1424</th>\n",
       "      <td>Category_HEALTH_AND_FITNESS</td>\n",
       "      <td>Genres_Health &amp; Fitness</td>\n",
       "      <td>0.996540</td>\n",
       "    </tr>\n",
       "    <tr>\n",
       "      <th>2426</th>\n",
       "      <td>Category_SPORTS</td>\n",
       "      <td>Genres_Sports</td>\n",
       "      <td>0.971958</td>\n",
       "    </tr>\n",
       "    <tr>\n",
       "      <th>2581</th>\n",
       "      <td>Category_TRAVEL_AND_LOCAL</td>\n",
       "      <td>Genres_Travel &amp; Local</td>\n",
       "      <td>0.862940</td>\n",
       "    </tr>\n",
       "    <tr>\n",
       "      <th>2658</th>\n",
       "      <td>Category_VIDEO_PLAYERS</td>\n",
       "      <td>Genres_Video Players &amp; Editors</td>\n",
       "      <td>0.990593</td>\n",
       "    </tr>\n",
       "    <tr>\n",
       "      <th>3502</th>\n",
       "      <td>Genres_Books &amp; Reference</td>\n",
       "      <td>Category_BOOKS_AND_REFERENCE</td>\n",
       "      <td>0.994321</td>\n",
       "    </tr>\n",
       "    <tr>\n",
       "      <th>3733</th>\n",
       "      <td>Genres_Communication</td>\n",
       "      <td>Category_COMMUNICATION</td>\n",
       "      <td>0.998424</td>\n",
       "    </tr>\n",
       "    <tr>\n",
       "      <th>4274</th>\n",
       "      <td>Genres_Health &amp; Fitness</td>\n",
       "      <td>Category_HEALTH_AND_FITNESS</td>\n",
       "      <td>0.996540</td>\n",
       "    </tr>\n",
       "    <tr>\n",
       "      <th>5351</th>\n",
       "      <td>Genres_Sports</td>\n",
       "      <td>Category_SPORTS</td>\n",
       "      <td>0.971958</td>\n",
       "    </tr>\n",
       "    <tr>\n",
       "      <th>5581</th>\n",
       "      <td>Genres_Travel &amp; Local</td>\n",
       "      <td>Category_TRAVEL_AND_LOCAL</td>\n",
       "      <td>0.862940</td>\n",
       "    </tr>\n",
       "    <tr>\n",
       "      <th>5658</th>\n",
       "      <td>Genres_Video Players &amp; Editors</td>\n",
       "      <td>Category_VIDEO_PLAYERS</td>\n",
       "      <td>0.990593</td>\n",
       "    </tr>\n",
       "  </tbody>\n",
       "</table>\n",
       "</div>"
      ],
      "text/plain": [
       "                             level_0                         level_1         0\n",
       "502     Category_BOOKS_AND_REFERENCE        Genres_Books & Reference  0.994321\n",
       "733           Category_COMMUNICATION            Genres_Communication  0.998424\n",
       "1424     Category_HEALTH_AND_FITNESS         Genres_Health & Fitness  0.996540\n",
       "2426                 Category_SPORTS                   Genres_Sports  0.971958\n",
       "2581       Category_TRAVEL_AND_LOCAL           Genres_Travel & Local  0.862940\n",
       "2658          Category_VIDEO_PLAYERS  Genres_Video Players & Editors  0.990593\n",
       "3502        Genres_Books & Reference    Category_BOOKS_AND_REFERENCE  0.994321\n",
       "3733            Genres_Communication          Category_COMMUNICATION  0.998424\n",
       "4274         Genres_Health & Fitness     Category_HEALTH_AND_FITNESS  0.996540\n",
       "5351                   Genres_Sports                 Category_SPORTS  0.971958\n",
       "5581           Genres_Travel & Local       Category_TRAVEL_AND_LOCAL  0.862940\n",
       "5658  Genres_Video Players & Editors          Category_VIDEO_PLAYERS  0.990593"
      ]
     },
     "execution_count": 165,
     "metadata": {},
     "output_type": "execute_result"
    }
   ],
   "source": [
    "high_corr(preprocessed2, 0.7)"
   ]
  },
  {
   "cell_type": "code",
   "execution_count": 166,
   "metadata": {},
   "outputs": [
    {
     "data": {
      "text/html": [
       "<div>\n",
       "<style scoped>\n",
       "    .dataframe tbody tr th:only-of-type {\n",
       "        vertical-align: middle;\n",
       "    }\n",
       "\n",
       "    .dataframe tbody tr th {\n",
       "        vertical-align: top;\n",
       "    }\n",
       "\n",
       "    .dataframe thead th {\n",
       "        text-align: right;\n",
       "    }\n",
       "</style>\n",
       "<table border=\"1\" class=\"dataframe\">\n",
       "  <thead>\n",
       "    <tr style=\"text-align: right;\">\n",
       "      <th></th>\n",
       "      <th>level_0</th>\n",
       "      <th>level_1</th>\n",
       "      <th>0</th>\n",
       "    </tr>\n",
       "  </thead>\n",
       "  <tbody>\n",
       "    <tr>\n",
       "      <th>538</th>\n",
       "      <td>Category_BOOKS_AND_REFERENCE</td>\n",
       "      <td>Genres_Books &amp; Reference</td>\n",
       "      <td>0.994321</td>\n",
       "    </tr>\n",
       "    <tr>\n",
       "      <th>754</th>\n",
       "      <td>Category_COMMUNICATION</td>\n",
       "      <td>Genres_Communication</td>\n",
       "      <td>0.998424</td>\n",
       "    </tr>\n",
       "    <tr>\n",
       "      <th>1400</th>\n",
       "      <td>Category_HEALTH_AND_FITNESS</td>\n",
       "      <td>Genres_Health &amp; Fitness</td>\n",
       "      <td>0.996540</td>\n",
       "    </tr>\n",
       "    <tr>\n",
       "      <th>2337</th>\n",
       "      <td>Category_SPORTS</td>\n",
       "      <td>Genres_Sports</td>\n",
       "      <td>0.971958</td>\n",
       "    </tr>\n",
       "    <tr>\n",
       "      <th>2482</th>\n",
       "      <td>Category_TRAVEL_AND_LOCAL</td>\n",
       "      <td>Genres_Travel &amp; Local</td>\n",
       "      <td>0.862940</td>\n",
       "    </tr>\n",
       "    <tr>\n",
       "      <th>2554</th>\n",
       "      <td>Category_VIDEO_PLAYERS</td>\n",
       "      <td>Genres_Video Players &amp; Editors</td>\n",
       "      <td>0.990593</td>\n",
       "    </tr>\n",
       "    <tr>\n",
       "      <th>2918</th>\n",
       "      <td>Genres_Books &amp; Reference</td>\n",
       "      <td>Category_BOOKS_AND_REFERENCE</td>\n",
       "      <td>0.994321</td>\n",
       "    </tr>\n",
       "    <tr>\n",
       "      <th>3134</th>\n",
       "      <td>Genres_Communication</td>\n",
       "      <td>Category_COMMUNICATION</td>\n",
       "      <td>0.998424</td>\n",
       "    </tr>\n",
       "    <tr>\n",
       "      <th>3640</th>\n",
       "      <td>Genres_Health &amp; Fitness</td>\n",
       "      <td>Category_HEALTH_AND_FITNESS</td>\n",
       "      <td>0.996540</td>\n",
       "    </tr>\n",
       "    <tr>\n",
       "      <th>4647</th>\n",
       "      <td>Genres_Sports</td>\n",
       "      <td>Category_SPORTS</td>\n",
       "      <td>0.971958</td>\n",
       "    </tr>\n",
       "    <tr>\n",
       "      <th>4862</th>\n",
       "      <td>Genres_Travel &amp; Local</td>\n",
       "      <td>Category_TRAVEL_AND_LOCAL</td>\n",
       "      <td>0.862940</td>\n",
       "    </tr>\n",
       "    <tr>\n",
       "      <th>4934</th>\n",
       "      <td>Genres_Video Players &amp; Editors</td>\n",
       "      <td>Category_VIDEO_PLAYERS</td>\n",
       "      <td>0.990593</td>\n",
       "    </tr>\n",
       "  </tbody>\n",
       "</table>\n",
       "</div>"
      ],
      "text/plain": [
       "                             level_0                         level_1         0\n",
       "538     Category_BOOKS_AND_REFERENCE        Genres_Books & Reference  0.994321\n",
       "754           Category_COMMUNICATION            Genres_Communication  0.998424\n",
       "1400     Category_HEALTH_AND_FITNESS         Genres_Health & Fitness  0.996540\n",
       "2337                 Category_SPORTS                   Genres_Sports  0.971958\n",
       "2482       Category_TRAVEL_AND_LOCAL           Genres_Travel & Local  0.862940\n",
       "2554          Category_VIDEO_PLAYERS  Genres_Video Players & Editors  0.990593\n",
       "2918        Genres_Books & Reference    Category_BOOKS_AND_REFERENCE  0.994321\n",
       "3134            Genres_Communication          Category_COMMUNICATION  0.998424\n",
       "3640         Genres_Health & Fitness     Category_HEALTH_AND_FITNESS  0.996540\n",
       "4647                   Genres_Sports                 Category_SPORTS  0.971958\n",
       "4862           Genres_Travel & Local       Category_TRAVEL_AND_LOCAL  0.862940\n",
       "4934  Genres_Video Players & Editors          Category_VIDEO_PLAYERS  0.990593"
      ]
     },
     "execution_count": 166,
     "metadata": {},
     "output_type": "execute_result"
    }
   ],
   "source": [
    "high_corr(preprocessed3, 0.7)"
   ]
  },
  {
   "cell_type": "code",
   "execution_count": 167,
   "metadata": {},
   "outputs": [
    {
     "data": {
      "text/plain": [
       "count      9360\n",
       "unique       31\n",
       "top       Tools\n",
       "freq        733\n",
       "Name: Genres, dtype: object"
      ]
     },
     "execution_count": 167,
     "metadata": {},
     "output_type": "execute_result"
    }
   ],
   "source": [
    "df['Genres'].describe()"
   ]
  },
  {
   "cell_type": "code",
   "execution_count": 168,
   "metadata": {},
   "outputs": [
    {
     "data": {
      "text/plain": [
       "count       9360\n",
       "unique        33\n",
       "top       FAMILY\n",
       "freq        1746\n",
       "Name: Category, dtype: object"
      ]
     },
     "execution_count": 168,
     "metadata": {},
     "output_type": "execute_result"
    }
   ],
   "source": [
    "df['Category'].describe()"
   ]
  },
  {
   "cell_type": "code",
   "execution_count": 169,
   "metadata": {},
   "outputs": [],
   "source": [
    "# Genre has been of less importance in DTs at least - use Category\n",
    "preprocessed4 = preprocessed2.drop(columns=['Genres_Books & Reference', 'Genres_Communication', 'Genres_Health & Fitness',\n",
    "                           'Genres_Sports', 'Genres_Travel & Local', 'Genres_Video Players & Editors'])"
   ]
  },
  {
   "cell_type": "markdown",
   "metadata": {},
   "source": [
    "#### Apply GridSearch2 results to Decision Tree"
   ]
  },
  {
   "cell_type": "code",
   "execution_count": 170,
   "metadata": {},
   "outputs": [],
   "source": [
    "# X and y split of preprocessed \n",
    "X = preprocessed4.drop(columns=['Pos Rating'], axis=1)\n",
    "y = preprocessed4['Pos Rating']"
   ]
  },
  {
   "cell_type": "code",
   "execution_count": 171,
   "metadata": {},
   "outputs": [],
   "source": [
    "X_train, X_test, y_train, y_test = train_test_split(X, y, test_size=0.25, random_state=42)"
   ]
  },
  {
   "cell_type": "code",
   "execution_count": 172,
   "metadata": {},
   "outputs": [],
   "source": [
    "# Instantiate\n",
    "dt_grid3 = DecisionTreeClassifier(class_weight='balanced',\n",
    "                             criterion = 'entropy',\n",
    "                             max_depth = 10,\n",
    "                             min_samples_leaf  = 20,\n",
    "                             min_samples_split = 2)\n",
    "\n",
    "# Fit\n",
    "dt_grid3.fit(X_train, y_train)\n",
    "\n",
    "# Preds\n",
    "train_preds = dt_grid3.predict(X_train)\n",
    "test_preds = dt_grid3.predict(X_test)"
   ]
  },
  {
   "cell_type": "code",
   "execution_count": 173,
   "metadata": {
    "scrolled": true
   },
   "outputs": [
    {
     "name": "stdout",
     "output_type": "stream",
     "text": [
      "Train Scores\n",
      "------------\n",
      "Accuracy: 0.7215099715099715\n",
      "Recall: 0.5537777777777778\n",
      "F1 Score: 0.5603777827749045\n",
      "--------------------\n",
      "Test Scores\n",
      "-----------\n",
      "Accuracy: 0.6863247863247863\n",
      "Recall: 0.4928977272727273\n",
      "Recall Mean Cross Val 3-Fold: 0.52\n",
      "F1 Score: 0.48599439775910364\n"
     ]
    },
    {
     "data": {
      "image/png": "[encoded data removed]",
      "text/plain": [
       "<Figure size 432x288 with 2 Axes>"
      ]
     },
     "metadata": {
      "needs_background": "light"
     },
     "output_type": "display_data"
    }
   ],
   "source": [
    "# print scores\n",
    "print(\"Train Scores\")\n",
    "print(\"------------\")\n",
    "print(f\"Accuracy: {accuracy_score(y_train, train_preds)}\")\n",
    "print(f\"Recall: {recall_score(y_train, train_preds)}\")\n",
    "print(f\"F1 Score: {f1_score(y_train, train_preds)}\")\n",
    "print(\"----\" * 5)\n",
    "print(\"Test Scores\")\n",
    "print(\"-----------\")\n",
    "print(f\"Accuracy: {accuracy_score(y_test, test_preds)}\")\n",
    "print(f\"Recall: {recall_score(y_test, test_preds)}\")\n",
    "print(f\"Recall Mean Cross Val 3-Fold: {np.mean(cross_val_score(dt_grid3, X_train, y_train, cv=3, scoring='recall'))}\")\n",
    "print(f\"F1 Score: {f1_score(y_test, test_preds)}\")\n",
    "\n",
    "# plot test confusion matrix\n",
    "plot_confusion_matrix(dt_grid3, X_test, y_test, values_format='')\n",
    "plt.show()\n",
    "\n",
    "# Much less overfit - but accuracy down .2 - Same as random guess\n",
    "# Recall much lower from 0.58 to 0.49 - but validation at 0.53"
   ]
  },
  {
   "cell_type": "code",
   "execution_count": 174,
   "metadata": {},
   "outputs": [],
   "source": [
    "coef = dt_grid2.feature_importances_"
   ]
  },
  {
   "cell_type": "code",
   "execution_count": 175,
   "metadata": {},
   "outputs": [],
   "source": [
    "d = dict(zip(X.columns, coef))"
   ]
  },
  {
   "cell_type": "code",
   "execution_count": 176,
   "metadata": {},
   "outputs": [],
   "source": [
    "sorted_dict = dict( sorted(d.items(), key=operator.itemgetter(1),reverse=True))"
   ]
  },
  {
   "cell_type": "code",
   "execution_count": 177,
   "metadata": {
    "scrolled": true
   },
   "outputs": [
    {
     "data": {
      "text/plain": [
       "{'Reviews': 0.3554157380392292,\n",
       " 'Installs': 0.2877308399569165,\n",
       " 'Size Trans': 0.11013454517876195,\n",
       " 'Type_Paid': 0.05472163026244945,\n",
       " 'Genres_Entertainment': 0.04136688785932196,\n",
       " 'Category_VIDEO_PLAYERS': 0.02511964877854719,\n",
       " 'Category_TRAVEL_AND_LOCAL': 0.01803599469452513,\n",
       " 'Category_ART_AND_DESIGN': 0.01741160871821377,\n",
       " 'Genres_Business': 0.010817548183713893,\n",
       " 'Genres_Shopping': 0.010240877815036341,\n",
       " 'Category_DATING': 0.009507867267359504,\n",
       " 'Content Rating_Everyone': 0.008882868592384347,\n",
       " 'Category_MAPS_AND_NAVIGATION': 0.008248828356214486,\n",
       " 'Content Rating_Adults only 18+': 0.007384600062036861,\n",
       " 'Category_MEDICAL': 0.006801687871411037,\n",
       " 'Category_BUSINESS': 0.006487510662998553,\n",
       " 'Category_HEALTH_AND_FITNESS': 0.005527897572028405,\n",
       " 'Genres_Dating': 0.005397716691970863,\n",
       " 'Category_NEWS_AND_MAGAZINES': 0.004721739968658764,\n",
       " 'Genres_Strategy': 0.003008757867974191,\n",
       " 'Category_FINANCE': 0.001892482480236812,\n",
       " 'Category_COMICS': 0.0011427231200109096,\n",
       " 'Category_AUTO_AND_VEHICLES': 0.0,\n",
       " 'Category_BEAUTY': 0.0,\n",
       " 'Category_BOOKS_AND_REFERENCE': 0.0,\n",
       " 'Category_COMMUNICATION': 0.0,\n",
       " 'Category_EDUCATION': 0.0,\n",
       " 'Category_ENTERTAINMENT': 0.0,\n",
       " 'Category_EVENTS': 0.0,\n",
       " 'Category_FAMILY': 0.0,\n",
       " 'Category_FOOD_AND_DRINK': 0.0,\n",
       " 'Category_GAME': 0.0,\n",
       " 'Category_HOUSE_AND_HOME': 0.0,\n",
       " 'Category_LIBRARIES_AND_DEMO': 0.0,\n",
       " 'Category_LIFESTYLE': 0.0,\n",
       " 'Category_PARENTING': 0.0,\n",
       " 'Category_PERSONALIZATION': 0.0,\n",
       " 'Category_PHOTOGRAPHY': 0.0,\n",
       " 'Category_PRODUCTIVITY': 0.0,\n",
       " 'Category_SHOPPING': 0.0,\n",
       " 'Category_SOCIAL': 0.0,\n",
       " 'Category_SPORTS': 0.0,\n",
       " 'Category_TOOLS': 0.0,\n",
       " 'Category_WEATHER': 0.0,\n",
       " 'Type_Free': 0.0,\n",
       " 'Content Rating_Everyone 10+': 0.0,\n",
       " 'Content Rating_Mature 17+': 0.0,\n",
       " 'Content Rating_Teen': 0.0,\n",
       " 'Content Rating_Unrated': 0.0,\n",
       " 'Genres_Action': 0.0,\n",
       " 'Genres_Arcade': 0.0,\n",
       " 'Genres_Casual': 0.0,\n",
       " 'Genres_Education': 0.0,\n",
       " 'Genres_Educational': 0.0,\n",
       " 'Genres_Finance': 0.0,\n",
       " 'Genres_Food & Drink': 0.0,\n",
       " 'Genres_Lifestyle': 0.0,\n",
       " 'Genres_Maps & Navigation': 0.0,\n",
       " 'Genres_Medical': 0.0,\n",
       " 'Genres_News & Magazines': 0.0,\n",
       " 'Genres_Personalization': 0.0,\n",
       " 'Genres_Photography': 0.0,\n",
       " 'Genres_Productivity': 0.0,\n",
       " 'Genres_Puzzle': 0.0,\n",
       " 'Genres_Racing': 0.0,\n",
       " 'Genres_Role Playing': 0.0,\n",
       " 'Genres_Simulation': 0.0,\n",
       " 'Genres_Social': 0.0,\n",
       " 'Genres_Tools': 0.0}"
      ]
     },
     "execution_count": 177,
     "metadata": {},
     "output_type": "execute_result"
    }
   ],
   "source": [
    "sorted_dict\n",
    "# Reviews, Size, and Installs are big drivers\n",
    "# Then Content Rating"
   ]
  },
  {
   "cell_type": "markdown",
   "metadata": {},
   "source": [
    "## Random Forest"
   ]
  },
  {
   "cell_type": "code",
   "execution_count": 263,
   "metadata": {},
   "outputs": [],
   "source": [
    "# Instantiate\n",
    "rf_grid2 = RandomForestClassifier(class_weight='balanced',\n",
    "                             criterion = 'entropy',\n",
    "                             max_depth = 10,\n",
    "                             min_samples_leaf  = 20,\n",
    "                             min_samples_split = 2)\n",
    "\n",
    "# Fit\n",
    "rf_grid2.fit(X_train, y_train)\n",
    "\n",
    "# Preds\n",
    "train_preds = rf_grid2.predict(X_train)\n",
    "test_preds = rf_grid2.predict(X_test)"
   ]
  },
  {
   "cell_type": "code",
   "execution_count": 264,
   "metadata": {
    "scrolled": true
   },
   "outputs": [
    {
     "name": "stdout",
     "output_type": "stream",
     "text": [
      "Train Scores\n",
      "------------\n",
      "Accuracy: 0.6745014245014245\n",
      "Recall: 0.5786666666666667\n",
      "F1 Score: 0.5326242585395786\n",
      "--------------------\n",
      "Test Scores\n",
      "-----------\n",
      "Accuracy: 0.6717948717948717\n",
      "Recall: 0.5653409090909091\n",
      "Recall Mean Cross Val 3-Fold: 0.5666666666666667\n",
      "F1 Score: 0.5089514066496164\n"
     ]
    },
    {
     "data": {
      "image/png": "[encoded data removed]",
      "text/plain": [
       "<Figure size 432x288 with 2 Axes>"
      ]
     },
     "metadata": {
      "needs_background": "light"
     },
     "output_type": "display_data"
    }
   ],
   "source": [
    "# print scores\n",
    "print(\"Train Scores\")\n",
    "print(\"------------\")\n",
    "print(f\"Accuracy: {accuracy_score(y_train, train_preds)}\")\n",
    "print(f\"Recall: {recall_score(y_train, train_preds)}\")\n",
    "print(f\"F1 Score: {f1_score(y_train, train_preds)}\")\n",
    "print(\"----\" * 5)\n",
    "print(\"Test Scores\")\n",
    "print(\"-----------\")\n",
    "print(f\"Accuracy: {accuracy_score(y_test, test_preds)}\")\n",
    "print(f\"Recall: {recall_score(y_test, test_preds)}\")\n",
    "print(f\"Recall Mean Cross Val 3-Fold: {np.mean(cross_val_score(rf_grid2, X_train, y_train, cv=3, scoring='recall'))}\")\n",
    "print(f\"F1 Score: {f1_score(y_test, test_preds)}\")\n",
    "\n",
    "# plot test confusion matrix\n",
    "plot_confusion_matrix(rf_grid2, X_test, y_test, values_format='')\n",
    "plt.show()\n",
    "\n",
    "# Not overfit for once, but accuracy is less than random guess although recall is at highest\n",
    "# F1 also at similar highest"
   ]
  },
  {
   "cell_type": "code",
   "execution_count": null,
   "metadata": {},
   "outputs": [],
   "source": [
    "import eli5\n",
    "from eli5.sklearn import PermutationImportance"
   ]
  },
  {
   "cell_type": "code",
   "execution_count": 266,
   "metadata": {},
   "outputs": [],
   "source": [
    "perm = PermutationImportance(rf_grid2, cv = None, refit = False, n_iter = 50).fit(X_train, y_train)\n",
    "perm_imp_eli5 = pd.DataFrame(X_train.columns, perm.feature_importances_)"
   ]
  },
  {
   "cell_type": "code",
   "execution_count": 268,
   "metadata": {},
   "outputs": [
    {
     "data": {
      "text/html": [
       "<div>\n",
       "<style scoped>\n",
       "    .dataframe tbody tr th:only-of-type {\n",
       "        vertical-align: middle;\n",
       "    }\n",
       "\n",
       "    .dataframe tbody tr th {\n",
       "        vertical-align: top;\n",
       "    }\n",
       "\n",
       "    .dataframe thead th {\n",
       "        text-align: right;\n",
       "    }\n",
       "</style>\n",
       "<table border=\"1\" class=\"dataframe\">\n",
       "  <thead>\n",
       "    <tr style=\"text-align: right;\">\n",
       "      <th></th>\n",
       "      <th>0</th>\n",
       "    </tr>\n",
       "  </thead>\n",
       "  <tbody>\n",
       "    <tr>\n",
       "      <th>0.060459</th>\n",
       "      <td>Reviews</td>\n",
       "    </tr>\n",
       "    <tr>\n",
       "      <th>0.038481</th>\n",
       "      <td>Installs</td>\n",
       "    </tr>\n",
       "    <tr>\n",
       "      <th>0.010225</th>\n",
       "      <td>Type_Paid</td>\n",
       "    </tr>\n",
       "    <tr>\n",
       "      <th>0.009775</th>\n",
       "      <td>Type_Free</td>\n",
       "    </tr>\n",
       "    <tr>\n",
       "      <th>0.005547</th>\n",
       "      <td>Category_HEALTH_AND_FITNESS</td>\n",
       "    </tr>\n",
       "    <tr>\n",
       "      <th>...</th>\n",
       "      <td>...</td>\n",
       "    </tr>\n",
       "    <tr>\n",
       "      <th>-0.000547</th>\n",
       "      <td>Genres_Business</td>\n",
       "    </tr>\n",
       "    <tr>\n",
       "      <th>-0.000650</th>\n",
       "      <td>Category_PHOTOGRAPHY</td>\n",
       "    </tr>\n",
       "    <tr>\n",
       "      <th>-0.000943</th>\n",
       "      <td>Genres_Communication</td>\n",
       "    </tr>\n",
       "    <tr>\n",
       "      <th>-0.001026</th>\n",
       "      <td>Content Rating_Everyone</td>\n",
       "    </tr>\n",
       "    <tr>\n",
       "      <th>-0.001231</th>\n",
       "      <td>Category_COMMUNICATION</td>\n",
       "    </tr>\n",
       "  </tbody>\n",
       "</table>\n",
       "<p>75 rows × 1 columns</p>\n",
       "</div>"
      ],
      "text/plain": [
       "                                     0\n",
       " 0.060459                      Reviews\n",
       " 0.038481                     Installs\n",
       " 0.010225                    Type_Paid\n",
       " 0.009775                    Type_Free\n",
       " 0.005547  Category_HEALTH_AND_FITNESS\n",
       "...                                ...\n",
       "-0.000547              Genres_Business\n",
       "-0.000650         Category_PHOTOGRAPHY\n",
       "-0.000943         Genres_Communication\n",
       "-0.001026      Content Rating_Everyone\n",
       "-0.001231       Category_COMMUNICATION\n",
       "\n",
       "[75 rows x 1 columns]"
      ]
     },
     "execution_count": 268,
     "metadata": {},
     "output_type": "execute_result"
    }
   ],
   "source": [
    "perm_imp_eli5.sort_index(ascending=False)"
   ]
  },
  {
   "cell_type": "code",
   "execution_count": 259,
   "metadata": {},
   "outputs": [
    {
     "data": {
      "text/html": [
       "<div>\n",
       "<style scoped>\n",
       "    .dataframe tbody tr th:only-of-type {\n",
       "        vertical-align: middle;\n",
       "    }\n",
       "\n",
       "    .dataframe tbody tr th {\n",
       "        vertical-align: top;\n",
       "    }\n",
       "\n",
       "    .dataframe thead th {\n",
       "        text-align: right;\n",
       "    }\n",
       "</style>\n",
       "<table border=\"1\" class=\"dataframe\">\n",
       "  <thead>\n",
       "    <tr style=\"text-align: right;\">\n",
       "      <th></th>\n",
       "      <th>Importance</th>\n",
       "    </tr>\n",
       "    <tr>\n",
       "      <th>Feature</th>\n",
       "      <th></th>\n",
       "    </tr>\n",
       "  </thead>\n",
       "  <tbody>\n",
       "    <tr>\n",
       "      <th>Reviews</th>\n",
       "      <td>0.212326</td>\n",
       "    </tr>\n",
       "    <tr>\n",
       "      <th>Installs</th>\n",
       "      <td>0.166957</td>\n",
       "    </tr>\n",
       "    <tr>\n",
       "      <th>Type_Free</th>\n",
       "      <td>0.048091</td>\n",
       "    </tr>\n",
       "    <tr>\n",
       "      <th>Type_Paid</th>\n",
       "      <td>0.041739</td>\n",
       "    </tr>\n",
       "    <tr>\n",
       "      <th>Genres_Books &amp; Reference</th>\n",
       "      <td>0.032666</td>\n",
       "    </tr>\n",
       "    <tr>\n",
       "      <th>...</th>\n",
       "      <td>...</td>\n",
       "    </tr>\n",
       "    <tr>\n",
       "      <th>Category_GAME</th>\n",
       "      <td>-0.002722</td>\n",
       "    </tr>\n",
       "    <tr>\n",
       "      <th>Genres_Video Players &amp; Editors</th>\n",
       "      <td>-0.002722</td>\n",
       "    </tr>\n",
       "    <tr>\n",
       "      <th>Category_PERSONALIZATION</th>\n",
       "      <td>-0.004537</td>\n",
       "    </tr>\n",
       "    <tr>\n",
       "      <th>Genres_Dating</th>\n",
       "      <td>-0.004537</td>\n",
       "    </tr>\n",
       "    <tr>\n",
       "      <th>Genres_Communication</th>\n",
       "      <td>-0.009074</td>\n",
       "    </tr>\n",
       "  </tbody>\n",
       "</table>\n",
       "<p>75 rows × 1 columns</p>\n",
       "</div>"
      ],
      "text/plain": [
       "                                Importance\n",
       "Feature                                   \n",
       "Reviews                           0.212326\n",
       "Installs                          0.166957\n",
       "Type_Free                         0.048091\n",
       "Type_Paid                         0.041739\n",
       "Genres_Books & Reference          0.032666\n",
       "...                                    ...\n",
       "Category_GAME                    -0.002722\n",
       "Genres_Video Players & Editors   -0.002722\n",
       "Category_PERSONALIZATION         -0.004537\n",
       "Genres_Dating                    -0.004537\n",
       "Genres_Communication             -0.009074\n",
       "\n",
       "[75 rows x 1 columns]"
      ]
     },
     "execution_count": 259,
     "metadata": {},
     "output_type": "execute_result"
    }
   ],
   "source": [
    "perm_imp_rfpimp = permutation_importances(rf_grid2, X_train, y_train, r2)\n",
    "perm_imp_rfpimp\n",
    "\n",
    "# Note rf_grid results\n",
    "# Reviews\t0.242698\n",
    "# Installs\t0.191944\n",
    "# Type_Paid\t0.066442\n",
    "# Type_Free\t0.025839"
   ]
  },
  {
   "cell_type": "markdown",
   "metadata": {},
   "source": [
    "## Revisit Top Performing Model for Feature Importance\n",
    "\n",
    "\n",
    "RF GridSearch - slightly underfit (Data Version 2)\n",
    "    - rf_grid\n",
    "    - acc - 0.67\n",
    "    - rec - 0.59\n",
    "    - rec cv - 0.56\n",
    "    - F1 - 0.52\n",
    "    \n",
    "RF GridSearch2 - overfit 0.03 (Data Version 4)\n",
    "    - rf_grid2 \n",
    "    - acc - 0.66\n",
    "    - rec - 0.58\n",
    "    - rev cv 0.55\n",
    "    - F1 - 0.51\n",
    "    \n",
    "DT GridSearch - overfit 0.03 (Data Version 2)\n",
    "    - dt_grid\n",
    "    - acc - 0.69\n",
    "    - rec - 0.5\n",
    "    - rec cv - 0.53\n",
    "    - F1 - 0.49\n",
    "    \n",
    "DT GridSearch2 - overfit 0.03 (Data Version 3)\n",
    "    - dt_grid2\n",
    "    - acc - 0.69\n",
    "    - rec - 0.5\n",
    "    - rec cv - 0.53\n",
    "    - F1 - 0.49"
   ]
  },
  {
   "cell_type": "markdown",
   "metadata": {},
   "source": [
    "### Note: In Random Forect Feature Importance investigation below - Installs are only consistent top feature.\n",
    "\n",
    "The RF models tested resulted in accuracy slightly less than a random guess (.66/.67), the highest recall of all models (.58/.59), and cross validated that recall (0.55/0.56)"
   ]
  },
  {
   "cell_type": "code",
   "execution_count": 190,
   "metadata": {},
   "outputs": [
    {
     "data": {
      "text/plain": [
       "{'Reviews': 0.2502003593439037,\n",
       " 'Installs': 0.2421862223244038,\n",
       " 'Size Trans': 0.06738953565766201,\n",
       " 'Genres_Medical': 0.040914585201578965,\n",
       " 'Category_HEALTH_AND_FITNESS': 0.04011215622772259,\n",
       " 'Type_Paid': 0.03179617340426175,\n",
       " 'Type_Free': 0.027065851425210043,\n",
       " 'Genres_Entertainment': 0.021212064039538195,\n",
       " 'Genres_Education': 0.02108685481205847,\n",
       " 'Category_TOOLS': 0.020887378659973647}"
      ]
     },
     "execution_count": 190,
     "metadata": {},
     "output_type": "execute_result"
    }
   ],
   "source": [
    "feats = rf_grid.feature_importances_\n",
    "d = dict(zip(X.columns, feats))\n",
    "sorted_feature_imps = dict( sorted(d.items(), key=operator.itemgetter(1),reverse=True)[:10])\n",
    "sorted_feature_imps"
   ]
  },
  {
   "cell_type": "code",
   "execution_count": 215,
   "metadata": {},
   "outputs": [],
   "source": [
    "# source: https://towardsdatascience.com/explaining-feature-importance-by-example-of-a-random-forest-d9166011959e\n",
    "from sklearn.base import clone \n",
    "\n",
    "def drop_col_feat_imp(model, X_train, y_train, random_state = 42):\n",
    "    \n",
    "    # clone the model to have the exact same specification as the one initially trained\n",
    "    model_clone = clone(model)\n",
    "    # set random_state for comparability\n",
    "    model_clone.random_state = random_state\n",
    "    # training and scoring the benchmark model\n",
    "    model_clone.fit(X_train, y_train)\n",
    "    benchmark_score = model_clone.score(X_train, y_train)\n",
    "    # list for storing feature importances\n",
    "    importances = []\n",
    "    \n",
    "    # iterating over all columns and storing feature importance (difference between benchmark and new model)\n",
    "    for col in X_train.columns:\n",
    "        model_clone = clone(model)\n",
    "        model_clone.random_state = random_state\n",
    "        model_clone.fit(X_train.drop(col, axis = 1), y_train)\n",
    "        drop_col_score = model_clone.score(X_train.drop(col, axis = 1), y_train)\n",
    "        importances.append(benchmark_score - drop_col_score)\n",
    "    \n",
    "    importances_df = pd.DataFrame(X_train.columns, importances)\n",
    "    return importances_df"
   ]
  },
  {
   "cell_type": "code",
   "execution_count": 222,
   "metadata": {},
   "outputs": [],
   "source": [
    "importances_df = drop_col_feat_imp(rf_grid, X_train, y_train, random_state = 42)"
   ]
  },
  {
   "cell_type": "code",
   "execution_count": 224,
   "metadata": {},
   "outputs": [
    {
     "data": {
      "text/html": [
       "<div>\n",
       "<style scoped>\n",
       "    .dataframe tbody tr th:only-of-type {\n",
       "        vertical-align: middle;\n",
       "    }\n",
       "\n",
       "    .dataframe tbody tr th {\n",
       "        vertical-align: top;\n",
       "    }\n",
       "\n",
       "    .dataframe thead th {\n",
       "        text-align: right;\n",
       "    }\n",
       "</style>\n",
       "<table border=\"1\" class=\"dataframe\">\n",
       "  <thead>\n",
       "    <tr style=\"text-align: right;\">\n",
       "      <th></th>\n",
       "      <th>0</th>\n",
       "    </tr>\n",
       "  </thead>\n",
       "  <tbody>\n",
       "    <tr>\n",
       "      <th>0.028775</th>\n",
       "      <td>Installs</td>\n",
       "    </tr>\n",
       "    <tr>\n",
       "      <th>0.007835</th>\n",
       "      <td>Genres_Dating</td>\n",
       "    </tr>\n",
       "    <tr>\n",
       "      <th>0.007835</th>\n",
       "      <td>Category_MAPS_AND_NAVIGATION</td>\n",
       "    </tr>\n",
       "    <tr>\n",
       "      <th>0.007550</th>\n",
       "      <td>Content Rating_Teen</td>\n",
       "    </tr>\n",
       "    <tr>\n",
       "      <th>0.007407</th>\n",
       "      <td>Category_NEWS_AND_MAGAZINES</td>\n",
       "    </tr>\n",
       "    <tr>\n",
       "      <th>...</th>\n",
       "      <td>...</td>\n",
       "    </tr>\n",
       "    <tr>\n",
       "      <th>0.002707</th>\n",
       "      <td>Category_BUSINESS</td>\n",
       "    </tr>\n",
       "    <tr>\n",
       "      <th>0.002279</th>\n",
       "      <td>Category_EDUCATION</td>\n",
       "    </tr>\n",
       "    <tr>\n",
       "      <th>0.002279</th>\n",
       "      <td>Category_AUTO_AND_VEHICLES</td>\n",
       "    </tr>\n",
       "    <tr>\n",
       "      <th>0.002137</th>\n",
       "      <td>Size Trans</td>\n",
       "    </tr>\n",
       "    <tr>\n",
       "      <th>0.001425</th>\n",
       "      <td>Genres_Video Players &amp; Editors</td>\n",
       "    </tr>\n",
       "  </tbody>\n",
       "</table>\n",
       "<p>75 rows × 1 columns</p>\n",
       "</div>"
      ],
      "text/plain": [
       "                                       0\n",
       "0.028775                        Installs\n",
       "0.007835                   Genres_Dating\n",
       "0.007835    Category_MAPS_AND_NAVIGATION\n",
       "0.007550             Content Rating_Teen\n",
       "0.007407     Category_NEWS_AND_MAGAZINES\n",
       "...                                  ...\n",
       "0.002707               Category_BUSINESS\n",
       "0.002279              Category_EDUCATION\n",
       "0.002279      Category_AUTO_AND_VEHICLES\n",
       "0.002137                      Size Trans\n",
       "0.001425  Genres_Video Players & Editors\n",
       "\n",
       "[75 rows x 1 columns]"
      ]
     },
     "execution_count": 224,
     "metadata": {},
     "output_type": "execute_result"
    }
   ],
   "source": [
    "importances_df.sort_index(ascending=False)"
   ]
  },
  {
   "cell_type": "code",
   "execution_count": 232,
   "metadata": {},
   "outputs": [],
   "source": [
    "# import eli5\n",
    "# from eli5.sklearn import PermutationImportance\n",
    "\n",
    "# perm = PermutationImportance(rf_grid, cv = \"prefit\", refit = False, n_iter = 50, random_state=42)\n",
    "# perm_imp_eli5 = pd.DataFrame(X_train.columns, perm.feature_importances_)"
   ]
  },
  {
   "cell_type": "code",
   "execution_count": 235,
   "metadata": {},
   "outputs": [
    {
     "data": {
      "text/plain": [
       "{'Reviews': 0.2655458374019868,\n",
       " 'Installs': 0.22994472259998858,\n",
       " 'Size Trans': 0.07792682696012941,\n",
       " 'Category_HEALTH_AND_FITNESS': 0.05773581361829353,\n",
       " 'Category_COMMUNICATION': 0.03786033723251374,\n",
       " 'Type_Paid': 0.031316636869285236,\n",
       " 'Category_TOOLS': 0.02780308883264951,\n",
       " 'Genres_Simulation': 0.027782908050056614,\n",
       " 'Type_Free': 0.024800260881087704,\n",
       " 'Genres_Communication': 0.020342200011184055}"
      ]
     },
     "execution_count": 235,
     "metadata": {},
     "output_type": "execute_result"
    }
   ],
   "source": [
    "feats2 = rf_grid2.feature_importances_\n",
    "d2 = dict(zip(X.columns, feats2))\n",
    "sorted_feature_imps2 = dict( sorted(d2.items(), key=operator.itemgetter(1),reverse=True)[:10])\n",
    "sorted_feature_imps2"
   ]
  },
  {
   "cell_type": "code",
   "execution_count": 236,
   "metadata": {},
   "outputs": [],
   "source": [
    "importances_df2 = drop_col_feat_imp(rf_grid2, X_train, y_train, random_state = 42)"
   ]
  },
  {
   "cell_type": "code",
   "execution_count": 237,
   "metadata": {
    "scrolled": true
   },
   "outputs": [
    {
     "data": {
      "text/html": [
       "<div>\n",
       "<style scoped>\n",
       "    .dataframe tbody tr th:only-of-type {\n",
       "        vertical-align: middle;\n",
       "    }\n",
       "\n",
       "    .dataframe tbody tr th {\n",
       "        vertical-align: top;\n",
       "    }\n",
       "\n",
       "    .dataframe thead th {\n",
       "        text-align: right;\n",
       "    }\n",
       "</style>\n",
       "<table border=\"1\" class=\"dataframe\">\n",
       "  <thead>\n",
       "    <tr style=\"text-align: right;\">\n",
       "      <th></th>\n",
       "      <th>0</th>\n",
       "    </tr>\n",
       "  </thead>\n",
       "  <tbody>\n",
       "    <tr>\n",
       "      <th>0.028775</th>\n",
       "      <td>Installs</td>\n",
       "    </tr>\n",
       "    <tr>\n",
       "      <th>0.007835</th>\n",
       "      <td>Genres_Dating</td>\n",
       "    </tr>\n",
       "    <tr>\n",
       "      <th>0.007835</th>\n",
       "      <td>Category_MAPS_AND_NAVIGATION</td>\n",
       "    </tr>\n",
       "    <tr>\n",
       "      <th>0.007550</th>\n",
       "      <td>Content Rating_Teen</td>\n",
       "    </tr>\n",
       "    <tr>\n",
       "      <th>0.007407</th>\n",
       "      <td>Category_NEWS_AND_MAGAZINES</td>\n",
       "    </tr>\n",
       "    <tr>\n",
       "      <th>...</th>\n",
       "      <td>...</td>\n",
       "    </tr>\n",
       "    <tr>\n",
       "      <th>0.002707</th>\n",
       "      <td>Category_BUSINESS</td>\n",
       "    </tr>\n",
       "    <tr>\n",
       "      <th>0.002279</th>\n",
       "      <td>Category_EDUCATION</td>\n",
       "    </tr>\n",
       "    <tr>\n",
       "      <th>0.002279</th>\n",
       "      <td>Category_AUTO_AND_VEHICLES</td>\n",
       "    </tr>\n",
       "    <tr>\n",
       "      <th>0.002137</th>\n",
       "      <td>Size Trans</td>\n",
       "    </tr>\n",
       "    <tr>\n",
       "      <th>0.001425</th>\n",
       "      <td>Genres_Video Players &amp; Editors</td>\n",
       "    </tr>\n",
       "  </tbody>\n",
       "</table>\n",
       "<p>75 rows × 1 columns</p>\n",
       "</div>"
      ],
      "text/plain": [
       "                                       0\n",
       "0.028775                        Installs\n",
       "0.007835                   Genres_Dating\n",
       "0.007835    Category_MAPS_AND_NAVIGATION\n",
       "0.007550             Content Rating_Teen\n",
       "0.007407     Category_NEWS_AND_MAGAZINES\n",
       "...                                  ...\n",
       "0.002707               Category_BUSINESS\n",
       "0.002279              Category_EDUCATION\n",
       "0.002279      Category_AUTO_AND_VEHICLES\n",
       "0.002137                      Size Trans\n",
       "0.001425  Genres_Video Players & Editors\n",
       "\n",
       "[75 rows x 1 columns]"
      ]
     },
     "execution_count": 237,
     "metadata": {},
     "output_type": "execute_result"
    }
   ],
   "source": [
    "importances_df2.sort_index(ascending=False)"
   ]
  },
  {
   "cell_type": "markdown",
   "metadata": {},
   "source": [
    "### Note: In Decision Tree Feature Importance investigation below - Reviews, Installs, and Size of App are consistent top 3 features.\n",
    "\n",
    "The DT models tested resulted in accuracy about equal to a random guess (.69), the lowest recall (.5), but mid range of all the models on cross validating that recall (0.53)"
   ]
  },
  {
   "cell_type": "code",
   "execution_count": 238,
   "metadata": {},
   "outputs": [
    {
     "data": {
      "text/plain": [
       "{'Reviews': 0.35377055939426005,\n",
       " 'Installs': 0.28773083995693227,\n",
       " 'Size Trans': 0.11177972382370507,\n",
       " 'Type_Free': 0.06210623032449733,\n",
       " 'Genres_Health & Fitness': 0.041366887859316616,\n",
       " 'Category_TRAVEL_AND_LOCAL': 0.02511964877855545,\n",
       " 'Genres_Tools': 0.018035994694523463,\n",
       " 'Content Rating_Mature 17+': 0.012834447740698807,\n",
       " 'Genres_Education': 0.010817548183715288,\n",
       " 'Category_SOCIAL': 0.010240877815036348}"
      ]
     },
     "execution_count": 238,
     "metadata": {},
     "output_type": "execute_result"
    }
   ],
   "source": [
    "feats3 = dt_grid.feature_importances_\n",
    "d3 = dict(zip(X.columns, feats3))\n",
    "sorted_feature_imps3 = dict( sorted(d3.items(), key=operator.itemgetter(1),reverse=True)[:10])\n",
    "sorted_feature_imps3"
   ]
  },
  {
   "cell_type": "code",
   "execution_count": 239,
   "metadata": {},
   "outputs": [],
   "source": [
    "importances_df3 = drop_col_feat_imp(dt_grid, X_train, y_train, random_state = 42)"
   ]
  },
  {
   "cell_type": "code",
   "execution_count": 240,
   "metadata": {
    "scrolled": true
   },
   "outputs": [
    {
     "data": {
      "text/html": [
       "<div>\n",
       "<style scoped>\n",
       "    .dataframe tbody tr th:only-of-type {\n",
       "        vertical-align: middle;\n",
       "    }\n",
       "\n",
       "    .dataframe tbody tr th {\n",
       "        vertical-align: top;\n",
       "    }\n",
       "\n",
       "    .dataframe thead th {\n",
       "        text-align: right;\n",
       "    }\n",
       "</style>\n",
       "<table border=\"1\" class=\"dataframe\">\n",
       "  <thead>\n",
       "    <tr style=\"text-align: right;\">\n",
       "      <th></th>\n",
       "      <th>0</th>\n",
       "    </tr>\n",
       "  </thead>\n",
       "  <tbody>\n",
       "    <tr>\n",
       "      <th>0.060399</th>\n",
       "      <td>Reviews</td>\n",
       "    </tr>\n",
       "    <tr>\n",
       "      <th>0.052849</th>\n",
       "      <td>Installs</td>\n",
       "    </tr>\n",
       "    <tr>\n",
       "      <th>0.044017</th>\n",
       "      <td>Size Trans</td>\n",
       "    </tr>\n",
       "    <tr>\n",
       "      <th>0.002564</th>\n",
       "      <td>Genres_Action</td>\n",
       "    </tr>\n",
       "    <tr>\n",
       "      <th>0.001852</th>\n",
       "      <td>Genres_Education</td>\n",
       "    </tr>\n",
       "    <tr>\n",
       "      <th>...</th>\n",
       "      <td>...</td>\n",
       "    </tr>\n",
       "    <tr>\n",
       "      <th>0.000000</th>\n",
       "      <td>Category_NEWS_AND_MAGAZINES</td>\n",
       "    </tr>\n",
       "    <tr>\n",
       "      <th>0.000000</th>\n",
       "      <td>Category_MEDICAL</td>\n",
       "    </tr>\n",
       "    <tr>\n",
       "      <th>-0.002137</th>\n",
       "      <td>Category_GAME</td>\n",
       "    </tr>\n",
       "    <tr>\n",
       "      <th>-0.002279</th>\n",
       "      <td>Content Rating_Mature 17+</td>\n",
       "    </tr>\n",
       "    <tr>\n",
       "      <th>-0.004558</th>\n",
       "      <td>Category_TRAVEL_AND_LOCAL</td>\n",
       "    </tr>\n",
       "  </tbody>\n",
       "</table>\n",
       "<p>75 rows × 1 columns</p>\n",
       "</div>"
      ],
      "text/plain": [
       "                                     0\n",
       " 0.060399                      Reviews\n",
       " 0.052849                     Installs\n",
       " 0.044017                   Size Trans\n",
       " 0.002564                Genres_Action\n",
       " 0.001852             Genres_Education\n",
       "...                                ...\n",
       " 0.000000  Category_NEWS_AND_MAGAZINES\n",
       " 0.000000             Category_MEDICAL\n",
       "-0.002137                Category_GAME\n",
       "-0.002279    Content Rating_Mature 17+\n",
       "-0.004558    Category_TRAVEL_AND_LOCAL\n",
       "\n",
       "[75 rows x 1 columns]"
      ]
     },
     "execution_count": 240,
     "metadata": {},
     "output_type": "execute_result"
    }
   ],
   "source": [
    "importances_df3.sort_index(ascending=False)"
   ]
  },
  {
   "cell_type": "code",
   "execution_count": 241,
   "metadata": {},
   "outputs": [
    {
     "data": {
      "text/plain": [
       "{'Reviews': 0.3554157380392292,\n",
       " 'Installs': 0.2877308399569165,\n",
       " 'Size Trans': 0.11013454517876195,\n",
       " 'Type_Paid': 0.05472163026244945,\n",
       " 'Genres_Education': 0.04136688785932196,\n",
       " 'Category_VIDEO_PLAYERS': 0.02511964877854719,\n",
       " 'Category_TRAVEL_AND_LOCAL': 0.01803599469452513,\n",
       " 'Category_ART_AND_DESIGN': 0.01741160871821377,\n",
       " 'Genres_Books & Reference': 0.010817548183713893,\n",
       " 'Genres_Puzzle': 0.010240877815036341}"
      ]
     },
     "execution_count": 241,
     "metadata": {},
     "output_type": "execute_result"
    }
   ],
   "source": [
    "feats4 = dt_grid2.feature_importances_\n",
    "d4 = dict(zip(X.columns, feats4))\n",
    "sorted_feature_imps4 = dict( sorted(d4.items(), key=operator.itemgetter(1),reverse=True)[:10])\n",
    "sorted_feature_imps4"
   ]
  },
  {
   "cell_type": "code",
   "execution_count": 242,
   "metadata": {},
   "outputs": [],
   "source": [
    "importances_df4 = drop_col_feat_imp(dt_grid2, X_train, y_train, random_state = 42)"
   ]
  },
  {
   "cell_type": "code",
   "execution_count": 243,
   "metadata": {
    "scrolled": true
   },
   "outputs": [
    {
     "data": {
      "text/html": [
       "<div>\n",
       "<style scoped>\n",
       "    .dataframe tbody tr th:only-of-type {\n",
       "        vertical-align: middle;\n",
       "    }\n",
       "\n",
       "    .dataframe tbody tr th {\n",
       "        vertical-align: top;\n",
       "    }\n",
       "\n",
       "    .dataframe thead th {\n",
       "        text-align: right;\n",
       "    }\n",
       "</style>\n",
       "<table border=\"1\" class=\"dataframe\">\n",
       "  <thead>\n",
       "    <tr style=\"text-align: right;\">\n",
       "      <th></th>\n",
       "      <th>0</th>\n",
       "    </tr>\n",
       "  </thead>\n",
       "  <tbody>\n",
       "    <tr>\n",
       "      <th>0.060399</th>\n",
       "      <td>Reviews</td>\n",
       "    </tr>\n",
       "    <tr>\n",
       "      <th>0.052849</th>\n",
       "      <td>Installs</td>\n",
       "    </tr>\n",
       "    <tr>\n",
       "      <th>0.044017</th>\n",
       "      <td>Size Trans</td>\n",
       "    </tr>\n",
       "    <tr>\n",
       "      <th>0.002564</th>\n",
       "      <td>Genres_Action</td>\n",
       "    </tr>\n",
       "    <tr>\n",
       "      <th>0.001852</th>\n",
       "      <td>Genres_Education</td>\n",
       "    </tr>\n",
       "    <tr>\n",
       "      <th>...</th>\n",
       "      <td>...</td>\n",
       "    </tr>\n",
       "    <tr>\n",
       "      <th>0.000000</th>\n",
       "      <td>Category_NEWS_AND_MAGAZINES</td>\n",
       "    </tr>\n",
       "    <tr>\n",
       "      <th>0.000000</th>\n",
       "      <td>Category_MEDICAL</td>\n",
       "    </tr>\n",
       "    <tr>\n",
       "      <th>-0.002137</th>\n",
       "      <td>Category_GAME</td>\n",
       "    </tr>\n",
       "    <tr>\n",
       "      <th>-0.002279</th>\n",
       "      <td>Content Rating_Mature 17+</td>\n",
       "    </tr>\n",
       "    <tr>\n",
       "      <th>-0.004558</th>\n",
       "      <td>Category_TRAVEL_AND_LOCAL</td>\n",
       "    </tr>\n",
       "  </tbody>\n",
       "</table>\n",
       "<p>75 rows × 1 columns</p>\n",
       "</div>"
      ],
      "text/plain": [
       "                                     0\n",
       " 0.060399                      Reviews\n",
       " 0.052849                     Installs\n",
       " 0.044017                   Size Trans\n",
       " 0.002564                Genres_Action\n",
       " 0.001852             Genres_Education\n",
       "...                                ...\n",
       " 0.000000  Category_NEWS_AND_MAGAZINES\n",
       " 0.000000             Category_MEDICAL\n",
       "-0.002137                Category_GAME\n",
       "-0.002279    Content Rating_Mature 17+\n",
       "-0.004558    Category_TRAVEL_AND_LOCAL\n",
       "\n",
       "[75 rows x 1 columns]"
      ]
     },
     "execution_count": 243,
     "metadata": {},
     "output_type": "execute_result"
    }
   ],
   "source": [
    "importances_df4.sort_index(ascending=False)"
   ]
  },
  {
   "cell_type": "code",
   "execution_count": null,
   "metadata": {},
   "outputs": [],
   "source": []
  }
 ],
 "metadata": {
  "kernelspec": {
   "display_name": "Python 3",
   "language": "python",
   "name": "python3"
  },
  "language_info": {
   "codemirror_mode": {
    "name": "ipython",
    "version": 3
   },
   "file_extension": ".py",
   "mimetype": "text/x-python",
   "name": "python",
   "nbconvert_exporter": "python",
   "pygments_lexer": "ipython3",
   "version": "3.6.9"
  }
 },
 "nbformat": 4,
 "nbformat_minor": 4
}
